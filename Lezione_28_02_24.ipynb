{
 "cells": [
  {
   "cell_type": "markdown",
   "id": "14e120ca",
   "metadata": {
    "slideshow": {
     "slide_type": "slide"
    }
   },
   "source": [
    "<h1><center> Laboratorio di WebScraping </h1>\n",
    "<h1><center> Anno Accademico 2023-2024 </h1>\n",
    "<h1><center>  Docente: Laura Ricci </h1>\n",
    "<h1><center>  Lezione 8</h1>\n",
    "<h1><center>  Plotting in Pandas e Matplotlib  </h1>\n",
    "<h1><center>  Merging e Concatanating DtaFrames  </h1>\n",
    "<h1><center> 28 Febbraio 2024 </h1>"
   ]
  },
  {
   "cell_type": "markdown",
   "id": "ab0573fc",
   "metadata": {
    "slideshow": {
     "slide_type": "slide"
    }
   },
   "source": [
    "## Assignment 5"
   ]
  },
  {
   "cell_type": "markdown",
   "id": "e8a1b123",
   "metadata": {
    "slideshow": {
     "slide_type": "-"
    }
   },
   "source": [
    "* netflix.csv data set: collezione di 6,000 titles disponibili nel Novembre 2019 su Netflix\n",
    "* 4 colonne: \n",
    "    * video’s title\n",
    "    * director\n",
    "    * data in cui Netflix h aggiunto il contenuto\n",
    "    * categoria\n",
    "* colonne director e date_added contengono valori mancanti (ad esempio posizioni 0, 2, and 5836)"
   ]
  },
  {
   "cell_type": "code",
   "execution_count": 2,
   "id": "aca7a3e4",
   "metadata": {
    "slideshow": {
     "slide_type": "-"
    }
   },
   "outputs": [
    {
     "name": "stderr",
     "output_type": "stream",
     "text": [
      "C:\\Users\\ricci\\AppData\\Local\\Temp\\ipykernel_13936\\2825380978.py:3: UserWarning: Could not infer format, so each element will be parsed individually, falling back to `dateutil`. To ensure parsing is consistent and as-expected, please specify a format.\n",
      "  netflix = pd.read_csv(\"DataSets/netflix.csv\", parse_dates = [\"date_added\"])\n"
     ]
    },
    {
     "data": {
      "text/html": [
       "<div>\n",
       "<style scoped>\n",
       "    .dataframe tbody tr th:only-of-type {\n",
       "        vertical-align: middle;\n",
       "    }\n",
       "\n",
       "    .dataframe tbody tr th {\n",
       "        vertical-align: top;\n",
       "    }\n",
       "\n",
       "    .dataframe thead th {\n",
       "        text-align: right;\n",
       "    }\n",
       "</style>\n",
       "<table border=\"1\" class=\"dataframe\">\n",
       "  <thead>\n",
       "    <tr style=\"text-align: right;\">\n",
       "      <th></th>\n",
       "      <th>title</th>\n",
       "      <th>director</th>\n",
       "      <th>date_added</th>\n",
       "      <th>type</th>\n",
       "    </tr>\n",
       "  </thead>\n",
       "  <tbody>\n",
       "    <tr>\n",
       "      <th>0</th>\n",
       "      <td>Alias Grace</td>\n",
       "      <td>NaN</td>\n",
       "      <td>2017-11-03</td>\n",
       "      <td>TV Show</td>\n",
       "    </tr>\n",
       "    <tr>\n",
       "      <th>1</th>\n",
       "      <td>A Patch of Fog</td>\n",
       "      <td>Michael Lennox</td>\n",
       "      <td>2017-04-15</td>\n",
       "      <td>Movie</td>\n",
       "    </tr>\n",
       "    <tr>\n",
       "      <th>2</th>\n",
       "      <td>Lunatics</td>\n",
       "      <td>NaN</td>\n",
       "      <td>2019-04-19</td>\n",
       "      <td>TV Show</td>\n",
       "    </tr>\n",
       "    <tr>\n",
       "      <th>3</th>\n",
       "      <td>Uriyadi 2</td>\n",
       "      <td>Vijay Kumar</td>\n",
       "      <td>2019-08-02</td>\n",
       "      <td>Movie</td>\n",
       "    </tr>\n",
       "    <tr>\n",
       "      <th>4</th>\n",
       "      <td>Shrek the Musical</td>\n",
       "      <td>Jason Moore</td>\n",
       "      <td>2013-12-29</td>\n",
       "      <td>Movie</td>\n",
       "    </tr>\n",
       "    <tr>\n",
       "      <th>...</th>\n",
       "      <td>...</td>\n",
       "      <td>...</td>\n",
       "      <td>...</td>\n",
       "      <td>...</td>\n",
       "    </tr>\n",
       "    <tr>\n",
       "      <th>5832</th>\n",
       "      <td>The Pursuit</td>\n",
       "      <td>John Papola</td>\n",
       "      <td>2019-08-07</td>\n",
       "      <td>Movie</td>\n",
       "    </tr>\n",
       "    <tr>\n",
       "      <th>5833</th>\n",
       "      <td>Hurricane Bianca</td>\n",
       "      <td>Matt Kugelman</td>\n",
       "      <td>2017-01-01</td>\n",
       "      <td>Movie</td>\n",
       "    </tr>\n",
       "    <tr>\n",
       "      <th>5834</th>\n",
       "      <td>Amar's Hands</td>\n",
       "      <td>Khaled Youssef</td>\n",
       "      <td>2019-04-26</td>\n",
       "      <td>Movie</td>\n",
       "    </tr>\n",
       "    <tr>\n",
       "      <th>5835</th>\n",
       "      <td>Bill Nye: Science Guy</td>\n",
       "      <td>Jason Sussberg</td>\n",
       "      <td>2018-04-25</td>\n",
       "      <td>Movie</td>\n",
       "    </tr>\n",
       "    <tr>\n",
       "      <th>5836</th>\n",
       "      <td>Age of Glory</td>\n",
       "      <td>NaN</td>\n",
       "      <td>NaT</td>\n",
       "      <td>TV Show</td>\n",
       "    </tr>\n",
       "  </tbody>\n",
       "</table>\n",
       "<p>5837 rows × 4 columns</p>\n",
       "</div>"
      ],
      "text/plain": [
       "                      title        director date_added     type\n",
       "0               Alias Grace             NaN 2017-11-03  TV Show\n",
       "1            A Patch of Fog  Michael Lennox 2017-04-15    Movie\n",
       "2                  Lunatics             NaN 2019-04-19  TV Show\n",
       "3                 Uriyadi 2     Vijay Kumar 2019-08-02    Movie\n",
       "4         Shrek the Musical     Jason Moore 2013-12-29    Movie\n",
       "...                     ...             ...        ...      ...\n",
       "5832            The Pursuit     John Papola 2019-08-07    Movie\n",
       "5833       Hurricane Bianca   Matt Kugelman 2017-01-01    Movie\n",
       "5834           Amar's Hands  Khaled Youssef 2019-04-26    Movie\n",
       "5835  Bill Nye: Science Guy  Jason Sussberg 2018-04-25    Movie\n",
       "5836           Age of Glory             NaN        NaT  TV Show\n",
       "\n",
       "[5837 rows x 4 columns]"
      ]
     },
     "execution_count": 2,
     "metadata": {},
     "output_type": "execute_result"
    }
   ],
   "source": [
    "import pandas as pd\n",
    "\n",
    "netflix = pd.read_csv(\"DataSets/netflix.csv\", parse_dates = [\"date_added\"])\n",
    "netflix\n"
   ]
  },
  {
   "cell_type": "markdown",
   "id": "bb566e3b",
   "metadata": {
    "slideshow": {
     "slide_type": "slide"
    }
   },
   "source": [
    "## Assignment 5"
   ]
  },
  {
   "cell_type": "markdown",
   "id": "b53a22bd",
   "metadata": {
    "slideshow": {
     "slide_type": "-"
    }
   },
   "source": [
    "* Trovare tutte le righe di contenuti con il titolo **Limitless**\n"
   ]
  },
  {
   "cell_type": "code",
   "execution_count": 3,
   "id": "d8f763b4",
   "metadata": {
    "slideshow": {
     "slide_type": "-"
    }
   },
   "outputs": [
    {
     "data": {
      "text/html": [
       "<div>\n",
       "<style scoped>\n",
       "    .dataframe tbody tr th:only-of-type {\n",
       "        vertical-align: middle;\n",
       "    }\n",
       "\n",
       "    .dataframe tbody tr th {\n",
       "        vertical-align: top;\n",
       "    }\n",
       "\n",
       "    .dataframe thead th {\n",
       "        text-align: right;\n",
       "    }\n",
       "</style>\n",
       "<table border=\"1\" class=\"dataframe\">\n",
       "  <thead>\n",
       "    <tr style=\"text-align: right;\">\n",
       "      <th></th>\n",
       "      <th>title</th>\n",
       "      <th>director</th>\n",
       "      <th>date_added</th>\n",
       "      <th>type</th>\n",
       "    </tr>\n",
       "  </thead>\n",
       "  <tbody>\n",
       "    <tr>\n",
       "      <th>1559</th>\n",
       "      <td>Limitless</td>\n",
       "      <td>Neil Burger</td>\n",
       "      <td>2019-05-16</td>\n",
       "      <td>Movie</td>\n",
       "    </tr>\n",
       "    <tr>\n",
       "      <th>2564</th>\n",
       "      <td>Limitless</td>\n",
       "      <td>NaN</td>\n",
       "      <td>2016-07-01</td>\n",
       "      <td>TV Show</td>\n",
       "    </tr>\n",
       "    <tr>\n",
       "      <th>4579</th>\n",
       "      <td>Limitless</td>\n",
       "      <td>Vrinda Samartha</td>\n",
       "      <td>2019-10-01</td>\n",
       "      <td>Movie</td>\n",
       "    </tr>\n",
       "  </tbody>\n",
       "</table>\n",
       "</div>"
      ],
      "text/plain": [
       "          title         director date_added     type\n",
       "1559  Limitless      Neil Burger 2019-05-16    Movie\n",
       "2564  Limitless              NaN 2016-07-01  TV Show\n",
       "4579  Limitless  Vrinda Samartha 2019-10-01    Movie"
      ]
     },
     "execution_count": 3,
     "metadata": {},
     "output_type": "execute_result"
    }
   ],
   "source": [
    "netflix[netflix[\"title\"] == \"Limitless\"]\n"
   ]
  },
  {
   "cell_type": "markdown",
   "id": "1ba6f799",
   "metadata": {
    "slideshow": {
     "slide_type": "slide"
    }
   },
   "source": [
    "## Assignment 5"
   ]
  },
  {
   "cell_type": "markdown",
   "id": "d7da6991",
   "metadata": {
    "slideshow": {
     "slide_type": "-"
    }
   },
   "source": [
    "* Trovare tutte le righe con director **Robert Rodriguez** e tipo **Movie**.\n"
   ]
  },
  {
   "cell_type": "code",
   "execution_count": 4,
   "id": "dcb0c852",
   "metadata": {
    "slideshow": {
     "slide_type": "-"
    }
   },
   "outputs": [
    {
     "data": {
      "text/html": [
       "<div>\n",
       "<style scoped>\n",
       "    .dataframe tbody tr th:only-of-type {\n",
       "        vertical-align: middle;\n",
       "    }\n",
       "\n",
       "    .dataframe tbody tr th {\n",
       "        vertical-align: top;\n",
       "    }\n",
       "\n",
       "    .dataframe thead th {\n",
       "        text-align: right;\n",
       "    }\n",
       "</style>\n",
       "<table border=\"1\" class=\"dataframe\">\n",
       "  <thead>\n",
       "    <tr style=\"text-align: right;\">\n",
       "      <th></th>\n",
       "      <th>title</th>\n",
       "      <th>director</th>\n",
       "      <th>date_added</th>\n",
       "      <th>type</th>\n",
       "    </tr>\n",
       "  </thead>\n",
       "  <tbody>\n",
       "    <tr>\n",
       "      <th>1384</th>\n",
       "      <td>Spy Kids: All the Time in the World</td>\n",
       "      <td>Robert Rodriguez</td>\n",
       "      <td>2019-02-19</td>\n",
       "      <td>Movie</td>\n",
       "    </tr>\n",
       "    <tr>\n",
       "      <th>1416</th>\n",
       "      <td>Spy Kids 3: Game Over</td>\n",
       "      <td>Robert Rodriguez</td>\n",
       "      <td>2019-04-01</td>\n",
       "      <td>Movie</td>\n",
       "    </tr>\n",
       "    <tr>\n",
       "      <th>1460</th>\n",
       "      <td>Spy Kids 2: The Island of Lost Dreams</td>\n",
       "      <td>Robert Rodriguez</td>\n",
       "      <td>2019-03-08</td>\n",
       "      <td>Movie</td>\n",
       "    </tr>\n",
       "    <tr>\n",
       "      <th>2890</th>\n",
       "      <td>Sin City</td>\n",
       "      <td>Robert Rodriguez</td>\n",
       "      <td>2019-10-01</td>\n",
       "      <td>Movie</td>\n",
       "    </tr>\n",
       "    <tr>\n",
       "      <th>3836</th>\n",
       "      <td>Shorts</td>\n",
       "      <td>Robert Rodriguez</td>\n",
       "      <td>2019-07-01</td>\n",
       "      <td>Movie</td>\n",
       "    </tr>\n",
       "    <tr>\n",
       "      <th>3883</th>\n",
       "      <td>Spy Kids</td>\n",
       "      <td>Robert Rodriguez</td>\n",
       "      <td>2019-04-01</td>\n",
       "      <td>Movie</td>\n",
       "    </tr>\n",
       "  </tbody>\n",
       "</table>\n",
       "</div>"
      ],
      "text/plain": [
       "                                      title          director date_added  \\\n",
       "1384    Spy Kids: All the Time in the World  Robert Rodriguez 2019-02-19   \n",
       "1416                  Spy Kids 3: Game Over  Robert Rodriguez 2019-04-01   \n",
       "1460  Spy Kids 2: The Island of Lost Dreams  Robert Rodriguez 2019-03-08   \n",
       "2890                               Sin City  Robert Rodriguez 2019-10-01   \n",
       "3836                                 Shorts  Robert Rodriguez 2019-07-01   \n",
       "3883                               Spy Kids  Robert Rodriguez 2019-04-01   \n",
       "\n",
       "       type  \n",
       "1384  Movie  \n",
       "1416  Movie  \n",
       "1460  Movie  \n",
       "2890  Movie  \n",
       "3836  Movie  \n",
       "3883  Movie  "
      ]
     },
     "execution_count": 4,
     "metadata": {},
     "output_type": "execute_result"
    }
   ],
   "source": [
    "directed_by_robert_rodriguez = (netflix[\"director\"] == \"Robert Rodriguez\")\n",
    "is_movie = netflix[\"type\"] == \"Movie\"\n",
    "netflix[directed_by_robert_rodriguez & is_movie]\n"
   ]
  },
  {
   "cell_type": "markdown",
   "id": "7a42a682",
   "metadata": {
    "slideshow": {
     "slide_type": "slide"
    }
   },
   "source": [
    "## Assignment 5"
   ]
  },
  {
   "cell_type": "markdown",
   "id": "c324ea6c",
   "metadata": {
    "slideshow": {
     "slide_type": "-"
    }
   },
   "source": [
    "* Trovare tutte le righe con data \"2019-07-31\" o direttore \"Robert Altman\".\n"
   ]
  },
  {
   "cell_type": "code",
   "execution_count": 5,
   "id": "10794553",
   "metadata": {
    "slideshow": {
     "slide_type": "-"
    }
   },
   "outputs": [
    {
     "data": {
      "text/html": [
       "<div>\n",
       "<style scoped>\n",
       "    .dataframe tbody tr th:only-of-type {\n",
       "        vertical-align: middle;\n",
       "    }\n",
       "\n",
       "    .dataframe tbody tr th {\n",
       "        vertical-align: top;\n",
       "    }\n",
       "\n",
       "    .dataframe thead th {\n",
       "        text-align: right;\n",
       "    }\n",
       "</style>\n",
       "<table border=\"1\" class=\"dataframe\">\n",
       "  <thead>\n",
       "    <tr style=\"text-align: right;\">\n",
       "      <th></th>\n",
       "      <th>title</th>\n",
       "      <th>director</th>\n",
       "      <th>date_added</th>\n",
       "      <th>type</th>\n",
       "    </tr>\n",
       "  </thead>\n",
       "  <tbody>\n",
       "    <tr>\n",
       "      <th>611</th>\n",
       "      <td>Popeye</td>\n",
       "      <td>Robert Altman</td>\n",
       "      <td>2019-11-24</td>\n",
       "      <td>Movie</td>\n",
       "    </tr>\n",
       "    <tr>\n",
       "      <th>1028</th>\n",
       "      <td>The Red Sea Diving Resort</td>\n",
       "      <td>Gideon Raff</td>\n",
       "      <td>2019-07-31</td>\n",
       "      <td>Movie</td>\n",
       "    </tr>\n",
       "    <tr>\n",
       "      <th>1092</th>\n",
       "      <td>Gosford Park</td>\n",
       "      <td>Robert Altman</td>\n",
       "      <td>2019-11-01</td>\n",
       "      <td>Movie</td>\n",
       "    </tr>\n",
       "    <tr>\n",
       "      <th>3473</th>\n",
       "      <td>Bangkok Love Stories: Innocence</td>\n",
       "      <td>NaN</td>\n",
       "      <td>2019-07-31</td>\n",
       "      <td>TV Show</td>\n",
       "    </tr>\n",
       "    <tr>\n",
       "      <th>5117</th>\n",
       "      <td>Ramen Shop</td>\n",
       "      <td>Eric Khoo</td>\n",
       "      <td>2019-07-31</td>\n",
       "      <td>Movie</td>\n",
       "    </tr>\n",
       "  </tbody>\n",
       "</table>\n",
       "</div>"
      ],
      "text/plain": [
       "                                title       director date_added     type\n",
       "611                            Popeye  Robert Altman 2019-11-24    Movie\n",
       "1028        The Red Sea Diving Resort    Gideon Raff 2019-07-31    Movie\n",
       "1092                     Gosford Park  Robert Altman 2019-11-01    Movie\n",
       "3473  Bangkok Love Stories: Innocence            NaN 2019-07-31  TV Show\n",
       "5117                       Ramen Shop      Eric Khoo 2019-07-31    Movie"
      ]
     },
     "execution_count": 5,
     "metadata": {},
     "output_type": "execute_result"
    }
   ],
   "source": [
    "added_on_july_31 = netflix[\"date_added\"] == \"2019-07-31\"\n",
    "directed_by_altman = netflix[\"director\"] == \"Robert Altman\"\n",
    "netflix[added_on_july_31 | directed_by_altman]\n"
   ]
  },
  {
   "cell_type": "markdown",
   "id": "0251d9fb",
   "metadata": {
    "slideshow": {
     "slide_type": "slide"
    }
   },
   "source": [
    "## Assignment 5"
   ]
  },
  {
   "cell_type": "markdown",
   "id": "52f6d9d4",
   "metadata": {
    "slideshow": {
     "slide_type": "-"
    }
   },
   "source": [
    "* Trovare tutte le righe con direttore \"Orson Welles\", \"Aditya Kripalani\", o \"Sam Raimi\".\n"
   ]
  },
  {
   "cell_type": "code",
   "execution_count": 6,
   "id": "5f805dc0",
   "metadata": {
    "slideshow": {
     "slide_type": "-"
    }
   },
   "outputs": [
    {
     "data": {
      "text/html": [
       "<div>\n",
       "<style scoped>\n",
       "    .dataframe tbody tr th:only-of-type {\n",
       "        vertical-align: middle;\n",
       "    }\n",
       "\n",
       "    .dataframe tbody tr th {\n",
       "        vertical-align: top;\n",
       "    }\n",
       "\n",
       "    .dataframe thead th {\n",
       "        text-align: right;\n",
       "    }\n",
       "</style>\n",
       "<table border=\"1\" class=\"dataframe\">\n",
       "  <thead>\n",
       "    <tr style=\"text-align: right;\">\n",
       "      <th></th>\n",
       "      <th>title</th>\n",
       "      <th>director</th>\n",
       "      <th>date_added</th>\n",
       "      <th>type</th>\n",
       "    </tr>\n",
       "  </thead>\n",
       "  <tbody>\n",
       "    <tr>\n",
       "      <th>946</th>\n",
       "      <td>The Stranger</td>\n",
       "      <td>Orson Welles</td>\n",
       "      <td>2018-07-19</td>\n",
       "      <td>Movie</td>\n",
       "    </tr>\n",
       "    <tr>\n",
       "      <th>1870</th>\n",
       "      <td>The Gift</td>\n",
       "      <td>Sam Raimi</td>\n",
       "      <td>2019-11-20</td>\n",
       "      <td>Movie</td>\n",
       "    </tr>\n",
       "    <tr>\n",
       "      <th>3706</th>\n",
       "      <td>Spider-Man 3</td>\n",
       "      <td>Sam Raimi</td>\n",
       "      <td>2019-11-01</td>\n",
       "      <td>Movie</td>\n",
       "    </tr>\n",
       "    <tr>\n",
       "      <th>4243</th>\n",
       "      <td>Tikli and Laxmi Bomb</td>\n",
       "      <td>Aditya Kripalani</td>\n",
       "      <td>2018-08-01</td>\n",
       "      <td>Movie</td>\n",
       "    </tr>\n",
       "    <tr>\n",
       "      <th>4475</th>\n",
       "      <td>The Other Side of the Wind</td>\n",
       "      <td>Orson Welles</td>\n",
       "      <td>2018-11-02</td>\n",
       "      <td>Movie</td>\n",
       "    </tr>\n",
       "    <tr>\n",
       "      <th>5115</th>\n",
       "      <td>Tottaa Pataaka Item Maal</td>\n",
       "      <td>Aditya Kripalani</td>\n",
       "      <td>2019-06-25</td>\n",
       "      <td>Movie</td>\n",
       "    </tr>\n",
       "  </tbody>\n",
       "</table>\n",
       "</div>"
      ],
      "text/plain": [
       "                           title          director date_added   type\n",
       "946                 The Stranger      Orson Welles 2018-07-19  Movie\n",
       "1870                    The Gift         Sam Raimi 2019-11-20  Movie\n",
       "3706                Spider-Man 3         Sam Raimi 2019-11-01  Movie\n",
       "4243        Tikli and Laxmi Bomb  Aditya Kripalani 2018-08-01  Movie\n",
       "4475  The Other Side of the Wind      Orson Welles 2018-11-02  Movie\n",
       "5115    Tottaa Pataaka Item Maal  Aditya Kripalani 2019-06-25  Movie"
      ]
     },
     "execution_count": 6,
     "metadata": {},
     "output_type": "execute_result"
    }
   ],
   "source": [
    "directors = [\"Orson Welles\", \"Aditya Kripalani\", \"Sam Raimi\"]\n",
    "target_directors = netflix[\"director\"].isin(directors)\n",
    "netflix[target_directors]\n"
   ]
  },
  {
   "cell_type": "markdown",
   "id": "bcaf185b",
   "metadata": {
    "slideshow": {
     "slide_type": "slide"
    }
   },
   "source": [
    "## Assignment 5"
   ]
  },
  {
   "cell_type": "markdown",
   "id": "81a0dd2f",
   "metadata": {
    "slideshow": {
     "slide_type": "-"
    }
   },
   "source": [
    "* Trovare tutte le righe in cui la data è tra **May 1, 2019** e **June 1, 2019**"
   ]
  },
  {
   "cell_type": "code",
   "execution_count": 7,
   "id": "8d089df9",
   "metadata": {
    "slideshow": {
     "slide_type": "-"
    }
   },
   "outputs": [
    {
     "data": {
      "text/html": [
       "<div>\n",
       "<style scoped>\n",
       "    .dataframe tbody tr th:only-of-type {\n",
       "        vertical-align: middle;\n",
       "    }\n",
       "\n",
       "    .dataframe tbody tr th {\n",
       "        vertical-align: top;\n",
       "    }\n",
       "\n",
       "    .dataframe thead th {\n",
       "        text-align: right;\n",
       "    }\n",
       "</style>\n",
       "<table border=\"1\" class=\"dataframe\">\n",
       "  <thead>\n",
       "    <tr style=\"text-align: right;\">\n",
       "      <th></th>\n",
       "      <th>title</th>\n",
       "      <th>director</th>\n",
       "      <th>date_added</th>\n",
       "      <th>type</th>\n",
       "    </tr>\n",
       "  </thead>\n",
       "  <tbody>\n",
       "    <tr>\n",
       "      <th>29</th>\n",
       "      <td>Chopsticks</td>\n",
       "      <td>Sachin Yardi</td>\n",
       "      <td>2019-05-31</td>\n",
       "      <td>Movie</td>\n",
       "    </tr>\n",
       "    <tr>\n",
       "      <th>60</th>\n",
       "      <td>Away From Home</td>\n",
       "      <td>NaN</td>\n",
       "      <td>2019-05-08</td>\n",
       "      <td>TV Show</td>\n",
       "    </tr>\n",
       "    <tr>\n",
       "      <th>82</th>\n",
       "      <td>III Smoking Barrels</td>\n",
       "      <td>Sanjib Dey</td>\n",
       "      <td>2019-06-01</td>\n",
       "      <td>Movie</td>\n",
       "    </tr>\n",
       "    <tr>\n",
       "      <th>108</th>\n",
       "      <td>Jailbirds</td>\n",
       "      <td>NaN</td>\n",
       "      <td>2019-05-10</td>\n",
       "      <td>TV Show</td>\n",
       "    </tr>\n",
       "    <tr>\n",
       "      <th>124</th>\n",
       "      <td>Pegasus</td>\n",
       "      <td>Han Han</td>\n",
       "      <td>2019-05-31</td>\n",
       "      <td>Movie</td>\n",
       "    </tr>\n",
       "  </tbody>\n",
       "</table>\n",
       "</div>"
      ],
      "text/plain": [
       "                   title      director date_added     type\n",
       "29            Chopsticks  Sachin Yardi 2019-05-31    Movie\n",
       "60        Away From Home           NaN 2019-05-08  TV Show\n",
       "82   III Smoking Barrels    Sanjib Dey 2019-06-01    Movie\n",
       "108            Jailbirds           NaN 2019-05-10  TV Show\n",
       "124              Pegasus       Han Han 2019-05-31    Movie"
      ]
     },
     "execution_count": 7,
     "metadata": {},
     "output_type": "execute_result"
    }
   ],
   "source": [
    "may_movies = netflix[\"date_added\"].between(\"2019-05-01\", \"2019-06-01\")\n",
    "netflix[may_movies].head()\n"
   ]
  },
  {
   "cell_type": "markdown",
   "id": "fad6c73b",
   "metadata": {
    "slideshow": {
     "slide_type": "slide"
    }
   },
   "source": [
    "## Assignment 5"
   ]
  },
  {
   "cell_type": "markdown",
   "id": "40015427",
   "metadata": {
    "slideshow": {
     "slide_type": "-"
    }
   },
   "source": [
    "* Drop tutte le righe con un valore **NaN** nella colonna **director**\n"
   ]
  },
  {
   "cell_type": "code",
   "execution_count": 8,
   "id": "5c8505b2",
   "metadata": {
    "slideshow": {
     "slide_type": "-"
    }
   },
   "outputs": [
    {
     "data": {
      "text/html": [
       "<div>\n",
       "<style scoped>\n",
       "    .dataframe tbody tr th:only-of-type {\n",
       "        vertical-align: middle;\n",
       "    }\n",
       "\n",
       "    .dataframe tbody tr th {\n",
       "        vertical-align: top;\n",
       "    }\n",
       "\n",
       "    .dataframe thead th {\n",
       "        text-align: right;\n",
       "    }\n",
       "</style>\n",
       "<table border=\"1\" class=\"dataframe\">\n",
       "  <thead>\n",
       "    <tr style=\"text-align: right;\">\n",
       "      <th></th>\n",
       "      <th>title</th>\n",
       "      <th>director</th>\n",
       "      <th>date_added</th>\n",
       "      <th>type</th>\n",
       "    </tr>\n",
       "  </thead>\n",
       "  <tbody>\n",
       "    <tr>\n",
       "      <th>1</th>\n",
       "      <td>A Patch of Fog</td>\n",
       "      <td>Michael Lennox</td>\n",
       "      <td>2017-04-15</td>\n",
       "      <td>Movie</td>\n",
       "    </tr>\n",
       "    <tr>\n",
       "      <th>3</th>\n",
       "      <td>Uriyadi 2</td>\n",
       "      <td>Vijay Kumar</td>\n",
       "      <td>2019-08-02</td>\n",
       "      <td>Movie</td>\n",
       "    </tr>\n",
       "    <tr>\n",
       "      <th>4</th>\n",
       "      <td>Shrek the Musical</td>\n",
       "      <td>Jason Moore</td>\n",
       "      <td>2013-12-29</td>\n",
       "      <td>Movie</td>\n",
       "    </tr>\n",
       "    <tr>\n",
       "      <th>5</th>\n",
       "      <td>Schubert In Love</td>\n",
       "      <td>Lars Büchel</td>\n",
       "      <td>2018-03-01</td>\n",
       "      <td>Movie</td>\n",
       "    </tr>\n",
       "    <tr>\n",
       "      <th>6</th>\n",
       "      <td>We Have Always Lived in the Castle</td>\n",
       "      <td>Stacie Passon</td>\n",
       "      <td>2019-09-14</td>\n",
       "      <td>Movie</td>\n",
       "    </tr>\n",
       "  </tbody>\n",
       "</table>\n",
       "</div>"
      ],
      "text/plain": [
       "                                title        director date_added   type\n",
       "1                      A Patch of Fog  Michael Lennox 2017-04-15  Movie\n",
       "3                           Uriyadi 2     Vijay Kumar 2019-08-02  Movie\n",
       "4                   Shrek the Musical     Jason Moore 2013-12-29  Movie\n",
       "5                    Schubert In Love     Lars Büchel 2018-03-01  Movie\n",
       "6  We Have Always Lived in the Castle   Stacie Passon 2019-09-14  Movie"
      ]
     },
     "execution_count": 8,
     "metadata": {},
     "output_type": "execute_result"
    }
   ],
   "source": [
    "netflix.dropna(subset = [\"director\"]).head()\n"
   ]
  },
  {
   "cell_type": "markdown",
   "id": "2439812b",
   "metadata": {
    "slideshow": {
     "slide_type": "slide"
    }
   },
   "source": [
    "## Assignment 5"
   ]
  },
  {
   "cell_type": "markdown",
   "id": "75d5c764",
   "metadata": {
    "slideshow": {
     "slide_type": "-"
    }
   },
   "source": [
    "* Trovare i giorni in cui Netflix ha aggiunto **solo un video** al catalogo"
   ]
  },
  {
   "cell_type": "code",
   "execution_count": 9,
   "id": "4629bb75",
   "metadata": {
    "slideshow": {
     "slide_type": "-"
    }
   },
   "outputs": [
    {
     "data": {
      "text/html": [
       "<div>\n",
       "<style scoped>\n",
       "    .dataframe tbody tr th:only-of-type {\n",
       "        vertical-align: middle;\n",
       "    }\n",
       "\n",
       "    .dataframe tbody tr th {\n",
       "        vertical-align: top;\n",
       "    }\n",
       "\n",
       "    .dataframe thead th {\n",
       "        text-align: right;\n",
       "    }\n",
       "</style>\n",
       "<table border=\"1\" class=\"dataframe\">\n",
       "  <thead>\n",
       "    <tr style=\"text-align: right;\">\n",
       "      <th></th>\n",
       "      <th>title</th>\n",
       "      <th>director</th>\n",
       "      <th>date_added</th>\n",
       "      <th>type</th>\n",
       "    </tr>\n",
       "  </thead>\n",
       "  <tbody>\n",
       "    <tr>\n",
       "      <th>4</th>\n",
       "      <td>Shrek the Musical</td>\n",
       "      <td>Jason Moore</td>\n",
       "      <td>2013-12-29</td>\n",
       "      <td>Movie</td>\n",
       "    </tr>\n",
       "    <tr>\n",
       "      <th>12</th>\n",
       "      <td>Without Gorky</td>\n",
       "      <td>Cosima Spender</td>\n",
       "      <td>2017-05-31</td>\n",
       "      <td>Movie</td>\n",
       "    </tr>\n",
       "    <tr>\n",
       "      <th>30</th>\n",
       "      <td>Anjelah Johnson: Not Fancy</td>\n",
       "      <td>Jay Karas</td>\n",
       "      <td>2015-10-02</td>\n",
       "      <td>Movie</td>\n",
       "    </tr>\n",
       "    <tr>\n",
       "      <th>38</th>\n",
       "      <td>One Last Thing</td>\n",
       "      <td>Tim Rouhana</td>\n",
       "      <td>2019-08-25</td>\n",
       "      <td>Movie</td>\n",
       "    </tr>\n",
       "    <tr>\n",
       "      <th>70</th>\n",
       "      <td>Marvel's Iron Man &amp; Hulk: Heroes United</td>\n",
       "      <td>Leo Riley</td>\n",
       "      <td>2014-02-16</td>\n",
       "      <td>Movie</td>\n",
       "    </tr>\n",
       "    <tr>\n",
       "      <th>...</th>\n",
       "      <td>...</td>\n",
       "      <td>...</td>\n",
       "      <td>...</td>\n",
       "      <td>...</td>\n",
       "    </tr>\n",
       "    <tr>\n",
       "      <th>5748</th>\n",
       "      <td>Menorca</td>\n",
       "      <td>John Barnard</td>\n",
       "      <td>2017-08-27</td>\n",
       "      <td>Movie</td>\n",
       "    </tr>\n",
       "    <tr>\n",
       "      <th>5749</th>\n",
       "      <td>Green Room</td>\n",
       "      <td>Jeremy Saulnier</td>\n",
       "      <td>2018-11-12</td>\n",
       "      <td>Movie</td>\n",
       "    </tr>\n",
       "    <tr>\n",
       "      <th>5788</th>\n",
       "      <td>Chris Brown: Welcome to My Life</td>\n",
       "      <td>Andrew Sandler</td>\n",
       "      <td>2017-10-07</td>\n",
       "      <td>Movie</td>\n",
       "    </tr>\n",
       "    <tr>\n",
       "      <th>5789</th>\n",
       "      <td>A Very Murray Christmas</td>\n",
       "      <td>Sofia Coppola</td>\n",
       "      <td>2015-12-04</td>\n",
       "      <td>Movie</td>\n",
       "    </tr>\n",
       "    <tr>\n",
       "      <th>5812</th>\n",
       "      <td>Little Singham in London</td>\n",
       "      <td>Prakash Satam</td>\n",
       "      <td>2019-04-22</td>\n",
       "      <td>Movie</td>\n",
       "    </tr>\n",
       "  </tbody>\n",
       "</table>\n",
       "<p>391 rows × 4 columns</p>\n",
       "</div>"
      ],
      "text/plain": [
       "                                        title         director date_added  \\\n",
       "4                           Shrek the Musical      Jason Moore 2013-12-29   \n",
       "12                              Without Gorky   Cosima Spender 2017-05-31   \n",
       "30                 Anjelah Johnson: Not Fancy        Jay Karas 2015-10-02   \n",
       "38                             One Last Thing      Tim Rouhana 2019-08-25   \n",
       "70    Marvel's Iron Man & Hulk: Heroes United        Leo Riley 2014-02-16   \n",
       "...                                       ...              ...        ...   \n",
       "5748                                  Menorca     John Barnard 2017-08-27   \n",
       "5749                               Green Room  Jeremy Saulnier 2018-11-12   \n",
       "5788          Chris Brown: Welcome to My Life   Andrew Sandler 2017-10-07   \n",
       "5789                  A Very Murray Christmas    Sofia Coppola 2015-12-04   \n",
       "5812                 Little Singham in London    Prakash Satam 2019-04-22   \n",
       "\n",
       "       type  \n",
       "4     Movie  \n",
       "12    Movie  \n",
       "30    Movie  \n",
       "38    Movie  \n",
       "70    Movie  \n",
       "...     ...  \n",
       "5748  Movie  \n",
       "5749  Movie  \n",
       "5788  Movie  \n",
       "5789  Movie  \n",
       "5812  Movie  \n",
       "\n",
       "[391 rows x 4 columns]"
      ]
     },
     "execution_count": 9,
     "metadata": {},
     "output_type": "execute_result"
    }
   ],
   "source": [
    "netflix.drop_duplicates(subset = [\"date_added\"], keep = False)\n"
   ]
  },
  {
   "cell_type": "markdown",
   "id": "0080b769",
   "metadata": {
    "slideshow": {
     "slide_type": "slide"
    }
   },
   "source": [
    "## La gerarchia dei Moduli"
   ]
  },
  {
   "cell_type": "markdown",
   "id": "f0ea9ff8",
   "metadata": {
    "slideshow": {
     "slide_type": "-"
    }
   },
   "source": [
    "<center>\n",
    "<img src=\"Figures/Hierarchy.jpg\" style=\"width:800px;height:800px;\"/>"
   ]
  },
  {
   "cell_type": "markdown",
   "id": "9ccba9cd",
   "metadata": {
    "slideshow": {
     "slide_type": "slide"
    }
   },
   "source": [
    "## Struttura della lezione"
   ]
  },
  {
   "cell_type": "markdown",
   "id": "7f50dfd7",
   "metadata": {
    "slideshow": {
     "slide_type": "-"
    }
   },
   "source": [
    "* visualizzazione\n",
    "    * alternative per il plotting\n",
    "    * esempi con  dataset reali\n",
    "* combinare **DataFrame**\n",
    "    * concatenazione\n",
    "    * merge\n",
    "        * inner\n",
    "        * left, right,\n",
    "        * outer\n",
    "        "
   ]
  },
  {
   "cell_type": "markdown",
   "id": "5276085a",
   "metadata": {
    "slideshow": {
     "slide_type": "slide"
    }
   },
   "source": [
    "## Plotting con Matplotlib e con Pandas "
   ]
  },
  {
   "cell_type": "markdown",
   "id": "26c5ac56",
   "metadata": {
    "slideshow": {
     "slide_type": "-"
    }
   },
   "source": [
    "* **MatPlotLib**: funzionalità simili a **GnuPlot** e **MatLAb**\n",
    "    * vantaggio principale: integrazione con Python!\n",
    "* offre diversi ambienti per la visualizzazione, possono creare molta confusione\n",
    "* alternative\n",
    "    * utilizzare direttamente **Matplotlib**, con due possibili modalità:\n",
    "      * interfaccia *procedurale* simile a **MatLab**\n",
    "          * utilizzo del modulo **pyplot** \n",
    "          * utile quando si usa un unico **plot**\n",
    "      * interfaccia **object oriented**\n",
    "          * creazione di oggetti delle classi **figures** e **axes**\n",
    "          * la più generale e potente\n",
    "    * utilizzare i metodi per la visualizzazione offerti da **Pandas**\n",
    "      * wrapper per i metodi di *Matplotlib*\n",
    "      * funzione **plot** di *Pandas* può essere invocata direttamente su **Series** e **Dataframe**\n",
    "      * funzionalità ridotte\n",
    "      * se sono sufficienti, soono molto semplici da utilizzare\n",
    "     "
   ]
  },
  {
   "cell_type": "markdown",
   "id": "fe366cd6",
   "metadata": {
    "slideshow": {
     "slide_type": "slide"
    }
   },
   "source": [
    "## Preparazione dei dati: il dataset *crypto-markets.csv* "
   ]
  },
  {
   "cell_type": "markdown",
   "id": "89a5b9bd",
   "metadata": {
    "slideshow": {
     "slide_type": "-"
    }
   },
   "source": [
    "* Una riga per ogni giorno in un periodo compreso tra \n",
    "    * *slug* : nome della cryptocurrency\n",
    "    * *symbol* : simbolo della cryptocurrency\n",
    "    * *name* : nome della cryptocurrency\n",
    "    * *date*: data dell'osservazione\n",
    "    * *ranknow* : rank della cryptocurrency in quella data\n",
    "    * *open* : prezzo di apertura in quella data\n",
    "    * *high* : prezzo più alto in quella data\n",
    "    * *low* : prezzo più basso in quella data\n",
    "    * *close* : prezzo di chiusura in quella data\n",
    "    * *volume*: volume delle transazioni in quella data\n",
    "    * *market* : capitalizzazione di mercato in USD\n",
    "    * *close_ratio*: (close-low)/(high-low)\n",
    "    * *spread* : differenza tra il prezzo più alto e quello più basso in quella data\n",
    "* periodo coperto: *2013-2018* \n",
    "* dimensione: circa *62 Mega*"
   ]
  },
  {
   "cell_type": "markdown",
   "id": "a3a856b4",
   "metadata": {
    "slideshow": {
     "slide_type": "slide"
    }
   },
   "source": [
    "## Preparazione dei dati: il dataset *crypto-markets.csv* "
   ]
  },
  {
   "cell_type": "code",
   "execution_count": 10,
   "id": "51caab09",
   "metadata": {
    "slideshow": {
     "slide_type": "-"
    }
   },
   "outputs": [
    {
     "name": "stdout",
     "output_type": "stream",
     "text": [
      "<class 'pandas.core.frame.DataFrame'>\n",
      "RangeIndex: 679183 entries, 0 to 679182\n",
      "Data columns (total 13 columns):\n",
      " #   Column       Non-Null Count   Dtype         \n",
      "---  ------       --------------   -----         \n",
      " 0   slug         679183 non-null  object        \n",
      " 1   symbol       679183 non-null  object        \n",
      " 2   name         679183 non-null  object        \n",
      " 3   date         679183 non-null  datetime64[ns]\n",
      " 4   ranknow      679183 non-null  int64         \n",
      " 5   open         679183 non-null  float64       \n",
      " 6   high         679183 non-null  float64       \n",
      " 7   low          679183 non-null  float64       \n",
      " 8   close        679183 non-null  float64       \n",
      " 9   volume       679183 non-null  int64         \n",
      " 10  market       679183 non-null  float64       \n",
      " 11  close_ratio  665926 non-null  object        \n",
      " 12  spread       679183 non-null  float64       \n",
      "dtypes: datetime64[ns](1), float64(6), int64(2), object(4)\n",
      "memory usage: 67.4+ MB\n"
     ]
    },
    {
     "data": {
      "text/html": [
       "<div>\n",
       "<style scoped>\n",
       "    .dataframe tbody tr th:only-of-type {\n",
       "        vertical-align: middle;\n",
       "    }\n",
       "\n",
       "    .dataframe tbody tr th {\n",
       "        vertical-align: top;\n",
       "    }\n",
       "\n",
       "    .dataframe thead th {\n",
       "        text-align: right;\n",
       "    }\n",
       "</style>\n",
       "<table border=\"1\" class=\"dataframe\">\n",
       "  <thead>\n",
       "    <tr style=\"text-align: right;\">\n",
       "      <th></th>\n",
       "      <th>slug</th>\n",
       "      <th>symbol</th>\n",
       "      <th>name</th>\n",
       "      <th>date</th>\n",
       "      <th>ranknow</th>\n",
       "      <th>open</th>\n",
       "      <th>high</th>\n",
       "      <th>low</th>\n",
       "      <th>close</th>\n",
       "      <th>volume</th>\n",
       "      <th>market</th>\n",
       "      <th>close_ratio</th>\n",
       "      <th>spread</th>\n",
       "    </tr>\n",
       "  </thead>\n",
       "  <tbody>\n",
       "    <tr>\n",
       "      <th>0</th>\n",
       "      <td>bitcoin</td>\n",
       "      <td>BTC</td>\n",
       "      <td>Bitcoin</td>\n",
       "      <td>2013-04-28</td>\n",
       "      <td>1</td>\n",
       "      <td>135.30</td>\n",
       "      <td>135.98</td>\n",
       "      <td>132.10</td>\n",
       "      <td>134.21</td>\n",
       "      <td>0</td>\n",
       "      <td>1.500520e+09</td>\n",
       "      <td>0.5438</td>\n",
       "      <td>3.88</td>\n",
       "    </tr>\n",
       "    <tr>\n",
       "      <th>1</th>\n",
       "      <td>bitcoin</td>\n",
       "      <td>BTC</td>\n",
       "      <td>Bitcoin</td>\n",
       "      <td>2013-04-29</td>\n",
       "      <td>1</td>\n",
       "      <td>134.44</td>\n",
       "      <td>147.49</td>\n",
       "      <td>134.00</td>\n",
       "      <td>144.54</td>\n",
       "      <td>0</td>\n",
       "      <td>1.491160e+09</td>\n",
       "      <td>0.7813</td>\n",
       "      <td>13.49</td>\n",
       "    </tr>\n",
       "    <tr>\n",
       "      <th>2</th>\n",
       "      <td>bitcoin</td>\n",
       "      <td>BTC</td>\n",
       "      <td>Bitcoin</td>\n",
       "      <td>2013-04-30</td>\n",
       "      <td>1</td>\n",
       "      <td>144.00</td>\n",
       "      <td>146.93</td>\n",
       "      <td>134.05</td>\n",
       "      <td>139.00</td>\n",
       "      <td>0</td>\n",
       "      <td>1.597780e+09</td>\n",
       "      <td>0.3843</td>\n",
       "      <td>12.88</td>\n",
       "    </tr>\n",
       "    <tr>\n",
       "      <th>3</th>\n",
       "      <td>bitcoin</td>\n",
       "      <td>BTC</td>\n",
       "      <td>Bitcoin</td>\n",
       "      <td>2013-05-01</td>\n",
       "      <td>1</td>\n",
       "      <td>139.00</td>\n",
       "      <td>139.89</td>\n",
       "      <td>107.72</td>\n",
       "      <td>116.99</td>\n",
       "      <td>0</td>\n",
       "      <td>1.542820e+09</td>\n",
       "      <td>0.2882</td>\n",
       "      <td>32.17</td>\n",
       "    </tr>\n",
       "    <tr>\n",
       "      <th>4</th>\n",
       "      <td>bitcoin</td>\n",
       "      <td>BTC</td>\n",
       "      <td>Bitcoin</td>\n",
       "      <td>2013-05-02</td>\n",
       "      <td>1</td>\n",
       "      <td>116.38</td>\n",
       "      <td>125.60</td>\n",
       "      <td>92.28</td>\n",
       "      <td>105.21</td>\n",
       "      <td>0</td>\n",
       "      <td>1.292190e+09</td>\n",
       "      <td>0.3881</td>\n",
       "      <td>33.32</td>\n",
       "    </tr>\n",
       "  </tbody>\n",
       "</table>\n",
       "</div>"
      ],
      "text/plain": [
       "      slug symbol     name       date  ranknow    open    high     low  \\\n",
       "0  bitcoin    BTC  Bitcoin 2013-04-28        1  135.30  135.98  132.10   \n",
       "1  bitcoin    BTC  Bitcoin 2013-04-29        1  134.44  147.49  134.00   \n",
       "2  bitcoin    BTC  Bitcoin 2013-04-30        1  144.00  146.93  134.05   \n",
       "3  bitcoin    BTC  Bitcoin 2013-05-01        1  139.00  139.89  107.72   \n",
       "4  bitcoin    BTC  Bitcoin 2013-05-02        1  116.38  125.60   92.28   \n",
       "\n",
       "    close  volume        market close_ratio  spread  \n",
       "0  134.21       0  1.500520e+09      0.5438    3.88  \n",
       "1  144.54       0  1.491160e+09      0.7813   13.49  \n",
       "2  139.00       0  1.597780e+09      0.3843   12.88  \n",
       "3  116.99       0  1.542820e+09      0.2882   32.17  \n",
       "4  105.21       0  1.292190e+09      0.3881   33.32  "
      ]
     },
     "execution_count": 10,
     "metadata": {},
     "output_type": "execute_result"
    }
   ],
   "source": [
    "import pandas as pd\n",
    "import matplotlib.pyplot as plt\n",
    "import warnings\n",
    "warnings.filterwarnings('ignore')\n",
    "\n",
    "df_crypto = pd.read_csv('Datasets/crypto-markets.csv')\n",
    "df_crypto['date'] = pd.to_datetime(df_crypto['date'])\n",
    "df_crypto.info()\n",
    "df_crypto.head()\n"
   ]
  },
  {
   "cell_type": "markdown",
   "id": "9812fa0f",
   "metadata": {
    "slideshow": {
     "slide_type": "slide"
    }
   },
   "source": [
    "## Reduced_crypto:  ridurre il DataFrame \n",
    "\n",
    "* costruiamo un dataset ridotto contenete\n",
    "    * solo transazioni di **Bitcoin**\n",
    "    * che sono state effettuate nell'anno **2017**\n"
   ]
  },
  {
   "cell_type": "code",
   "execution_count": 11,
   "id": "794af739",
   "metadata": {
    "slideshow": {
     "slide_type": "-"
    }
   },
   "outputs": [
    {
     "name": "stdout",
     "output_type": "stream",
     "text": [
      "<class 'pandas.core.frame.DataFrame'>\n"
     ]
    },
    {
     "data": {
      "text/html": [
       "<div>\n",
       "<style scoped>\n",
       "    .dataframe tbody tr th:only-of-type {\n",
       "        vertical-align: middle;\n",
       "    }\n",
       "\n",
       "    .dataframe tbody tr th {\n",
       "        vertical-align: top;\n",
       "    }\n",
       "\n",
       "    .dataframe thead th {\n",
       "        text-align: right;\n",
       "    }\n",
       "</style>\n",
       "<table border=\"1\" class=\"dataframe\">\n",
       "  <thead>\n",
       "    <tr style=\"text-align: right;\">\n",
       "      <th></th>\n",
       "      <th>slug</th>\n",
       "      <th>symbol</th>\n",
       "      <th>name</th>\n",
       "      <th>date</th>\n",
       "      <th>ranknow</th>\n",
       "      <th>open</th>\n",
       "      <th>high</th>\n",
       "      <th>low</th>\n",
       "      <th>close</th>\n",
       "      <th>volume</th>\n",
       "      <th>market</th>\n",
       "      <th>close_ratio</th>\n",
       "      <th>spread</th>\n",
       "    </tr>\n",
       "  </thead>\n",
       "  <tbody>\n",
       "    <tr>\n",
       "      <th>1344</th>\n",
       "      <td>bitcoin</td>\n",
       "      <td>BTC</td>\n",
       "      <td>Bitcoin</td>\n",
       "      <td>2017-01-01</td>\n",
       "      <td>1</td>\n",
       "      <td>963.66</td>\n",
       "      <td>1003.08</td>\n",
       "      <td>958.70</td>\n",
       "      <td>998.33</td>\n",
       "      <td>147775000</td>\n",
       "      <td>1.549120e+10</td>\n",
       "      <td>0.893</td>\n",
       "      <td>44.38</td>\n",
       "    </tr>\n",
       "    <tr>\n",
       "      <th>1345</th>\n",
       "      <td>bitcoin</td>\n",
       "      <td>BTC</td>\n",
       "      <td>Bitcoin</td>\n",
       "      <td>2017-01-02</td>\n",
       "      <td>1</td>\n",
       "      <td>998.62</td>\n",
       "      <td>1031.39</td>\n",
       "      <td>996.70</td>\n",
       "      <td>1021.75</td>\n",
       "      <td>222185000</td>\n",
       "      <td>1.605510e+10</td>\n",
       "      <td>0.7221</td>\n",
       "      <td>34.69</td>\n",
       "    </tr>\n",
       "    <tr>\n",
       "      <th>1346</th>\n",
       "      <td>bitcoin</td>\n",
       "      <td>BTC</td>\n",
       "      <td>Bitcoin</td>\n",
       "      <td>2017-01-03</td>\n",
       "      <td>1</td>\n",
       "      <td>1021.60</td>\n",
       "      <td>1044.08</td>\n",
       "      <td>1021.60</td>\n",
       "      <td>1043.84</td>\n",
       "      <td>185168000</td>\n",
       "      <td>1.642660e+10</td>\n",
       "      <td>0.9893</td>\n",
       "      <td>22.48</td>\n",
       "    </tr>\n",
       "    <tr>\n",
       "      <th>1347</th>\n",
       "      <td>bitcoin</td>\n",
       "      <td>BTC</td>\n",
       "      <td>Bitcoin</td>\n",
       "      <td>2017-01-04</td>\n",
       "      <td>1</td>\n",
       "      <td>1044.40</td>\n",
       "      <td>1159.42</td>\n",
       "      <td>1044.40</td>\n",
       "      <td>1154.73</td>\n",
       "      <td>344946000</td>\n",
       "      <td>1.679540e+10</td>\n",
       "      <td>0.9592</td>\n",
       "      <td>115.02</td>\n",
       "    </tr>\n",
       "    <tr>\n",
       "      <th>1348</th>\n",
       "      <td>bitcoin</td>\n",
       "      <td>BTC</td>\n",
       "      <td>Bitcoin</td>\n",
       "      <td>2017-01-05</td>\n",
       "      <td>1</td>\n",
       "      <td>1156.73</td>\n",
       "      <td>1191.10</td>\n",
       "      <td>910.42</td>\n",
       "      <td>1013.38</td>\n",
       "      <td>510199000</td>\n",
       "      <td>1.860400e+10</td>\n",
       "      <td>0.3668</td>\n",
       "      <td>280.68</td>\n",
       "    </tr>\n",
       "  </tbody>\n",
       "</table>\n",
       "</div>"
      ],
      "text/plain": [
       "         slug symbol     name       date  ranknow     open     high      low  \\\n",
       "1344  bitcoin    BTC  Bitcoin 2017-01-01        1   963.66  1003.08   958.70   \n",
       "1345  bitcoin    BTC  Bitcoin 2017-01-02        1   998.62  1031.39   996.70   \n",
       "1346  bitcoin    BTC  Bitcoin 2017-01-03        1  1021.60  1044.08  1021.60   \n",
       "1347  bitcoin    BTC  Bitcoin 2017-01-04        1  1044.40  1159.42  1044.40   \n",
       "1348  bitcoin    BTC  Bitcoin 2017-01-05        1  1156.73  1191.10   910.42   \n",
       "\n",
       "        close     volume        market close_ratio  spread  \n",
       "1344   998.33  147775000  1.549120e+10       0.893   44.38  \n",
       "1345  1021.75  222185000  1.605510e+10      0.7221   34.69  \n",
       "1346  1043.84  185168000  1.642660e+10      0.9893   22.48  \n",
       "1347  1154.73  344946000  1.679540e+10      0.9592  115.02  \n",
       "1348  1013.38  510199000  1.860400e+10      0.3668  280.68  "
      ]
     },
     "execution_count": 11,
     "metadata": {},
     "output_type": "execute_result"
    }
   ],
   "source": [
    "reduced_crypto = df_crypto.loc[(df_crypto['name'] == 'Bitcoin') & \n",
    "                               df_crypto[\"date\"].isin(pd.date_range(\"2017-01-01\", \"2018-01-01\"))]\n",
    "print(type(reduced_crypto))\n",
    "reduced_crypto.head(5)\n"
   ]
  },
  {
   "cell_type": "code",
   "execution_count": 12,
   "id": "1398f1ce",
   "metadata": {
    "slideshow": {
     "slide_type": "-"
    }
   },
   "outputs": [
    {
     "data": {
      "text/plain": [
       "DatetimeIndex(['2024-02-21', '2024-02-22', '2024-02-23', '2024-02-24',\n",
       "               '2024-02-25', '2024-02-26', '2024-02-27', '2024-02-28'],\n",
       "              dtype='datetime64[ns]', freq='D')"
      ]
     },
     "execution_count": 12,
     "metadata": {},
     "output_type": "execute_result"
    }
   ],
   "source": [
    "pd.date_range('2024-02-21','2024-02-28')"
   ]
  },
  {
   "cell_type": "markdown",
   "id": "6910208f",
   "metadata": {
    "slideshow": {
     "slide_type": "-"
    }
   },
   "source": [
    "* **date_range** \n",
    "    * accetta una data di inizio, una data di fine ed eventualmente una frequenza e genera una sequenza di date\n",
    "  "
   ]
  },
  {
   "cell_type": "markdown",
   "id": "de1aba63",
   "metadata": {
    "slideshow": {
     "slide_type": "slide"
    }
   },
   "source": [
    "## Plotting con Pandas"
   ]
  },
  {
   "cell_type": "code",
   "execution_count": 13,
   "id": "7d5d3d83",
   "metadata": {
    "slideshow": {
     "slide_type": "-"
    }
   },
   "outputs": [
    {
     "data": {
      "text/plain": [
       "<Axes: title={'center': 'Market and Volume of Bitcoin in 2017'}, xlabel='date'>"
      ]
     },
     "execution_count": 13,
     "metadata": {},
     "output_type": "execute_result"
    },
    {
     "data": {
      "image/png": "[encoded data removed]",
      "text/plain": [
       "<Figure size 640x480 with 1 Axes>"
      ]
     },
     "metadata": {},
     "output_type": "display_data"
    }
   ],
   "source": [
    "reduced_crypto.plot(kind='line',x =\"date\", y=['market','volume'], title=\"Market and Volume of Bitcoin in 2017\")"
   ]
  },
  {
   "cell_type": "markdown",
   "id": "613f734a",
   "metadata": {
    "slideshow": {
     "slide_type": "-"
    }
   },
   "source": [
    "* la funzione **plot** applicata direttamente a **DataFrame** e a **Series**\n",
    "* il parametro **kind** indica il tipo di grafico che voglio ottenere"
   ]
  },
  {
   "cell_type": "markdown",
   "id": "50e37b7a",
   "metadata": {
    "slideshow": {
     "slide_type": "slide"
    }
   },
   "source": [
    "## Plotting con Matplotlib"
   ]
  },
  {
   "cell_type": "markdown",
   "id": "c812b927",
   "metadata": {
    "slideshow": {
     "slide_type": "-"
    }
   },
   "source": [
    "* lo stesso grafico lavorando direttamente con il metodo *plot* sull'oggetto *pyplot* (alias **plt**)\n",
    "    * passando oggetti di tipo *Series* per le ascisse e per le ordinate\n",
    "    * impostando direttamente le proprietà della plotting area\n"
   ]
  },
  {
   "cell_type": "code",
   "execution_count": 14,
   "id": "9dacdded",
   "metadata": {
    "slideshow": {
     "slide_type": "-"
    }
   },
   "outputs": [
    {
     "name": "stdout",
     "output_type": "stream",
     "text": [
      "<class 'pandas.core.series.Series'>\n"
     ]
    },
    {
     "data": {
      "image/png": "[encoded data removed]",
      "text/plain": [
       "<Figure size 640x480 with 1 Axes>"
      ]
     },
     "metadata": {},
     "output_type": "display_data"
    }
   ],
   "source": [
    "print(type(reduced_crypto[\"date\"]))\n",
    "plt.plot(reduced_crypto[\"date\"], reduced_crypto[\"market\"],\":g\",label=\"Market\")\n",
    "plt.plot(reduced_crypto[\"date\"], reduced_crypto[\"volume\"],\"--r\",label=\"Volume\")\n",
    "plt.title(\"Marekt and Volume of Bitcoin in 2017\")\n",
    "plt.legend(loc=\"upper left\")\n",
    "plt.show()\n"
   ]
  },
  {
   "cell_type": "markdown",
   "id": "09da0fde",
   "metadata": {
    "slideshow": {
     "slide_type": "-"
    }
   },
   "source": [
    "* differenze con **Pandas**\n",
    "    * occorre inserire esplicitamente le **label**\n",
    "    * posso personalizzare tipi di linea, colori e tanti altri parametri.\n",
    "    \n"
   ]
  },
  {
   "cell_type": "markdown",
   "id": "f7e8af28",
   "metadata": {
    "slideshow": {
     "slide_type": "slide"
    }
   },
   "source": [
    "## *pyplot.plot()*: i parametri"
   ]
  },
  {
   "cell_type": "markdown",
   "id": "67dd6e6a",
   "metadata": {
    "slideshow": {
     "slide_type": "-"
    }
   },
   "source": [
    "<center>\n",
    "<img src=\"Figures/Parameters.jpg\" style=\"width:400px;height:1000px;\"/>"
   ]
  },
  {
   "cell_type": "markdown",
   "id": "f815cd45",
   "metadata": {
    "slideshow": {
     "slide_type": "slide"
    }
   },
   "source": [
    "## *pyplot.plot()*: i colori"
   ]
  },
  {
   "cell_type": "markdown",
   "id": "6bf19aa4",
   "metadata": {
    "slideshow": {
     "slide_type": "-"
    }
   },
   "source": [
    "<center>\n",
    "<img src=\"Figures/Colors.jpg\" style=\"width:500px;height:500px;\"/>"
   ]
  },
  {
   "cell_type": "markdown",
   "id": "8c78b06d",
   "metadata": {
    "slideshow": {
     "slide_type": "slide"
    }
   },
   "source": [
    "## Bar Plot"
   ]
  },
  {
   "cell_type": "markdown",
   "id": "ed87c139",
   "metadata": {
    "slideshow": {
     "slide_type": "-"
    }
   },
   "source": [
    "* utile negli scenari in cui si hanno un certo numero di **categorie** e un valore quantitativo per ogni categoria da mettere in evidenza\n",
    "* esempi\n",
    "    * valori totali di vendita per marche diverse di auto\n",
    "    * età media degli atleti olimpici per divresi tipi di sports\n",
    "    * numero di persone che vivono in diverse città\n",
    "* enfasi sulla visualizzaione di **alcuni valori** di interesse\n"
   ]
  },
  {
   "cell_type": "markdown",
   "id": "68d7e30a",
   "metadata": {
    "slideshow": {
     "slide_type": "slide"
    }
   },
   "source": [
    "## Bar Plots \n",
    "\n",
    "*  descrivere con una visualizzazione opportuna il valore di mercato e il volume degli scambi delle prime 5 cryptocurrenciesper valore di mercato\n",
    "* il valore di mercato di riferimento è quello dell'ultima rilevazione del **DataSet**\n",
    "* utilizzeremo le funzioni **group_by** e **last()**\n"
   ]
  },
  {
   "cell_type": "markdown",
   "id": "cbe20066",
   "metadata": {
    "slideshow": {
     "slide_type": "slide"
    }
   },
   "source": [
    "## Preparazione dei dati\n"
   ]
  },
  {
   "cell_type": "code",
   "execution_count": 15,
   "id": "51a9b0e3",
   "metadata": {
    "slideshow": {
     "slide_type": "-"
    }
   },
   "outputs": [
    {
     "name": "stdout",
     "output_type": "stream",
     "text": [
      "<class 'pandas.core.series.Series'>\n",
      "Index(['Bitcoin', 'Ethereum', 'Tether', 'Ripple', 'Litecoin'], dtype='object', name='name')\n",
      "[9285290000 4269530000 4078980000 1286180000  844678000]\n"
     ]
    }
   ],
   "source": [
    "top_5_currency_names_volumes = df_crypto.groupby('name')['volume'].last().sort_values(ascending=False).head(5).index\n",
    "top_5_currency_volumes = df_crypto.groupby('name')['volume'].last().sort_values(ascending=False).head(5).values\n",
    "top_5_currency_volumes_series = df_crypto.groupby('name')['volume'].last().sort_values(ascending=False).head(5)\n",
    "\n",
    "print(type(top_5_currency_volumes_series))\n",
    "print(top_5_currency_names_volumes)\n",
    "print(top_5_currency_volumes)\n",
    "\n",
    "# dovo avere applicato l'operatore *last* a ogni gruppo, si ottiene un oggetto di tipo Series\n",
    "# questo oggetto rappresenta l'ultimo volume di mercato rilevato per ogni cryptomoneta, si ordina e si prendono le prime 5\n",
    "# utilizzo le proprietà index e values dell'oggetto Series\n"
   ]
  },
  {
   "cell_type": "markdown",
   "id": "9cadc060",
   "metadata": {
    "slideshow": {
     "slide_type": "slide"
    }
   },
   "source": [
    "## Preparazione dei dati"
   ]
  },
  {
   "cell_type": "code",
   "execution_count": 16,
   "id": "c6a2338d",
   "metadata": {
    "slideshow": {
     "slide_type": "-"
    }
   },
   "outputs": [
    {
     "name": "stdout",
     "output_type": "stream",
     "text": [
      "<class 'pandas.core.series.Series'>\n",
      "Index(['Bitcoin', 'Ethereum', 'Ripple', 'Bitcoin Cash', 'Cardano'], dtype='object', name='name')\n",
      "[9285290000 4269530000 4078980000 1286180000  844678000]\n"
     ]
    }
   ],
   "source": [
    "top_5_currency_names_markets = df_crypto.groupby('name')['market'].last().sort_values(ascending=False).head(5).index\n",
    "top_5_currency_markets = df_crypto.groupby('name')['market'].last().sort_values(ascending=False).head(5).values\n",
    "top_5_currency_markets_series = df_crypto.groupby('name')['market'].last().sort_values(ascending=False).head(5)\n",
    "\n",
    "print(type(top_5_currency_markets_series))\n",
    "print(top_5_currency_names_markets)\n",
    "print(top_5_currency_volumes)\n"
   ]
  },
  {
   "cell_type": "markdown",
   "id": "4bfafd3e",
   "metadata": {
    "slideshow": {
     "slide_type": "slide"
    }
   },
   "source": [
    "## Plotting con Pandas: Bar Plot"
   ]
  },
  {
   "cell_type": "code",
   "execution_count": 17,
   "id": "efddb336",
   "metadata": {},
   "outputs": [
    {
     "data": {
      "text/plain": [
       "<Axes: title={'center': 'Top5 per volume'}, xlabel='name'>"
      ]
     },
     "execution_count": 17,
     "metadata": {},
     "output_type": "execute_result"
    },
    {
     "data": {
      "image/png": "[encoded data removed]",
      "text/plain": [
       "<Figure size 640x480 with 1 Axes>"
      ]
     },
     "metadata": {},
     "output_type": "display_data"
    }
   ],
   "source": [
    "top_5_currency_volumes_series.plot(kind=\"bar\",title=\"Top5 per volume\")"
   ]
  },
  {
   "cell_type": "markdown",
   "id": "6a52d670",
   "metadata": {
    "slideshow": {
     "slide_type": "slide"
    }
   },
   "source": [
    "## Plotting con Pandas:  Bar Plot"
   ]
  },
  {
   "cell_type": "code",
   "execution_count": 18,
   "id": "ec49df52",
   "metadata": {},
   "outputs": [
    {
     "data": {
      "text/plain": [
       "<Axes: title={'center': 'top 5 per mercato\"'}, xlabel='name'>"
      ]
     },
     "execution_count": 18,
     "metadata": {},
     "output_type": "execute_result"
    },
    {
     "data": {
      "image/png": "[encoded data removed]",
      "text/plain": [
       "<Figure size 640x480 with 1 Axes>"
      ]
     },
     "metadata": {},
     "output_type": "display_data"
    }
   ],
   "source": [
    "top_5_currency_markets_series.plot(kind=\"bar\", title='top 5 per mercato\"')"
   ]
  },
  {
   "cell_type": "markdown",
   "id": "4ca754d6",
   "metadata": {
    "slideshow": {
     "slide_type": "slide"
    }
   },
   "source": [
    "## Plotting con Pandas: Bar Plot"
   ]
  },
  {
   "cell_type": "code",
   "execution_count": 19,
   "id": "266f1a68",
   "metadata": {
    "slideshow": {
     "slide_type": "-"
    }
   },
   "outputs": [
    {
     "data": {
      "text/plain": [
       "<Axes: ylabel='name'>"
      ]
     },
     "execution_count": 19,
     "metadata": {},
     "output_type": "execute_result"
    },
    {
     "data": {
      "image/png": "[encoded data removed]",
      "text/plain": [
       "<Figure size 640x480 with 1 Axes>"
      ]
     },
     "metadata": {},
     "output_type": "display_data"
    }
   ],
   "source": [
    "top_5_currency_markets_series.plot(kind=\"barh\")"
   ]
  },
  {
   "cell_type": "markdown",
   "id": "3e0aef89",
   "metadata": {
    "slideshow": {
     "slide_type": "-"
    }
   },
   "source": [
    "* può essere utile quando le etichette sono lunghe e, se messe in verticale, si sovrappongono\n"
   ]
  },
  {
   "cell_type": "markdown",
   "id": "317f8cd4",
   "metadata": {
    "slideshow": {
     "slide_type": "slide"
    }
   },
   "source": [
    "## Plotting con Pandas: Pie Charts"
   ]
  },
  {
   "cell_type": "markdown",
   "id": "b1a593a9",
   "metadata": {},
   "source": [
    "<center>\n",
    "<img src=\"Figures/PieChart.jpg\" style=\"width:600px;height:400px;\"/>"
   ]
  },
  {
   "cell_type": "markdown",
   "id": "1e360442",
   "metadata": {
    "slideshow": {
     "slide_type": "-"
    }
   },
   "source": [
    "* utile quando si vogliono mettere a confronto  le proporzioni tra i diversi valori come parte del tutto\n",
    "* esempi\n",
    "    * percentuali di votanti per partiti politici diversi\n",
    "    * le porzioni di mercato di diverse aziende\n",
    "* svantaggi\n",
    "    * diventa poco leggibile quando il numero di valori è molto alto\n",
    "    * poco adatto per mostrare **evoluzione temporale** di un fenomeno\n",
    "        * tanti pie chart affiancati?\n"
   ]
  },
  {
   "cell_type": "markdown",
   "id": "609dd6b4",
   "metadata": {
    "slideshow": {
     "slide_type": "slide"
    }
   },
   "source": [
    "## Plotting con Pandas: pie charts"
   ]
  },
  {
   "cell_type": "code",
   "execution_count": 20,
   "id": "c5a72dd7",
   "metadata": {
    "slideshow": {
     "slide_type": "-"
    }
   },
   "outputs": [
    {
     "data": {
      "image/png": "[encoded data removed]",
      "text/plain": [
       "<Figure size 640x480 with 1 Axes>"
      ]
     },
     "metadata": {},
     "output_type": "display_data"
    }
   ],
   "source": [
    "my_explode = (0.1, 0, 0, 0, 0) \n",
    "top_5_currency_volumes_series.plot(kind='pie', shadow=True, explode=my_explode, title=\"Volume transazioni prime 5 cryptomonete\");\n"
   ]
  },
  {
   "cell_type": "markdown",
   "id": "bffb5167",
   "metadata": {},
   "source": [
    "* **explode parameter** permette di applicare un **offset** al raggio di uno o più **slices** del **pie chart**\n",
    "* in questo modo è possibile mettere in evidenza uno o più slices del pie chart\n",
    "* default value **explode=None**\n",
    "* se presente deve essere un **array** uguale al numero delle **slices**\n",
    "    * ogni entrata specifica l'offset di quella slice\n",
    "    "
   ]
  },
  {
   "cell_type": "markdown",
   "id": "b627c8f0",
   "metadata": {
    "slideshow": {
     "slide_type": "slide"
    }
   },
   "source": [
    "## Plotting con Pandas: pie charts"
   ]
  },
  {
   "cell_type": "code",
   "execution_count": 21,
   "id": "698b1ab6",
   "metadata": {
    "slideshow": {
     "slide_type": "-"
    }
   },
   "outputs": [
    {
     "data": {
      "image/png": "[encoded data removed]",
      "text/plain": [
       "<Figure size 640x480 with 1 Axes>"
      ]
     },
     "metadata": {},
     "output_type": "display_data"
    }
   ],
   "source": [
    "my_explode = (0.1, 0, 0, 0, 0) \n",
    "top_5_currency_markets_series.plot(kind='pie', shadow=True, explode=my_explode, title=\"Valore mercato transazioni prime 5 cryptomonete\");\n"
   ]
  },
  {
   "cell_type": "markdown",
   "id": "70baa165",
   "metadata": {
    "slideshow": {
     "slide_type": "slide"
    }
   },
   "source": [
    "## Plotting con  Pandas, pie chart \"temporali\": stacked bar"
   ]
  },
  {
   "cell_type": "markdown",
   "id": "63c6b404",
   "metadata": {
    "slideshow": {
     "slide_type": "-"
    }
   },
   "source": [
    "* descrivere, con una visualizzazione opportuna, l'evoluzione del volume di mercato delle prime 5 criptomonete\n",
    "* considerare il mese di **Maggio** 2017\n",
    "* costruire un **DataFrame** con una riga per ogni giorno del mese che riporta le valutazioni delle 5 monete\n",
    "* plottare il **DataFrame** direttamente da **Pandas**\n"
   ]
  },
  {
   "cell_type": "code",
   "execution_count": 22,
   "id": "7835a9a6",
   "metadata": {
    "slideshow": {
     "slide_type": "-"
    }
   },
   "outputs": [
    {
     "name": "stdout",
     "output_type": "stream",
     "text": [
      "1464    713624000\n",
      "1465    477338000\n",
      "1466    583796000\n",
      "1467    933549000\n",
      "1468    946036000\n",
      "Name: volume, dtype: int64\n",
      "1    713624000\n",
      "2    477338000\n",
      "3    583796000\n",
      "4    933549000\n",
      "5    946036000\n",
      "Name: volume, dtype: int64\n"
     ]
    }
   ],
   "source": [
    "mask = (df_crypto.date >= pd.Timestamp('2017-05-01')) & (df_crypto.date <= pd.Timestamp('2017-05-30'))\n",
    "df_reduced_stack= df_crypto.loc[mask]\n",
    "\n",
    "Bitcoin_volume=df_reduced_stack[df_reduced_stack['name']=='Bitcoin'].volume\n",
    "Ethereum_volume=df_reduced_stack[df_reduced_stack['name']=='Ethereum'].volume\n",
    "Ripple_volume=df_reduced_stack[df_reduced_stack['name']=='Ripple'].volume\n",
    "Litecoin_volume=df_reduced_stack[df_reduced_stack['name']=='Litecoin'].volume\n",
    "Tether_volume=df_reduced_stack[df_reduced_stack['name']=='Tether'].volume\n",
    "\n",
    "print(Bitcoin_volume.head(5))\n",
    "ind=pd.RangeIndex(start=1, stop=31, step=1)\n",
    "\n",
    "Bitcoin_volume.index = ind \n",
    "print(Bitcoin_volume.head(5))\n"
   ]
  },
  {
   "cell_type": "markdown",
   "id": "69ba009f",
   "metadata": {
    "slideshow": {
     "slide_type": "slide"
    }
   },
   "source": [
    "## Concatenare Series per ottenere un DataFrame"
   ]
  },
  {
   "cell_type": "markdown",
   "id": "c3713598",
   "metadata": {
    "slideshow": {
     "slide_type": "-"
    }
   },
   "source": [
    "<center>\n",
    "<img src=\"Figures/ConcatAxis_0.jpg\" style=\"width:600px;height:500px;\"/>"
   ]
  },
  {
   "cell_type": "markdown",
   "id": "42738a71",
   "metadata": {
    "slideshow": {
     "slide_type": "-"
    }
   },
   "source": [
    "* concatenare **DatFrames** su **axis=0** (righe)"
   ]
  },
  {
   "cell_type": "markdown",
   "id": "fe446f75",
   "metadata": {
    "slideshow": {
     "slide_type": "slide"
    }
   },
   "source": [
    "## Creare un DataFrame a partire da Series"
   ]
  },
  {
   "cell_type": "markdown",
   "id": "21409aa2",
   "metadata": {
    "slideshow": {
     "slide_type": "-"
    }
   },
   "source": [
    "<center>\n",
    "<img src=\"Figures/ConcatAxis_1.jpg\" style=\"width:600px;height:500px;\"/>"
   ]
  },
  {
   "cell_type": "markdown",
   "id": "4631a3ab",
   "metadata": {},
   "source": [
    "* concatenare **DatFrames** su **axis=1** (colonne)"
   ]
  },
  {
   "cell_type": "markdown",
   "id": "47da53d4",
   "metadata": {
    "slideshow": {
     "slide_type": "slide"
    }
   },
   "source": [
    "## Plotting with Panda, pie chart \"temporali\": stacked bar"
   ]
  },
  {
   "cell_type": "code",
   "execution_count": 23,
   "id": "b4271397",
   "metadata": {
    "slideshow": {
     "slide_type": "-"
    }
   },
   "outputs": [
    {
     "data": {
      "text/html": [
       "<div>\n",
       "<style scoped>\n",
       "    .dataframe tbody tr th:only-of-type {\n",
       "        vertical-align: middle;\n",
       "    }\n",
       "\n",
       "    .dataframe tbody tr th {\n",
       "        vertical-align: top;\n",
       "    }\n",
       "\n",
       "    .dataframe thead th {\n",
       "        text-align: right;\n",
       "    }\n",
       "</style>\n",
       "<table border=\"1\" class=\"dataframe\">\n",
       "  <thead>\n",
       "    <tr style=\"text-align: right;\">\n",
       "      <th></th>\n",
       "      <th>Bitcoin</th>\n",
       "      <th>Ethereum</th>\n",
       "      <th>Ripple</th>\n",
       "      <th>Litecoin</th>\n",
       "      <th>Tether</th>\n",
       "    </tr>\n",
       "  </thead>\n",
       "  <tbody>\n",
       "    <tr>\n",
       "      <th>1</th>\n",
       "      <td>713624000</td>\n",
       "      <td>376842000</td>\n",
       "      <td>61730100</td>\n",
       "      <td>66989400</td>\n",
       "      <td>44582500</td>\n",
       "    </tr>\n",
       "    <tr>\n",
       "      <th>2</th>\n",
       "      <td>477338000</td>\n",
       "      <td>193773000</td>\n",
       "      <td>33814700</td>\n",
       "      <td>38692100</td>\n",
       "      <td>22268100</td>\n",
       "    </tr>\n",
       "    <tr>\n",
       "      <th>3</th>\n",
       "      <td>583796000</td>\n",
       "      <td>141922000</td>\n",
       "      <td>42869000</td>\n",
       "      <td>253441000</td>\n",
       "      <td>33500300</td>\n",
       "    </tr>\n",
       "    <tr>\n",
       "      <th>4</th>\n",
       "      <td>933549000</td>\n",
       "      <td>366847000</td>\n",
       "      <td>153374000</td>\n",
       "      <td>242912000</td>\n",
       "      <td>56022400</td>\n",
       "    </tr>\n",
       "    <tr>\n",
       "      <th>5</th>\n",
       "      <td>946036000</td>\n",
       "      <td>331928000</td>\n",
       "      <td>184430000</td>\n",
       "      <td>218949000</td>\n",
       "      <td>69583300</td>\n",
       "    </tr>\n",
       "  </tbody>\n",
       "</table>\n",
       "</div>"
      ],
      "text/plain": [
       "     Bitcoin   Ethereum     Ripple   Litecoin    Tether\n",
       "1  713624000  376842000   61730100   66989400  44582500\n",
       "2  477338000  193773000   33814700   38692100  22268100\n",
       "3  583796000  141922000   42869000  253441000  33500300\n",
       "4  933549000  366847000  153374000  242912000  56022400\n",
       "5  946036000  331928000  184430000  218949000  69583300"
      ]
     },
     "execution_count": 23,
     "metadata": {},
     "output_type": "execute_result"
    }
   ],
   "source": [
    "Ethereum_volume.index = pd.RangeIndex(start=1, stop=31, step=1)\n",
    "Ripple_volume.index = pd.RangeIndex(start=1, stop=31, step=1)\n",
    "Litecoin_volume.index = pd.RangeIndex(start=1, stop=31, step=1)\n",
    "Tether_volume.index = pd.RangeIndex(start=1, stop=31, step=1)\n",
    "df=pd.concat({\n",
    "              'Bitcoin': Bitcoin_volume,\n",
    "              'Ethereum': Ethereum_volume,\n",
    "              'Ripple': Ripple_volume,\n",
    "              'Litecoin': Litecoin_volume,\n",
    "              'Tether': Tether_volume\n",
    "               },axis=1)\n",
    "\n",
    "df.head(5)\n"
   ]
  },
  {
   "cell_type": "markdown",
   "id": "fbe8f54d",
   "metadata": {
    "slideshow": {
     "slide_type": "slide"
    }
   },
   "source": [
    "## Plotting with Pandas: stacked bar, pie chart \"temporali\""
   ]
  },
  {
   "cell_type": "code",
   "execution_count": 24,
   "id": "63f2d5b7",
   "metadata": {},
   "outputs": [
    {
     "data": {
      "text/plain": [
       "<Axes: >"
      ]
     },
     "execution_count": 24,
     "metadata": {},
     "output_type": "execute_result"
    },
    {
     "data": {
      "image/png": "[encoded data removed]",
      "text/plain": [
       "<Figure size 640x480 with 1 Axes>"
      ]
     },
     "metadata": {},
     "output_type": "display_data"
    }
   ],
   "source": [
    "df.plot(kind='bar', stacked=True)\n"
   ]
  },
  {
   "cell_type": "markdown",
   "id": "009d47a0",
   "metadata": {
    "slideshow": {
     "slide_type": "slide"
    }
   },
   "source": [
    "## Plotting with Pandas: stacked area"
   ]
  },
  {
   "cell_type": "code",
   "execution_count": 25,
   "id": "df770033",
   "metadata": {
    "slideshow": {
     "slide_type": "-"
    }
   },
   "outputs": [
    {
     "data": {
      "text/plain": [
       "<Axes: >"
      ]
     },
     "execution_count": 25,
     "metadata": {},
     "output_type": "execute_result"
    },
    {
     "data": {
      "image/png": "[encoded data removed]",
      "text/plain": [
       "<Figure size 640x480 with 1 Axes>"
      ]
     },
     "metadata": {},
     "output_type": "display_data"
    }
   ],
   "source": [
    "df.plot(kind='area')\n"
   ]
  },
  {
   "cell_type": "markdown",
   "id": "bd6ac051",
   "metadata": {
    "slideshow": {
     "slide_type": "slide"
    }
   },
   "source": [
    "## Plotting with Pandas: stacked bar, pie chart \"temporali\""
   ]
  },
  {
   "cell_type": "code",
   "execution_count": 26,
   "id": "4af355c6",
   "metadata": {
    "slideshow": {
     "slide_type": "-"
    }
   },
   "outputs": [
    {
     "data": {
      "text/plain": [
       "<Axes: >"
      ]
     },
     "execution_count": 26,
     "metadata": {},
     "output_type": "execute_result"
    },
    {
     "data": {
      "image/png": "[encoded data removed]",
      "text/plain": [
       "<Figure size 640x480 with 1 Axes>"
      ]
     },
     "metadata": {},
     "output_type": "display_data"
    }
   ],
   "source": [
    "sleep = pd.Series([6,7,5,8,6,9,9])\n",
    "eat =   pd.Series([1,1,1,1,1,2,2])\n",
    "work =  pd.Series([8,7,10,8,6,0,0])\n",
    "exercise = pd.Series([1,1,1,1,1,3,3])\n",
    "freetime = pd.Series([8,8,7,6,10,10,10])\n",
    "\n",
    "df=pd.concat({\n",
    "              'Sleep': sleep,\n",
    "              'Eat': eat,\n",
    "              'Work': work,\n",
    "              'exercise': exercise,\n",
    "              'freetime': freetime,\n",
    "               },axis=1)\n",
    "\n",
    "df.plot(kind='bar', stacked=True)\n",
    "\n"
   ]
  },
  {
   "cell_type": "markdown",
   "id": "8f46ae16",
   "metadata": {
    "slideshow": {
     "slide_type": "slide"
    }
   },
   "source": [
    "## Plotting with Pandas: grouped bat plot"
   ]
  },
  {
   "cell_type": "markdown",
   "id": "9651fae2",
   "metadata": {
    "slideshow": {
     "slide_type": "-"
    }
   },
   "source": [
    "* tutti gli esempi visti fino a questo punto si riferiscono ad una unica **variabile categoriale**\n",
    "* frequentemente, però si è interessati a **più variabili categoriali**\n",
    "* esempio\n",
    "    * l'Università fornisce dati sui propri studenti\n",
    "    * divisi per anno di iscrizione (prima variabile categoriale)\n",
    "    * per ogni anno, divisi per genere e provenienze (seconda e terza variabile categoriale)\n",
    "* come visualizzare?\n",
    "    * un insieme di gruppi, sull'asse delle x, relativi ad una variabile categoriale\n",
    "    * un insieme di barre, per ogni gruppo, corrispondenti ai valori della  seconda variabile categoriale\n",
    "* nell'esempio successivo\n",
    "    * prima variabile categoriale: date di un periodo\n",
    "    * seconda variabile categoriale: prezzo più alto di ogni criptomoneta in quella data\n"
   ]
  },
  {
   "cell_type": "markdown",
   "id": "7cf25a2f",
   "metadata": {
    "slideshow": {
     "slide_type": "slide"
    }
   },
   "source": [
    "## Plotting with Pandas: Grouped Bat Plot"
   ]
  },
  {
   "cell_type": "code",
   "execution_count": 27,
   "id": "63dcaecd",
   "metadata": {},
   "outputs": [
    {
     "data": {
      "text/plain": [
       "<Axes: title={'center': 'High Price'}, xlabel='Day'>"
      ]
     },
     "execution_count": 27,
     "metadata": {},
     "output_type": "execute_result"
    },
    {
     "data": {
      "image/png": "[encoded data removed]",
      "text/plain": [
       "<Figure size 640x480 with 1 Axes>"
      ]
     },
     "metadata": {},
     "output_type": "display_data"
    }
   ],
   "source": [
    "mask_1 = (df_crypto.date >= pd.Timestamp('2017-05-01')) & (df_crypto.date <= pd.Timestamp('2017-05-15'))\n",
    "df_Bitcoin= df_crypto[(df_crypto[\"name\"]==\"Bitcoin\") & (mask_1)]['high']\n",
    "df_Ethereum= df_crypto[(df_crypto[\"name\"]==\"Ethereum\") & (mask_1)]['high']\n",
    "df_Ripple= df_crypto[(df_crypto[\"name\"]==\"Ripple\") & (mask_1)]['high']\n",
    "\n",
    "names_series=pd.Series([\"Bitcoin\", \"Ethereum\", \"Ripple\"])\n",
    "\n",
    "df_Bitcoin.index = pd.RangeIndex(start=0, stop=15, step=1)\n",
    "df_Ethereum.index = pd.RangeIndex(start=0, stop=15, step=1)\n",
    "df_Ripple.index = pd.RangeIndex(start=0, stop=15, step=1)\n",
    "\n",
    "ind_1=pd.RangeIndex(start=1, stop=16, step=1)\n",
    "days_1=pd.Series(ind_1)\n",
    "\n",
    "df=pd.concat({'Day': days_1,\n",
    "              'Bitcoin': df_Bitcoin,\n",
    "              'Ethereum': df_Ethereum,\n",
    "              'Ripple': df_Ripple,\n",
    "               },axis=1)\n",
    "\n",
    "df.plot(x='Day', \n",
    "        kind='bar', \n",
    "        stacked=False, \n",
    "        title='High Price') \n"
   ]
  },
  {
   "cell_type": "markdown",
   "id": "39025b3b",
   "metadata": {
    "slideshow": {
     "slide_type": "slide"
    }
   },
   "source": [
    "## Grouped Bar Plots: la scala logarirmica"
   ]
  },
  {
   "cell_type": "code",
   "execution_count": 28,
   "id": "42d3da84",
   "metadata": {},
   "outputs": [
    {
     "data": {
      "text/plain": [
       "<Axes: title={'center': 'High Price'}, xlabel='Day'>"
      ]
     },
     "execution_count": 28,
     "metadata": {},
     "output_type": "execute_result"
    },
    {
     "data": {
      "image/png": "[encoded data removed]",
      "text/plain": [
       "<Figure size 640x480 with 1 Axes>"
      ]
     },
     "metadata": {},
     "output_type": "display_data"
    }
   ],
   "source": [
    "df.plot(x='Day', \n",
    "        kind='bar', \n",
    "        stacked=False, \n",
    "        title='High Price',\n",
    "        logy=True)\n",
    "        "
   ]
  },
  {
   "cell_type": "markdown",
   "id": "6bd85d7c",
   "metadata": {
    "slideshow": {
     "slide_type": "slide"
    }
   },
   "source": [
    "## Grouped Bar Plot: il prezzo di Bitcoin"
   ]
  },
  {
   "cell_type": "markdown",
   "id": "1fcd5c83",
   "metadata": {
    "slideshow": {
     "slide_type": "-"
    }
   },
   "source": [
    "* prima variabile categoriale: la data\n",
    "* seconda variabile categoriale: valori di apertura e chiusura del prezzo del Bitcoin in quella data\n",
    "    "
   ]
  },
  {
   "cell_type": "code",
   "execution_count": 29,
   "id": "c27b66d7",
   "metadata": {
    "slideshow": {
     "slide_type": "-"
    }
   },
   "outputs": [],
   "source": [
    "reduced_crypto = df_crypto.loc[(df_crypto.name == 'Bitcoin') & \n",
    "                               (df_crypto.date.isin(pd.date_range(\"2018-01-01\", \"2018-01-15\")))]\n",
    "data_frame= reduced_crypto[['date','open','close','low','high']]\n",
    "data_frame['date'] = pd.to_datetime(data_frame['date']).dt.date\n",
    "data_frame\n",
    "new_data_frame=data_frame.reset_index(drop=True)\n"
   ]
  },
  {
   "cell_type": "markdown",
   "id": "d32d8cae",
   "metadata": {
    "slideshow": {
     "slide_type": "slide"
    }
   },
   "source": [
    "## Grouped Bar Plot: il prezzo di Bitcoin"
   ]
  },
  {
   "cell_type": "code",
   "execution_count": 30,
   "id": "6c94e9a2",
   "metadata": {
    "slideshow": {
     "slide_type": "-"
    }
   },
   "outputs": [
    {
     "data": {
      "image/png": "[encoded data removed]",
      "text/plain": [
       "<Figure size 640x480 with 1 Axes>"
      ]
     },
     "metadata": {},
     "output_type": "display_data"
    }
   ],
   "source": [
    "new_data_frame.plot(x='date', y=['open','close','low','high'], kind='bar', color=['red', 'black','blue', 'green'])\n",
    "plt.title(\"Prezzo Bitcoin\")\n",
    "plt.xlabel('Days')\n",
    "plt.ylabel('Prezzo')\n",
    "plt.show()\n"
   ]
  },
  {
   "cell_type": "markdown",
   "id": "56abc792",
   "metadata": {
    "slideshow": {
     "slide_type": "slide"
    }
   },
   "source": [
    "## Plotting histograms"
   ]
  },
  {
   "cell_type": "markdown",
   "id": "e0950d04",
   "metadata": {
    "slideshow": {
     "slide_type": "-"
    }
   },
   "source": [
    "* caratteristiche di un **istogramma**\n",
    "  * rappresentazione grafica della **distribuzione** dei dai\n",
    "  * stima della distribuzione di probabilità di una variabile continua o discreta\n",
    "* come costruire un istogramma\n",
    "    * primo passo: **binning** del data range\n",
    "       * dividere l'intervallo dei valori in sottointervalli e poi contare quanti valori cadono in quell'intervallo di valori\n",
    "       * bins sono **consecutivi** (nessun gap) e non **sovrapposti**\n",
    "* visualizzato come un insieme di **barre adiacenti**\n",
    "    l'altezza di ogni barra rappresenta il numero (o la percentuale) di valori in quell'intervallo\n",
    "  "
   ]
  },
  {
   "cell_type": "markdown",
   "id": "bbdacff1",
   "metadata": {
    "slideshow": {
     "slide_type": "slide"
    }
   },
   "source": [
    "## Bar Plot e Istogrammi sono la stessa cosa? la risposta è negativa!"
   ]
  },
  {
   "cell_type": "markdown",
   "id": "dc16be75",
   "metadata": {
    "slideshow": {
     "slide_type": "-"
    }
   },
   "source": [
    "* Scopo\n",
    "    * gli istogrammi \n",
    "        * utilizzati per analizzare la distribuzione, l'asimmetria (skewness), di un DataSet\n",
    "    e scoprire pattern, trends, outliers\n",
    "    * barplot\n",
    "        * utilizzati per confrontare diverse categorie di dati o gruppi di dati, \n",
    "          evidenziandoi la differenza tra le diverse categorie\n",
    "* Tipo di dati\n",
    "    * istogrammi\n",
    "        * dati considerati come una sequenza **continua**\n",
    "        * i dati sono divisi in intervalli (bins), l'altezza di ogni bar rappresenta la frequenza dei dati in quell'intervallo\n",
    "    * bar plot\n",
    "        * ogni barra rappresenta una certa categoria la cui altezza indica il valore associato a quella categoria\n",
    "* Spazio tra le barre\n",
    "    * istogrammi\n",
    "        * barre **adiacenti**, perchè i dati sono continui oppure discreti, ma ordinati in una sequenza\n",
    "    * bar plot\n",
    "        * lo spazio tra le barre enfatizza che ogni barra rappresenta una categoria diversa\n",
    "        \n",
    "* Assi\n",
    "    * istogrammi\n",
    "        * sia la x che la y rappresentano valori numerici\n",
    "        * asse x diviso in intervalli (bins)\n",
    "        * asse y frequenza dei dati in quel bin\n",
    "    * bar chart \n",
    "        * asse x rappresenta categorie diverse\n",
    "        * asse y valore associato a ogni categoria\n"
   ]
  },
  {
   "cell_type": "markdown",
   "id": "7c9a7b09",
   "metadata": {
    "slideshow": {
     "slide_type": "slide"
    }
   },
   "source": [
    "## Bar Plot e Istogrammi sono la stessa cosa?"
   ]
  },
  {
   "cell_type": "markdown",
   "id": "b1f0fcf4",
   "metadata": {
    "slideshow": {
     "slide_type": "-"
    }
   },
   "source": [
    "<center>\n",
    "<img src=\"Figures/HistogramBarPlot.jpg\" style=\"width:1200px;height:450px;\"/>"
   ]
  },
  {
   "cell_type": "markdown",
   "id": "841b89a9",
   "metadata": {
    "slideshow": {
     "slide_type": "-"
    }
   },
   "source": [
    "* la risposta è no, e le differenze sono evidenziate in figura"
   ]
  },
  {
   "cell_type": "markdown",
   "id": "b468a0e4",
   "metadata": {
    "slideshow": {
     "slide_type": "slide"
    }
   },
   "source": [
    "## Plotting with PANDAS: histogram"
   ]
  },
  {
   "cell_type": "markdown",
   "id": "560f9b2d",
   "metadata": {},
   "source": [
    "* analisi di un **DataSet**, che riporta dati per ogni paese e per una sequenza di anni, dati sulla popolazione"
   ]
  },
  {
   "cell_type": "code",
   "execution_count": 31,
   "id": "014df4bb",
   "metadata": {
    "slideshow": {
     "slide_type": "-"
    }
   },
   "outputs": [
    {
     "data": {
      "text/html": [
       "<div>\n",
       "<style scoped>\n",
       "    .dataframe tbody tr th:only-of-type {\n",
       "        vertical-align: middle;\n",
       "    }\n",
       "\n",
       "    .dataframe tbody tr th {\n",
       "        vertical-align: top;\n",
       "    }\n",
       "\n",
       "    .dataframe thead th {\n",
       "        text-align: right;\n",
       "    }\n",
       "</style>\n",
       "<table border=\"1\" class=\"dataframe\">\n",
       "  <thead>\n",
       "    <tr style=\"text-align: right;\">\n",
       "      <th></th>\n",
       "      <th>country</th>\n",
       "      <th>year</th>\n",
       "      <th>pop</th>\n",
       "      <th>continent</th>\n",
       "      <th>lifeExp</th>\n",
       "      <th>gdpPercap</th>\n",
       "    </tr>\n",
       "  </thead>\n",
       "  <tbody>\n",
       "    <tr>\n",
       "      <th>0</th>\n",
       "      <td>Afghanistan</td>\n",
       "      <td>1952</td>\n",
       "      <td>8425333.0</td>\n",
       "      <td>Asia</td>\n",
       "      <td>28.801</td>\n",
       "      <td>779.445314</td>\n",
       "    </tr>\n",
       "    <tr>\n",
       "      <th>1</th>\n",
       "      <td>Afghanistan</td>\n",
       "      <td>1957</td>\n",
       "      <td>9240934.0</td>\n",
       "      <td>Asia</td>\n",
       "      <td>30.332</td>\n",
       "      <td>820.853030</td>\n",
       "    </tr>\n",
       "    <tr>\n",
       "      <th>2</th>\n",
       "      <td>Afghanistan</td>\n",
       "      <td>1962</td>\n",
       "      <td>10267083.0</td>\n",
       "      <td>Asia</td>\n",
       "      <td>31.997</td>\n",
       "      <td>853.100710</td>\n",
       "    </tr>\n",
       "    <tr>\n",
       "      <th>3</th>\n",
       "      <td>Afghanistan</td>\n",
       "      <td>1967</td>\n",
       "      <td>11537966.0</td>\n",
       "      <td>Asia</td>\n",
       "      <td>34.020</td>\n",
       "      <td>836.197138</td>\n",
       "    </tr>\n",
       "    <tr>\n",
       "      <th>4</th>\n",
       "      <td>Afghanistan</td>\n",
       "      <td>1972</td>\n",
       "      <td>13079460.0</td>\n",
       "      <td>Asia</td>\n",
       "      <td>36.088</td>\n",
       "      <td>739.981106</td>\n",
       "    </tr>\n",
       "  </tbody>\n",
       "</table>\n",
       "</div>"
      ],
      "text/plain": [
       "       country  year         pop continent  lifeExp   gdpPercap\n",
       "0  Afghanistan  1952   8425333.0      Asia   28.801  779.445314\n",
       "1  Afghanistan  1957   9240934.0      Asia   30.332  820.853030\n",
       "2  Afghanistan  1962  10267083.0      Asia   31.997  853.100710\n",
       "3  Afghanistan  1967  11537966.0      Asia   34.020  836.197138\n",
       "4  Afghanistan  1972  13079460.0      Asia   36.088  739.981106"
      ]
     },
     "execution_count": 31,
     "metadata": {},
     "output_type": "execute_result"
    }
   ],
   "source": [
    "import pandas as pd\n",
    "import numpy as np\n",
    "import matplotlib.pyplot as plt\n",
    "data_url = 'http://bit.ly/2cLzoxH'\n",
    "gapminder = pd.read_csv(data_url)\n",
    "gapminder.head()\n"
   ]
  },
  {
   "cell_type": "markdown",
   "id": "3f5ac300",
   "metadata": {
    "slideshow": {
     "slide_type": "slide"
    }
   },
   "source": [
    "## Plotting with PANDAS: histogram"
   ]
  },
  {
   "cell_type": "code",
   "execution_count": 32,
   "id": "070f73ad",
   "metadata": {
    "slideshow": {
     "slide_type": "-"
    }
   },
   "outputs": [
    {
     "data": {
      "text/plain": [
       "<Axes: title={'center': 'LifeExpectancy'}, ylabel='Frequency'>"
      ]
     },
     "execution_count": 32,
     "metadata": {},
     "output_type": "execute_result"
    },
    {
     "data": {
      "image/png": "[encoded data removed]",
      "text/plain": [
       "<Figure size 640x480 with 1 Axes>"
      ]
     },
     "metadata": {},
     "output_type": "display_data"
    }
   ],
   "source": [
    "gapminder['lifeExp'].plot(kind='hist',bins=10, title = 'LifeExpectancy')\n"
   ]
  },
  {
   "cell_type": "markdown",
   "id": "58d81a60",
   "metadata": {
    "slideshow": {
     "slide_type": "slide"
    }
   },
   "source": [
    "## Plotting with PANDAS: histogram"
   ]
  },
  {
   "cell_type": "code",
   "execution_count": 33,
   "id": "ff9b9f36",
   "metadata": {
    "slideshow": {
     "slide_type": "-"
    }
   },
   "outputs": [
    {
     "data": {
      "text/plain": [
       "Text(0, 0.5, 'Frequency')"
      ]
     },
     "execution_count": 33,
     "metadata": {},
     "output_type": "execute_result"
    },
    {
     "data": {
      "image/png": "[encoded data removed]",
      "text/plain": [
       "<Figure size 640x480 with 1 Axes>"
      ]
     },
     "metadata": {},
     "output_type": "display_data"
    }
   ],
   "source": [
    "gapminder['lifeExp'].plot(kind='hist',bins=100, title = 'LifeExpectancy')\n",
    "plt.xlabel(\"Life Expectancy\", fontsize=15)\n",
    "plt.ylabel(\"Frequency\",fontsize=15)\n"
   ]
  },
  {
   "cell_type": "markdown",
   "id": "41e65a86",
   "metadata": {
    "slideshow": {
     "slide_type": "-"
    }
   },
   "source": [
    "* la scelta della dimensione dei **bin** è fondamentale\n",
    "* troppo pochi **bin**, come nella figura precedente, possono semplificare troppo la struttura della distribuzione\n",
    "* ditribuzione più granulare permette di visualizzare\n",
    "    * l'**outlier** alla sinistra\n",
    "    * il picco corrispondente ai **72 anni**\n"
   ]
  },
  {
   "cell_type": "markdown",
   "id": "4b5fd388",
   "metadata": {
    "slideshow": {
     "slide_type": "slide"
    }
   },
   "source": [
    "## Plotting with PANDAS: histogram"
   ]
  },
  {
   "cell_type": "code",
   "execution_count": 34,
   "id": "0b983991",
   "metadata": {},
   "outputs": [
    {
     "data": {
      "text/plain": [
       "Text(0, 0.5, 'Frequency')"
      ]
     },
     "execution_count": 34,
     "metadata": {},
     "output_type": "execute_result"
    },
    {
     "data": {
      "image/png": "[encoded data removed]",
      "text/plain": [
       "<Figure size 640x480 with 1 Axes>"
      ]
     },
     "metadata": {},
     "output_type": "display_data"
    }
   ],
   "source": [
    "gapminder['gdpPercap'].plot(kind='hist',bins=1000)\n",
    "plt.xlabel(\"gdpPercap\", fontsize=15)\n",
    "plt.ylabel(\"Frequency\",fontsize=15)\n",
    "#plt.xscale('log')\n"
   ]
  },
  {
   "cell_type": "markdown",
   "id": "b9059699",
   "metadata": {
    "slideshow": {
     "slide_type": "-"
    }
   },
   "source": [
    "*  presenza di valori estremi, nella **coda** della distribuzione\n",
    "* \"schiaccia\"la parte più interessante della distribuzine a sinistra"
   ]
  },
  {
   "cell_type": "markdown",
   "id": "db23e7c6",
   "metadata": {
    "slideshow": {
     "slide_type": "slide"
    }
   },
   "source": [
    "## Plotting with PANDAS: histogram"
   ]
  },
  {
   "cell_type": "code",
   "execution_count": 35,
   "id": "a24840f7",
   "metadata": {},
   "outputs": [
    {
     "data": {
      "image/png": "[encoded data removed]",
      "text/plain": [
       "<Figure size 640x480 with 1 Axes>"
      ]
     },
     "metadata": {},
     "output_type": "display_data"
    }
   ],
   "source": [
    "gapminder['gdpPercap'].plot(kind='hist',bins=1000)\n",
    "plt.xlabel(\"gdpPercap\", fontsize=15)\n",
    "plt.ylabel(\"Frequency\",fontsize=15)\n",
    "plt.xscale('log')\n"
   ]
  },
  {
   "cell_type": "markdown",
   "id": "f8491968",
   "metadata": {
    "slideshow": {
     "slide_type": "slide"
    }
   },
   "source": [
    "## Matplotlib: interfaccia \"a oggetti\"\n"
   ]
  },
  {
   "cell_type": "markdown",
   "id": "fdb9d60b",
   "metadata": {
    "slideshow": {
     "slide_type": "-"
    }
   },
   "source": [
    "* Idea di base\n",
    "    * nessuno stato globale come **pyplot** (MatLab-like)\n",
    "    * tutto quello che può essere rappresentato è un oggetto, secondo la filosofia a oggetti\n",
    "    * vantaggio evidente quando si creano più figure o quando una figura contiene più di un subplot\n",
    "\n",
    "* ogni oggetto **Matplotlib** è organizzato gerarchicamente, secondo una struttura \"tree-like\"\n",
    "\n",
    "* due oggetti: **figure** e **axes**\n",
    "    * **figura**: container che contiene uno o più plot\n",
    "    * **axes**: sinomimo di plot, plot area\n",
    "        * attenzione: il termine può creare un pò di confusione, perchè indica non solo gli assi della zona di plot, ma tutta la zona\n",
    "        \n",
    "* la gerarchia non finisce con la plot area\n",
    "    * all'interno gli assi\n",
    "    * all'interno degli assi i **tick**\n",
    "    *....\n",
    "        "
   ]
  },
  {
   "cell_type": "markdown",
   "id": "fcc8cecc",
   "metadata": {
    "slideshow": {
     "slide_type": "slide"
    }
   },
   "source": [
    "## Matplotlib: struttura gerarchica"
   ]
  },
  {
   "cell_type": "markdown",
   "id": "320044cf",
   "metadata": {
    "slideshow": {
     "slide_type": "-"
    }
   },
   "source": [
    "<center>\n",
    "<img src=\"Figures/MatPlotLibHierarchy.jpg\" style=\"width:1100px;height:800px;\"/>"
   ]
  },
  {
   "cell_type": "markdown",
   "id": "2ceff84c",
   "metadata": {
    "slideshow": {
     "slide_type": "slide"
    }
   },
   "source": [
    "## Matplotlib: struttura gerarchica"
   ]
  },
  {
   "cell_type": "markdown",
   "id": "98bf04f0",
   "metadata": {
    "slideshow": {
     "slide_type": "-"
    }
   },
   "source": [
    "<center>\n",
    "<img src=\"Figures/MatPlotLibHierarchy1.jpg\" style=\"width:1000px;height:600px;\"/>"
   ]
  },
  {
   "cell_type": "markdown",
   "id": "566141e8",
   "metadata": {
    "slideshow": {
     "slide_type": "slide"
    }
   },
   "source": [
    "## Matplotlib: gli oggetti"
   ]
  },
  {
   "cell_type": "markdown",
   "id": "bb948fe8",
   "metadata": {},
   "source": [
    "<center>\n",
    "<img src=\"Figures/Anatomy.jpg\" style=\"width:1000px;height:1000px;\"/>"
   ]
  },
  {
   "cell_type": "markdown",
   "id": "36246d30",
   "metadata": {
    "slideshow": {
     "slide_type": "-"
    }
   },
   "source": [
    "* l'invocazione del metodo *subplots* crea una figura, al livello top, e uno o più di un plot"
   ]
  },
  {
   "cell_type": "markdown",
   "id": "3b9a2920",
   "metadata": {
    "slideshow": {
     "slide_type": "slide"
    }
   },
   "source": [
    "## Matplotlib: interfaccia a oggetti"
   ]
  },
  {
   "cell_type": "code",
   "execution_count": 36,
   "id": "9f775d6a",
   "metadata": {
    "slideshow": {
     "slide_type": "-"
    }
   },
   "outputs": [
    {
     "data": {
      "image/png": "[encoded data removed]",
      "text/plain": [
       "<Figure size 640x480 with 1 Axes>"
      ]
     },
     "metadata": {},
     "output_type": "display_data"
    }
   ],
   "source": [
    "import matplotlib.pyplot as plt\n",
    "fig, ax = plt.subplots(1,1)\n"
   ]
  },
  {
   "cell_type": "markdown",
   "id": "cf43c918",
   "metadata": {
    "slideshow": {
     "slide_type": "-"
    }
   },
   "source": [
    "* in questo caso, invocando *subplots* senza parametri, viene creata una figura con un solo \"plot*, indicato come **ax**"
   ]
  },
  {
   "cell_type": "markdown",
   "id": "00fff011",
   "metadata": {
    "slideshow": {
     "slide_type": "slide"
    }
   },
   "source": [
    "## Matplotlib: stabilire la plotting area"
   ]
  },
  {
   "cell_type": "markdown",
   "id": "6ab21c62",
   "metadata": {
    "slideshow": {
     "slide_type": "-"
    }
   },
   "source": [
    "* ma quali sono i vantaggi?\n",
    "* stabilire la dimensione della plotting area\n",
    "* utile negli esempi precedenti in cui le barre risultavano troppo vicine\n"
   ]
  },
  {
   "cell_type": "code",
   "execution_count": 37,
   "id": "bee393a2",
   "metadata": {
    "slideshow": {
     "slide_type": "-"
    }
   },
   "outputs": [
    {
     "data": {
      "image/png": "[encoded data removed]",
      "text/plain": [
       "<Figure size 640x480 with 1 Axes>"
      ]
     },
     "metadata": {},
     "output_type": "display_data"
    }
   ],
   "source": [
    "import numpy as np\n",
    "x = np.arange(10)\n",
    "y = x**2\n",
    "\n",
    "fig = plt.figure()\n",
    "axes = fig.add_axes([0.1, 0.1, 1.0, 0.8]) # left, bottom, width, height (range 0 to 1)\n",
    "axes.plot(x, y, 'r')\n",
    "axes.set_xlabel('x')\n",
    "axes.set_ylabel('y')\n",
    "axes.set_title('title');\n"
   ]
  },
  {
   "cell_type": "markdown",
   "id": "c254303a",
   "metadata": {
    "slideshow": {
     "slide_type": "slide"
    }
   },
   "source": [
    "## Matplotlib: inserire plots in altri plots\n"
   ]
  },
  {
   "cell_type": "code",
   "execution_count": 38,
   "id": "7417b408",
   "metadata": {
    "slideshow": {
     "slide_type": "-"
    }
   },
   "outputs": [
    {
     "data": {
      "image/png": "[encoded data removed]",
      "text/plain": [
       "<Figure size 640x480 with 2 Axes>"
      ]
     },
     "metadata": {},
     "output_type": "display_data"
    }
   ],
   "source": [
    "fig = plt.figure()\n",
    "axes1 = fig.add_axes([0.1, 0.1, 0.8, 0.8]) # main axes\n",
    "axes2 = fig.add_axes([0.2, 0.5, 0.4, 0.3]) # inset axes\n",
    "\n",
    "# main figure\n",
    "axes1.plot(x, y, 'r')\n",
    "axes1.set_xlabel('x')\n",
    "axes1.set_ylabel('y')\n",
    "axes1.set_title('title')\n",
    "\n",
    "# insert\n",
    "axes2.plot(y, x, 'g')\n",
    "axes2.set_xlabel('y')\n",
    "axes2.set_ylabel('x')\n",
    "axes2.set_title('insert title');\n"
   ]
  },
  {
   "cell_type": "markdown",
   "id": "21cc67cd",
   "metadata": {
    "slideshow": {
     "slide_type": "slide"
    }
   },
   "source": [
    "## Matplotlib: affiancare plots\n"
   ]
  },
  {
   "cell_type": "code",
   "execution_count": 39,
   "id": "6c3d087c",
   "metadata": {},
   "outputs": [
    {
     "data": {
      "image/png": "[encoded data removed]",
      "text/plain": [
       "<Figure size 640x480 with 2 Axes>"
      ]
     },
     "metadata": {},
     "output_type": "display_data"
    }
   ],
   "source": [
    "fig, axes = plt.subplots(nrows=1, ncols=2)\n",
    "for ax in axes:\n",
    "    ax.plot(x, y, 'r')\n",
    "    ax.set_xlabel('x')\n",
    "    ax.set_ylabel('y')\n",
    "    ax.set_title('title')\n"
   ]
  },
  {
   "cell_type": "markdown",
   "id": "0feb8bbc",
   "metadata": {
    "slideshow": {
     "slide_type": "slide"
    }
   },
   "source": [
    "##  Matplotlib: pie chart affiancati"
   ]
  },
  {
   "cell_type": "code",
   "execution_count": 40,
   "id": "366a6c62",
   "metadata": {
    "slideshow": {
     "slide_type": "-"
    }
   },
   "outputs": [
    {
     "data": {
      "image/png": "[encoded data removed]",
      "text/plain": [
       "<Figure size 640x480 with 2 Axes>"
      ]
     },
     "metadata": {},
     "output_type": "display_data"
    }
   ],
   "source": [
    "fig, (ax1,ax2) = plt.subplots(1,2, sharey= 'row')\n",
    "\n",
    "plt.subplots_adjust(wspace=10)\n",
    "\n",
    "explode = (0.1, 0, 0, 0, 0) \n",
    "ax1.pie(top_5_currency_volumes_series, explode=my_explode, labels=top_5_currency_names_volumes, shadow=True, startangle=0)\n",
    "ax1.axis('equal') # Equal aspect ratio ensures that pie is drawn as a circle.\n",
    "ax1.set_title(\"Volume Transazioni\")\n",
    "\n",
    "explode = (0.1, 0, 0, 0, 0) \n",
    "ax2.pie(top_5_currency_markets_series, explode=my_explode, labels=top_5_currency_names_markets, shadow=True, startangle=0)\n",
    "ax2.axis('equal') # Equal aspect ratio ensures that pie is drawn as a circle.\n",
    "ax2.set_title(\"Volume Mercato\")\n",
    "\n",
    "plt.show()\n"
   ]
  },
  {
   "cell_type": "markdown",
   "id": "2d40249f",
   "metadata": {
    "slideshow": {
     "slide_type": "slide"
    }
   },
   "source": [
    "## Plotting con Matplotlib: personalizzare i ticks"
   ]
  },
  {
   "cell_type": "code",
   "execution_count": 41,
   "id": "e77b4f56",
   "metadata": {
    "slideshow": {
     "slide_type": "-"
    }
   },
   "outputs": [
    {
     "data": {
      "image/png": "[encoded data removed]",
      "text/plain": [
       "<Figure size 640x480 with 1 Axes>"
      ]
     },
     "metadata": {},
     "output_type": "display_data"
    }
   ],
   "source": [
    "X= reduced_crypto[\"date\"]\n",
    "Y= reduced_crypto[\"market\"]\n",
    "Z= reduced_crypto[\"volume\"]\n",
    "fig,ax = plt.subplots()\n",
    "\n",
    "ax.set(xlabel='Date', ylabel='Value', title='Bitcoin statistics')\n",
    "\n",
    "ax.plot(X,Y,\n",
    "        X,Y,\"-.y\",\n",
    "        X,Z,\n",
    "        X,Z,\"--r\")\n",
    "\n",
    "for xtick in ax.get_xticklabels():\n",
    "    xtick.set_fontsize(5)\n",
    "    \n",
    "ax.tick_params(axis='x', colors='red')\n",
    "ax.tick_params(axis='y', colors='blue')\n",
    "plt.show()\n"
   ]
  },
  {
   "cell_type": "markdown",
   "id": "47c76fda",
   "metadata": {
    "slideshow": {
     "slide_type": "slide"
    }
   },
   "source": [
    "## Plotting con Matplotlib: personalizzare i bar plot "
   ]
  },
  {
   "cell_type": "code",
   "execution_count": 42,
   "id": "198a379e",
   "metadata": {
    "slideshow": {
     "slide_type": "-"
    }
   },
   "outputs": [
    {
     "data": {
      "image/png": "[encoded data removed]",
      "text/plain": [
       "<Figure size 1000x600 with 1 Axes>"
      ]
     },
     "metadata": {},
     "output_type": "display_data"
    }
   ],
   "source": [
    "top_5_currency_names = df_crypto.groupby('name')['market'].last().sort_values(ascending=False).head(5).index\n",
    "top_5_currency_markets = df_crypto.groupby('name')['market'].last().sort_values(ascending=False).head(5).values\n",
    "\n",
    "fig, ax = plt.subplots(1,1,figsize = (10,6))\n",
    "\n",
    "bars=ax.bar(top_5_currency_names , top_5_currency_markets,  color= \"blue\")\n",
    "\n",
    "bars[0].set_color('red')\n"
   ]
  },
  {
   "cell_type": "markdown",
   "id": "7e1dadf3",
   "metadata": {
    "slideshow": {
     "slide_type": "slide"
    }
   },
   "source": [
    "## Plotting con Matplotlib: personalizzare i bar plot "
   ]
  },
  {
   "cell_type": "code",
   "execution_count": 43,
   "id": "07e27616",
   "metadata": {
    "slideshow": {
     "slide_type": "-"
    }
   },
   "outputs": [
    {
     "data": {
      "text/plain": [
       "Text(0, 0.5, 'Scores')"
      ]
     },
     "execution_count": 43,
     "metadata": {},
     "output_type": "execute_result"
    },
    {
     "data": {
      "image/png": "[encoded data removed]",
      "text/plain": [
       "<Figure size 1000x600 with 1 Axes>"
      ]
     },
     "metadata": {},
     "output_type": "display_data"
    }
   ],
   "source": [
    "import matplotlib.pyplot as plt\n",
    "import numpy as np\n",
    "\n",
    "x=np.array([1, 2, 3, 4, 5])\n",
    "y1 = [34, 56, 12, 89, 67]\n",
    "y2 = [12, 56, 78, 45, 90]\n",
    "y3 = [14, 23, 45, 25, 89]\n",
    "width = 0.2\n",
    "fig, ax = plt.subplots(1,1,figsize = (10,6))\n",
    "\n",
    "ax.bar(x-0.2, y1, width, color='cyan')\n",
    "ax.bar(x, y2, width, color='orange')\n",
    "ax.bar(x+0.2, y3, width, color='green')\n",
    "ax.set_xticks(x, ['Team A', 'Team B', 'Team C', 'Team D', 'Team E'])\n",
    "ax.set_xlabel(\"Teams\")\n",
    "ax.set_ylabel(\"Scores\")\n",
    "#ax.set_legend([\"Round 1\", \"Round 2\", \"Round 3\"]\n"
   ]
  },
  {
   "cell_type": "markdown",
   "id": "da7705f9",
   "metadata": {
    "slideshow": {
     "slide_type": "slide"
    }
   },
   "source": [
    "## SQL Joins in Python Pandas: Merge"
   ]
  },
  {
   "cell_type": "markdown",
   "id": "28bfa90b",
   "metadata": {
    "slideshow": {
     "slide_type": "-"
    }
   },
   "source": [
    "<center>\n",
    "<img src=\"Figures/SyntheticMerge.jpg\" style=\"width:1000px;height:400px;\"/>"
   ]
  },
  {
   "cell_type": "markdown",
   "id": "89cd565a",
   "metadata": {
    "slideshow": {
     "slide_type": "-"
    }
   },
   "source": [
    "* combina due **Dataframe**\n",
    "* si basa sulle colonne indicate come **on**\n",
    "* piò eseguire diversi tipi di **Merge**\n",
    "    * **inner**\n",
    "    * **left**\n",
    "    * **right**\n",
    "    * **outer**\n"
   ]
  },
  {
   "cell_type": "markdown",
   "id": "217c98c9",
   "metadata": {
    "slideshow": {
     "slide_type": "slide"
    }
   },
   "source": [
    "## SQL Joins in Python Pandas: Merge"
   ]
  },
  {
   "cell_type": "code",
   "execution_count": 44,
   "id": "c3c2afd4",
   "metadata": {},
   "outputs": [
    {
     "data": {
      "text/html": [
       "<div>\n",
       "<style scoped>\n",
       "    .dataframe tbody tr th:only-of-type {\n",
       "        vertical-align: middle;\n",
       "    }\n",
       "\n",
       "    .dataframe tbody tr th {\n",
       "        vertical-align: top;\n",
       "    }\n",
       "\n",
       "    .dataframe thead th {\n",
       "        text-align: right;\n",
       "    }\n",
       "</style>\n",
       "<table border=\"1\" class=\"dataframe\">\n",
       "  <thead>\n",
       "    <tr style=\"text-align: right;\">\n",
       "      <th></th>\n",
       "      <th>outgoing_mins_per_month</th>\n",
       "      <th>outgoing_sms_per_month</th>\n",
       "      <th>monthly_mb</th>\n",
       "      <th>use_id</th>\n",
       "    </tr>\n",
       "  </thead>\n",
       "  <tbody>\n",
       "    <tr>\n",
       "      <th>0</th>\n",
       "      <td>21.97</td>\n",
       "      <td>4.82</td>\n",
       "      <td>1557.33</td>\n",
       "      <td>22787</td>\n",
       "    </tr>\n",
       "    <tr>\n",
       "      <th>1</th>\n",
       "      <td>1710.08</td>\n",
       "      <td>136.88</td>\n",
       "      <td>7267.55</td>\n",
       "      <td>22788</td>\n",
       "    </tr>\n",
       "    <tr>\n",
       "      <th>2</th>\n",
       "      <td>1710.08</td>\n",
       "      <td>136.88</td>\n",
       "      <td>7267.55</td>\n",
       "      <td>22789</td>\n",
       "    </tr>\n",
       "    <tr>\n",
       "      <th>3</th>\n",
       "      <td>94.46</td>\n",
       "      <td>35.17</td>\n",
       "      <td>519.12</td>\n",
       "      <td>22790</td>\n",
       "    </tr>\n",
       "    <tr>\n",
       "      <th>4</th>\n",
       "      <td>71.59</td>\n",
       "      <td>79.26</td>\n",
       "      <td>1557.33</td>\n",
       "      <td>22792</td>\n",
       "    </tr>\n",
       "    <tr>\n",
       "      <th>...</th>\n",
       "      <td>...</td>\n",
       "      <td>...</td>\n",
       "      <td>...</td>\n",
       "      <td>...</td>\n",
       "    </tr>\n",
       "    <tr>\n",
       "      <th>235</th>\n",
       "      <td>260.66</td>\n",
       "      <td>68.44</td>\n",
       "      <td>896.96</td>\n",
       "      <td>25008</td>\n",
       "    </tr>\n",
       "    <tr>\n",
       "      <th>236</th>\n",
       "      <td>97.12</td>\n",
       "      <td>36.50</td>\n",
       "      <td>2815.00</td>\n",
       "      <td>25040</td>\n",
       "    </tr>\n",
       "    <tr>\n",
       "      <th>237</th>\n",
       "      <td>355.93</td>\n",
       "      <td>12.37</td>\n",
       "      <td>6828.09</td>\n",
       "      <td>25046</td>\n",
       "    </tr>\n",
       "    <tr>\n",
       "      <th>238</th>\n",
       "      <td>632.06</td>\n",
       "      <td>120.46</td>\n",
       "      <td>1453.16</td>\n",
       "      <td>25058</td>\n",
       "    </tr>\n",
       "    <tr>\n",
       "      <th>239</th>\n",
       "      <td>488.70</td>\n",
       "      <td>906.92</td>\n",
       "      <td>3089.85</td>\n",
       "      <td>25220</td>\n",
       "    </tr>\n",
       "  </tbody>\n",
       "</table>\n",
       "<p>240 rows × 4 columns</p>\n",
       "</div>"
      ],
      "text/plain": [
       "     outgoing_mins_per_month  outgoing_sms_per_month  monthly_mb  use_id\n",
       "0                      21.97                    4.82     1557.33   22787\n",
       "1                    1710.08                  136.88     7267.55   22788\n",
       "2                    1710.08                  136.88     7267.55   22789\n",
       "3                      94.46                   35.17      519.12   22790\n",
       "4                      71.59                   79.26     1557.33   22792\n",
       "..                       ...                     ...         ...     ...\n",
       "235                   260.66                   68.44      896.96   25008\n",
       "236                    97.12                   36.50     2815.00   25040\n",
       "237                   355.93                   12.37     6828.09   25046\n",
       "238                   632.06                  120.46     1453.16   25058\n",
       "239                   488.70                  906.92     3089.85   25220\n",
       "\n",
       "[240 rows x 4 columns]"
      ]
     },
     "execution_count": 44,
     "metadata": {},
     "output_type": "execute_result"
    }
   ],
   "source": [
    "user_usage = pd.read_csv(\"DataSets/user_usage.csv\")\n",
    "user_usage\n"
   ]
  },
  {
   "cell_type": "markdown",
   "id": "8ab91d97",
   "metadata": {
    "slideshow": {
     "slide_type": "slide"
    }
   },
   "source": [
    "## SQL Joins in Python Pandas: Merge"
   ]
  },
  {
   "cell_type": "code",
   "execution_count": 45,
   "id": "b3b53969",
   "metadata": {
    "slideshow": {
     "slide_type": "-"
    }
   },
   "outputs": [
    {
     "data": {
      "text/html": [
       "<div>\n",
       "<style scoped>\n",
       "    .dataframe tbody tr th:only-of-type {\n",
       "        vertical-align: middle;\n",
       "    }\n",
       "\n",
       "    .dataframe tbody tr th {\n",
       "        vertical-align: top;\n",
       "    }\n",
       "\n",
       "    .dataframe thead th {\n",
       "        text-align: right;\n",
       "    }\n",
       "</style>\n",
       "<table border=\"1\" class=\"dataframe\">\n",
       "  <thead>\n",
       "    <tr style=\"text-align: right;\">\n",
       "      <th></th>\n",
       "      <th>use_id</th>\n",
       "      <th>user_id</th>\n",
       "      <th>platform</th>\n",
       "      <th>platform_version</th>\n",
       "      <th>device</th>\n",
       "      <th>use_type_id</th>\n",
       "    </tr>\n",
       "  </thead>\n",
       "  <tbody>\n",
       "    <tr>\n",
       "      <th>0</th>\n",
       "      <td>22782</td>\n",
       "      <td>26980</td>\n",
       "      <td>ios</td>\n",
       "      <td>10.2</td>\n",
       "      <td>iPhone7,2</td>\n",
       "      <td>2</td>\n",
       "    </tr>\n",
       "    <tr>\n",
       "      <th>1</th>\n",
       "      <td>22783</td>\n",
       "      <td>29628</td>\n",
       "      <td>android</td>\n",
       "      <td>6.0</td>\n",
       "      <td>Nexus 5</td>\n",
       "      <td>3</td>\n",
       "    </tr>\n",
       "    <tr>\n",
       "      <th>2</th>\n",
       "      <td>22784</td>\n",
       "      <td>28473</td>\n",
       "      <td>android</td>\n",
       "      <td>5.1</td>\n",
       "      <td>SM-G903F</td>\n",
       "      <td>1</td>\n",
       "    </tr>\n",
       "    <tr>\n",
       "      <th>3</th>\n",
       "      <td>22785</td>\n",
       "      <td>15200</td>\n",
       "      <td>ios</td>\n",
       "      <td>10.2</td>\n",
       "      <td>iPhone7,2</td>\n",
       "      <td>3</td>\n",
       "    </tr>\n",
       "    <tr>\n",
       "      <th>4</th>\n",
       "      <td>22786</td>\n",
       "      <td>28239</td>\n",
       "      <td>android</td>\n",
       "      <td>6.0</td>\n",
       "      <td>ONE E1003</td>\n",
       "      <td>1</td>\n",
       "    </tr>\n",
       "    <tr>\n",
       "      <th>...</th>\n",
       "      <td>...</td>\n",
       "      <td>...</td>\n",
       "      <td>...</td>\n",
       "      <td>...</td>\n",
       "      <td>...</td>\n",
       "      <td>...</td>\n",
       "    </tr>\n",
       "    <tr>\n",
       "      <th>267</th>\n",
       "      <td>23049</td>\n",
       "      <td>29725</td>\n",
       "      <td>android</td>\n",
       "      <td>6.0</td>\n",
       "      <td>SM-G900F</td>\n",
       "      <td>1</td>\n",
       "    </tr>\n",
       "    <tr>\n",
       "      <th>268</th>\n",
       "      <td>23050</td>\n",
       "      <td>29726</td>\n",
       "      <td>ios</td>\n",
       "      <td>10.2</td>\n",
       "      <td>iPhone7,2</td>\n",
       "      <td>3</td>\n",
       "    </tr>\n",
       "    <tr>\n",
       "      <th>269</th>\n",
       "      <td>23051</td>\n",
       "      <td>29726</td>\n",
       "      <td>ios</td>\n",
       "      <td>10.2</td>\n",
       "      <td>iPhone7,2</td>\n",
       "      <td>3</td>\n",
       "    </tr>\n",
       "    <tr>\n",
       "      <th>270</th>\n",
       "      <td>23052</td>\n",
       "      <td>29727</td>\n",
       "      <td>ios</td>\n",
       "      <td>10.1</td>\n",
       "      <td>iPhone8,4</td>\n",
       "      <td>3</td>\n",
       "    </tr>\n",
       "    <tr>\n",
       "      <th>271</th>\n",
       "      <td>23053</td>\n",
       "      <td>20257</td>\n",
       "      <td>android</td>\n",
       "      <td>5.1</td>\n",
       "      <td>Vodafone Smart ultra 6</td>\n",
       "      <td>1</td>\n",
       "    </tr>\n",
       "  </tbody>\n",
       "</table>\n",
       "<p>272 rows × 6 columns</p>\n",
       "</div>"
      ],
      "text/plain": [
       "     use_id  user_id platform  platform_version                  device  \\\n",
       "0     22782    26980      ios              10.2               iPhone7,2   \n",
       "1     22783    29628  android               6.0                 Nexus 5   \n",
       "2     22784    28473  android               5.1                SM-G903F   \n",
       "3     22785    15200      ios              10.2               iPhone7,2   \n",
       "4     22786    28239  android               6.0               ONE E1003   \n",
       "..      ...      ...      ...               ...                     ...   \n",
       "267   23049    29725  android               6.0                SM-G900F   \n",
       "268   23050    29726      ios              10.2               iPhone7,2   \n",
       "269   23051    29726      ios              10.2               iPhone7,2   \n",
       "270   23052    29727      ios              10.1               iPhone8,4   \n",
       "271   23053    20257  android               5.1  Vodafone Smart ultra 6   \n",
       "\n",
       "     use_type_id  \n",
       "0              2  \n",
       "1              3  \n",
       "2              1  \n",
       "3              3  \n",
       "4              1  \n",
       "..           ...  \n",
       "267            1  \n",
       "268            3  \n",
       "269            3  \n",
       "270            3  \n",
       "271            1  \n",
       "\n",
       "[272 rows x 6 columns]"
      ]
     },
     "execution_count": 45,
     "metadata": {},
     "output_type": "execute_result"
    }
   ],
   "source": [
    "user_device = pd.read_csv(\"DataSets/user_device.csv\")\n",
    "user_device\n"
   ]
  },
  {
   "cell_type": "markdown",
   "id": "c299da68",
   "metadata": {
    "slideshow": {
     "slide_type": "slide"
    }
   },
   "source": [
    "## SQL Joins in Python Pandas: Merge"
   ]
  },
  {
   "cell_type": "code",
   "execution_count": 46,
   "id": "8226bf0d",
   "metadata": {
    "slideshow": {
     "slide_type": "-"
    }
   },
   "outputs": [
    {
     "data": {
      "text/html": [
       "<div>\n",
       "<style scoped>\n",
       "    .dataframe tbody tr th:only-of-type {\n",
       "        vertical-align: middle;\n",
       "    }\n",
       "\n",
       "    .dataframe tbody tr th {\n",
       "        vertical-align: top;\n",
       "    }\n",
       "\n",
       "    .dataframe thead th {\n",
       "        text-align: right;\n",
       "    }\n",
       "</style>\n",
       "<table border=\"1\" class=\"dataframe\">\n",
       "  <thead>\n",
       "    <tr style=\"text-align: right;\">\n",
       "      <th></th>\n",
       "      <th>Retail Branding</th>\n",
       "      <th>Marketing Name</th>\n",
       "      <th>Device</th>\n",
       "      <th>Model</th>\n",
       "    </tr>\n",
       "  </thead>\n",
       "  <tbody>\n",
       "    <tr>\n",
       "      <th>0</th>\n",
       "      <td>NaN</td>\n",
       "      <td>NaN</td>\n",
       "      <td>AD681H</td>\n",
       "      <td>Smartfren Andromax AD681H</td>\n",
       "    </tr>\n",
       "    <tr>\n",
       "      <th>1</th>\n",
       "      <td>NaN</td>\n",
       "      <td>NaN</td>\n",
       "      <td>FJL21</td>\n",
       "      <td>FJL21</td>\n",
       "    </tr>\n",
       "    <tr>\n",
       "      <th>2</th>\n",
       "      <td>NaN</td>\n",
       "      <td>NaN</td>\n",
       "      <td>T31</td>\n",
       "      <td>Panasonic T31</td>\n",
       "    </tr>\n",
       "    <tr>\n",
       "      <th>3</th>\n",
       "      <td>NaN</td>\n",
       "      <td>NaN</td>\n",
       "      <td>hws7721g</td>\n",
       "      <td>MediaPad 7 Youth 2</td>\n",
       "    </tr>\n",
       "    <tr>\n",
       "      <th>4</th>\n",
       "      <td>3Q</td>\n",
       "      <td>OC1020A</td>\n",
       "      <td>OC1020A</td>\n",
       "      <td>OC1020A</td>\n",
       "    </tr>\n",
       "    <tr>\n",
       "      <th>5</th>\n",
       "      <td>7Eleven</td>\n",
       "      <td>IN265</td>\n",
       "      <td>IN265</td>\n",
       "      <td>IN265</td>\n",
       "    </tr>\n",
       "    <tr>\n",
       "      <th>6</th>\n",
       "      <td>A.O.I. ELECTRONICS FACTORY</td>\n",
       "      <td>A.O.I.</td>\n",
       "      <td>TR10CS1_11</td>\n",
       "      <td>TR10CS1</td>\n",
       "    </tr>\n",
       "    <tr>\n",
       "      <th>7</th>\n",
       "      <td>AG Mobile</td>\n",
       "      <td>AG BOOST 2</td>\n",
       "      <td>BOOST2</td>\n",
       "      <td>E4010</td>\n",
       "    </tr>\n",
       "    <tr>\n",
       "      <th>8</th>\n",
       "      <td>AG Mobile</td>\n",
       "      <td>AG Flair</td>\n",
       "      <td>AG_Flair</td>\n",
       "      <td>Flair</td>\n",
       "    </tr>\n",
       "    <tr>\n",
       "      <th>9</th>\n",
       "      <td>AG Mobile</td>\n",
       "      <td>AG Go Tab Access 2</td>\n",
       "      <td>AG_Go_Tab_Access_2</td>\n",
       "      <td>AG_Go_Tab_Access_2</td>\n",
       "    </tr>\n",
       "  </tbody>\n",
       "</table>\n",
       "</div>"
      ],
      "text/plain": [
       "              Retail Branding      Marketing Name              Device  \\\n",
       "0                         NaN                 NaN              AD681H   \n",
       "1                         NaN                 NaN               FJL21   \n",
       "2                         NaN                 NaN                 T31   \n",
       "3                         NaN                 NaN            hws7721g   \n",
       "4                          3Q             OC1020A             OC1020A   \n",
       "5                     7Eleven               IN265               IN265   \n",
       "6  A.O.I. ELECTRONICS FACTORY              A.O.I.          TR10CS1_11   \n",
       "7                   AG Mobile          AG BOOST 2              BOOST2   \n",
       "8                   AG Mobile            AG Flair            AG_Flair   \n",
       "9                   AG Mobile  AG Go Tab Access 2  AG_Go_Tab_Access_2   \n",
       "\n",
       "                       Model  \n",
       "0  Smartfren Andromax AD681H  \n",
       "1                      FJL21  \n",
       "2              Panasonic T31  \n",
       "3         MediaPad 7 Youth 2  \n",
       "4                    OC1020A  \n",
       "5                      IN265  \n",
       "6                    TR10CS1  \n",
       "7                      E4010  \n",
       "8                      Flair  \n",
       "9         AG_Go_Tab_Access_2  "
      ]
     },
     "execution_count": 46,
     "metadata": {},
     "output_type": "execute_result"
    }
   ],
   "source": [
    "devices = pd.read_csv(\"DataSets/android_devices.csv\")\n",
    "devices.head(10)\n"
   ]
  },
  {
   "cell_type": "markdown",
   "id": "0c3fcd7f",
   "metadata": {
    "slideshow": {
     "slide_type": "slide"
    }
   },
   "source": [
    "## SQL Joins in Python Pandas: Merge"
   ]
  },
  {
   "cell_type": "markdown",
   "id": "83b02b8e",
   "metadata": {},
   "source": [
    "* inner merge\n",
    "    * mantiene solo le righe dei due dataframe che hanno un valore comune della colonna indicata\n",
    "    * solo le righe con un valore di **use_id**comune nei **DataFrame** **user_usage** e **user_device**"
   ]
  },
  {
   "cell_type": "code",
   "execution_count": 47,
   "id": "e5668afd",
   "metadata": {
    "slideshow": {
     "slide_type": "-"
    }
   },
   "outputs": [
    {
     "data": {
      "text/html": [
       "<div>\n",
       "<style scoped>\n",
       "    .dataframe tbody tr th:only-of-type {\n",
       "        vertical-align: middle;\n",
       "    }\n",
       "\n",
       "    .dataframe tbody tr th {\n",
       "        vertical-align: top;\n",
       "    }\n",
       "\n",
       "    .dataframe thead th {\n",
       "        text-align: right;\n",
       "    }\n",
       "</style>\n",
       "<table border=\"1\" class=\"dataframe\">\n",
       "  <thead>\n",
       "    <tr style=\"text-align: right;\">\n",
       "      <th></th>\n",
       "      <th>outgoing_mins_per_month</th>\n",
       "      <th>outgoing_sms_per_month</th>\n",
       "      <th>monthly_mb</th>\n",
       "      <th>use_id</th>\n",
       "      <th>platform</th>\n",
       "      <th>device</th>\n",
       "    </tr>\n",
       "  </thead>\n",
       "  <tbody>\n",
       "    <tr>\n",
       "      <th>0</th>\n",
       "      <td>21.97</td>\n",
       "      <td>4.82</td>\n",
       "      <td>1557.33</td>\n",
       "      <td>22787</td>\n",
       "      <td>android</td>\n",
       "      <td>GT-I9505</td>\n",
       "    </tr>\n",
       "    <tr>\n",
       "      <th>1</th>\n",
       "      <td>1710.08</td>\n",
       "      <td>136.88</td>\n",
       "      <td>7267.55</td>\n",
       "      <td>22788</td>\n",
       "      <td>android</td>\n",
       "      <td>SM-G930F</td>\n",
       "    </tr>\n",
       "    <tr>\n",
       "      <th>2</th>\n",
       "      <td>1710.08</td>\n",
       "      <td>136.88</td>\n",
       "      <td>7267.55</td>\n",
       "      <td>22789</td>\n",
       "      <td>android</td>\n",
       "      <td>SM-G930F</td>\n",
       "    </tr>\n",
       "    <tr>\n",
       "      <th>3</th>\n",
       "      <td>94.46</td>\n",
       "      <td>35.17</td>\n",
       "      <td>519.12</td>\n",
       "      <td>22790</td>\n",
       "      <td>android</td>\n",
       "      <td>D2303</td>\n",
       "    </tr>\n",
       "    <tr>\n",
       "      <th>4</th>\n",
       "      <td>71.59</td>\n",
       "      <td>79.26</td>\n",
       "      <td>1557.33</td>\n",
       "      <td>22792</td>\n",
       "      <td>android</td>\n",
       "      <td>SM-G361F</td>\n",
       "    </tr>\n",
       "  </tbody>\n",
       "</table>\n",
       "</div>"
      ],
      "text/plain": [
       "   outgoing_mins_per_month  outgoing_sms_per_month  monthly_mb  use_id  \\\n",
       "0                    21.97                    4.82     1557.33   22787   \n",
       "1                  1710.08                  136.88     7267.55   22788   \n",
       "2                  1710.08                  136.88     7267.55   22789   \n",
       "3                    94.46                   35.17      519.12   22790   \n",
       "4                    71.59                   79.26     1557.33   22792   \n",
       "\n",
       "  platform    device  \n",
       "0  android  GT-I9505  \n",
       "1  android  SM-G930F  \n",
       "2  android  SM-G930F  \n",
       "3  android     D2303  \n",
       "4  android  SM-G361F  "
      ]
     },
     "execution_count": 47,
     "metadata": {},
     "output_type": "execute_result"
    }
   ],
   "source": [
    "result = pd.merge(user_usage,\n",
    "                 user_device[['use_id', 'platform', 'device']],\n",
    "                 on='use_id',\n",
    "                 how='inner')\n",
    "result.head()\n"
   ]
  },
  {
   "cell_type": "markdown",
   "id": "4c543c5c",
   "metadata": {
    "slideshow": {
     "slide_type": "slide"
    }
   },
   "source": [
    "## Inner Merge"
   ]
  },
  {
   "cell_type": "markdown",
   "id": "ac162090",
   "metadata": {
    "slideshow": {
     "slide_type": "-"
    }
   },
   "source": [
    "<center>\n",
    "<img src=\"Figures/Inner.jpg\" style=\"width:1000px;height:600px;\"/>\n"
   ]
  },
  {
   "cell_type": "markdown",
   "id": "44bd6ef3",
   "metadata": {
    "slideshow": {
     "slide_type": "slide"
    }
   },
   "source": [
    "## Inner Merge"
   ]
  },
  {
   "cell_type": "code",
   "execution_count": 48,
   "id": "fd3ec8d8",
   "metadata": {
    "slideshow": {
     "slide_type": "-"
    }
   },
   "outputs": [
    {
     "name": "stdout",
     "output_type": "stream",
     "text": [
      "(240, 4)\n",
      "(272, 6)\n",
      "(159, 6)\n"
     ]
    }
   ],
   "source": [
    "print(user_usage.shape)\n",
    "print(user_device.shape)\n",
    "print(result.shape)\n"
   ]
  },
  {
   "cell_type": "code",
   "execution_count": 49,
   "id": "04bdba5e",
   "metadata": {
    "slideshow": {
     "slide_type": "-"
    }
   },
   "outputs": [
    {
     "data": {
      "text/plain": [
       "use_id\n",
       "True     159\n",
       "False     81\n",
       "Name: count, dtype: int64"
      ]
     },
     "execution_count": 49,
     "metadata": {},
     "output_type": "execute_result"
    }
   ],
   "source": [
    "user_usage['use_id'].isin(user_device['use_id']).value_counts()\n"
   ]
  },
  {
   "cell_type": "markdown",
   "id": "1c92e94e",
   "metadata": {
    "slideshow": {
     "slide_type": "slide"
    }
   },
   "source": [
    "## Left Merge (o join)"
   ]
  },
  {
   "cell_type": "markdown",
   "id": "68251f98",
   "metadata": {},
   "source": [
    "* mantiene tutti valori nelle righe  del **DataFrame** di sinistra (nel nostro caso **user_usage**)\n",
    "* le righe del **DataFrame** di destra vngono mantenute nel risultato solo se esiste un match nell'attributo 'on'\n",
    "* se per qualche riga del **DataFrame** di sinistra non esiste matchm vengono aggiunti dei valori **Nan**\n"
   ]
  },
  {
   "cell_type": "code",
   "execution_count": 50,
   "id": "5d22f731",
   "metadata": {},
   "outputs": [
    {
     "data": {
      "text/html": [
       "<div>\n",
       "<style scoped>\n",
       "    .dataframe tbody tr th:only-of-type {\n",
       "        vertical-align: middle;\n",
       "    }\n",
       "\n",
       "    .dataframe tbody tr th {\n",
       "        vertical-align: top;\n",
       "    }\n",
       "\n",
       "    .dataframe thead th {\n",
       "        text-align: right;\n",
       "    }\n",
       "</style>\n",
       "<table border=\"1\" class=\"dataframe\">\n",
       "  <thead>\n",
       "    <tr style=\"text-align: right;\">\n",
       "      <th></th>\n",
       "      <th>outgoing_mins_per_month</th>\n",
       "      <th>outgoing_sms_per_month</th>\n",
       "      <th>monthly_mb</th>\n",
       "      <th>use_id</th>\n",
       "      <th>platform</th>\n",
       "      <th>device</th>\n",
       "    </tr>\n",
       "  </thead>\n",
       "  <tbody>\n",
       "    <tr>\n",
       "      <th>0</th>\n",
       "      <td>21.97</td>\n",
       "      <td>4.82</td>\n",
       "      <td>1557.33</td>\n",
       "      <td>22787</td>\n",
       "      <td>android</td>\n",
       "      <td>GT-I9505</td>\n",
       "    </tr>\n",
       "    <tr>\n",
       "      <th>1</th>\n",
       "      <td>1710.08</td>\n",
       "      <td>136.88</td>\n",
       "      <td>7267.55</td>\n",
       "      <td>22788</td>\n",
       "      <td>android</td>\n",
       "      <td>SM-G930F</td>\n",
       "    </tr>\n",
       "    <tr>\n",
       "      <th>2</th>\n",
       "      <td>1710.08</td>\n",
       "      <td>136.88</td>\n",
       "      <td>7267.55</td>\n",
       "      <td>22789</td>\n",
       "      <td>android</td>\n",
       "      <td>SM-G930F</td>\n",
       "    </tr>\n",
       "    <tr>\n",
       "      <th>3</th>\n",
       "      <td>94.46</td>\n",
       "      <td>35.17</td>\n",
       "      <td>519.12</td>\n",
       "      <td>22790</td>\n",
       "      <td>android</td>\n",
       "      <td>D2303</td>\n",
       "    </tr>\n",
       "    <tr>\n",
       "      <th>4</th>\n",
       "      <td>71.59</td>\n",
       "      <td>79.26</td>\n",
       "      <td>1557.33</td>\n",
       "      <td>22792</td>\n",
       "      <td>android</td>\n",
       "      <td>SM-G361F</td>\n",
       "    </tr>\n",
       "    <tr>\n",
       "      <th>...</th>\n",
       "      <td>...</td>\n",
       "      <td>...</td>\n",
       "      <td>...</td>\n",
       "      <td>...</td>\n",
       "      <td>...</td>\n",
       "      <td>...</td>\n",
       "    </tr>\n",
       "    <tr>\n",
       "      <th>235</th>\n",
       "      <td>260.66</td>\n",
       "      <td>68.44</td>\n",
       "      <td>896.96</td>\n",
       "      <td>25008</td>\n",
       "      <td>NaN</td>\n",
       "      <td>NaN</td>\n",
       "    </tr>\n",
       "    <tr>\n",
       "      <th>236</th>\n",
       "      <td>97.12</td>\n",
       "      <td>36.50</td>\n",
       "      <td>2815.00</td>\n",
       "      <td>25040</td>\n",
       "      <td>NaN</td>\n",
       "      <td>NaN</td>\n",
       "    </tr>\n",
       "    <tr>\n",
       "      <th>237</th>\n",
       "      <td>355.93</td>\n",
       "      <td>12.37</td>\n",
       "      <td>6828.09</td>\n",
       "      <td>25046</td>\n",
       "      <td>NaN</td>\n",
       "      <td>NaN</td>\n",
       "    </tr>\n",
       "    <tr>\n",
       "      <th>238</th>\n",
       "      <td>632.06</td>\n",
       "      <td>120.46</td>\n",
       "      <td>1453.16</td>\n",
       "      <td>25058</td>\n",
       "      <td>NaN</td>\n",
       "      <td>NaN</td>\n",
       "    </tr>\n",
       "    <tr>\n",
       "      <th>239</th>\n",
       "      <td>488.70</td>\n",
       "      <td>906.92</td>\n",
       "      <td>3089.85</td>\n",
       "      <td>25220</td>\n",
       "      <td>NaN</td>\n",
       "      <td>NaN</td>\n",
       "    </tr>\n",
       "  </tbody>\n",
       "</table>\n",
       "<p>240 rows × 6 columns</p>\n",
       "</div>"
      ],
      "text/plain": [
       "     outgoing_mins_per_month  outgoing_sms_per_month  monthly_mb  use_id  \\\n",
       "0                      21.97                    4.82     1557.33   22787   \n",
       "1                    1710.08                  136.88     7267.55   22788   \n",
       "2                    1710.08                  136.88     7267.55   22789   \n",
       "3                      94.46                   35.17      519.12   22790   \n",
       "4                      71.59                   79.26     1557.33   22792   \n",
       "..                       ...                     ...         ...     ...   \n",
       "235                   260.66                   68.44      896.96   25008   \n",
       "236                    97.12                   36.50     2815.00   25040   \n",
       "237                   355.93                   12.37     6828.09   25046   \n",
       "238                   632.06                  120.46     1453.16   25058   \n",
       "239                   488.70                  906.92     3089.85   25220   \n",
       "\n",
       "    platform    device  \n",
       "0    android  GT-I9505  \n",
       "1    android  SM-G930F  \n",
       "2    android  SM-G930F  \n",
       "3    android     D2303  \n",
       "4    android  SM-G361F  \n",
       "..       ...       ...  \n",
       "235      NaN       NaN  \n",
       "236      NaN       NaN  \n",
       "237      NaN       NaN  \n",
       "238      NaN       NaN  \n",
       "239      NaN       NaN  \n",
       "\n",
       "[240 rows x 6 columns]"
      ]
     },
     "execution_count": 50,
     "metadata": {},
     "output_type": "execute_result"
    }
   ],
   "source": [
    "result = pd.merge(user_usage,\n",
    "                 user_device[['use_id', 'platform', 'device']],\n",
    "                 on='use_id', how='left')\n",
    "result\n"
   ]
  },
  {
   "cell_type": "code",
   "execution_count": 51,
   "id": "cc2c4b1a",
   "metadata": {},
   "outputs": [
    {
     "name": "stdout",
     "output_type": "stream",
     "text": [
      "(240, 4)\n",
      "(240, 6)\n"
     ]
    }
   ],
   "source": [
    "print(user_usage.shape)\n",
    "print(result.shape)\n"
   ]
  },
  {
   "cell_type": "markdown",
   "id": "c19b89fc",
   "metadata": {
    "slideshow": {
     "slide_type": "slide"
    }
   },
   "source": [
    "## Left Merge"
   ]
  },
  {
   "cell_type": "markdown",
   "id": "5de89073",
   "metadata": {
    "slideshow": {
     "slide_type": "-"
    }
   },
   "source": [
    "<center>\n",
    "<img src=\"Figures/Left.jpg\" style=\"width:1000px;height:600px;\"/>\n"
   ]
  },
  {
   "cell_type": "markdown",
   "id": "b9a87a28",
   "metadata": {},
   "source": [
    "* comportamento simile per Right Join"
   ]
  },
  {
   "cell_type": "markdown",
   "id": "f6c98216",
   "metadata": {
    "slideshow": {
     "slide_type": "slide"
    }
   },
   "source": [
    "## Outer Join"
   ]
  },
  {
   "cell_type": "markdown",
   "id": "c9abcd85",
   "metadata": {
    "slideshow": {
     "slide_type": "-"
    }
   },
   "source": [
    "* ogni riga sia del *DataFrame* di destra che di quello di sinistra viene mantenuta all'interno del risultato\n",
    "* **NaNs** nelle colonne in cui non si è trovato un match sull'attributo comune\n"
   ]
  },
  {
   "cell_type": "code",
   "execution_count": 52,
   "id": "61025af7",
   "metadata": {
    "slideshow": {
     "slide_type": "-"
    }
   },
   "outputs": [
    {
     "data": {
      "text/html": [
       "<div>\n",
       "<style scoped>\n",
       "    .dataframe tbody tr th:only-of-type {\n",
       "        vertical-align: middle;\n",
       "    }\n",
       "\n",
       "    .dataframe tbody tr th {\n",
       "        vertical-align: top;\n",
       "    }\n",
       "\n",
       "    .dataframe thead th {\n",
       "        text-align: right;\n",
       "    }\n",
       "</style>\n",
       "<table border=\"1\" class=\"dataframe\">\n",
       "  <thead>\n",
       "    <tr style=\"text-align: right;\">\n",
       "      <th></th>\n",
       "      <th>outgoing_mins_per_month</th>\n",
       "      <th>outgoing_sms_per_month</th>\n",
       "      <th>monthly_mb</th>\n",
       "      <th>use_id</th>\n",
       "      <th>platform</th>\n",
       "      <th>device</th>\n",
       "      <th>_merge</th>\n",
       "    </tr>\n",
       "  </thead>\n",
       "  <tbody>\n",
       "    <tr>\n",
       "      <th>0</th>\n",
       "      <td>NaN</td>\n",
       "      <td>NaN</td>\n",
       "      <td>NaN</td>\n",
       "      <td>22782</td>\n",
       "      <td>ios</td>\n",
       "      <td>iPhone7,2</td>\n",
       "      <td>right_only</td>\n",
       "    </tr>\n",
       "    <tr>\n",
       "      <th>1</th>\n",
       "      <td>NaN</td>\n",
       "      <td>NaN</td>\n",
       "      <td>NaN</td>\n",
       "      <td>22783</td>\n",
       "      <td>android</td>\n",
       "      <td>Nexus 5</td>\n",
       "      <td>right_only</td>\n",
       "    </tr>\n",
       "    <tr>\n",
       "      <th>2</th>\n",
       "      <td>NaN</td>\n",
       "      <td>NaN</td>\n",
       "      <td>NaN</td>\n",
       "      <td>22784</td>\n",
       "      <td>android</td>\n",
       "      <td>SM-G903F</td>\n",
       "      <td>right_only</td>\n",
       "    </tr>\n",
       "    <tr>\n",
       "      <th>3</th>\n",
       "      <td>NaN</td>\n",
       "      <td>NaN</td>\n",
       "      <td>NaN</td>\n",
       "      <td>22785</td>\n",
       "      <td>ios</td>\n",
       "      <td>iPhone7,2</td>\n",
       "      <td>right_only</td>\n",
       "    </tr>\n",
       "    <tr>\n",
       "      <th>4</th>\n",
       "      <td>NaN</td>\n",
       "      <td>NaN</td>\n",
       "      <td>NaN</td>\n",
       "      <td>22786</td>\n",
       "      <td>android</td>\n",
       "      <td>ONE E1003</td>\n",
       "      <td>right_only</td>\n",
       "    </tr>\n",
       "    <tr>\n",
       "      <th>...</th>\n",
       "      <td>...</td>\n",
       "      <td>...</td>\n",
       "      <td>...</td>\n",
       "      <td>...</td>\n",
       "      <td>...</td>\n",
       "      <td>...</td>\n",
       "      <td>...</td>\n",
       "    </tr>\n",
       "    <tr>\n",
       "      <th>348</th>\n",
       "      <td>260.66</td>\n",
       "      <td>68.44</td>\n",
       "      <td>896.96</td>\n",
       "      <td>25008</td>\n",
       "      <td>NaN</td>\n",
       "      <td>NaN</td>\n",
       "      <td>left_only</td>\n",
       "    </tr>\n",
       "    <tr>\n",
       "      <th>349</th>\n",
       "      <td>97.12</td>\n",
       "      <td>36.50</td>\n",
       "      <td>2815.00</td>\n",
       "      <td>25040</td>\n",
       "      <td>NaN</td>\n",
       "      <td>NaN</td>\n",
       "      <td>left_only</td>\n",
       "    </tr>\n",
       "    <tr>\n",
       "      <th>350</th>\n",
       "      <td>355.93</td>\n",
       "      <td>12.37</td>\n",
       "      <td>6828.09</td>\n",
       "      <td>25046</td>\n",
       "      <td>NaN</td>\n",
       "      <td>NaN</td>\n",
       "      <td>left_only</td>\n",
       "    </tr>\n",
       "    <tr>\n",
       "      <th>351</th>\n",
       "      <td>632.06</td>\n",
       "      <td>120.46</td>\n",
       "      <td>1453.16</td>\n",
       "      <td>25058</td>\n",
       "      <td>NaN</td>\n",
       "      <td>NaN</td>\n",
       "      <td>left_only</td>\n",
       "    </tr>\n",
       "    <tr>\n",
       "      <th>352</th>\n",
       "      <td>488.70</td>\n",
       "      <td>906.92</td>\n",
       "      <td>3089.85</td>\n",
       "      <td>25220</td>\n",
       "      <td>NaN</td>\n",
       "      <td>NaN</td>\n",
       "      <td>left_only</td>\n",
       "    </tr>\n",
       "  </tbody>\n",
       "</table>\n",
       "<p>353 rows × 7 columns</p>\n",
       "</div>"
      ],
      "text/plain": [
       "     outgoing_mins_per_month  outgoing_sms_per_month  monthly_mb  use_id  \\\n",
       "0                        NaN                     NaN         NaN   22782   \n",
       "1                        NaN                     NaN         NaN   22783   \n",
       "2                        NaN                     NaN         NaN   22784   \n",
       "3                        NaN                     NaN         NaN   22785   \n",
       "4                        NaN                     NaN         NaN   22786   \n",
       "..                       ...                     ...         ...     ...   \n",
       "348                   260.66                   68.44      896.96   25008   \n",
       "349                    97.12                   36.50     2815.00   25040   \n",
       "350                   355.93                   12.37     6828.09   25046   \n",
       "351                   632.06                  120.46     1453.16   25058   \n",
       "352                   488.70                  906.92     3089.85   25220   \n",
       "\n",
       "    platform     device      _merge  \n",
       "0        ios  iPhone7,2  right_only  \n",
       "1    android    Nexus 5  right_only  \n",
       "2    android   SM-G903F  right_only  \n",
       "3        ios  iPhone7,2  right_only  \n",
       "4    android  ONE E1003  right_only  \n",
       "..       ...        ...         ...  \n",
       "348      NaN        NaN   left_only  \n",
       "349      NaN        NaN   left_only  \n",
       "350      NaN        NaN   left_only  \n",
       "351      NaN        NaN   left_only  \n",
       "352      NaN        NaN   left_only  \n",
       "\n",
       "[353 rows x 7 columns]"
      ]
     },
     "execution_count": 52,
     "metadata": {},
     "output_type": "execute_result"
    }
   ],
   "source": [
    "result = pd.merge(user_usage,\n",
    "                 user_device[['use_id', 'platform', 'device']],\n",
    "                 on='use_id', how='outer', indicator=True)\n",
    "result\n"
   ]
  },
  {
   "cell_type": "markdown",
   "id": "b5861ca9",
   "metadata": {
    "slideshow": {
     "slide_type": "slide"
    }
   },
   "source": [
    "## Outer Join"
   ]
  },
  {
   "cell_type": "markdown",
   "id": "0949e007",
   "metadata": {
    "slideshow": {
     "slide_type": "-"
    }
   },
   "source": [
    "<center>\n",
    "<img src=\"Figures/Outer.jpg\" style=\"width:1000px;height:600px;\"/>\n"
   ]
  },
  {
   "cell_type": "markdown",
   "id": "5878b92a",
   "metadata": {
    "slideshow": {
     "slide_type": "slide"
    }
   },
   "source": [
    "## Join Indicator"
   ]
  },
  {
   "cell_type": "code",
   "execution_count": null,
   "id": "0770cb08",
   "metadata": {},
   "outputs": [],
   "source": [
    "result.iloc[[0, 1, 200,201, 350,351]]\n"
   ]
  },
  {
   "cell_type": "markdown",
   "id": "a3fe82a8",
   "metadata": {},
   "source": [
    "<center>\n",
    "<img src=\"Figures/Indicator.jpg\" style=\"width:1200px;height:500px;\"/>\n"
   ]
  },
  {
   "cell_type": "markdown",
   "id": "0951553b",
   "metadata": {
    "slideshow": {
     "slide_type": "slide"
    }
   },
   "source": [
    "# Aggiungere il manufacturer"
   ]
  },
  {
   "cell_type": "code",
   "execution_count": 53,
   "id": "ff4261ac",
   "metadata": {},
   "outputs": [
    {
     "data": {
      "text/html": [
       "<div>\n",
       "<style scoped>\n",
       "    .dataframe tbody tr th:only-of-type {\n",
       "        vertical-align: middle;\n",
       "    }\n",
       "\n",
       "    .dataframe tbody tr th {\n",
       "        vertical-align: top;\n",
       "    }\n",
       "\n",
       "    .dataframe thead th {\n",
       "        text-align: right;\n",
       "    }\n",
       "</style>\n",
       "<table border=\"1\" class=\"dataframe\">\n",
       "  <thead>\n",
       "    <tr style=\"text-align: right;\">\n",
       "      <th></th>\n",
       "      <th>outgoing_mins_per_month</th>\n",
       "      <th>outgoing_sms_per_month</th>\n",
       "      <th>monthly_mb</th>\n",
       "      <th>use_id</th>\n",
       "      <th>platform</th>\n",
       "      <th>device</th>\n",
       "      <th>manufacturer</th>\n",
       "      <th>Model</th>\n",
       "    </tr>\n",
       "  </thead>\n",
       "  <tbody>\n",
       "    <tr>\n",
       "      <th>0</th>\n",
       "      <td>21.97</td>\n",
       "      <td>4.82</td>\n",
       "      <td>1557.33</td>\n",
       "      <td>22787</td>\n",
       "      <td>android</td>\n",
       "      <td>GT-I9505</td>\n",
       "      <td>Samsung</td>\n",
       "      <td>GT-I9505</td>\n",
       "    </tr>\n",
       "    <tr>\n",
       "      <th>1</th>\n",
       "      <td>1710.08</td>\n",
       "      <td>136.88</td>\n",
       "      <td>7267.55</td>\n",
       "      <td>22788</td>\n",
       "      <td>android</td>\n",
       "      <td>SM-G930F</td>\n",
       "      <td>Samsung</td>\n",
       "      <td>SM-G930F</td>\n",
       "    </tr>\n",
       "    <tr>\n",
       "      <th>2</th>\n",
       "      <td>1710.08</td>\n",
       "      <td>136.88</td>\n",
       "      <td>7267.55</td>\n",
       "      <td>22789</td>\n",
       "      <td>android</td>\n",
       "      <td>SM-G930F</td>\n",
       "      <td>Samsung</td>\n",
       "      <td>SM-G930F</td>\n",
       "    </tr>\n",
       "    <tr>\n",
       "      <th>3</th>\n",
       "      <td>94.46</td>\n",
       "      <td>35.17</td>\n",
       "      <td>519.12</td>\n",
       "      <td>22790</td>\n",
       "      <td>android</td>\n",
       "      <td>D2303</td>\n",
       "      <td>Sony</td>\n",
       "      <td>D2303</td>\n",
       "    </tr>\n",
       "    <tr>\n",
       "      <th>4</th>\n",
       "      <td>71.59</td>\n",
       "      <td>79.26</td>\n",
       "      <td>1557.33</td>\n",
       "      <td>22792</td>\n",
       "      <td>android</td>\n",
       "      <td>SM-G361F</td>\n",
       "      <td>Samsung</td>\n",
       "      <td>SM-G361F</td>\n",
       "    </tr>\n",
       "  </tbody>\n",
       "</table>\n",
       "</div>"
      ],
      "text/plain": [
       "   outgoing_mins_per_month  outgoing_sms_per_month  monthly_mb  use_id  \\\n",
       "0                    21.97                    4.82     1557.33   22787   \n",
       "1                  1710.08                  136.88     7267.55   22788   \n",
       "2                  1710.08                  136.88     7267.55   22789   \n",
       "3                    94.46                   35.17      519.12   22790   \n",
       "4                    71.59                   79.26     1557.33   22792   \n",
       "\n",
       "  platform    device manufacturer     Model  \n",
       "0  android  GT-I9505      Samsung  GT-I9505  \n",
       "1  android  SM-G930F      Samsung  SM-G930F  \n",
       "2  android  SM-G930F      Samsung  SM-G930F  \n",
       "3  android     D2303         Sony     D2303  \n",
       "4  android  SM-G361F      Samsung  SM-G361F  "
      ]
     },
     "execution_count": 53,
     "metadata": {},
     "output_type": "execute_result"
    }
   ],
   "source": [
    "result = pd.merge(user_usage,\n",
    "                 user_device[['use_id', 'platform', 'device']],\n",
    "                 on='use_id',\n",
    "                 how='left')\n",
    "\n",
    "devices.rename(columns={\"Retail Branding\": \"manufacturer\"}, inplace=True)\n",
    "result = pd.merge(result, \n",
    "                  devices[['manufacturer', 'Model']],\n",
    "                  left_on='device',\n",
    "                  right_on='Model',\n",
    "                  how='left')\n",
    "\n",
    "result.head()\n"
   ]
  },
  {
   "cell_type": "code",
   "execution_count": 54,
   "id": "b15703d5",
   "metadata": {
    "slideshow": {
     "slide_type": "-"
    }
   },
   "outputs": [
    {
     "data": {
      "text/html": [
       "<div>\n",
       "<style scoped>\n",
       "    .dataframe tbody tr th:only-of-type {\n",
       "        vertical-align: middle;\n",
       "    }\n",
       "\n",
       "    .dataframe tbody tr th {\n",
       "        vertical-align: top;\n",
       "    }\n",
       "\n",
       "    .dataframe thead th {\n",
       "        text-align: right;\n",
       "    }\n",
       "</style>\n",
       "<table border=\"1\" class=\"dataframe\">\n",
       "  <thead>\n",
       "    <tr style=\"text-align: right;\">\n",
       "      <th></th>\n",
       "      <th>manufacturer</th>\n",
       "      <th>Marketing Name</th>\n",
       "      <th>Device</th>\n",
       "      <th>Model</th>\n",
       "    </tr>\n",
       "  </thead>\n",
       "  <tbody>\n",
       "    <tr>\n",
       "      <th>10381</th>\n",
       "      <td>Samsung</td>\n",
       "      <td>Galaxy S7</td>\n",
       "      <td>herolte</td>\n",
       "      <td>SM-G930F</td>\n",
       "    </tr>\n",
       "  </tbody>\n",
       "</table>\n",
       "</div>"
      ],
      "text/plain": [
       "      manufacturer Marketing Name   Device     Model\n",
       "10381      Samsung      Galaxy S7  herolte  SM-G930F"
      ]
     },
     "execution_count": 54,
     "metadata": {},
     "output_type": "execute_result"
    }
   ],
   "source": [
    "devices[devices.Model == 'SM-G930F']\n"
   ]
  },
  {
   "cell_type": "markdown",
   "id": "0bb44953",
   "metadata": {
    "slideshow": {
     "slide_type": "slide"
    }
   },
   "source": [
    "## Statistiche finali"
   ]
  },
  {
   "cell_type": "code",
   "execution_count": 55,
   "id": "ab7cb817",
   "metadata": {},
   "outputs": [
    {
     "data": {
      "text/html": [
       "<div>\n",
       "<style scoped>\n",
       "    .dataframe tbody tr th:only-of-type {\n",
       "        vertical-align: middle;\n",
       "    }\n",
       "\n",
       "    .dataframe tbody tr th {\n",
       "        vertical-align: top;\n",
       "    }\n",
       "\n",
       "    .dataframe thead th {\n",
       "        text-align: right;\n",
       "    }\n",
       "</style>\n",
       "<table border=\"1\" class=\"dataframe\">\n",
       "  <thead>\n",
       "    <tr style=\"text-align: right;\">\n",
       "      <th></th>\n",
       "      <th>outgoing_mins_per_month</th>\n",
       "      <th>outgoing_sms_per_month</th>\n",
       "      <th>monthly_mb</th>\n",
       "      <th>use_id</th>\n",
       "    </tr>\n",
       "    <tr>\n",
       "      <th>manufacturer</th>\n",
       "      <th></th>\n",
       "      <th></th>\n",
       "      <th></th>\n",
       "      <th></th>\n",
       "    </tr>\n",
       "  </thead>\n",
       "  <tbody>\n",
       "    <tr>\n",
       "      <th>HTC</th>\n",
       "      <td>299.842955</td>\n",
       "      <td>93.059318</td>\n",
       "      <td>5144.077955</td>\n",
       "      <td>44</td>\n",
       "    </tr>\n",
       "    <tr>\n",
       "      <th>Huawei</th>\n",
       "      <td>81.526667</td>\n",
       "      <td>9.500000</td>\n",
       "      <td>1561.226667</td>\n",
       "      <td>3</td>\n",
       "    </tr>\n",
       "    <tr>\n",
       "      <th>LGE</th>\n",
       "      <td>111.530000</td>\n",
       "      <td>12.760000</td>\n",
       "      <td>1557.330000</td>\n",
       "      <td>2</td>\n",
       "    </tr>\n",
       "    <tr>\n",
       "      <th>Lava</th>\n",
       "      <td>60.650000</td>\n",
       "      <td>261.900000</td>\n",
       "      <td>12458.670000</td>\n",
       "      <td>2</td>\n",
       "    </tr>\n",
       "    <tr>\n",
       "      <th>Lenovo</th>\n",
       "      <td>215.920000</td>\n",
       "      <td>12.930000</td>\n",
       "      <td>1557.330000</td>\n",
       "      <td>2</td>\n",
       "    </tr>\n",
       "    <tr>\n",
       "      <th>Motorola</th>\n",
       "      <td>95.127500</td>\n",
       "      <td>65.666250</td>\n",
       "      <td>3946.500000</td>\n",
       "      <td>16</td>\n",
       "    </tr>\n",
       "    <tr>\n",
       "      <th>OnePlus</th>\n",
       "      <td>354.855000</td>\n",
       "      <td>48.330000</td>\n",
       "      <td>6575.410000</td>\n",
       "      <td>6</td>\n",
       "    </tr>\n",
       "    <tr>\n",
       "      <th>Samsung</th>\n",
       "      <td>191.010093</td>\n",
       "      <td>92.390463</td>\n",
       "      <td>4017.318889</td>\n",
       "      <td>108</td>\n",
       "    </tr>\n",
       "    <tr>\n",
       "      <th>Sony</th>\n",
       "      <td>177.315625</td>\n",
       "      <td>40.176250</td>\n",
       "      <td>3212.000625</td>\n",
       "      <td>16</td>\n",
       "    </tr>\n",
       "    <tr>\n",
       "      <th>Vodafone</th>\n",
       "      <td>42.750000</td>\n",
       "      <td>46.830000</td>\n",
       "      <td>5191.120000</td>\n",
       "      <td>1</td>\n",
       "    </tr>\n",
       "    <tr>\n",
       "      <th>ZTE</th>\n",
       "      <td>42.750000</td>\n",
       "      <td>46.830000</td>\n",
       "      <td>5191.120000</td>\n",
       "      <td>1</td>\n",
       "    </tr>\n",
       "  </tbody>\n",
       "</table>\n",
       "</div>"
      ],
      "text/plain": [
       "              outgoing_mins_per_month  outgoing_sms_per_month    monthly_mb  \\\n",
       "manufacturer                                                                  \n",
       "HTC                        299.842955               93.059318   5144.077955   \n",
       "Huawei                      81.526667                9.500000   1561.226667   \n",
       "LGE                        111.530000               12.760000   1557.330000   \n",
       "Lava                        60.650000              261.900000  12458.670000   \n",
       "Lenovo                     215.920000               12.930000   1557.330000   \n",
       "Motorola                    95.127500               65.666250   3946.500000   \n",
       "OnePlus                    354.855000               48.330000   6575.410000   \n",
       "Samsung                    191.010093               92.390463   4017.318889   \n",
       "Sony                       177.315625               40.176250   3212.000625   \n",
       "Vodafone                    42.750000               46.830000   5191.120000   \n",
       "ZTE                         42.750000               46.830000   5191.120000   \n",
       "\n",
       "              use_id  \n",
       "manufacturer          \n",
       "HTC               44  \n",
       "Huawei             3  \n",
       "LGE                2  \n",
       "Lava               2  \n",
       "Lenovo             2  \n",
       "Motorola          16  \n",
       "OnePlus            6  \n",
       "Samsung          108  \n",
       "Sony              16  \n",
       "Vodafone           1  \n",
       "ZTE                1  "
      ]
     },
     "execution_count": 55,
     "metadata": {},
     "output_type": "execute_result"
    }
   ],
   "source": [
    "result.groupby(\"manufacturer\").agg({\n",
    "        \"outgoing_mins_per_month\": \"mean\",\n",
    "        \"outgoing_sms_per_month\": \"mean\",\n",
    "        \"monthly_mb\": \"mean\",\n",
    "        \"use_id\": \"count\"\n",
    "    })\n"
   ]
  },
  {
   "cell_type": "markdown",
   "id": "8d2e13d6",
   "metadata": {
    "slideshow": {
     "slide_type": "slide"
    }
   },
   "source": [
    "## Assignment 6"
   ]
  },
  {
   "cell_type": "markdown",
   "id": "bd454d6a",
   "metadata": {
    "slideshow": {
     "slide_type": "-"
    }
   },
   "source": [
    "* considerare le consumazioni avvenute in un certo Ristorante\n",
    "* i files **week_1_sales.csv**   **week_2_sales.csv** registrano li ordini avvenuti in due diverse settimane\n",
    "* ogni ordine include l'**ID** del cliente che ha fatto l'ordine e l'**id** del cibo che ha ordinato"
   ]
  },
  {
   "cell_type": "code",
   "execution_count": 56,
   "id": "e3cd88ba",
   "metadata": {},
   "outputs": [
    {
     "data": {
      "text/html": [
       "<div>\n",
       "<style scoped>\n",
       "    .dataframe tbody tr th:only-of-type {\n",
       "        vertical-align: middle;\n",
       "    }\n",
       "\n",
       "    .dataframe tbody tr th {\n",
       "        vertical-align: top;\n",
       "    }\n",
       "\n",
       "    .dataframe thead th {\n",
       "        text-align: right;\n",
       "    }\n",
       "</style>\n",
       "<table border=\"1\" class=\"dataframe\">\n",
       "  <thead>\n",
       "    <tr style=\"text-align: right;\">\n",
       "      <th></th>\n",
       "      <th>Customer ID</th>\n",
       "      <th>Food ID</th>\n",
       "    </tr>\n",
       "  </thead>\n",
       "  <tbody>\n",
       "    <tr>\n",
       "      <th>0</th>\n",
       "      <td>537</td>\n",
       "      <td>9</td>\n",
       "    </tr>\n",
       "    <tr>\n",
       "      <th>1</th>\n",
       "      <td>97</td>\n",
       "      <td>4</td>\n",
       "    </tr>\n",
       "    <tr>\n",
       "      <th>2</th>\n",
       "      <td>658</td>\n",
       "      <td>1</td>\n",
       "    </tr>\n",
       "    <tr>\n",
       "      <th>3</th>\n",
       "      <td>202</td>\n",
       "      <td>2</td>\n",
       "    </tr>\n",
       "    <tr>\n",
       "      <th>4</th>\n",
       "      <td>155</td>\n",
       "      <td>9</td>\n",
       "    </tr>\n",
       "  </tbody>\n",
       "</table>\n",
       "</div>"
      ],
      "text/plain": [
       "   Customer ID  Food ID\n",
       "0          537        9\n",
       "1           97        4\n",
       "2          658        1\n",
       "3          202        2\n",
       "4          155        9"
      ]
     },
     "execution_count": 56,
     "metadata": {},
     "output_type": "execute_result"
    }
   ],
   "source": [
    "pd.read_csv(\"DataSets/week_1_sales.csv\").head()\n"
   ]
  },
  {
   "cell_type": "code",
   "execution_count": 57,
   "id": "c30da115",
   "metadata": {
    "slideshow": {
     "slide_type": "-"
    }
   },
   "outputs": [
    {
     "data": {
      "text/html": [
       "<div>\n",
       "<style scoped>\n",
       "    .dataframe tbody tr th:only-of-type {\n",
       "        vertical-align: middle;\n",
       "    }\n",
       "\n",
       "    .dataframe tbody tr th {\n",
       "        vertical-align: top;\n",
       "    }\n",
       "\n",
       "    .dataframe thead th {\n",
       "        text-align: right;\n",
       "    }\n",
       "</style>\n",
       "<table border=\"1\" class=\"dataframe\">\n",
       "  <thead>\n",
       "    <tr style=\"text-align: right;\">\n",
       "      <th></th>\n",
       "      <th>ID</th>\n",
       "      <th>First Name</th>\n",
       "      <th>Last Name</th>\n",
       "      <th>Gender</th>\n",
       "      <th>Company</th>\n",
       "      <th>Occupation</th>\n",
       "    </tr>\n",
       "  </thead>\n",
       "  <tbody>\n",
       "    <tr>\n",
       "      <th>0</th>\n",
       "      <td>1</td>\n",
       "      <td>Joseph</td>\n",
       "      <td>Perkins</td>\n",
       "      <td>Male</td>\n",
       "      <td>Dynazzy</td>\n",
       "      <td>Community Outreach Specialist</td>\n",
       "    </tr>\n",
       "    <tr>\n",
       "      <th>1</th>\n",
       "      <td>2</td>\n",
       "      <td>Jennifer</td>\n",
       "      <td>Alvarez</td>\n",
       "      <td>Female</td>\n",
       "      <td>DabZ</td>\n",
       "      <td>Senior Quality Engineer</td>\n",
       "    </tr>\n",
       "    <tr>\n",
       "      <th>2</th>\n",
       "      <td>3</td>\n",
       "      <td>Roger</td>\n",
       "      <td>Black</td>\n",
       "      <td>Male</td>\n",
       "      <td>Tagfeed</td>\n",
       "      <td>Account Executive</td>\n",
       "    </tr>\n",
       "    <tr>\n",
       "      <th>3</th>\n",
       "      <td>4</td>\n",
       "      <td>Steven</td>\n",
       "      <td>Evans</td>\n",
       "      <td>Male</td>\n",
       "      <td>Fatz</td>\n",
       "      <td>Registered Nurse</td>\n",
       "    </tr>\n",
       "    <tr>\n",
       "      <th>4</th>\n",
       "      <td>5</td>\n",
       "      <td>Judy</td>\n",
       "      <td>Morrison</td>\n",
       "      <td>Female</td>\n",
       "      <td>Demivee</td>\n",
       "      <td>Legal Assistant</td>\n",
       "    </tr>\n",
       "  </tbody>\n",
       "</table>\n",
       "</div>"
      ],
      "text/plain": [
       "   ID First Name Last Name  Gender  Company                     Occupation\n",
       "0   1     Joseph   Perkins    Male  Dynazzy  Community Outreach Specialist\n",
       "1   2   Jennifer   Alvarez  Female     DabZ        Senior Quality Engineer\n",
       "2   3      Roger     Black    Male  Tagfeed              Account Executive\n",
       "3   4     Steven     Evans    Male     Fatz               Registered Nurse\n",
       "4   5       Judy  Morrison  Female  Demivee                Legal Assistant"
      ]
     },
     "execution_count": 57,
     "metadata": {},
     "output_type": "execute_result"
    }
   ],
   "source": [
    "pd.read_csv(\"DataSets/customers.csv\").head()\n"
   ]
  },
  {
   "cell_type": "code",
   "execution_count": 58,
   "id": "ef563581",
   "metadata": {
    "slideshow": {
     "slide_type": "-"
    }
   },
   "outputs": [
    {
     "data": {
      "text/html": [
       "<div>\n",
       "<style scoped>\n",
       "    .dataframe tbody tr th:only-of-type {\n",
       "        vertical-align: middle;\n",
       "    }\n",
       "\n",
       "    .dataframe tbody tr th {\n",
       "        vertical-align: top;\n",
       "    }\n",
       "\n",
       "    .dataframe thead th {\n",
       "        text-align: right;\n",
       "    }\n",
       "</style>\n",
       "<table border=\"1\" class=\"dataframe\">\n",
       "  <thead>\n",
       "    <tr style=\"text-align: right;\">\n",
       "      <th></th>\n",
       "      <th>Food Item</th>\n",
       "      <th>Price</th>\n",
       "    </tr>\n",
       "    <tr>\n",
       "      <th>Food ID</th>\n",
       "      <th></th>\n",
       "      <th></th>\n",
       "    </tr>\n",
       "  </thead>\n",
       "  <tbody>\n",
       "    <tr>\n",
       "      <th>1</th>\n",
       "      <td>Sushi</td>\n",
       "      <td>3.99</td>\n",
       "    </tr>\n",
       "    <tr>\n",
       "      <th>2</th>\n",
       "      <td>Burrito</td>\n",
       "      <td>9.99</td>\n",
       "    </tr>\n",
       "    <tr>\n",
       "      <th>3</th>\n",
       "      <td>Taco</td>\n",
       "      <td>2.99</td>\n",
       "    </tr>\n",
       "    <tr>\n",
       "      <th>4</th>\n",
       "      <td>Quesadilla</td>\n",
       "      <td>4.25</td>\n",
       "    </tr>\n",
       "    <tr>\n",
       "      <th>5</th>\n",
       "      <td>Pizza</td>\n",
       "      <td>2.49</td>\n",
       "    </tr>\n",
       "    <tr>\n",
       "      <th>6</th>\n",
       "      <td>Pasta</td>\n",
       "      <td>13.99</td>\n",
       "    </tr>\n",
       "    <tr>\n",
       "      <th>7</th>\n",
       "      <td>Steak</td>\n",
       "      <td>24.99</td>\n",
       "    </tr>\n",
       "    <tr>\n",
       "      <th>8</th>\n",
       "      <td>Salad</td>\n",
       "      <td>11.25</td>\n",
       "    </tr>\n",
       "    <tr>\n",
       "      <th>9</th>\n",
       "      <td>Donut</td>\n",
       "      <td>0.99</td>\n",
       "    </tr>\n",
       "    <tr>\n",
       "      <th>10</th>\n",
       "      <td>Drink</td>\n",
       "      <td>1.75</td>\n",
       "    </tr>\n",
       "  </tbody>\n",
       "</table>\n",
       "</div>"
      ],
      "text/plain": [
       "          Food Item  Price\n",
       "Food ID                   \n",
       "1             Sushi   3.99\n",
       "2           Burrito   9.99\n",
       "3              Taco   2.99\n",
       "4        Quesadilla   4.25\n",
       "5             Pizza   2.49\n",
       "6             Pasta  13.99\n",
       "7             Steak  24.99\n",
       "8             Salad  11.25\n",
       "9             Donut   0.99\n",
       "10            Drink   1.75"
      ]
     },
     "execution_count": 58,
     "metadata": {},
     "output_type": "execute_result"
    }
   ],
   "source": [
    "pd.read_csv(\"DataSets/foods.csv\", index_col = \"Food ID\")\n"
   ]
  },
  {
   "cell_type": "markdown",
   "id": "c097801a",
   "metadata": {
    "slideshow": {
     "slide_type": "slide"
    }
   },
   "source": [
    "## Assignment 6"
   ]
  },
  {
   "cell_type": "markdown",
   "id": "93ee40d4",
   "metadata": {
    "slideshow": {
     "slide_type": "-"
    }
   },
   "source": [
    "* concatenare i dati relativi alla settimana in un nuvo **DataFrame**\n",
    "* trovare i clienti che hanno frequentato il ristorante in entrambe le settimane\n",
    "* trovare i clienti che hanno frequentato il ristorante in entrambe le settimane e hanno ordinato il solito cibo\n",
    "* identificare i clienti che hanno frequentato il ristorante solo nella prima settimana o solo nella seconda settimana\n",
    "* Per ogni cliente che appare nel DataFrame **week1** identificare le informazioni di quel cliente contenute nel **DataFrame** **customers**\n"
   ]
  },
  {
   "cell_type": "code",
   "execution_count": null,
   "id": "30512af8",
   "metadata": {},
   "outputs": [],
   "source": []
  }
 ],
 "metadata": {
  "celltoolbar": "Slideshow",
  "kernelspec": {
   "display_name": "Python 3 (ipykernel)",
   "language": "python",
   "name": "python3"
  },
  "language_info": {
   "codemirror_mode": {
    "name": "ipython",
    "version": 3
   },
   "file_extension": ".py",
   "mimetype": "text/x-python",
   "name": "python",
   "nbconvert_exporter": "python",
   "pygments_lexer": "ipython3",
   "version": "3.12.1"
  }
 },
 "nbformat": 4,
 "nbformat_minor": 5
}
