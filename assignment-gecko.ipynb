{
 "cells": [
  {
   "cell_type": "markdown",
   "id": "5da3b07f-1f18-4e50-90f7-cfe2ec76e563",
   "metadata": {},
   "source": [
    "# Assignment 7\n",
    "* analizzare i servizi forniti da **CoinGecko**\n",
    "* scaricare il client fonito da **CoinGecko** e analizzarne la funzionalità\n",
    "* scrivere uno script **Python** che implementi le seguenti funzionalità\n",
    "    * ricercare gli exchanger tracciati da **CoinGecko** e scriverli in un file **JSON**\n",
    "    * memorizzare, per ogni exchanger, il volume di mercato relativo a **Bitcoin** nella data corrente\n",
    "* facoltativo: scaricare un insieme di dati a scelta da **CoinGecko** e effettuare un'analisi a scelta su tale dati"
   ]
  },
  {
   "cell_type": "code",
   "execution_count": 48,
   "id": "2ebf4b38-0c3c-4026-b419-a77dc4174237",
   "metadata": {},
   "outputs": [],
   "source": [
    "import pandas as pd\n",
    "from pycoingecko import CoinGeckoAPI\n",
    "import json\n",
    "import time\n",
    "import csv\n",
    "import os\n",
    "import datetime\n",
    "import warnings\n",
    "warnings.filterwarnings('ignore')\n"
   ]
  },
  {
   "cell_type": "code",
   "execution_count": 47,
   "id": "1b51b55d-4619-4095-964f-7780c9da9801",
   "metadata": {},
   "outputs": [],
   "source": [
    "cg = CoinGeckoAPI()\n",
    "\n",
    "exchanges = cg.get_exchanges_list()\n",
    "json_file = {}\n",
    "\n",
    "# print(exchanges)\n",
    "\n",
    "for exch in exchanges:\n",
    "    exchange_id = exch[\"id\"]\n",
    "    market_volume = exch['trade_volume_24h_btc']\n",
    "    json_file[exchange_id] = {\n",
    "        'name' : exch['name'] ,\n",
    "        'market_volume_btc' : market_volume ,\n",
    "        'date' : str(date.today())\n",
    "    }\n",
    "\n",
    "with open('exchanges_BTC_market_volume.json', 'w') as file:\n",
    "    json.dump(json_file , file, indent=4)\n"
   ]
  },
  {
   "cell_type": "code",
   "execution_count": 49,
   "id": "03e71340-d56f-4181-aae0-42192d296466",
   "metadata": {},
   "outputs": [
    {
     "name": "stdout",
     "output_type": "stream",
     "text": [
      "Analisi andamento di mercato nel 2018 di btc e eth\n",
      "Prezzo di partenza in USD: BTC:14093.6068305274$ , ETH:776.080330355968$\n",
      "Medio andamento% da giorno a giorno: BTC: -0.27433901511417447 ETH: -0.3278919531384932\n",
      "Numero di giorni di aumento rispetto al precedente: BTC: 185, ETH:170\n",
      "Numero di giorni di perdita rispetto al precedente: BTC: 180, ETH:195\n"
     ]
    }
   ],
   "source": [
    "def get_historical_prices(coin_id, start_date, end_date):\n",
    "    # Fetch historical price data from CoinGecko API\n",
    "    historical_data = cg.get_coin_market_chart_range_by_id(\n",
    "        id=coin_id,\n",
    "        vs_currency='usd',\n",
    "        from_timestamp=start_date,\n",
    "        to_timestamp=end_date\n",
    "    )\n",
    "    # Extract prices from the returned data\n",
    "    prices = historical_data['prices']\n",
    "    # Convert the list of tuples into a DataFrame\n",
    "    df = pd.DataFrame(prices, columns=['timestamp', 'price'])\n",
    "    # Convert Unix timestamp to datetime\n",
    "    df['timestamp'] = pd.to_datetime(df['timestamp'], unit='ms')\n",
    "    # Set timestamp as index\n",
    "    df.set_index('timestamp', inplace=True)\n",
    "    return df\n",
    "\n",
    "\n",
    "start_date = pd.Timestamp('2018-01-01')\n",
    "end_date = pd.Timestamp('2019-01-01')\n",
    "\n",
    "# Fetch historical prices for Bitcoin\n",
    "bitcoin_prices = get_historical_prices('bitcoin', start_date.timestamp(), end_date.timestamp())\n",
    "# Fetch historical prices for Ethereum\n",
    "ethereum_prices = get_historical_prices('ethereum', start_date.timestamp(), end_date.timestamp())\n",
    "\n",
    "# Merge\n",
    "df = pd.merge(bitcoin_prices, ethereum_prices, on='timestamp', suffixes=('_bitcoin', '_ethereum'))\n",
    "\n",
    "df[\"cambio_percentuale_btc\"] = df[\"price_bitcoin\"].pct_change() * 100\n",
    "df[\"cambio_percentuale_eth\"] = df[\"price_ethereum\"].pct_change() * 100\n",
    "\n",
    "btc_start_value = df[\"price_bitcoin\"][0]\n",
    "eth_start_value = df[\"price_ethereum\"][0]\n",
    "\n",
    "media_btc = df[\"cambio_percentuale_btc\"].mean()\n",
    "media_eth = df[\"cambio_percentuale_eth\"].mean()\n",
    "\n",
    "btc_pos_changes = df[ df[\"cambio_percentuale_btc\"] > 0].count()[\"cambio_percentuale_btc\"]\n",
    "eth_pos_changes = df[ df[\"cambio_percentuale_eth\"] > 0].count()[\"cambio_percentuale_eth\"]\n",
    "\n",
    "print(f\"Analisi andamento di mercato nel 2018 di btc e eth\")\n",
    "print(f\"Prezzo di partenza in USD: BTC:{btc_start_value}$ , ETH:{eth_start_value}$\")\n",
    "print(f\"Medio andamento% da giorno a giorno: BTC: {media_btc} ETH: {media_eth}\")\n",
    "print(f\"Numero di giorni di aumento rispetto al precedente: BTC: {btc_pos_changes}, ETH:{eth_pos_changes}\")\n",
    "print(f\"Numero di giorni di perdita rispetto al precedente: BTC: {365 - btc_pos_changes}, ETH:{365 - eth_pos_changes}\")"
   ]
  },
  {
   "cell_type": "code",
   "execution_count": null,
   "id": "6dd66ef7-9487-429e-9050-fd2122f4d3e3",
   "metadata": {},
   "outputs": [],
   "source": []
  }
 ],
 "metadata": {
  "kernelspec": {
   "display_name": "Python 3 (ipykernel)",
   "language": "python",
   "name": "python3"
  },
  "language_info": {
   "codemirror_mode": {
    "name": "ipython",
    "version": 3
   },
   "file_extension": ".py",
   "mimetype": "text/x-python",
   "name": "python",
   "nbconvert_exporter": "python",
   "pygments_lexer": "ipython3",
   "version": "3.11.8"
  }
 },
 "nbformat": 4,
 "nbformat_minor": 5
}
