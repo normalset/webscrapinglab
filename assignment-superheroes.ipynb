{
 "cells": [
  {
   "cell_type": "code",
   "execution_count": 8,
   "id": "23c948f3-21ea-4b42-a625-ecbd3a7be617",
   "metadata": {},
   "outputs": [],
   "source": [
    "superheroes =[ \n",
    "             \"Batman\",\n",
    "             \"Superman\",\n",
    "             \"Spider.man\",\n",
    "             \"Iron-Man\",\n",
    "             \"Captain America\",\n",
    "             \"Wonder Woman\"\n",
    "]\n",
    "strenght_levels = (100, 120, 90, 95, 110, 120)"
   ]
  },
  {
   "cell_type": "code",
   "execution_count": 18,
   "id": "30cb5813-49da-4f2b-a7e5-6299570ece58",
   "metadata": {},
   "outputs": [
    {
     "name": "stdout",
     "output_type": "stream",
     "text": [
      "primi 2:\n",
      " Batman      100\n",
      "Superman    120\n",
      "dtype: int64 \n",
      "ultimi 2:\n",
      " Captain America    110\n",
      "Wonder Woman       120\n",
      "dtype: int64\n",
      "Numero di valori unici 5 \n",
      "Stats: media:105.83333333333333 , max:120 , min:90\n"
     ]
    }
   ],
   "source": [
    "import pandas as pd\n",
    "\n",
    "herolist = pd.Series(superheroes)\n",
    "strenghtlist = pd.Series(strenght_levels)\n",
    "\n",
    "#series con nomi=index e levels=data\n",
    "heroes = pd.Series(index = superheroes , data = strenght_levels)\n",
    "\n",
    "#print primi due e ultimi due elementi della series\n",
    "print(\"primi 2:\\n\" , heroes[0:2] , \"\\nultimi 2:\\n\", heroes[-2:])\n",
    "\n",
    "#numero di elementi unici di heroes\n",
    "print(f'Numero di valori unici {heroes.nunique()} ')\n",
    "\n",
    "#media, max e min\n",
    "print(f'Stats: media:{heroes.mean()} , max:{heroes.max()} , min:{heroes.min()}')\n",
    "\n",
    "#raddoppiare la forza di ogni hero in heroes\n",
    "heroes.apply(func = lambda x : x*2)\n",
    "\n",
    "#convertire la serie in un dizionario\n",
    "heroes_dict = heroes.to_dict()"
   ]
  }
 ],
 "metadata": {
  "kernelspec": {
   "display_name": "Python 3 (ipykernel)",
   "language": "python",
   "name": "python3"
  },
  "language_info": {
   "codemirror_mode": {
    "name": "ipython",
    "version": 3
   },
   "file_extension": ".py",
   "mimetype": "text/x-python",
   "name": "python",
   "nbconvert_exporter": "python",
   "pygments_lexer": "ipython3",
   "version": "3.10.12"
  }
 },
 "nbformat": 4,
 "nbformat_minor": 5
}
