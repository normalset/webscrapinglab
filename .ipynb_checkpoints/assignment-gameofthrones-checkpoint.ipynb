{
 "cells": [
  {
   "cell_type": "markdown",
   "id": "066383bd-daf6-4f69-8132-971c23b3741b",
   "metadata": {},
   "source": [
    "# Assignment 1\n",
    "* analizzare la pagina **Wikipedia** di **Game_of_Thrones**, utilizzando gli strumenti disponibili sul vostro browser\n",
    "* la pagina contiene un insieme di tabelle che contengono una lista degli episodi, riportando per ciascuno, chi ha diretto l'episodia, chi lo ha scritto, la data di rilascio, il numero di \n",
    "richieste di streaming dell'episodio\n",
    "* scaricare la pagina e quindi, mediante, scraping, trovare i dati di tutti gli episodi e stamparli"
   ]
  },
  {
   "cell_type": "code",
   "execution_count": 19,
   "id": "bc01b21e-0f65-40a4-9161-46913034c0c9",
   "metadata": {},
   "outputs": [],
   "source": [
    "from bs4 import BeautifulSoup as bs\n",
    "import pandas as pd\n",
    "import requests"
   ]
  },
  {
   "cell_type": "code",
   "execution_count": 34,
   "id": "f8dff2b8-b79a-426f-8fa5-60ea5e985576",
   "metadata": {},
   "outputs": [
    {
     "name": "stdout",
     "output_type": "stream",
     "text": [
      "   n_season                        original_title  \\\n",
      "0         1                      Winter Is Coming   \n",
      "1         2                         The Kingsroad   \n",
      "2         3                             Lord Snow   \n",
      "3         4  Cripples, Bastards and Broken Things   \n",
      "4         5                 The Wolf and the Lion   \n",
      "..      ...                                   ...   \n",
      "68        2        A Knight of the Seven Kingdoms   \n",
      "69        3                        The Long Night   \n",
      "70        4                The Last of the Starks   \n",
      "71        5                             The Bells   \n",
      "72        6                       The Iron Throne   \n",
      "\n",
      "                      titolo_italiano        air_date       air_date_IT  \n",
      "0             L'inverno sta arrivando  17 aprile 2011  11 novembre 2011  \n",
      "1                    La Strada del Re  24 aprile 2011  11 novembre 2011  \n",
      "2                           Lord Snow  1º maggio 2011  18 novembre 2011  \n",
      "3                       Il giuramento   8 maggio 2011  18 novembre 2011  \n",
      "4                  Il lupo e il leone  15 maggio 2011  25 novembre 2011  \n",
      "..                                ...             ...               ...  \n",
      "68  Un cavaliere dei Sette Regni[n 2]  21 aprile 2019    29 aprile 2019  \n",
      "69                     La lunga notte  28 aprile 2019     6 maggio 2019  \n",
      "70                   Gli ultimi Stark   5 maggio 2019    13 maggio 2019  \n",
      "71                         Le campane  12 maggio 2019    20 maggio 2019  \n",
      "72                  Il Trono di Spade  19 maggio 2019    27 maggio 2019  \n",
      "\n",
      "[73 rows x 5 columns]\n"
     ]
    }
   ],
   "source": [
    "base_url=\"https://it.wikipedia.org/\"\n",
    "url = \"https://it.wikipedia.org/wiki/Il_Trono_di_Spade_(serie_televisiva)#Episodi\"\n",
    "r = requests.get(url)\n",
    "html_text = r.text\n",
    "soup = bs(html_text, 'html.parser')\n",
    "\n",
    "seasons = soup.find(\"table\", attrs={\"class\":\"wikitable\"})\n",
    "anchor_list = [x['href'] for x in seasons.find_all(\"a\")]\n",
    "\n",
    "episodes_list = []\n",
    "for season in anchor_list:\n",
    "    url = base_url + season\n",
    "    r = requests.get(url)\n",
    "    soup = bs(r.text, 'html.parser')\n",
    "    ep_table = soup.find(\"table\", attrs={\"class\":\"wikitable\"})\n",
    "    for i,row in enumerate(ep_table.find_all('tr')):\n",
    "        if i != 0:\n",
    "            episode_info = [el.text.strip() for el in row.find_all('td')]\n",
    "            episode_object = {\n",
    "                \"n_season\":episode_info[0] , \n",
    "                \"original_title\":episode_info[1], \n",
    "                \"titolo_italiano\" : episode_info[2],\n",
    "                \"air_date\" : episode_info[3],\n",
    "                }\n",
    "            if len(episode_info) == 5 : \n",
    "                prev_air_date = episode_info[4]\n",
    "                episode_object[\"air_date_IT\"] = episode_info[4]\n",
    "            else:\n",
    "                episode_object[\"air_date_IT\"] = prev_air_date\n",
    "            episodes_list.append(episode_object)\n",
    "            \n",
    "\n",
    "df = pd.DataFrame.from_dict(episodes_list )\n",
    "print(df)"
   ]
  }
 ],
 "metadata": {
  "kernelspec": {
   "display_name": "Python 3 (ipykernel)",
   "language": "python",
   "name": "python3"
  },
  "language_info": {
   "codemirror_mode": {
    "name": "ipython",
    "version": 3
   },
   "file_extension": ".py",
   "mimetype": "text/x-python",
   "name": "python",
   "nbconvert_exporter": "python",
   "pygments_lexer": "ipython3",
   "version": "3.10.12"
  }
 },
 "nbformat": 4,
 "nbformat_minor": 5
}
