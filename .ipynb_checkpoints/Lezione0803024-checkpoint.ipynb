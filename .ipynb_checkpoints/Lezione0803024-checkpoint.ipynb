{
 "cells": [
  {
   "cell_type": "markdown",
   "id": "a05250ec",
   "metadata": {
    "slideshow": {
     "slide_type": "slide"
    }
   },
   "source": [
    "# <h1><center> WebScraping </h1>\n",
    "<h1><center> Anno Accademico 2023-2024 </h1>\n",
    "<h1><center>  Docente: Laura Ricci </h1>\n",
    "<h1><center>  Lezione 10 </h1>\n",
    "<h1><center>  Scraping HTML: BeautifulSoup </h1>     \n",
    "<h1><center> 08 Marzo 2024 </h1>"
   ]
  },
  {
   "cell_type": "markdown",
   "id": "90322d1d",
   "metadata": {
    "slideshow": {
     "slide_type": "slide"
    }
   },
   "source": [
    "## HTML: concetti di base"
   ]
  },
  {
   "cell_type": "markdown",
   "id": "4cbf3ae8",
   "metadata": {
    "slideshow": {
     "slide_type": "-"
    }
   },
   "source": [
    "* effettuare scraping implica scaripare e quindi parsare una pagina **HTML**\n",
    "* **markup language**\n",
    "    * linguaggio definito per la definizione, la elaborazione e la presentazione del testo\n",
    "    * non un linguaggio di programmazione\n",
    "* tag based\n",
    "* proposto nei primi anni '90  da **Tim Barnes Lee, (CERN)** per scambiare documenti su **Internet**\n",
    "* standard attuale **HTML 5: ottobre 2014**\n"
   ]
  },
  {
   "cell_type": "markdown",
   "id": "a2d7f657",
   "metadata": {
    "slideshow": {
     "slide_type": "slide"
    }
   },
   "source": [
    "## HTML: concetti di base"
   ]
  },
  {
   "cell_type": "markdown",
   "id": "a342b71d",
   "metadata": {
    "slideshow": {
     "slide_type": "-"
    }
   },
   "source": [
    "* il documento **HTML** si trova tra i tag  **$<html>$...$</html>$**\n",
    "* **HEAD section** \n",
    "    * char encoding e titolo\n",
    "* **BODY section**\n",
    "  * headers, paragraphs, tables, lists,...\n",
    "  "
   ]
  },
  {
   "cell_type": "markdown",
   "id": "d6e6892c",
   "metadata": {
    "slideshow": {
     "slide_type": "slide"
    }
   },
   "source": [
    "## HTML: tag di base"
   ]
  },
  {
   "cell_type": "markdown",
   "id": "1119a720",
   "metadata": {
    "slideshow": {
     "slide_type": "-"
    }
   },
   "source": [
    "* **elemento HTML** delineato da una **coppia di tag**\n",
    "    * tag di apertura : **\\< tag-name \\>**\n",
    "    * tag di chiusura: **forward slash** : **\\< /tag-name \\>** \n",
    "    * il tag iniziale attiva l'effetto del tag sul suo contenuto, il tag finale lo disattiva\n",
    "* principali **markup tag**\n",
    "    * tag per la strutturazione del documento   \n",
    "       * paragraph: *&lt;p&gt;*\n",
    "       * headers da livello 1 a livello 6: *&lt;h1&gt;,..,&lt;h6&gt;*\n",
    "       * ordered e unordered lists:   &lt;ol&gt;* &lt;ul&gt;\n",
    "           * &lt;li&gt;\n",
    "       * tables: *&lt;table&gt;*\n",
    "         * *\\<th\\>*\n",
    "         * *\\<tr\\>*\n",
    "         * *\\<td\\>*\n",
    "    * hyperlink verso altri documenti **HTML**\n",
    "       * **anchor tag**: &lt;a&gt;: &lt;a href=\"https://www.w3schools.com\" Laura Ricci's Home Page</a>&gt;\n",
    "    * tag per inserire contenuto multimediale/fragmenti di programma: ad esempio per inserire immagini\n",
    "         * *\\<img\\>*\n",
    " "
   ]
  },
  {
   "cell_type": "markdown",
   "id": "eab69bfb",
   "metadata": {
    "slideshow": {
     "slide_type": "slide"
    }
   },
   "source": [
    "## HTML: struttura di un elemento HTML"
   ]
  },
  {
   "cell_type": "markdown",
   "id": "c76ac54a",
   "metadata": {
    "slideshow": {
     "slide_type": "-"
    }
   },
   "source": [
    "* elemento: **tag+attributi**\n",
    "* la maggior parte dei tag sono associati ad un insieme di **attributi**\n",
    "    * nella forma **nome=valore**, forniscono informazioni ulteriori sul tag\n",
    "* funzioni\n",
    "    * specificare  più informazioni sul contenuto\n",
    "    * identificazione dello specifico tag\n",
    "\n"
   ]
  },
  {
   "cell_type": "markdown",
   "id": "743a6ae8",
   "metadata": {
    "slideshow": {
     "slide_type": "-"
    }
   },
   "source": [
    "<img src=\"Figures/HTMLStructure.jpg\" style=\"width:1000px;height:400px;\"/>"
   ]
  },
  {
   "cell_type": "markdown",
   "id": "8b70aaaf",
   "metadata": {
    "slideshow": {
     "slide_type": "slide"
    }
   },
   "source": [
    "## HTML: struttura di un elemento HTML"
   ]
  },
  {
   "cell_type": "markdown",
   "id": "75e9d931",
   "metadata": {
    "slideshow": {
     "slide_type": "-"
    }
   },
   "source": [
    "<img src=\"Figures/HTMLStructure1.jpg\" style=\"width:1000px;height:500px;\"/>"
   ]
  },
  {
   "cell_type": "markdown",
   "id": "b09ff849",
   "metadata": {
    "slideshow": {
     "slide_type": "slide"
    }
   },
   "source": [
    "## Attributi di un elemento HTML"
   ]
  },
  {
   "cell_type": "markdown",
   "id": "d1d7ddf3",
   "metadata": {
    "slideshow": {
     "slide_type": "-"
    }
   },
   "source": [
    "<code>\n",
    "    html lang=\"en\"\n",
    "</code>\n",
    "    \n",
    "* l'attributo **lang=\"en\"** del tag **htnl** specifica il tipo di linguaggio naturale per questo documento\n",
    "\n",
    "<code>\n",
    "   meta charset=\"utf-8\">\n",
    "</code>\n",
    "\n",
    "* l'attributo specifica lo schema di encoding dei caratteri\n",
    "\n",
    "<code>\n",
    "   img src=\"logo.gif\" alt=\"logo\" width=\"50\" height=\"30\"\n",
    "</code> \n",
    "\n",
    "* il tag image può contenere diversi attributi\n",
    "    * alcuni attributi obbligatori, ad esempio \n",
    "         * **URL** dell'immagine (attributo obbligatorio)\n",
    "         * testo alternativo da mostrare se l'immagine non può essere reperita (attributo obbligatorio)\n",
    "         * ampiezza e altezza della immagine **facoltativi**\n",
    "    * altri sono opzionali, ad esempio gli attributi **width* e **height**\n"
   ]
  },
  {
   "cell_type": "markdown",
   "id": "1961360e",
   "metadata": {
    "slideshow": {
     "slide_type": "slide"
    }
   },
   "source": [
    "## BeautifulSoup: \"trying to organize the complexity\""
   ]
  },
  {
   "cell_type": "markdown",
   "id": "56849cea",
   "metadata": {
    "slideshow": {
     "slide_type": "-"
    }
   },
   "source": [
    "<img src=\"Figures/Soup.jpg\" style=\"width:1000px;height:600px;\"/>"
   ]
  },
  {
   "cell_type": "markdown",
   "id": "0e447372",
   "metadata": {
    "slideshow": {
     "slide_type": "slide"
    }
   },
   "source": [
    "## BeautifulSoup"
   ]
  },
  {
   "cell_type": "markdown",
   "id": "48d52364",
   "metadata": {
    "slideshow": {
     "slide_type": "-"
    }
   },
   "source": [
    "* una libreria Python per **parsare HTML**\n",
    "    * non parte della libreria standard\n",
    "    * installare con **pip install**\n",
    "\n",
    "* a partire dal documento **HTML**, crea un **parse tree** che consente di\n",
    "    * **ricerca per posizione** navigare su di esso utilizzando funzioni per passare ai figli di un nodo o al padre di un nodo\n",
    "    * **ricerca per contenuto** ricercare contenuti basandosi sul nome dei tag e sui loro attributi\n",
    "    "
   ]
  },
  {
   "cell_type": "markdown",
   "id": "d155cdc7",
   "metadata": {
    "slideshow": {
     "slide_type": "slide"
    }
   },
   "source": [
    "## Parsare un documento HTML con BeautifulSoup"
   ]
  },
  {
   "cell_type": "markdown",
   "id": "99f77649",
   "metadata": {},
   "source": [
    "<img src=\"Figures/HTML1.jpg\" style=\"width:1000px;height:500px;\"/>"
   ]
  },
  {
   "cell_type": "markdown",
   "id": "d9d9ac10",
   "metadata": {
    "slideshow": {
     "slide_type": "slide"
    }
   },
   "source": [
    "## Parsare un documento con BeautifulSoup"
   ]
  },
  {
   "cell_type": "code",
   "execution_count": 6,
   "id": "0e980ec5",
   "metadata": {
    "slideshow": {
     "slide_type": "-"
    }
   },
   "outputs": [
    {
     "name": "stdout",
     "output_type": "stream",
     "text": [
      "<!DOCTYPE html>\n",
      "<html>\n",
      " <body>\n",
      "  <p>\n",
      "   Click\n",
      "   <a href=\"http://www.example.com\" id=\"info\">\n",
      "    here\n",
      "   </a>\n",
      "   for more information.\n",
      "  </p>\n",
      " </body>\n",
      "</html>\n",
      "\n"
     ]
    }
   ],
   "source": [
    "from bs4 import BeautifulSoup\n",
    "small_example_html = \"\"\" \n",
    "         <!DOCTYPE html>\n",
    "         <html>\n",
    "            <body>\n",
    "               <p> Click <a id='info' href='http://www.example.com'>here</a>\n",
    "                   for more information.\n",
    "                </p>\n",
    "            </body>\n",
    "          </html>\"\"\"\n",
    "small_soup = BeautifulSoup(small_example_html, 'html.parser')\n",
    "print(small_soup.prettify())\n",
    "\n"
   ]
  },
  {
   "cell_type": "markdown",
   "id": "549e1727",
   "metadata": {
    "slideshow": {
     "slide_type": "slide"
    }
   },
   "source": [
    "## BeautifulSoup"
   ]
  },
  {
   "cell_type": "markdown",
   "id": "6991de6e",
   "metadata": {
    "slideshow": {
     "slide_type": "-"
    }
   },
   "source": [
    "* la classe **bs4.BeautifulSoup** accetta due parametri per il suo costruttore\n",
    "    * una stringa che rappresenta il codice **HTML**\n",
    "    * il tipo di parser che si intende utilizzare per effettuare il parsing della pagina\n",
    "        * il parametro parser tecnicamente è un argomento di tipo **keyword**, ma viene sollevato un warning se non viene specificato\n",
    "        * **html.parser** è il **parser standard**, non richiede una installazione \"ad hoc\" \n",
    "* altre opzioni\n",
    "    * **lxml**, parser etremamente veloce scritto in C, richiede una installazione apposita\n",
    "    * **html5lib**, parser meno efficiente, ma simula molto bene il comportamento di un web browser, permettendo di parsare anche\n",
    "    documenti **HTML** estremamente complessi, ma un pò più meno efficiente\n",
    "    "
   ]
  },
  {
   "cell_type": "markdown",
   "id": "c30cad83",
   "metadata": {
    "slideshow": {
     "slide_type": "slide"
    }
   },
   "source": [
    "## BeautifulSoup: creazione dell'albero"
   ]
  },
  {
   "cell_type": "markdown",
   "id": "bc2a1925",
   "metadata": {
    "slideshow": {
     "slide_type": "-"
    }
   },
   "source": [
    "<td> <img src=\"Figures/HTMLTree1.jpg\" style=\"width:1000px;height:600px;\"/>"
   ]
  },
  {
   "cell_type": "markdown",
   "id": "1188362a",
   "metadata": {
    "slideshow": {
     "slide_type": "-"
    }
   },
   "source": [
    "* a partire dal documento **HTML**, BEautifulSoup crea un **parse tree** \n",
    "* le funzioni di **BeautifulSoup** consentono di\n",
    "    * navigare sull'albero\n",
    "        * utilizzando funzioni per passare ai figli di un nodo o al padre di un nodo o ai nodi \"fratelli\"\n",
    "    * ricercare contenuti basandosi sui nomi dei tag e sui loro attributi\n",
    "    "
   ]
  },
  {
   "cell_type": "markdown",
   "id": "77630665",
   "metadata": {
    "slideshow": {
     "slide_type": "slide"
    }
   },
   "source": [
    "## Tipi di dato in BeautifulSoup"
   ]
  },
  {
   "cell_type": "markdown",
   "id": "3265a714",
   "metadata": {
    "slideshow": {
     "slide_type": "-"
    }
   },
   "source": [
    "* **BeautifulSoup** object\n",
    "    * rappresenta **tutto l'albero** risultante dal parsing di un documento **HTML**\n",
    "* **Tag** object\n",
    "    * rappresenta un qualsiasi tag **HTML** del documeto \n",
    "    * molte proprietà e metodi associati: nome del tag, attributi,...\n",
    "* **NavigableString** object\n",
    "    * rappresentano il testo all'interno di un **tag**, piuttosto che il tag stesso\n",
    "* **Comment** object\n",
    "    * HTML comments\n",
    "    * poco utili per lo scraping\n",
    "    "
   ]
  },
  {
   "cell_type": "markdown",
   "id": "219295a1",
   "metadata": {
    "slideshow": {
     "slide_type": "slide"
    }
   },
   "source": [
    "## Il tipo di dato Tag"
   ]
  },
  {
   "cell_type": "code",
   "execution_count": 7,
   "id": "7d6d48a8",
   "metadata": {
    "slideshow": {
     "slide_type": "-"
    }
   },
   "outputs": [
    {
     "name": "stdout",
     "output_type": "stream",
     "text": [
      "<p> Click <a href=\"http://www.example.com\" id=\"info\">here</a>bfor more information.\n",
      "          </p>\n",
      "<class 'bs4.element.Tag'>\n"
     ]
    }
   ],
   "source": [
    "from bs4 import BeautifulSoup\n",
    "small_example_html = \"\"\"\n",
    "       <!DOCTYPE html>\n",
    "       <html>\n",
    "          <body>\n",
    "          <p> Click <a id='info' href='http://www.example.com'>here</a>bfor more information.\n",
    "          </p>\n",
    "         </body>\n",
    "        </html>\n",
    "        \"\"\"\n",
    "small_soup = BeautifulSoup(small_example_html, 'html.parser')\n",
    "\n",
    "# Get the <p> tag (and everything inside of it).\n",
    "print(small_soup.p, type(small_soup.p), sep='\\n')\n"
   ]
  },
  {
   "cell_type": "markdown",
   "id": "c283ee07",
   "metadata": {
    "slideshow": {
     "slide_type": "slide"
    }
   },
   "source": [
    "## Il tipo di dato Tag"
   ]
  },
  {
   "cell_type": "code",
   "execution_count": 8,
   "id": "1c34c64e",
   "metadata": {
    "slideshow": {
     "slide_type": "-"
    }
   },
   "outputs": [
    {
     "name": "stdout",
     "output_type": "stream",
     "text": [
      "<a href=\"http://www.example.com\" id=\"info\">here</a>\n",
      "<class 'bs4.element.Tag'>\n"
     ]
    }
   ],
   "source": [
    "from bs4 import BeautifulSoup\n",
    "small_example_html = \"\"\"\n",
    "       <!DOCTYPE html>\n",
    "       <html>\n",
    "          <body>\n",
    "          <p> Click <a id='info' href='http://www.example.com'>here</a>bfor more information.\n",
    "          </p>\n",
    "         </body>\n",
    "        </html>\n",
    "        \"\"\"\n",
    "small_soup = BeautifulSoup(small_example_html, 'html.parser')\n",
    "\n",
    "# Get the <a> sub-tag of the <p> tag.\n",
    "a_tag = small_soup.p.a\n",
    "print(a_tag, type(a_tag), sep='\\n')\n"
   ]
  },
  {
   "cell_type": "code",
   "execution_count": 9,
   "id": "f33c96d4",
   "metadata": {
    "slideshow": {
     "slide_type": "-"
    }
   },
   "outputs": [
    {
     "name": "stdout",
     "output_type": "stream",
     "text": [
      "a\n",
      "{'id': 'info', 'href': 'http://www.example.com'}\n",
      "here\n"
     ]
    }
   ],
   "source": [
    "from bs4 import BeautifulSoup\n",
    "small_example_html = \"\"\"\n",
    "       <!DOCTYPE html>\n",
    "       <html>\n",
    "          <body>\n",
    "          <p> Click <a id='info' href='http://www.example.com'>here</a>bfor more information.\n",
    "          </p>\n",
    "         </body>\n",
    "        </html>\n",
    "        \"\"\"\n",
    "\n",
    "# Get just the name, attributes, and text of the <a> tag.\n",
    "a_tag = small_soup.p.a\n",
    "print(a_tag.name, a_tag.attrs, a_tag.string, sep=\"\\n\")\n"
   ]
  },
  {
   "cell_type": "markdown",
   "id": "31fdfa5d",
   "metadata": {
    "slideshow": {
     "slide_type": "slide"
    }
   },
   "source": [
    "## Navigare l'albero "
   ]
  },
  {
   "cell_type": "markdown",
   "id": "fb0f4e23",
   "metadata": {
    "slideshow": {
     "slide_type": "-"
    }
   },
   "source": [
    "<td> <img src=\"Figures/ThreeLittlePigs.jpg\" style=\"width:1200px;height:700px;\"/>"
   ]
  },
  {
   "cell_type": "markdown",
   "id": "e528841e",
   "metadata": {
    "slideshow": {
     "slide_type": "-"
    }
   },
   "source": [
    "* sulla sinistra il sorgente **HTML**\n",
    "* sulla deatrs la visualizzazione del documento\n",
    "* nel documento sopra vi sono più tag  dello stesso tipo\n",
    "    * come si accede a tutti i tag?"
   ]
  },
  {
   "cell_type": "markdown",
   "id": "ca09fd75",
   "metadata": {
    "slideshow": {
     "slide_type": "slide"
    }
   },
   "source": [
    "## Navigare l'albero "
   ]
  },
  {
   "cell_type": "code",
   "execution_count": 11,
   "id": "a0f9549d",
   "metadata": {
    "slideshow": {
     "slide_type": "-"
    }
   },
   "outputs": [
    {
     "name": "stdout",
     "output_type": "stream",
     "text": [
      "<p class=\"title\"><b>The Three Little Pigs</b></p>\n",
      "<a class=\"pig\" href=\"http://example.com/larry\" id=\"link1\">Larry,</a>\n"
     ]
    }
   ],
   "source": [
    "pig_html = \"\"\"\n",
    "<html><head><title>Three Little Pigs</title></head>\n",
    "     <body>\n",
    "       <p class=\"title\"><b>The Three Little Pigs</b></p>\n",
    "       <p class=\"story\"> Once upon a time, there were three little pigs named\n",
    "          <a href=\"http://example.com/larry\" class=\"pig\" id=\"link1\">Larry,</a>\n",
    "          <a href=\"http://example.com/mo\" class=\"pig\" id=\"link2\">Mo</a>, and\n",
    "         <a href=\"http://example.com/curly\" class=\"pig\" id=\"link3\">Curly.</a></p>\n",
    "       <p>The three pigs had an odd fascination with experimental construction.</p>\n",
    "       <p>...</p>\n",
    "    </body>\n",
    "</html>\n",
    "\"\"\"\n",
    "pig_soup = BeautifulSoup(pig_html, \"html.parser\")\n",
    "\n",
    "print(pig_soup.p)\n",
    "\n",
    "print(pig_soup.a)\n"
   ]
  },
  {
   "cell_type": "markdown",
   "id": "c98f8993",
   "metadata": {
    "slideshow": {
     "slide_type": "-"
    }
   },
   "source": [
    "* notare la presenza di attributi di tipo **class**, riguardano la tecnologiia **CSS**, di cui parleremo in seguito\n",
    "* viene restituita la prima occorrenza di ogni tag ricercato\n",
    "* per accedere agli altri tag occorre **navigare esplicitamente** l'albero "
   ]
  },
  {
   "cell_type": "markdown",
   "id": "4a150a51",
   "metadata": {
    "slideshow": {
     "slide_type": "slide"
    }
   },
   "source": [
    "## Funzioni per la navigazione dell'albero"
   ]
  },
  {
   "cell_type": "markdown",
   "id": "fa69f17a",
   "metadata": {
    "slideshow": {
     "slide_type": "-"
    }
   },
   "source": [
    "* ogni elemento id tipo **tag** (eccetto il tag a più alto livello, che è, in genere, il tag **html**), ha\n",
    "    * un **parent tag**\n",
    "    * zero o più **sibling tags**\n",
    "    * zero o più **children tags**\n",
    "* **BeautifulSoup** definisce metodi per iterare sui ciascuno degli elementi precedemti\n",
    "* queste funzioni consentono di individuare i **tag** rispetto alla loro **posizione** nell'albero e non rispetto al loro **contenuto**\n"
   ]
  },
  {
   "cell_type": "markdown",
   "id": "8f61144c",
   "metadata": {
    "slideshow": {
     "slide_type": "-"
    }
   },
   "source": [
    "<td> <img src=\"Figures/TagAttributes.jpg\" style=\"width:1100px;height:500px;\"/>"
   ]
  },
  {
   "cell_type": "markdown",
   "id": "fa4160e9",
   "metadata": {
    "slideshow": {
     "slide_type": "slide"
    }
   },
   "source": [
    "## Navigare l'albero "
   ]
  },
  {
   "cell_type": "code",
   "execution_count": 12,
   "id": "7ffb68b7",
   "metadata": {
    "slideshow": {
     "slide_type": "-"
    }
   },
   "outputs": [
    {
     "name": "stdout",
     "output_type": "stream",
     "text": [
      "<a class=\"pig\" href=\"http://example.com/larry\" id=\"link1\">Larry,</a>\n"
     ]
    },
    {
     "data": {
      "text/plain": [
       "['p', 'body', 'html', '[document]']"
      ]
     },
     "execution_count": 12,
     "metadata": {},
     "output_type": "execute_result"
    }
   ],
   "source": [
    "pig_html = \"\"\"\n",
    "<html><head><title>Three Little Pigs</title></head>\n",
    "     <body>\n",
    "       <p class=\"title\"><b>The Three Little Pigs</b></p>\n",
    "       <p class=\"story\"> Once upon a time, there were three little pigs named\n",
    "          <a href=\"http://example.com/larry\" class=\"pig\" id=\"link1\">Larry,</a>\n",
    "          <a href=\"http://example.com/mo\" class=\"pig\" id=\"link2\">Mo</a>, and\n",
    "          <a href=\"http://example.com/curly\" class=\"pig\" id=\"link3\">Curly.</a>\n",
    "       <p>The three pigs had an odd fascination with experimental construction.</p>\n",
    "       <p>...</p>\n",
    "    </body>\n",
    "</html>\n",
    "\"\"\"\n",
    "\n",
    "# Start at the first <a> tag in the soup.\n",
    "a_tag = pig_soup.a\n",
    "print(a_tag)\n",
    "\n",
    "[par.name for par in a_tag.parents] \n"
   ]
  },
  {
   "cell_type": "markdown",
   "id": "4ee721c9",
   "metadata": {
    "slideshow": {
     "slide_type": "slide"
    }
   },
   "source": [
    "## Navigare l'albero "
   ]
  },
  {
   "cell_type": "code",
   "execution_count": 13,
   "id": "eaebfb8c",
   "metadata": {
    "slideshow": {
     "slide_type": "-"
    }
   },
   "outputs": [
    {
     "data": {
      "text/plain": [
       "'\\n'"
      ]
     },
     "execution_count": 13,
     "metadata": {},
     "output_type": "execute_result"
    }
   ],
   "source": [
    "pig_html = \"\"\"\n",
    "<html><head><title>Three Little Pigs</title></head>\n",
    "     <body>\n",
    "       <p class=\"title\"><b>The Three Little Pigs</b></p>\n",
    "       <p class=\"story\"> Once upon a time, there were three little pigs named\n",
    "         <a href=\"http://example.com/larry\" class=\"pig\" id=\"link1\">Larry,</a>\n",
    "         <a href=\"http://example.com/mo\" class=\"pig\" id=\"link2\">Mo</a>, and\n",
    "         <a href=\"http://example.com/curly\" class=\"pig\" id=\"link3\">Curly.</a></p>\n",
    "       <p>The three pigs had an odd fascination with experimental construction.</p>\n",
    "       <p>...</p>\n",
    "    </body>\n",
    "</html>\n",
    "\"\"\"\n",
    "\n",
    "# Get the next siblings of <a>.\n",
    "a_tag.next_sibling\n",
    "# The first sibling is just text.\n"
   ]
  },
  {
   "cell_type": "markdown",
   "id": "43b71ef4",
   "metadata": {
    "slideshow": {
     "slide_type": "-"
    }
   },
   "source": [
    "* attenzione ai tag inseriti automaticamente da BeautifulSoup, come \\n!"
   ]
  },
  {
   "cell_type": "markdown",
   "id": "42f03cd8",
   "metadata": {
    "slideshow": {
     "slide_type": "slide"
    }
   },
   "source": [
    "## Navigare l'albero "
   ]
  },
  {
   "cell_type": "code",
   "execution_count": 14,
   "id": "5e4a47db",
   "metadata": {
    "slideshow": {
     "slide_type": "-"
    }
   },
   "outputs": [
    {
     "data": {
      "text/plain": [
       "<a class=\"pig\" href=\"http://example.com/mo\" id=\"link2\">Mo</a>"
      ]
     },
     "execution_count": 14,
     "metadata": {},
     "output_type": "execute_result"
    }
   ],
   "source": [
    "pig_html = \"\"\"\n",
    "<html><head><title>Three Little Pigs</title></head>\n",
    "     <body>\n",
    "       <p class=\"title\"><b>The Three Little Pigs</b></p>\n",
    "       <p class=\"story\"> Once upon a time, there were three little pigs named\n",
    "          <a href=\"http://example.com/larry\" class=\"pig\" id=\"link1\">Larry,</a>\n",
    "          <a href=\"http://example.com/mo\" class=\"pig\" id=\"link2\">Mo</a>, and\n",
    "           <a href=\"http://example.com/curly\" class=\"pig\" id=\"link3\">Curly.</a></p>\n",
    "       <p>The three pigs had an odd fascination with experimental construction.</p>\n",
    "       <p>...</p>\n",
    "    </body>\n",
    "</html>\n",
    "\"\"\"\n",
    "\n",
    "# The second sibling is a tag.\n",
    "\n",
    "a_tag.next_sibling.next_sibling\n"
   ]
  },
  {
   "cell_type": "markdown",
   "id": "ac9ad108",
   "metadata": {
    "slideshow": {
     "slide_type": "slide"
    }
   },
   "source": [
    "## Navigare l'albero"
   ]
  },
  {
   "cell_type": "code",
   "execution_count": 16,
   "id": "62e1b9a5",
   "metadata": {
    "slideshow": {
     "slide_type": "-"
    }
   },
   "outputs": [
    {
     "name": "stdout",
     "output_type": "stream",
     "text": [
      "<p class=\"story\"> Once upon a time, there were three little pigs named\n",
      "          <a class=\"pig\" href=\"http://example.com/larry\" id=\"link1\">Larry,</a>\n",
      "<a class=\"pig\" href=\"http://example.com/mo\" id=\"link2\">Mo</a>, and\n",
      "         <a class=\"pig\" href=\"http://example.com/curly\" id=\"link3\">Curly.</a></p>\n",
      "['story']\n"
     ]
    }
   ],
   "source": [
    "pig_html = \"\"\"\n",
    "<html><head><title>Three Little Pigs</title></head>\n",
    "     <body>\n",
    "       <p class=\"title\"><b>The Three Little Pigs</b></p>\n",
    "       <p class=\"story\"> Once upon a time, there were three little pigs named\n",
    "          <a href=\"http://example.com/larry\" class=\"pig\" id=\"link1\">Larry,</a>\n",
    "          <a href=\"http://example.com/mo\" class=\"pig\" id=\"link2\">Mo</a>, and\n",
    "          <a href=\"http://example.com/curly\" class=\"pig\" id=\"link3\">Curly.</a></p>\n",
    "       <p>The three pigs had an odd fascination with experimental construction.</p>\n",
    "       <p>...</p>\n",
    "    </body>\n",
    "</html>\n",
    "\"\"\"\n",
    "\n",
    "\n",
    "# Get to the <p> tag that has class=\"story\".\n",
    "p_tag = pig_soup.body.p.next_sibling.next_sibling\n",
    "print(p_tag)\n",
    "print(p_tag.attrs[\"class\"]) \n"
   ]
  },
  {
   "cell_type": "markdown",
   "id": "6a0dc5aa",
   "metadata": {
    "slideshow": {
     "slide_type": "slide"
    }
   },
   "source": [
    "## Navigare l'albero"
   ]
  },
  {
   "cell_type": "code",
   "execution_count": 17,
   "id": "808845c6",
   "metadata": {
    "slideshow": {
     "slide_type": "-"
    }
   },
   "outputs": [
    {
     "name": "stdout",
     "output_type": "stream",
     "text": [
      "http://example.com/larry\n",
      "http://example.com/mo\n",
      "http://example.com/curly\n"
     ]
    }
   ],
   "source": [
    "pig_html = \"\"\"\n",
    "<html><head><title>Three Little Pigs</title></head>\n",
    "     <body>\n",
    "       <p class=\"title\"><b>The Three Little Pigs</b></p>\n",
    "       <p class=\"story\"> Once upon a time, there were three little pigs named\n",
    "       <a href=\"http://example.com/larry\" class=\"pig\" id=\"link1\">Larry,</a>\n",
    "       <a href=\"http://example.com/mo\" class=\"pig\" id=\"link2\">Mo</a>, and\n",
    "       <a href=\"http://example.com/curly\" class=\"pig\" id=\"link3\">Curly.</a>\n",
    "       <p>The three pigs had an odd fascination with experimental construction.</p>\n",
    "       <p>...</p>\n",
    "    </body>\n",
    "</html>\n",
    "\"\"\"\n",
    "\n",
    "# Iterate through the child tags of <p> and print hrefs whenever they exist.\n",
    "for child in p_tag.children:\n",
    "    if hasattr(child, \"attrs\") and \"href\" in child.attrs:\n",
    "       print(child.attrs[\"href\"])\n"
   ]
  },
  {
   "cell_type": "markdown",
   "id": "dc3de5c2",
   "metadata": {
    "slideshow": {
     "slide_type": "slide"
    }
   },
   "source": [
    "## Ricerca per contenuto"
   ]
  },
  {
   "cell_type": "markdown",
   "id": "2e600170",
   "metadata": {
    "slideshow": {
     "slide_type": "-"
    }
   },
   "source": [
    "* le informazioni da reperire mediante scarping sono spesso contenute in tabelle o il liste e spesso queste strutture sono presenti in profondità, nell'albero\n",
    "* può essere molto frustrante percorrere l'albero fino alla struttura ricercata\n",
    "* alternativa\n",
    "    * **identificazione di un tag** in base ai suoi attributi\n",
    "    * metodi **find()** e **find_all()**\n",
    "* **find** restituisce la prima occorrenza di un tag con certe caratteristiche\n",
    "* **find_all** restituisce la lista di tutti i tag con una certa caratteristica\n",
    "* ricerca per nome, attributo e/o testo\n"
   ]
  },
  {
   "cell_type": "markdown",
   "id": "a94a2a34",
   "metadata": {
    "slideshow": {
     "slide_type": "slide"
    }
   },
   "source": [
    "## Ricerca per contenuto"
   ]
  },
  {
   "cell_type": "markdown",
   "id": "23a3cbc2",
   "metadata": {
    "slideshow": {
     "slide_type": "-"
    }
   },
   "source": [
    "<code>\n",
    "findAll(tag, attribute, recursive, text, limit, keywords)\n",
    "</code>\n",
    "\n",
    "<code>\n",
    "find(tag, attribute, recursive, text,  keywords)\n",
    "</code>\n",
    "\n",
    "* i parametri\n",
    "    * **tag** una stringa che è il nome di un tag, oppure una lista di tag \n",
    "    * **attributes** un dizionario Python che individua un insieme di attributi del tag selezionato\n",
    "    * **recursive** valore **booleano**\n",
    "       * se **Falso** si ricercano solo i tag al livello più alto nell'albero del documento, altrimenti\n",
    "      la ricerca è ricorsiva\n",
    "       * per default settato a **True**\n",
    "    * **text**  si cerca un match basato sul campo text del tag, piuttosto che attraverso le proprietà del tag\n",
    "    * **limit** indica il numero massimo di match che devono essere restituiti\n",
    "    * **keyword** delezione di tag con un particolare attributo (stesso effetto usando gli attributi)"
   ]
  },
  {
   "cell_type": "markdown",
   "id": "ca8411a4",
   "metadata": {
    "slideshow": {
     "slide_type": "slide"
    }
   },
   "source": [
    "## Ricerca per contenuto"
   ]
  },
  {
   "cell_type": "code",
   "execution_count": 18,
   "id": "f62b9956",
   "metadata": {
    "slideshow": {
     "slide_type": "-"
    }
   },
   "outputs": [
    {
     "data": {
      "text/plain": [
       "<b>The Three Little Pigs</b>"
      ]
     },
     "execution_count": 18,
     "metadata": {},
     "output_type": "execute_result"
    }
   ],
   "source": [
    "pig_html = \"\"\"\n",
    "<html><head><title>Three Little Pigs</title></head>\n",
    "     <body>\n",
    "       <p class=\"title\"><b>The Three Little Pigs</b></p>\n",
    "       <p class=\"story\"> Once upon a time, there were three little pigs named\n",
    "       <a href=\"http://example.com/larry\" class=\"pig\" id=\"link1\">Larry,</a>\n",
    "       <a href=\"http://example.com/mo\" class=\"pig\" id=\"link2\">Mo</a>, and\n",
    "       <a href=\"http://example.com/curly\" class=\"pig\" id=\"link3\">Curly.</a>\n",
    "       <p>The three pigs had an odd fascination with experimental construction.</p>\n",
    "       <p>...</p>\n",
    "    </body>\n",
    "</html>\n",
    "\"\"\"\n",
    "\n",
    "# Find the first <b> tag in the soup.\n",
    "pig_soup.find(name='b')\n"
   ]
  },
  {
   "cell_type": "markdown",
   "id": "a9114ff4",
   "metadata": {
    "slideshow": {
     "slide_type": "slide"
    }
   },
   "source": [
    "## Ricerca per contenuto"
   ]
  },
  {
   "cell_type": "code",
   "execution_count": 19,
   "id": "0840c7d9",
   "metadata": {
    "slideshow": {
     "slide_type": "-"
    }
   },
   "outputs": [
    {
     "data": {
      "text/plain": [
       "[<a class=\"pig\" href=\"http://example.com/larry\" id=\"link1\">Larry,</a>,\n",
       " <a class=\"pig\" href=\"http://example.com/mo\" id=\"link2\">Mo</a>,\n",
       " <a class=\"pig\" href=\"http://example.com/curly\" id=\"link3\">Curly.</a>]"
      ]
     },
     "execution_count": 19,
     "metadata": {},
     "output_type": "execute_result"
    }
   ],
   "source": [
    "# Find all tags with a class attribute of 'pig'.\n",
    "# Since 'class' is a Python keyword, use 'class_' as the argument.\n",
    "pig_html = \"\"\"\n",
    "<html><head><title>Three Little Pigs</title></head>\n",
    "     <body>\n",
    "       <p class=\"title\"><b>The Three Little Pigs</b></p>\n",
    "       <p class=\"story\"> Once upon a time, there were three little pigs named\n",
    "       <a href=\"http://example.com/larry\" class=\"pig\" id=\"link1\">Larry,</a>\n",
    "       <a href=\"http://example.com/mo\" class=\"pig\" id=\"link2\">Mo</a>, and\n",
    "       <a href=\"http://example.com/curly\" class=\"pig\" id=\"link3\">Curly.</a>\n",
    "       <p>The three pigs had an odd fascination with experimental construction.</p>\n",
    "       <p>...</p>\n",
    "    </body>\n",
    "</html>\n",
    "\"\"\"\n",
    "\n",
    "pig_soup.find_all(class_=\"pig\")\n"
   ]
  },
  {
   "cell_type": "markdown",
   "id": "32fe5129",
   "metadata": {
    "slideshow": {
     "slide_type": "slide"
    }
   },
   "source": [
    "## Ricerca per contenuto"
   ]
  },
  {
   "cell_type": "code",
   "execution_count": 20,
   "id": "9f71bcd7",
   "metadata": {
    "slideshow": {
     "slide_type": "-"
    }
   },
   "outputs": [
    {
     "data": {
      "text/plain": [
       "<a class=\"pig\" href=\"http://example.com/mo\" id=\"link2\">Mo</a>"
      ]
     },
     "execution_count": 20,
     "metadata": {},
     "output_type": "execute_result"
    }
   ],
   "source": [
    "# Find the first tag that matches several attributes.\n",
    "pig_html = \"\"\"\n",
    "<html><head><title>Three Little Pigs</title></head>\n",
    "     <body>\n",
    "       <p class=\"title\"><b>The Three Little Pigs</b></p>\n",
    "       <p class=\"story\"> Once upon a time, there were three little pigs named\n",
    "       <a href=\"http://example.com/larry\" class=\"pig\" id=\"link1\">Larry,</a>\n",
    "       <a href=\"http://example.com/mo\" class=\"pig\" id=\"link2\">Mo</a>, and\n",
    "       <a href=\"http://example.com/curly\" class=\"pig\" id=\"link3\">Curly.</a>\n",
    "       <p>The three pigs had an odd fascination with experimental construction.</p>\n",
    "       <p>...</p>\n",
    "    </body>\n",
    "</html>\n",
    "\"\"\"\n",
    "pig_soup.find(attrs={\"class\": \"pig\", \"href\": \"http://example.com/mo\"})\n"
   ]
  },
  {
   "cell_type": "markdown",
   "id": "f31bf63f",
   "metadata": {
    "slideshow": {
     "slide_type": "slide"
    }
   },
   "source": [
    "## Ricerca per contenuto"
   ]
  },
  {
   "cell_type": "code",
   "execution_count": 22,
   "id": "466ec224",
   "metadata": {
    "slideshow": {
     "slide_type": "-"
    }
   },
   "outputs": [
    {
     "data": {
      "text/plain": [
       "'Mo'"
      ]
     },
     "execution_count": 22,
     "metadata": {},
     "output_type": "execute_result"
    }
   ],
   "source": [
    "# Find the first tag that matches several attributes.\n",
    "pig_html = \"\"\"\n",
    "<html><head><title>Three Little Pigs</title></head>\n",
    "     <body>\n",
    "       <p class=\"title\"><b>The Three Little Pigs</b></p>\n",
    "       <p class=\"story\"> Once upon a time, there were three little pigs named\n",
    "       <a href=\"http://example.com/larry\" class=\"pig\" id=\"link1\">Larry,</a>\n",
    "       <a href=\"http://example.com/mo\" class=\"pig\" id=\"link2\">Mo</a>, and\n",
    "       <a href=\"http://example.com/curly\" class=\"pig\" id=\"link3\">Curly.</a>\n",
    "       <p>The three pigs had an odd fascination with experimental construction.</p>\n",
    "       <p>...</p>\n",
    "    </body>\n",
    "</html>\n",
    "\"\"\"\n",
    "\n",
    "pig_soup.find(string='Mo')\n"
   ]
  },
  {
   "cell_type": "code",
   "execution_count": 21,
   "id": "a3e932e1",
   "metadata": {
    "slideshow": {
     "slide_type": "-"
    }
   },
   "outputs": [
    {
     "data": {
      "text/plain": [
       "<a class=\"pig\" href=\"http://example.com/mo\" id=\"link2\">Mo</a>"
      ]
     },
     "execution_count": 21,
     "metadata": {},
     "output_type": "execute_result"
    }
   ],
   "source": [
    "pig_soup.find(string='Mo').parent # so go up one level to get the tag.\n"
   ]
  },
  {
   "cell_type": "markdown",
   "id": "1814fd79",
   "metadata": {
    "slideshow": {
     "slide_type": "slide"
    }
   },
   "source": [
    "## HTML: Liste e Hyperlinks"
   ]
  },
  {
   "cell_type": "markdown",
   "id": "9508932c",
   "metadata": {
    "slideshow": {
     "slide_type": "-"
    }
   },
   "source": [
    "<td> <img src=\"Figures/ListAndHyperlinks.jpg\" style=\"width:800px;height:500px;\"/>"
   ]
  },
  {
   "cell_type": "markdown",
   "id": "daf26474",
   "metadata": {
    "slideshow": {
     "slide_type": "slide"
    }
   },
   "source": [
    "## HTML: Liste e Hyperlinks"
   ]
  },
  {
   "cell_type": "code",
   "execution_count": 26,
   "id": "fa0da69a",
   "metadata": {
    "slideshow": {
     "slide_type": "-"
    }
   },
   "outputs": [],
   "source": [
    "list_example_html=\"\"\"<!DOCTYPE html>\n",
    "    <html lang=\"en\">\n",
    "    <head>\n",
    "      <meta charset=\"utf-8\">\n",
    "      <title>Lists and Hyperlinks</title>\n",
    "    </head>\n",
    "    <body>\n",
    "      <h1>Lists and Hyperlinks</h1>\n",
    "      <p>There are two types of <em>lists</em> in HTML:</p>\n",
    "      <ol>\n",
    "        <li>Ordered List.</li>\n",
    "        <li>Unordered List.</li>\n",
    "      </ol>\n",
    "      <p>This is a nested unordered list of links:</p>\n",
    "      <ul>\n",
    "        <li>List Crypto-Services:\n",
    "          <ul>\n",
    "            <li>CoinGecko @ <a href=\"https://www.coingecko.com/\">https://www.coingecko.com/</a>.</li>\n",
    "            <li>Blockchain.com @ <a href=\"https://www.blockchain.com/\">https://www.blockchain.com//</a>.</li>\n",
    "          </ul>\n",
    "        </li>\n",
    "           <ul>\n",
    "              <li>WalletExplorer @ <a href=\"https://www.walletexplorer.com/\">https://www.walletexplorer.com/</a>.</li>\n",
    "              <li>CoinMarketCup @ <a href=\"https://coinmarketcap.com/\">https://coinmarketcap.com//</a>.</li>\n",
    "          </ul>\n",
    "        </li>\n",
    "      </ul>\n",
    "</body>\n",
    "</html>\"\"\"\n"
   ]
  },
  {
   "cell_type": "markdown",
   "id": "2703bc1f",
   "metadata": {
    "slideshow": {
     "slide_type": "slide"
    }
   },
   "source": [
    "## HTML: Liste e Hyperlinks"
   ]
  },
  {
   "cell_type": "code",
   "execution_count": 31,
   "id": "28553902",
   "metadata": {
    "slideshow": {
     "slide_type": "-"
    }
   },
   "outputs": [
    {
     "name": "stdout",
     "output_type": "stream",
     "text": [
      "Ordered List.\n",
      "Unordered List.\n",
      "List Crypto-Services:\n",
      "          \n",
      "CoinGecko @ https://www.coingecko.com/.\n",
      "Blockchain.com @ https://www.blockchain.com//.\n",
      "\n",
      "\n",
      "CoinGecko @ https://www.coingecko.com/.\n",
      "Blockchain.com @ https://www.blockchain.com//.\n",
      "WalletExplorer @ https://www.walletexplorer.com/.\n",
      "CoinMarketCup @ https://coinmarketcap.com//.\n",
      "Total 7 li tag found\n"
     ]
    }
   ],
   "source": [
    "# Parse the html content\n",
    "soup = BeautifulSoup(list_example_html, \"html.parser\")\n",
    " \n",
    "# Find all li tag\n",
    "datas = soup.find_all(\"li\")\n",
    " \n",
    "# Iterate through all li tags\n",
    "for data in datas:\n",
    "    # Get text from each tag\n",
    "    print(data.text)\n",
    " \n",
    "print(f\"Total {len(datas)} li tag found\")"
   ]
  },
  {
   "cell_type": "markdown",
   "id": "9153b17d",
   "metadata": {
    "slideshow": {
     "slide_type": "slide"
    }
   },
   "source": [
    "## Tables"
   ]
  },
  {
   "cell_type": "markdown",
   "id": "38eb09e4",
   "metadata": {
    "slideshow": {
     "slide_type": "-"
    }
   },
   "source": [
    "<img src=\"Figures/Table.jpg\" style=\"width:500px;height:200px;\"/>"
   ]
  },
  {
   "cell_type": "markdown",
   "id": "70cede7d",
   "metadata": {
    "slideshow": {
     "slide_type": "slide"
    }
   },
   "source": [
    "## Tables\n"
   ]
  },
  {
   "cell_type": "code",
   "execution_count": 32,
   "id": "e2b6f74e",
   "metadata": {
    "slideshow": {
     "slide_type": "-"
    }
   },
   "outputs": [],
   "source": [
    "table_doc = \"\"\"\n",
    "<table class=\"table-1\">\n",
    "  <tr>\n",
    "    <th>Corso</th>\n",
    "    <th>Laurea</th>\n",
    "    <th>Numero Studenti</th>\n",
    "  </tr>\n",
    "  <tr>\n",
    "    <td>Laboratorio Web Scraping</td>\n",
    "    <td>Informatica</td>\n",
    "    <td>20</td>\n",
    "  </tr>\n",
    "  <tr>\n",
    "    <td>Blockchains</td>\n",
    "    <td>Magistrale Informatica</td>\n",
    "    <td>40</td>\n",
    "  </tr>\n",
    "</table> \"\"\"\n"
   ]
  },
  {
   "cell_type": "markdown",
   "id": "85d7d6de",
   "metadata": {
    "slideshow": {
     "slide_type": "slide"
    }
   },
   "source": [
    "## Tables"
   ]
  },
  {
   "cell_type": "code",
   "execution_count": 33,
   "id": "43b98e32",
   "metadata": {
    "slideshow": {
     "slide_type": "-"
    }
   },
   "outputs": [
    {
     "name": "stdout",
     "output_type": "stream",
     "text": [
      "['Corso', 'Laurea', 'Numero Studenti']\n",
      "['Laboratorio Web Scraping', 'Informatica', '20']\n",
      "['Blockchains', 'Magistrale Informatica', '40']\n"
     ]
    }
   ],
   "source": [
    "from bs4 import BeautifulSoup\n",
    "import requests \n",
    "\n",
    "# first we should find our table object:\n",
    "soup = BeautifulSoup(table_doc,'html.parser')\n",
    "table = soup.find('table')\n",
    "\n",
    "# then we can iterate through each row and extract either header or row values:\n",
    "header = []\n",
    "rows = []\n",
    "for i, row in enumerate(table.find_all('tr')):\n",
    "    if i == 0:\n",
    "        header = [el.text.strip() for el in row.find_all('th')] \n",
    "    else:\n",
    "        rows.append([el.text.strip() for el in row.find_all('td')])\n",
    "\n",
    "print(header)\n",
    "for row in rows:\n",
    "    print(row)"
   ]
  },
  {
   "cell_type": "markdown",
   "id": "61582bcd",
   "metadata": {
    "slideshow": {
     "slide_type": "slide"
    }
   },
   "source": [
    "## HTML: span tag"
   ]
  },
  {
   "cell_type": "markdown",
   "id": "3283f37d",
   "metadata": {
    "slideshow": {
     "slide_type": "-"
    }
   },
   "source": [
    "* inline element\n",
    "* un \"container\" di una parte di testo, uno spazio inserito in mezzo a una linea di testo\n",
    "* consente di applicare a quella porzione di testo delle regole di stile (eventualmente *(CSS)*), oppure riferirlo da *JAVA script*.\n",
    "    "
   ]
  },
  {
   "cell_type": "code",
   "execution_count": 34,
   "id": "46ef5829",
   "metadata": {
    "slideshow": {
     "slide_type": "-"
    }
   },
   "outputs": [
    {
     "name": "stdout",
     "output_type": "stream",
     "text": [
      "<p>\n",
      " Python è un linguaggio\n",
      " <span>\n",
      "  facile\n",
      " </span>\n",
      " da usare.\n",
      "</p>\n",
      "\n"
     ]
    }
   ],
   "source": [
    "from bs4 import BeautifulSoup\n",
    "span_example_html = \"\"\"\n",
    "        <p> Python è un linguaggio <span> facile </span> da usare. </p>\"\"\"\n",
    "\n",
    "# first we should find our table object:\n",
    "span_soup = BeautifulSoup(span_example_html,'html.parser')\n",
    "print(span_soup.prettify())\n"
   ]
  },
  {
   "cell_type": "markdown",
   "id": "6360b0ef",
   "metadata": {
    "slideshow": {
     "slide_type": "-"
    }
   },
   "source": [
    "<img src=\"Figures/span_1.png\" style=\"width:400px;height:100px;\"/>\n",
    "\n",
    "* nessun effetto sulla visualizzazione"
   ]
  },
  {
   "cell_type": "markdown",
   "id": "78809e8a",
   "metadata": {
    "slideshow": {
     "slide_type": "slide"
    }
   },
   "source": [
    "## HTML: span tag"
   ]
  },
  {
   "cell_type": "code",
   "execution_count": 35,
   "id": "dcb756d6",
   "metadata": {},
   "outputs": [
    {
     "name": "stdout",
     "output_type": "stream",
     "text": [
      "<p>\n",
      " Python è un linguaggio\n",
      " <span style=\"font-size: 24; font-family: Arial; color: red\">\n",
      "  facile\n",
      " </span>\n",
      " da usare.\n",
      "</p>\n",
      "\n"
     ]
    }
   ],
   "source": [
    "from bs4 import BeautifulSoup\n",
    "span_example_html = \"\"\"\n",
    "        <p> Python è un linguaggio <span style = \"font-size: 24; font-family: Arial; color: red\"> facile </span> \n",
    "         da usare. </p>\"\"\"\n",
    "span_soup = BeautifulSoup(span_example_html,'html.parser')\n",
    "print(span_soup.prettify())"
   ]
  },
  {
   "cell_type": "markdown",
   "id": "488db9e5",
   "metadata": {},
   "source": [
    "<img src=\"Figures/span_2.png\" style=\"width:400px;height:100px;\"/>\n",
    "\n",
    "* regola di stile applicata alla visualizzazione"
   ]
  },
  {
   "cell_type": "markdown",
   "id": "c10fbfd5",
   "metadata": {
    "slideshow": {
     "slide_type": "slide"
    }
   },
   "source": [
    "## HTML: tag DIV"
   ]
  },
  {
   "cell_type": "markdown",
   "id": "f2e0ff55",
   "metadata": {
    "slideshow": {
     "slide_type": "-"
    }
   },
   "source": [
    "* block element\n",
    "* empty container  utilizzato  per raggruppare diversi **elementi HTML** e applicare loro alcune regole di stile (eventualmente contenute in **CSS**)\n",
    "* a differenza di tag quali &lt;p&gt; o  &lt;h1&gt; non da alcuna indicazione sulla formattazione dell'elemento stesso\n",
    "* marca porzioni della pagina"
   ]
  },
  {
   "cell_type": "markdown",
   "id": "cc547d2a",
   "metadata": {
    "slideshow": {
     "slide_type": "slide"
    }
   },
   "source": [
    "## HTML: tag DIV"
   ]
  },
  {
   "cell_type": "markdown",
   "id": "bcda29a6",
   "metadata": {
    "slideshow": {
     "slide_type": "-"
    }
   },
   "source": [
    "* consente di raggruppare parti del documento (ad esempio più pargrafi ed applicare a tutti una regole di stile)"
   ]
  },
  {
   "cell_type": "code",
   "execution_count": 36,
   "id": "44cb7f51",
   "metadata": {
    "slideshow": {
     "slide_type": "-"
    }
   },
   "outputs": [],
   "source": [
    "from bs4 import BeautifulSoup\n",
    "div_html= \"\"\"\n",
    " <html>\n",
    "  <body>\n",
    "    <h1> The &lt;div&gt; Tag </h1>\n",
    "    <div style=\"background-color:#8ebf42\">\n",
    "      <p> Primo Paragrafo</p>\n",
    "      <p> Secondo Pargarafo </p>\n",
    "    </div>\n",
    "  </body>\n",
    "</html>\"\"\""
   ]
  },
  {
   "cell_type": "markdown",
   "id": "66fb70a2",
   "metadata": {
    "slideshow": {
     "slide_type": "slide"
    }
   },
   "source": [
    "## HTML: tag DIV"
   ]
  },
  {
   "cell_type": "code",
   "execution_count": 37,
   "id": "ddb41080",
   "metadata": {
    "slideshow": {
     "slide_type": "-"
    }
   },
   "outputs": [
    {
     "name": "stdout",
     "output_type": "stream",
     "text": [
      "<html>\n",
      " <body>\n",
      "  <h1>\n",
      "   The &lt;div&gt; Tag\n",
      "  </h1>\n",
      "  <div style=\"background-color:#8ebf42\">\n",
      "   <p>\n",
      "    Primo Paragrafo\n",
      "   </p>\n",
      "   <p>\n",
      "    Secondo Pargarafo\n",
      "   </p>\n",
      "  </div>\n",
      " </body>\n",
      "</html>\n",
      "\n"
     ]
    }
   ],
   "source": [
    "div_soup = BeautifulSoup(div_html,'html.parser')\n",
    "print(div_soup.prettify())\n"
   ]
  },
  {
   "cell_type": "markdown",
   "id": "3114a376",
   "metadata": {
    "slideshow": {
     "slide_type": "-"
    }
   },
   "source": [
    "<img src=\"Figures/div.jpg\" style=\"width:400px;height:100px;\"/>"
   ]
  },
  {
   "cell_type": "markdown",
   "id": "40f5c4ee",
   "metadata": {
    "slideshow": {
     "slide_type": "slide"
    }
   },
   "source": [
    "## Tutti i tag in un documento"
   ]
  },
  {
   "cell_type": "markdown",
   "id": "efe77638",
   "metadata": {},
   "source": [
    "<img src=\"Figures/HTMLTagsAll.png\" style=\"width:1700px;height:1000px;\"/>"
   ]
  },
  {
   "cell_type": "markdown",
   "id": "578d59be",
   "metadata": {
    "slideshow": {
     "slide_type": "slide"
    }
   },
   "source": [
    "## Ancora su find_all"
   ]
  },
  {
   "cell_type": "markdown",
   "id": "9091abc9",
   "metadata": {
    "slideshow": {
     "slide_type": "-"
    }
   },
   "source": [
    "<td> <img src=\"Figures/HTMLObject2.jpg\" style=\"width:800px;height:400px;\"/>"
   ]
  },
  {
   "cell_type": "markdown",
   "id": "ae7790e6",
   "metadata": {
    "slideshow": {
     "slide_type": "-"
    }
   },
   "source": [
    "* fino a questo momento abbiamo applicato le due funzioni ad un oggetto di tipo **BeautifulSoup**\n",
    "* le due funzioni possono essere applicata a qualsiaisi oggetto di tipo **BeautifulSoup**\n",
    "* le funzioni sono sempre applicate al sottoalbero radicato nell'oggetto su cui vengono applicate e che può essere:\n",
    "    * l'intero documento\n",
    "    * un tag individuato navigando l'albero, oppure con altre **findall()**\n",
    "    * in questo modo si può restringere la ricerca in iterazioni successive"
   ]
  },
  {
   "cell_type": "markdown",
   "id": "a04bc9ff",
   "metadata": {
    "slideshow": {
     "slide_type": "slide"
    }
   },
   "source": [
    "## Ancora su find_all"
   ]
  },
  {
   "cell_type": "markdown",
   "id": "bda47124",
   "metadata": {
    "slideshow": {
     "slide_type": "-"
    }
   },
   "source": [
    "* **find** e **findAll** sono metodi molto  versatili\n",
    "* è possibile passare un alista di tag da reperire\n",
    "    * **html_soup.find(['h1', 'h2'])**\n",
    "* è possibile passare una **espressione regolare** costruita mediante il modulo Python **re**\n",
    "* è possibile passare funzioni come la seguente:"
   ]
  },
  {
   "cell_type": "code",
   "execution_count": null,
   "id": "712a5f83",
   "metadata": {
    "slideshow": {
     "slide_type": "-"
    }
   },
   "outputs": [],
   "source": [
    " def has_classa_but_not_classb(tag):\n",
    "        cls = tag.get('class', [])\n",
    "        return 'classa' in cls and not 'classb' in cls\n",
    "    \n",
    "div_soup.find(has_classa_but_not_classb)\n",
    "    "
   ]
  },
  {
   "cell_type": "markdown",
   "id": "e428a579",
   "metadata": {
    "slideshow": {
     "slide_type": "slide"
    }
   },
   "source": [
    "## Web Scraping\n"
   ]
  },
  {
   "cell_type": "markdown",
   "id": "33b6e1f8",
   "metadata": {
    "slideshow": {
     "slide_type": "-"
    }
   },
   "source": [
    "\n",
    "* raccolta di dati effettuata da siti web, effettuata senza utilizzare **API** \n",
    "* implementazione mediante uno script **Python** che\n",
    "    * si collega a un web server\n",
    "    * richiede una o più pagine **HTML**\n",
    "    * parsa le pagine ricevute\n",
    "* altri meccanismi legati al web scraping\n",
    "    * information security\n",
    "    * authentication\n",
    "    * data analysis\n",
    "* perchè utilizzare scraping? \n",
    "    * molti siti non forniscono **API**\n",
    "        * perchè il gestore non possiede l'infrastruttura per gestire un accesso alle **API**\n",
    "        * perchè i dati sono pochi, e il webmaster ha deciso di non fornire le **API**\n",
    "    * anche se un sito fornisce un servizio di **API**, possono esserevi diverse restrizioni, come abbiamo visto\n",
    "        * sul volume dei dati fornite\n",
    "        * sul numero di richieste nella unità di tempo\n",
    "        * sul tipo o sul formato dei dati"
   ]
  },
  {
   "cell_type": "markdown",
   "id": "dd7f85c1",
   "metadata": {
    "slideshow": {
     "slide_type": "slide"
    }
   },
   "source": [
    "## Web Scraping: fasi fondamentali"
   ]
  },
  {
   "cell_type": "markdown",
   "id": "798727e1",
   "metadata": {
    "slideshow": {
     "slide_type": "-"
    }
   },
   "source": [
    "* poichè la quasi totalità delle informazioni che sono visualizzate in un browser come una pagina web usa **HTML**, il primo passo è capire come strarre informazione da un sito **HTML**\n",
    "    * individure dati interessanti all'interno della pagina reperita con la libreria **request**\n",
    "    * parsing dei dati ricevuti\n",
    "* ma questo non è un corso di **web programming**, quindi  analizziamo l'**HTML**, mostrando esempi di scraping\n"
   ]
  },
  {
   "cell_type": "markdown",
   "id": "2596d66c",
   "metadata": {
    "slideshow": {
     "slide_type": "slide"
    }
   },
   "source": [
    "## Disclaimer: prestare attenzione all'uso dello scraping!"
   ]
  },
  {
   "cell_type": "markdown",
   "id": "a8072d27",
   "metadata": {
    "slideshow": {
     "slide_type": "-"
    }
   },
   "source": [
    "* effettuare scraping di informazioni protette da copyright può avere conseguenze legali!\n",
    "* alcuni siti web proibiscono lo scraping su alcune parti o su tutto il sito\n",
    "    * condizioni definite in **terms and conditions**\n",
    "    * controllare il file **robot.txt** (se presente) che specifica \n",
    "        * su quale parti del siti è possibile effettuare **scraping**\n",
    "        * la frequenza accettata delle richieste\n",
    "* considerare **https://www.google.com/robots.txt** \n"
   ]
  },
  {
   "cell_type": "markdown",
   "id": "3e1417f7",
   "metadata": {
    "slideshow": {
     "slide_type": "-"
    }
   },
   "source": [
    "<img src=\"Figures/Google_Robots.jpg\" style=\"width:1000px;height:800px;\"/>"
   ]
  },
  {
   "cell_type": "markdown",
   "id": "9e3e5a88",
   "metadata": {
    "slideshow": {
     "slide_type": "slide"
    }
   },
   "source": [
    "## Disclaimer: prestare attenzione all'uso dello scraping!"
   ]
  },
  {
   "cell_type": "markdown",
   "id": "c9c91765",
   "metadata": {
    "slideshow": {
     "slide_type": "-"
    }
   },
   "source": [
    "* http://www.robotstxt.org/robotstxt.html\n",
    "* contiene istruzioni per la definizione del file **robots.txt**\n",
    "    * non uno standard, ma una direttiva seguita da diversi web servers"
   ]
  },
  {
   "cell_type": "markdown",
   "id": "719eb16f",
   "metadata": {
    "slideshow": {
     "slide_type": "-"
    }
   },
   "source": [
    "<code> User-agent: *\n",
    "  Disallow: /\n",
    "</code>"
   ]
  },
  {
   "cell_type": "markdown",
   "id": "a885a9f5",
   "metadata": {
    "slideshow": {
     "slide_type": "-"
    }
   },
   "source": [
    "* esclude i robots dall'intero web server "
   ]
  },
  {
   "cell_type": "markdown",
   "id": "fc1cce52",
   "metadata": {
    "slideshow": {
     "slide_type": "-"
    }
   },
   "source": [
    "<code> User-agent: *\n",
    "  Disallow: /cgi-bin/\n",
    "  Disallow: /tmp/\n",
    "  Disallow: /junk/\n",
    "</code>"
   ]
  },
  {
   "cell_type": "markdown",
   "id": "0e7d0a0e",
   "metadata": {
    "slideshow": {
     "slide_type": "-"
    }
   },
   "source": [
    "* esclude i robots da alcuni parti del web server"
   ]
  },
  {
   "cell_type": "markdown",
   "id": "f7bd09d1",
   "metadata": {
    "slideshow": {
     "slide_type": "slide"
    }
   },
   "source": [
    "## Disclaimer: prestare attenzione all'uso dello scraping!"
   ]
  },
  {
   "cell_type": "markdown",
   "id": "ac010958",
   "metadata": {
    "slideshow": {
     "slide_type": "-"
    }
   },
   "source": [
    "<code> User-agent: BadBot\n",
    "   Disallow: /\n",
    "</code>"
   ]
  },
  {
   "cell_type": "markdown",
   "id": "fe9f1751",
   "metadata": {
    "slideshow": {
     "slide_type": "-"
    }
   },
   "source": [
    "* esclude un solo particolare robot"
   ]
  },
  {
   "cell_type": "markdown",
   "id": "a9cb4f0e",
   "metadata": {
    "slideshow": {
     "slide_type": "slide"
    }
   },
   "source": [
    "## La libreria robotparser"
   ]
  },
  {
   "cell_type": "markdown",
   "id": "856d66bb",
   "metadata": {
    "slideshow": {
     "slide_type": "-"
    }
   },
   "source": [
    "* consideriamo il sito https://www.python.org/\n",
    "* analizziamo il file **robots.txt**"
   ]
  },
  {
   "cell_type": "markdown",
   "id": "1e3bd6d4",
   "metadata": {
    "slideshow": {
     "slide_type": "-"
    }
   },
   "source": [
    "<img src=\"Figures/PythonRobots.jpg\" style=\"width:1000px;height:700px;\"/>"
   ]
  },
  {
   "cell_type": "markdown",
   "id": "02c64fc5",
   "metadata": {
    "slideshow": {
     "slide_type": "slide"
    }
   },
   "source": [
    "## La libreria robotparser"
   ]
  },
  {
   "cell_type": "code",
   "execution_count": 38,
   "id": "e2505ca8",
   "metadata": {
    "slideshow": {
     "slide_type": "-"
    }
   },
   "outputs": [
    {
     "name": "stdout",
     "output_type": "stream",
     "text": [
      " False : /\n",
      " False : /~guido/orlijn/\n",
      "  True : /\n",
      " False : /webstats/\n"
     ]
    }
   ],
   "source": [
    "from urllib import parse\n",
    "from urllib import robotparser\n",
    "AGENT_NAME = 'Nutch'\n",
    "URL_BASE = 'https://www.python.org/'\n",
    "parser = robotparser.RobotFileParser()\n",
    "parser.set_url(parse.urljoin(URL_BASE, 'robots.txt'))\n",
    "parser.read()\n",
    "PATHS = ['/','/~guido/orlijn/',]\n",
    "for path in PATHS:\n",
    "    print('{!r:>6} : {}'.format( parser.can_fetch(AGENT_NAME, path), path))\n",
    " \n",
    "AGENT_NAME = 'Python'\n",
    "PATHS = ['/','/webstats/',]\n",
    "for path in PATHS:\n",
    "    print('{!r:>6} : {}'.format( parser.can_fetch(AGENT_NAME, path), path))\n",
    " "
   ]
  },
  {
   "cell_type": "markdown",
   "id": "ee45341c",
   "metadata": {
    "slideshow": {
     "slide_type": "slide"
    }
   },
   "source": [
    "## Usare il Browser come strumento di sviluppo"
   ]
  },
  {
   "cell_type": "markdown",
   "id": "c626b480",
   "metadata": {
    "slideshow": {
     "slide_type": "-"
    }
   },
   "source": [
    "* la maggior parte dei browser attuali include un toolkit di potenti strumenti per gestire pagine **HTML**\n",
    "* accedere ad esempio alla pagina https://en.wikipedia.org/w/index.php?title=List_of:Gam_of_thrones_episodes&oldid=802553687,\n",
    "* riporta tutti gli episodi di Game of Thrones"
   ]
  },
  {
   "cell_type": "markdown",
   "id": "70e31dff",
   "metadata": {
    "slideshow": {
     "slide_type": "-"
    }
   },
   "source": [
    "<img src=\"Figures/GameOfThrones.png\" style=\"width2000px;height:900px;\"/>"
   ]
  },
  {
   "cell_type": "markdown",
   "id": "a4722dc2",
   "metadata": {
    "slideshow": {
     "slide_type": "slide"
    }
   },
   "source": [
    "## Il browser come strumento di sviluppo"
   ]
  },
  {
   "cell_type": "markdown",
   "id": "50e37f85",
   "metadata": {
    "slideshow": {
     "slide_type": "-"
    }
   },
   "source": [
    "* browser di riferimento: **Chrome**"
   ]
  },
  {
   "cell_type": "markdown",
   "id": "737b4e60",
   "metadata": {
    "slideshow": {
     "slide_type": "-"
    }
   },
   "source": [
    "<img src=\"Figures/GameOfThronesSource.png\" style=\"width2000px;height:900px;\"/>"
   ]
  },
  {
   "cell_type": "markdown",
   "id": "6b718b37",
   "metadata": {
    "slideshow": {
     "slide_type": "slide"
    }
   },
   "source": [
    "## Il browser come strumento di sviluppo"
   ]
  },
  {
   "cell_type": "markdown",
   "id": "c2f015c8",
   "metadata": {
    "slideshow": {
     "slide_type": "-"
    }
   },
   "source": [
    "* **Developer Tool**: Uno strumento più evoluto\n",
    "    * aprire il menù di **Chrome** e poi **Altri Strumenti**, **Strumenti per sviluppatori**\n",
    "    * in alternativa: **right click** sulla pagine  e selezioneare **Inspect Element**\n",
    "* altri browser come **Firefox** o **Microsoft Edge** hanno strumenti simili"
   ]
  },
  {
   "cell_type": "markdown",
   "id": "47543d90",
   "metadata": {},
   "source": [
    "<img src=\"Figures/ChromeDeveloperTool.png\" style=\"width:2000px;height:1000px;\"/>"
   ]
  },
  {
   "cell_type": "markdown",
   "id": "a78db8a8",
   "metadata": {
    "slideshow": {
     "slide_type": "slide"
    }
   },
   "source": [
    "## Il browser come strumento di sviluppo: il tag \"Elements\""
   ]
  },
  {
   "cell_type": "markdown",
   "id": "62173db8",
   "metadata": {
    "slideshow": {
     "slide_type": "-"
    }
   },
   "source": [
    "* utilizzare questo tag per passare il mouse sopra gli elementi HTML \n",
    "* per ogni elemento così individuato il browser visualizza una finestra trasparente sul corrispondente elemento sulla rappresentazione visuale della pagina\n",
    "* alternativamente, cliccare su un elemento della pagina web con il tasto destro e selezionare **Inspect element**\n"
   ]
  },
  {
   "cell_type": "markdown",
   "id": "45f7cb1d",
   "metadata": {},
   "source": [
    "<img src=\"Figures/Elements.png\" style=\"width:2000px;height:1000px;\"/>"
   ]
  },
  {
   "cell_type": "markdown",
   "id": "c43bfcfc",
   "metadata": {
    "slideshow": {
     "slide_type": "slide"
    }
   },
   "source": [
    "## Confrontare tag Elements verso View Source"
   ]
  },
  {
   "cell_type": "markdown",
   "id": "aaaee371",
   "metadata": {
    "slideshow": {
     "slide_type": "-"
    }
   },
   "source": [
    "* **View Source**: una visione \"raw\" del documento **HTML**\n",
    "    * restituisce il codice **HTML** così come restituito dal web server\n",
    "    * restituisce lo stesso codice restituiro da **r.text**, di *request**\n",
    "* **Element tab**: visione più strutturata del dicumento **HTML**\n",
    "    * restitusice una **versione pulita** del documento\n",
    "    * **overlapping tags** risolti\n",
    "    * rimozione di spazi bianchi\n",
    "    * versione dinamica della pagina: riporta la pagina dopo l'eventuale esecuzione di codice **JAVA Script**\n",
    "    * codice reperibile tra i tag <scrpt e </scrpt>"
   ]
  },
  {
   "cell_type": "markdown",
   "id": "d1dc5ac8",
   "metadata": {
    "slideshow": {
     "slide_type": "slide"
    }
   },
   "source": [
    "## First scraping Example: Scraping War and Peace"
   ]
  },
  {
   "cell_type": "markdown",
   "id": "cdf78e61",
   "metadata": {
    "slideshow": {
     "slide_type": "-"
    }
   },
   "source": [
    "<td> <img src=\"Figures/WarAndPeace.jpg\" style=\"width2000px;height:900px;\"/>"
   ]
  },
  {
   "cell_type": "markdown",
   "id": "e97dc58c",
   "metadata": {
    "slideshow": {
     "slide_type": "slide"
    }
   },
   "source": [
    "## First Scraping Example: Scraping War and Peace"
   ]
  },
  {
   "cell_type": "code",
   "execution_count": null,
   "id": "b20e5a9e",
   "metadata": {
    "slideshow": {
     "slide_type": "-"
    }
   },
   "outputs": [],
   "source": [
    "from urllib.request import urlopen\n",
    "from bs4 import BeautifulSoup\n",
    "html = urlopen('http://www.pythonscraping.com/pages/warandpeace.html')\n",
    "bs = BeautifulSoup(html.read(), 'html.parser')\n",
    "\n",
    "print(bs.prettify())\n"
   ]
  },
  {
   "cell_type": "markdown",
   "id": "350ae2ba",
   "metadata": {
    "slideshow": {
     "slide_type": "slide"
    }
   },
   "source": [
    "## First scraping example: Scraping War and Peace"
   ]
  },
  {
   "cell_type": "code",
   "execution_count": null,
   "id": "025e154e",
   "metadata": {
    "slideshow": {
     "slide_type": "-"
    }
   },
   "outputs": [],
   "source": [
    "bs.findAll(['h1','h2','h3','h4','h5','h6' ])\n"
   ]
  },
  {
   "cell_type": "code",
   "execution_count": null,
   "id": "53edb8fe",
   "metadata": {
    "slideshow": {
     "slide_type": "-"
    }
   },
   "outputs": [],
   "source": [
    "bs.find('span', {'class':{'red'}})\n"
   ]
  },
  {
   "cell_type": "markdown",
   "id": "fb19f267",
   "metadata": {
    "slideshow": {
     "slide_type": "slide"
    }
   },
   "source": [
    "## Second Scraping example: Scraping Game of Thrones"
   ]
  },
  {
   "cell_type": "code",
   "execution_count": null,
   "id": "a944d694",
   "metadata": {
    "slideshow": {
     "slide_type": "-"
    }
   },
   "outputs": [],
   "source": [
    "import requests\n",
    "from bs4 import BeautifulSoup\n",
    "url = 'https://en.wikipedia.org/w/index.php' + '?title=List_of_Game_of_Thrones_episodes&oldid=802553687'\n",
    "r = requests.get(url)\n",
    "html_contents = r.text\n",
    "html_soup = BeautifulSoup(html_contents, 'html.parser')\n",
    "\n",
    "first_h1 = html_soup.find('h1')\n",
    "\n",
    "print(first_h1.name) # h1\n",
    "print(first_h1.contents) # ['List of ', [...], ' episodes']\n",
    "print(str(first_h1))\n"
   ]
  },
  {
   "cell_type": "markdown",
   "id": "3b93d4d1",
   "metadata": {
    "slideshow": {
     "slide_type": "slide"
    }
   },
   "source": [
    "## Second Scraping example: Scraping Game of Thrones"
   ]
  },
  {
   "cell_type": "code",
   "execution_count": null,
   "id": "c13a4bf5",
   "metadata": {
    "slideshow": {
     "slide_type": "-"
    }
   },
   "outputs": [],
   "source": [
    "print(first_h1.text) # List of Game of Thrones episodes\n",
    "print(first_h1.get_text()) # Does the same\n",
    "print(first_h1.attrs)\n",
    "# Prints out: {'id': 'firstHeading', 'class': ['firstHeading'], 'lang': 'en'}\n"
   ]
  },
  {
   "cell_type": "markdown",
   "id": "743a2cff",
   "metadata": {
    "slideshow": {
     "slide_type": "slide"
    }
   },
   "source": [
    "## Second Scraping example: Scraping Game of Thrones"
   ]
  },
  {
   "cell_type": "code",
   "execution_count": null,
   "id": "da45d9bc",
   "metadata": {},
   "outputs": [],
   "source": [
    "print(first_h1.attrs['id']) # firstHeading\n",
    "print(first_h1['id']) # Does the same\n",
    "print(first_h1.get('id')) # Does the same\n"
   ]
  },
  {
   "cell_type": "markdown",
   "id": "c148f661",
   "metadata": {
    "slideshow": {
     "slide_type": "slide"
    }
   },
   "source": [
    "## Second Scraping example: Scraping Game of Thrones"
   ]
  },
  {
   "cell_type": "code",
   "execution_count": null,
   "id": "27986c69",
   "metadata": {},
   "outputs": [],
   "source": [
    "print('------------ CITATIONS ------------')\n",
    "# Find the first five cite elements with a citation class\n",
    "cites = html_soup.find_all('cite', class_='citation', limit=5)\n",
    "for citation in cites:\n",
    "    print(citation.get_text())\n",
    "    # Inside of this cite element, find the first a tag\n",
    "    link = citation.find('a')\n",
    "    "
   ]
  },
  {
   "cell_type": "markdown",
   "id": "5270d23f",
   "metadata": {
    "slideshow": {
     "slide_type": "slide"
    }
   },
   "source": [
    "## Assignment"
   ]
  },
  {
   "cell_type": "markdown",
   "id": "d159c6aa",
   "metadata": {
    "slideshow": {
     "slide_type": "-"
    }
   },
   "source": [
    "* analizzare la pagina **Wikipedia** di **Game_of_Thrones**, utilizzando gli strumenti disponibili sul vostro browser\n",
    "* la pagina contiene un insieme di tabelle che contengono una lista degli episodi, riportando per ciascuno, chi ha diretto l'episodia, chi lo ha scritto, la data di rilascio, il numero di \n",
    "richieste di streaming dell'episodio\n",
    "* scaricare la pagina e quindi, mediante, scraping, trovare i dati di tutti gli episodi e stamparli"
   ]
  }
 ],
 "metadata": {
  "celltoolbar": "Slideshow",
  "kernelspec": {
   "display_name": "Python 3 (ipykernel)",
   "language": "python",
   "name": "python3"
  },
  "language_info": {
   "codemirror_mode": {
    "name": "ipython",
    "version": 3
   },
   "file_extension": ".py",
   "mimetype": "text/x-python",
   "name": "python",
   "nbconvert_exporter": "python",
   "pygments_lexer": "ipython3",
   "version": "3.11.8"
  }
 },
 "nbformat": 4,
 "nbformat_minor": 5
}
