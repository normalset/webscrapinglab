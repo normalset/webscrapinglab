{
 "cells": [
  {
   "cell_type": "markdown",
   "id": "4458646d",
   "metadata": {
    "slideshow": {
     "slide_type": "slide"
    }
   },
   "source": [
    "# <h1><center> WebScraping </h1>\n",
    "<h1><center> Anno Accademico 2022-2023 </h1>\n",
    "<h1><center>  Docente: Laura Ricci </h1>\n",
    "<h1><center>  Lezione 7 </h1>\n",
    "<h1><center>  Pandas: Filetering and Grouping, Group_By</h1>\n",
    "<h1><center> 21 Febbraio 2024 </h1>"
   ]
  },
  {
   "cell_type": "markdown",
   "id": "bc9ebcfd",
   "metadata": {
    "slideshow": {
     "slide_type": "slide"
    }
   },
   "source": [
    "## Assignment 4: Correzione\n",
    "\n"
   ]
  },
  {
   "cell_type": "markdown",
   "id": "0a699d4f",
   "metadata": {
    "slideshow": {
     "slide_type": "-"
    }
   },
   "source": [
    "* considerare il **Data Set** dei giocatori di basket\n",
    "* indicare due modi diversi per impostare l'indice del DataFrame  al nome del giocatore\n",
    "* calcolare il numero di giocatori per ogni Team\n",
    "* chi sono i 5 giocatori pù pagati?\n",
    "* chi è il giocatore più vecchio dei New York Knicks?"
   ]
  },
  {
   "cell_type": "markdown",
   "id": "695d51a4",
   "metadata": {
    "slideshow": {
     "slide_type": "slide"
    }
   },
   "source": [
    "## Importare il DataFrame"
   ]
  },
  {
   "cell_type": "code",
   "execution_count": 2,
   "id": "959c8021",
   "metadata": {
    "scrolled": true,
    "slideshow": {
     "slide_type": "-"
    }
   },
   "outputs": [
    {
     "data": {
      "text/html": [
       "<div>\n",
       "<style scoped>\n",
       "    .dataframe tbody tr th:only-of-type {\n",
       "        vertical-align: middle;\n",
       "    }\n",
       "\n",
       "    .dataframe tbody tr th {\n",
       "        vertical-align: top;\n",
       "    }\n",
       "\n",
       "    .dataframe thead th {\n",
       "        text-align: right;\n",
       "    }\n",
       "</style>\n",
       "<table border=\"1\" class=\"dataframe\">\n",
       "  <thead>\n",
       "    <tr style=\"text-align: right;\">\n",
       "      <th></th>\n",
       "      <th>Name</th>\n",
       "      <th>Team</th>\n",
       "      <th>Position</th>\n",
       "      <th>Birthday</th>\n",
       "      <th>Salary</th>\n",
       "    </tr>\n",
       "  </thead>\n",
       "  <tbody>\n",
       "    <tr>\n",
       "      <th>0</th>\n",
       "      <td>Shake Milton</td>\n",
       "      <td>Philadelphia 76ers</td>\n",
       "      <td>SG</td>\n",
       "      <td>1996-09-26</td>\n",
       "      <td>1445697</td>\n",
       "    </tr>\n",
       "    <tr>\n",
       "      <th>1</th>\n",
       "      <td>Christian Wood</td>\n",
       "      <td>Detroit Pistons</td>\n",
       "      <td>PF</td>\n",
       "      <td>1995-09-27</td>\n",
       "      <td>1645357</td>\n",
       "    </tr>\n",
       "    <tr>\n",
       "      <th>2</th>\n",
       "      <td>PJ Washington</td>\n",
       "      <td>Charlotte Hornets</td>\n",
       "      <td>PF</td>\n",
       "      <td>1998-08-23</td>\n",
       "      <td>3831840</td>\n",
       "    </tr>\n",
       "    <tr>\n",
       "      <th>3</th>\n",
       "      <td>Derrick Rose</td>\n",
       "      <td>Detroit Pistons</td>\n",
       "      <td>PG</td>\n",
       "      <td>1988-10-04</td>\n",
       "      <td>7317074</td>\n",
       "    </tr>\n",
       "    <tr>\n",
       "      <th>4</th>\n",
       "      <td>Marial Shayok</td>\n",
       "      <td>Philadelphia 76ers</td>\n",
       "      <td>G</td>\n",
       "      <td>1995-07-26</td>\n",
       "      <td>79568</td>\n",
       "    </tr>\n",
       "    <tr>\n",
       "      <th>...</th>\n",
       "      <td>...</td>\n",
       "      <td>...</td>\n",
       "      <td>...</td>\n",
       "      <td>...</td>\n",
       "      <td>...</td>\n",
       "    </tr>\n",
       "    <tr>\n",
       "      <th>445</th>\n",
       "      <td>Austin Rivers</td>\n",
       "      <td>Houston Rockets</td>\n",
       "      <td>PG</td>\n",
       "      <td>1992-08-01</td>\n",
       "      <td>2174310</td>\n",
       "    </tr>\n",
       "    <tr>\n",
       "      <th>446</th>\n",
       "      <td>Harry Giles</td>\n",
       "      <td>Sacramento Kings</td>\n",
       "      <td>PF</td>\n",
       "      <td>1998-04-22</td>\n",
       "      <td>2578800</td>\n",
       "    </tr>\n",
       "    <tr>\n",
       "      <th>447</th>\n",
       "      <td>Robin Lopez</td>\n",
       "      <td>Milwaukee Bucks</td>\n",
       "      <td>C</td>\n",
       "      <td>1988-04-01</td>\n",
       "      <td>4767000</td>\n",
       "    </tr>\n",
       "    <tr>\n",
       "      <th>448</th>\n",
       "      <td>Collin Sexton</td>\n",
       "      <td>Cleveland Cavaliers</td>\n",
       "      <td>PG</td>\n",
       "      <td>1999-01-04</td>\n",
       "      <td>4764960</td>\n",
       "    </tr>\n",
       "    <tr>\n",
       "      <th>449</th>\n",
       "      <td>Ricky Rubio</td>\n",
       "      <td>Phoenix Suns</td>\n",
       "      <td>PG</td>\n",
       "      <td>1990-10-21</td>\n",
       "      <td>16200000</td>\n",
       "    </tr>\n",
       "  </tbody>\n",
       "</table>\n",
       "<p>450 rows × 5 columns</p>\n",
       "</div>"
      ],
      "text/plain": [
       "               Name                 Team Position   Birthday    Salary\n",
       "0      Shake Milton   Philadelphia 76ers       SG 1996-09-26   1445697\n",
       "1    Christian Wood      Detroit Pistons       PF 1995-09-27   1645357\n",
       "2     PJ Washington    Charlotte Hornets       PF 1998-08-23   3831840\n",
       "3      Derrick Rose      Detroit Pistons       PG 1988-10-04   7317074\n",
       "4     Marial Shayok   Philadelphia 76ers        G 1995-07-26     79568\n",
       "..              ...                  ...      ...        ...       ...\n",
       "445   Austin Rivers      Houston Rockets       PG 1992-08-01   2174310\n",
       "446     Harry Giles     Sacramento Kings       PF 1998-04-22   2578800\n",
       "447     Robin Lopez      Milwaukee Bucks        C 1988-04-01   4767000\n",
       "448   Collin Sexton  Cleveland Cavaliers       PG 1999-01-04   4764960\n",
       "449     Ricky Rubio         Phoenix Suns       PG 1990-10-21  16200000\n",
       "\n",
       "[450 rows x 5 columns]"
      ]
     },
     "execution_count": 2,
     "metadata": {},
     "output_type": "execute_result"
    }
   ],
   "source": [
    "import warnings\n",
    "warnings.filterwarnings('ignore')\n",
    "\n",
    "import pandas as pd\n",
    "pd.read_csv(\"DataSets/nba.csv\", parse_dates = [\"Birthday\"])\n"
   ]
  },
  {
   "cell_type": "markdown",
   "id": "f3898979",
   "metadata": {
    "slideshow": {
     "slide_type": "slide"
    }
   },
   "source": [
    "## Indicare due modi diversi per impostare l'indice del DataFrame  con il  nome del giocatore"
   ]
  },
  {
   "cell_type": "code",
   "execution_count": 3,
   "id": "cda8d252",
   "metadata": {
    "slideshow": {
     "slide_type": "-"
    }
   },
   "outputs": [
    {
     "data": {
      "text/html": [
       "<div>\n",
       "<style scoped>\n",
       "    .dataframe tbody tr th:only-of-type {\n",
       "        vertical-align: middle;\n",
       "    }\n",
       "\n",
       "    .dataframe tbody tr th {\n",
       "        vertical-align: top;\n",
       "    }\n",
       "\n",
       "    .dataframe thead th {\n",
       "        text-align: right;\n",
       "    }\n",
       "</style>\n",
       "<table border=\"1\" class=\"dataframe\">\n",
       "  <thead>\n",
       "    <tr style=\"text-align: right;\">\n",
       "      <th></th>\n",
       "      <th>Team</th>\n",
       "      <th>Position</th>\n",
       "      <th>Birthday</th>\n",
       "      <th>Salary</th>\n",
       "    </tr>\n",
       "    <tr>\n",
       "      <th>Name</th>\n",
       "      <th></th>\n",
       "      <th></th>\n",
       "      <th></th>\n",
       "      <th></th>\n",
       "    </tr>\n",
       "  </thead>\n",
       "  <tbody>\n",
       "    <tr>\n",
       "      <th>Shake Milton</th>\n",
       "      <td>Philadelphia 76ers</td>\n",
       "      <td>SG</td>\n",
       "      <td>1996-09-26</td>\n",
       "      <td>1445697</td>\n",
       "    </tr>\n",
       "    <tr>\n",
       "      <th>Christian Wood</th>\n",
       "      <td>Detroit Pistons</td>\n",
       "      <td>PF</td>\n",
       "      <td>1995-09-27</td>\n",
       "      <td>1645357</td>\n",
       "    </tr>\n",
       "    <tr>\n",
       "      <th>PJ Washington</th>\n",
       "      <td>Charlotte Hornets</td>\n",
       "      <td>PF</td>\n",
       "      <td>1998-08-23</td>\n",
       "      <td>3831840</td>\n",
       "    </tr>\n",
       "    <tr>\n",
       "      <th>Derrick Rose</th>\n",
       "      <td>Detroit Pistons</td>\n",
       "      <td>PG</td>\n",
       "      <td>1988-10-04</td>\n",
       "      <td>7317074</td>\n",
       "    </tr>\n",
       "    <tr>\n",
       "      <th>Marial Shayok</th>\n",
       "      <td>Philadelphia 76ers</td>\n",
       "      <td>G</td>\n",
       "      <td>1995-07-26</td>\n",
       "      <td>79568</td>\n",
       "    </tr>\n",
       "  </tbody>\n",
       "</table>\n",
       "</div>"
      ],
      "text/plain": [
       "                              Team Position   Birthday   Salary\n",
       "Name                                                           \n",
       "Shake Milton    Philadelphia 76ers       SG 1996-09-26  1445697\n",
       "Christian Wood     Detroit Pistons       PF 1995-09-27  1645357\n",
       "PJ Washington    Charlotte Hornets       PF 1998-08-23  3831840\n",
       "Derrick Rose       Detroit Pistons       PG 1988-10-04  7317074\n",
       "Marial Shayok   Philadelphia 76ers        G 1995-07-26    79568"
      ]
     },
     "execution_count": 3,
     "metadata": {},
     "output_type": "execute_result"
    }
   ],
   "source": [
    "nba = pd.read_csv(\n",
    "             \"DataSets/nba.csv\", index_col = \"Name\", parse_dates = [\"Birthday\"]\n",
    "        )\n",
    "nba.head()\n"
   ]
  },
  {
   "cell_type": "markdown",
   "id": "68f4847e",
   "metadata": {
    "slideshow": {
     "slide_type": "slide"
    }
   },
   "source": [
    "## Indicare due modi diversi per impostare l'indice del DataFrame  con il  nome del giocatore"
   ]
  },
  {
   "cell_type": "code",
   "execution_count": 4,
   "id": "43eded42",
   "metadata": {
    "slideshow": {
     "slide_type": "-"
    }
   },
   "outputs": [
    {
     "ename": "AttributeError",
     "evalue": "'DataFrame' object has no attribute 'setIndex'",
     "output_type": "error",
     "traceback": [
      "\u001b[0;31m---------------------------------------------------------------------------\u001b[0m",
      "\u001b[0;31mAttributeError\u001b[0m                            Traceback (most recent call last)",
      "\u001b[0;32m/var/folders/k5/hv224hb94mbd_04zpwlf07g80000gn/T/ipykernel_23606/3523637788.py\u001b[0m in \u001b[0;36m?\u001b[0;34m()\u001b[0m\n\u001b[0;32m----> 1\u001b[0;31m \u001b[0mnba\u001b[0m\u001b[0;34m=\u001b[0m\u001b[0mnba\u001b[0m\u001b[0;34m.\u001b[0m\u001b[0msetIndex\u001b[0m\u001b[0;34m(\u001b[0m\u001b[0;34m\"Name\"\u001b[0m\u001b[0;34m)\u001b[0m\u001b[0;34m\u001b[0m\u001b[0;34m\u001b[0m\u001b[0m\n\u001b[0m",
      "\u001b[0;32m/usr/local/lib/python3.11/site-packages/pandas/core/generic.py\u001b[0m in \u001b[0;36m?\u001b[0;34m(self, name)\u001b[0m\n\u001b[1;32m   6289\u001b[0m             \u001b[0;32mand\u001b[0m \u001b[0mname\u001b[0m \u001b[0;32mnot\u001b[0m \u001b[0;32min\u001b[0m \u001b[0mself\u001b[0m\u001b[0;34m.\u001b[0m\u001b[0m_accessors\u001b[0m\u001b[0;34m\u001b[0m\u001b[0;34m\u001b[0m\u001b[0m\n\u001b[1;32m   6290\u001b[0m             \u001b[0;32mand\u001b[0m \u001b[0mself\u001b[0m\u001b[0;34m.\u001b[0m\u001b[0m_info_axis\u001b[0m\u001b[0;34m.\u001b[0m\u001b[0m_can_hold_identifiers_and_holds_name\u001b[0m\u001b[0;34m(\u001b[0m\u001b[0mname\u001b[0m\u001b[0;34m)\u001b[0m\u001b[0;34m\u001b[0m\u001b[0;34m\u001b[0m\u001b[0m\n\u001b[1;32m   6291\u001b[0m         ):\n\u001b[1;32m   6292\u001b[0m             \u001b[0;32mreturn\u001b[0m \u001b[0mself\u001b[0m\u001b[0;34m[\u001b[0m\u001b[0mname\u001b[0m\u001b[0;34m]\u001b[0m\u001b[0;34m\u001b[0m\u001b[0;34m\u001b[0m\u001b[0m\n\u001b[0;32m-> 6293\u001b[0;31m         \u001b[0;32mreturn\u001b[0m \u001b[0mobject\u001b[0m\u001b[0;34m.\u001b[0m\u001b[0m__getattribute__\u001b[0m\u001b[0;34m(\u001b[0m\u001b[0mself\u001b[0m\u001b[0;34m,\u001b[0m \u001b[0mname\u001b[0m\u001b[0;34m)\u001b[0m\u001b[0;34m\u001b[0m\u001b[0;34m\u001b[0m\u001b[0m\n\u001b[0m",
      "\u001b[0;31mAttributeError\u001b[0m: 'DataFrame' object has no attribute 'setIndex'"
     ]
    }
   ],
   "source": [
    "nba=nba.setIndex(\"Name\")\n"
   ]
  },
  {
   "cell_type": "markdown",
   "id": "0ed2b46f",
   "metadata": {
    "slideshow": {
     "slide_type": "-"
    }
   },
   "source": [
    "* perchè viene sollevato un errore?"
   ]
  },
  {
   "cell_type": "markdown",
   "id": "a5af7f5b",
   "metadata": {
    "slideshow": {
     "slide_type": "slide"
    }
   },
   "source": [
    "## Indicare due modi diversi per impostare l'indice del DataFrame  con il  nome del giocatore"
   ]
  },
  {
   "cell_type": "code",
   "execution_count": 5,
   "id": "3b910d9c",
   "metadata": {
    "slideshow": {
     "slide_type": "-"
    }
   },
   "outputs": [
    {
     "data": {
      "text/html": [
       "<div>\n",
       "<style scoped>\n",
       "    .dataframe tbody tr th:only-of-type {\n",
       "        vertical-align: middle;\n",
       "    }\n",
       "\n",
       "    .dataframe tbody tr th {\n",
       "        vertical-align: top;\n",
       "    }\n",
       "\n",
       "    .dataframe thead th {\n",
       "        text-align: right;\n",
       "    }\n",
       "</style>\n",
       "<table border=\"1\" class=\"dataframe\">\n",
       "  <thead>\n",
       "    <tr style=\"text-align: right;\">\n",
       "      <th></th>\n",
       "      <th>Name</th>\n",
       "      <th>Team</th>\n",
       "      <th>Position</th>\n",
       "      <th>Birthday</th>\n",
       "      <th>Salary</th>\n",
       "    </tr>\n",
       "  </thead>\n",
       "  <tbody>\n",
       "    <tr>\n",
       "      <th>0</th>\n",
       "      <td>Shake Milton</td>\n",
       "      <td>Philadelphia 76ers</td>\n",
       "      <td>SG</td>\n",
       "      <td>1996-09-26</td>\n",
       "      <td>1445697</td>\n",
       "    </tr>\n",
       "    <tr>\n",
       "      <th>1</th>\n",
       "      <td>Christian Wood</td>\n",
       "      <td>Detroit Pistons</td>\n",
       "      <td>PF</td>\n",
       "      <td>1995-09-27</td>\n",
       "      <td>1645357</td>\n",
       "    </tr>\n",
       "    <tr>\n",
       "      <th>2</th>\n",
       "      <td>PJ Washington</td>\n",
       "      <td>Charlotte Hornets</td>\n",
       "      <td>PF</td>\n",
       "      <td>1998-08-23</td>\n",
       "      <td>3831840</td>\n",
       "    </tr>\n",
       "    <tr>\n",
       "      <th>3</th>\n",
       "      <td>Derrick Rose</td>\n",
       "      <td>Detroit Pistons</td>\n",
       "      <td>PG</td>\n",
       "      <td>1988-10-04</td>\n",
       "      <td>7317074</td>\n",
       "    </tr>\n",
       "    <tr>\n",
       "      <th>4</th>\n",
       "      <td>Marial Shayok</td>\n",
       "      <td>Philadelphia 76ers</td>\n",
       "      <td>G</td>\n",
       "      <td>1995-07-26</td>\n",
       "      <td>79568</td>\n",
       "    </tr>\n",
       "  </tbody>\n",
       "</table>\n",
       "</div>"
      ],
      "text/plain": [
       "             Name                Team Position   Birthday   Salary\n",
       "0    Shake Milton  Philadelphia 76ers       SG 1996-09-26  1445697\n",
       "1  Christian Wood     Detroit Pistons       PF 1995-09-27  1645357\n",
       "2   PJ Washington   Charlotte Hornets       PF 1998-08-23  3831840\n",
       "3    Derrick Rose     Detroit Pistons       PG 1988-10-04  7317074\n",
       "4   Marial Shayok  Philadelphia 76ers        G 1995-07-26    79568"
      ]
     },
     "execution_count": 5,
     "metadata": {},
     "output_type": "execute_result"
    }
   ],
   "source": [
    "nba.head()\n",
    "nba_rs=nba.reset_index()\n",
    "nba_rs.head()\n"
   ]
  },
  {
   "cell_type": "markdown",
   "id": "3df20670",
   "metadata": {
    "slideshow": {
     "slide_type": "slide"
    }
   },
   "source": [
    "## Indicare due modi diversi per impostare l'indice del DataFrame con il nome del giocatore"
   ]
  },
  {
   "cell_type": "code",
   "execution_count": 6,
   "id": "041675a2",
   "metadata": {
    "slideshow": {
     "slide_type": "-"
    }
   },
   "outputs": [
    {
     "data": {
      "text/html": [
       "<div>\n",
       "<style scoped>\n",
       "    .dataframe tbody tr th:only-of-type {\n",
       "        vertical-align: middle;\n",
       "    }\n",
       "\n",
       "    .dataframe tbody tr th {\n",
       "        vertical-align: top;\n",
       "    }\n",
       "\n",
       "    .dataframe thead th {\n",
       "        text-align: right;\n",
       "    }\n",
       "</style>\n",
       "<table border=\"1\" class=\"dataframe\">\n",
       "  <thead>\n",
       "    <tr style=\"text-align: right;\">\n",
       "      <th></th>\n",
       "      <th>Team</th>\n",
       "      <th>Position</th>\n",
       "      <th>Birthday</th>\n",
       "      <th>Salary</th>\n",
       "    </tr>\n",
       "    <tr>\n",
       "      <th>Name</th>\n",
       "      <th></th>\n",
       "      <th></th>\n",
       "      <th></th>\n",
       "      <th></th>\n",
       "    </tr>\n",
       "  </thead>\n",
       "  <tbody>\n",
       "    <tr>\n",
       "      <th>Shake Milton</th>\n",
       "      <td>Philadelphia 76ers</td>\n",
       "      <td>SG</td>\n",
       "      <td>1996-09-26</td>\n",
       "      <td>1445697</td>\n",
       "    </tr>\n",
       "    <tr>\n",
       "      <th>Christian Wood</th>\n",
       "      <td>Detroit Pistons</td>\n",
       "      <td>PF</td>\n",
       "      <td>1995-09-27</td>\n",
       "      <td>1645357</td>\n",
       "    </tr>\n",
       "    <tr>\n",
       "      <th>PJ Washington</th>\n",
       "      <td>Charlotte Hornets</td>\n",
       "      <td>PF</td>\n",
       "      <td>1998-08-23</td>\n",
       "      <td>3831840</td>\n",
       "    </tr>\n",
       "    <tr>\n",
       "      <th>Derrick Rose</th>\n",
       "      <td>Detroit Pistons</td>\n",
       "      <td>PG</td>\n",
       "      <td>1988-10-04</td>\n",
       "      <td>7317074</td>\n",
       "    </tr>\n",
       "    <tr>\n",
       "      <th>Marial Shayok</th>\n",
       "      <td>Philadelphia 76ers</td>\n",
       "      <td>G</td>\n",
       "      <td>1995-07-26</td>\n",
       "      <td>79568</td>\n",
       "    </tr>\n",
       "    <tr>\n",
       "      <th>...</th>\n",
       "      <td>...</td>\n",
       "      <td>...</td>\n",
       "      <td>...</td>\n",
       "      <td>...</td>\n",
       "    </tr>\n",
       "    <tr>\n",
       "      <th>Austin Rivers</th>\n",
       "      <td>Houston Rockets</td>\n",
       "      <td>PG</td>\n",
       "      <td>1992-08-01</td>\n",
       "      <td>2174310</td>\n",
       "    </tr>\n",
       "    <tr>\n",
       "      <th>Harry Giles</th>\n",
       "      <td>Sacramento Kings</td>\n",
       "      <td>PF</td>\n",
       "      <td>1998-04-22</td>\n",
       "      <td>2578800</td>\n",
       "    </tr>\n",
       "    <tr>\n",
       "      <th>Robin Lopez</th>\n",
       "      <td>Milwaukee Bucks</td>\n",
       "      <td>C</td>\n",
       "      <td>1988-04-01</td>\n",
       "      <td>4767000</td>\n",
       "    </tr>\n",
       "    <tr>\n",
       "      <th>Collin Sexton</th>\n",
       "      <td>Cleveland Cavaliers</td>\n",
       "      <td>PG</td>\n",
       "      <td>1999-01-04</td>\n",
       "      <td>4764960</td>\n",
       "    </tr>\n",
       "    <tr>\n",
       "      <th>Ricky Rubio</th>\n",
       "      <td>Phoenix Suns</td>\n",
       "      <td>PG</td>\n",
       "      <td>1990-10-21</td>\n",
       "      <td>16200000</td>\n",
       "    </tr>\n",
       "  </tbody>\n",
       "</table>\n",
       "<p>450 rows × 4 columns</p>\n",
       "</div>"
      ],
      "text/plain": [
       "                               Team Position   Birthday    Salary\n",
       "Name                                                             \n",
       "Shake Milton     Philadelphia 76ers       SG 1996-09-26   1445697\n",
       "Christian Wood      Detroit Pistons       PF 1995-09-27   1645357\n",
       "PJ Washington     Charlotte Hornets       PF 1998-08-23   3831840\n",
       "Derrick Rose        Detroit Pistons       PG 1988-10-04   7317074\n",
       "Marial Shayok    Philadelphia 76ers        G 1995-07-26     79568\n",
       "...                             ...      ...        ...       ...\n",
       "Austin Rivers       Houston Rockets       PG 1992-08-01   2174310\n",
       "Harry Giles        Sacramento Kings       PF 1998-04-22   2578800\n",
       "Robin Lopez         Milwaukee Bucks        C 1988-04-01   4767000\n",
       "Collin Sexton   Cleveland Cavaliers       PG 1999-01-04   4764960\n",
       "Ricky Rubio            Phoenix Suns       PG 1990-10-21  16200000\n",
       "\n",
       "[450 rows x 4 columns]"
      ]
     },
     "execution_count": 6,
     "metadata": {},
     "output_type": "execute_result"
    }
   ],
   "source": [
    "nba_rs=nba_rs.set_index(\"Name\")\n",
    "nba_rs"
   ]
  },
  {
   "cell_type": "markdown",
   "id": "721244e0",
   "metadata": {
    "slideshow": {
     "slide_type": "slide"
    }
   },
   "source": [
    "## Calcolare il numero di giocatori per ogni Team"
   ]
  },
  {
   "cell_type": "code",
   "execution_count": 7,
   "id": "5d10efa4",
   "metadata": {},
   "outputs": [
    {
     "data": {
      "text/plain": [
       "Team\n",
       "Philadelphia 76ers        17\n",
       "Minnesota Timberwolves    17\n",
       "Utah Jazz                 17\n",
       "Brooklyn Nets             17\n",
       "Toronto Raptors           16\n",
       "Boston Celtics            16\n",
       "Chicago Bulls             16\n",
       "Detroit Pistons           16\n",
       "New York Knicks           16\n",
       "New Orleans Pelicans      16\n",
       "Los Angeles Lakers        16\n",
       "Charlotte Hornets         16\n",
       "Atlanta Hawks             15\n",
       "Denver Nuggets            15\n",
       "Memphis Grizzlies         15\n",
       "Phoenix Suns              15\n",
       "Sacramento Kings          15\n",
       "Miami Heat                15\n",
       "Golden State Warriors     15\n",
       "Los Angeles Clippers      14\n",
       "Washington Wizards        14\n",
       "Portland Trail Blazers    14\n",
       "Milwaukee Bucks           14\n",
       "Houston Rockets           14\n",
       "San Antonio Spurs         14\n",
       "Dallas Mavericks          13\n",
       "Oklahoma City Thunder     13\n",
       "Orlando Magic             13\n",
       "Cleveland Cavaliers       13\n",
       "Indiana Pacers            13\n",
       "Name: count, dtype: int64"
      ]
     },
     "execution_count": 7,
     "metadata": {},
     "output_type": "execute_result"
    }
   ],
   "source": [
    "nba.Team.value_counts()\n"
   ]
  },
  {
   "cell_type": "markdown",
   "id": "7a43f276",
   "metadata": {
    "slideshow": {
     "slide_type": "slide"
    }
   },
   "source": [
    "## Calcolare il numero di giocatori per ogni Team"
   ]
  },
  {
   "cell_type": "code",
   "execution_count": 8,
   "id": "33ded07e",
   "metadata": {
    "slideshow": {
     "slide_type": "-"
    }
   },
   "outputs": [
    {
     "data": {
      "text/plain": [
       "Team\n",
       "Philadelphia 76ers        17\n",
       "Minnesota Timberwolves    17\n",
       "Utah Jazz                 17\n",
       "Brooklyn Nets             17\n",
       "Toronto Raptors           16\n",
       "Boston Celtics            16\n",
       "Chicago Bulls             16\n",
       "Detroit Pistons           16\n",
       "New York Knicks           16\n",
       "New Orleans Pelicans      16\n",
       "Los Angeles Lakers        16\n",
       "Charlotte Hornets         16\n",
       "Atlanta Hawks             15\n",
       "Denver Nuggets            15\n",
       "Memphis Grizzlies         15\n",
       "Phoenix Suns              15\n",
       "Sacramento Kings          15\n",
       "Miami Heat                15\n",
       "Golden State Warriors     15\n",
       "Los Angeles Clippers      14\n",
       "Washington Wizards        14\n",
       "Portland Trail Blazers    14\n",
       "Milwaukee Bucks           14\n",
       "Houston Rockets           14\n",
       "San Antonio Spurs         14\n",
       "Dallas Mavericks          13\n",
       "Oklahoma City Thunder     13\n",
       "Orlando Magic             13\n",
       "Cleveland Cavaliers       13\n",
       "Indiana Pacers            13\n",
       "Name: count, dtype: int64"
      ]
     },
     "execution_count": 8,
     "metadata": {},
     "output_type": "execute_result"
    }
   ],
   "source": [
    "nba[\"Team\"].value_counts()\n"
   ]
  },
  {
   "cell_type": "markdown",
   "id": "4acf4860",
   "metadata": {
    "slideshow": {
     "slide_type": "slide"
    }
   },
   "source": [
    "## Chi sono i 5 giocatori pù pagati?"
   ]
  },
  {
   "cell_type": "code",
   "execution_count": 9,
   "id": "ccc2f843",
   "metadata": {},
   "outputs": [
    {
     "data": {
      "text/html": [
       "<div>\n",
       "<style scoped>\n",
       "    .dataframe tbody tr th:only-of-type {\n",
       "        vertical-align: middle;\n",
       "    }\n",
       "\n",
       "    .dataframe tbody tr th {\n",
       "        vertical-align: top;\n",
       "    }\n",
       "\n",
       "    .dataframe thead th {\n",
       "        text-align: right;\n",
       "    }\n",
       "</style>\n",
       "<table border=\"1\" class=\"dataframe\">\n",
       "  <thead>\n",
       "    <tr style=\"text-align: right;\">\n",
       "      <th></th>\n",
       "      <th>Team</th>\n",
       "      <th>Position</th>\n",
       "      <th>Birthday</th>\n",
       "      <th>Salary</th>\n",
       "    </tr>\n",
       "    <tr>\n",
       "      <th>Name</th>\n",
       "      <th></th>\n",
       "      <th></th>\n",
       "      <th></th>\n",
       "      <th></th>\n",
       "    </tr>\n",
       "  </thead>\n",
       "  <tbody>\n",
       "    <tr>\n",
       "      <th>Stephen Curry</th>\n",
       "      <td>Golden State Warriors</td>\n",
       "      <td>PG</td>\n",
       "      <td>1988-03-14</td>\n",
       "      <td>40231758</td>\n",
       "    </tr>\n",
       "    <tr>\n",
       "      <th>Russell Westbrook</th>\n",
       "      <td>Houston Rockets</td>\n",
       "      <td>PG</td>\n",
       "      <td>1988-11-12</td>\n",
       "      <td>38506482</td>\n",
       "    </tr>\n",
       "    <tr>\n",
       "      <th>Chris Paul</th>\n",
       "      <td>Oklahoma City Thunder</td>\n",
       "      <td>PG</td>\n",
       "      <td>1985-05-06</td>\n",
       "      <td>38506482</td>\n",
       "    </tr>\n",
       "    <tr>\n",
       "      <th>John Wall</th>\n",
       "      <td>Washington Wizards</td>\n",
       "      <td>PG</td>\n",
       "      <td>1990-09-06</td>\n",
       "      <td>38199000</td>\n",
       "    </tr>\n",
       "    <tr>\n",
       "      <th>James Harden</th>\n",
       "      <td>Houston Rockets</td>\n",
       "      <td>PG</td>\n",
       "      <td>1989-08-26</td>\n",
       "      <td>38199000</td>\n",
       "    </tr>\n",
       "  </tbody>\n",
       "</table>\n",
       "</div>"
      ],
      "text/plain": [
       "                                    Team Position   Birthday    Salary\n",
       "Name                                                                  \n",
       "Stephen Curry      Golden State Warriors       PG 1988-03-14  40231758\n",
       "Russell Westbrook        Houston Rockets       PG 1988-11-12  38506482\n",
       "Chris Paul         Oklahoma City Thunder       PG 1985-05-06  38506482\n",
       "John Wall             Washington Wizards       PG 1990-09-06  38199000\n",
       "James Harden             Houston Rockets       PG 1989-08-26  38199000"
      ]
     },
     "execution_count": 9,
     "metadata": {},
     "output_type": "execute_result"
    }
   ],
   "source": [
    "nba.sort_values(\"Salary\", ascending = False).head()\n"
   ]
  },
  {
   "cell_type": "markdown",
   "id": "fbf039c5",
   "metadata": {
    "slideshow": {
     "slide_type": "slide"
    }
   },
   "source": [
    " ## Chi è il giocatore più vecchio dei New York Knicks? \n",
    " Cambio l'indice e metto come index \"Teams\""
   ]
  },
  {
   "cell_type": "code",
   "execution_count": 10,
   "id": "f7347721",
   "metadata": {
    "slideshow": {
     "slide_type": "-"
    }
   },
   "outputs": [
    {
     "data": {
      "text/html": [
       "<div>\n",
       "<style scoped>\n",
       "    .dataframe tbody tr th:only-of-type {\n",
       "        vertical-align: middle;\n",
       "    }\n",
       "\n",
       "    .dataframe tbody tr th {\n",
       "        vertical-align: top;\n",
       "    }\n",
       "\n",
       "    .dataframe thead th {\n",
       "        text-align: right;\n",
       "    }\n",
       "</style>\n",
       "<table border=\"1\" class=\"dataframe\">\n",
       "  <thead>\n",
       "    <tr style=\"text-align: right;\">\n",
       "      <th></th>\n",
       "      <th>Name</th>\n",
       "      <th>Position</th>\n",
       "      <th>Birthday</th>\n",
       "      <th>Salary</th>\n",
       "    </tr>\n",
       "    <tr>\n",
       "      <th>Team</th>\n",
       "      <th></th>\n",
       "      <th></th>\n",
       "      <th></th>\n",
       "      <th></th>\n",
       "    </tr>\n",
       "  </thead>\n",
       "  <tbody>\n",
       "    <tr>\n",
       "      <th>Philadelphia 76ers</th>\n",
       "      <td>Shake Milton</td>\n",
       "      <td>SG</td>\n",
       "      <td>1996-09-26</td>\n",
       "      <td>1445697</td>\n",
       "    </tr>\n",
       "    <tr>\n",
       "      <th>Detroit Pistons</th>\n",
       "      <td>Christian Wood</td>\n",
       "      <td>PF</td>\n",
       "      <td>1995-09-27</td>\n",
       "      <td>1645357</td>\n",
       "    </tr>\n",
       "    <tr>\n",
       "      <th>Charlotte Hornets</th>\n",
       "      <td>PJ Washington</td>\n",
       "      <td>PF</td>\n",
       "      <td>1998-08-23</td>\n",
       "      <td>3831840</td>\n",
       "    </tr>\n",
       "    <tr>\n",
       "      <th>Detroit Pistons</th>\n",
       "      <td>Derrick Rose</td>\n",
       "      <td>PG</td>\n",
       "      <td>1988-10-04</td>\n",
       "      <td>7317074</td>\n",
       "    </tr>\n",
       "    <tr>\n",
       "      <th>Philadelphia 76ers</th>\n",
       "      <td>Marial Shayok</td>\n",
       "      <td>G</td>\n",
       "      <td>1995-07-26</td>\n",
       "      <td>79568</td>\n",
       "    </tr>\n",
       "  </tbody>\n",
       "</table>\n",
       "</div>"
      ],
      "text/plain": [
       "                              Name Position   Birthday   Salary\n",
       "Team                                                           \n",
       "Philadelphia 76ers    Shake Milton       SG 1996-09-26  1445697\n",
       "Detroit Pistons     Christian Wood       PF 1995-09-27  1645357\n",
       "Charlotte Hornets    PJ Washington       PF 1998-08-23  3831840\n",
       "Detroit Pistons       Derrick Rose       PG 1988-10-04  7317074\n",
       "Philadelphia 76ers   Marial Shayok        G 1995-07-26    79568"
      ]
     },
     "execution_count": 10,
     "metadata": {},
     "output_type": "execute_result"
    }
   ],
   "source": [
    "nba = nba.reset_index().set_index(keys = \"Team\")\n",
    "nba.head()\n"
   ]
  },
  {
   "cell_type": "markdown",
   "id": "0a4a4969",
   "metadata": {
    "slideshow": {
     "slide_type": "slide"
    }
   },
   "source": [
    " ## Chi è il giocatore più vecchio dei New York Knicks?"
   ]
  },
  {
   "cell_type": "code",
   "execution_count": 12,
   "id": "a6455bd3",
   "metadata": {
    "slideshow": {
     "slide_type": "-"
    }
   },
   "outputs": [
    {
     "data": {
      "text/html": [
       "<div>\n",
       "<style scoped>\n",
       "    .dataframe tbody tr th:only-of-type {\n",
       "        vertical-align: middle;\n",
       "    }\n",
       "\n",
       "    .dataframe tbody tr th {\n",
       "        vertical-align: top;\n",
       "    }\n",
       "\n",
       "    .dataframe thead th {\n",
       "        text-align: right;\n",
       "    }\n",
       "</style>\n",
       "<table border=\"1\" class=\"dataframe\">\n",
       "  <thead>\n",
       "    <tr style=\"text-align: right;\">\n",
       "      <th></th>\n",
       "      <th>Name</th>\n",
       "      <th>Position</th>\n",
       "      <th>Birthday</th>\n",
       "      <th>Salary</th>\n",
       "    </tr>\n",
       "    <tr>\n",
       "      <th>Team</th>\n",
       "      <th></th>\n",
       "      <th></th>\n",
       "      <th></th>\n",
       "      <th></th>\n",
       "    </tr>\n",
       "  </thead>\n",
       "  <tbody>\n",
       "    <tr>\n",
       "      <th>New York Knicks</th>\n",
       "      <td>Marcus Morris</td>\n",
       "      <td>PF</td>\n",
       "      <td>1989-09-02</td>\n",
       "      <td>15000000</td>\n",
       "    </tr>\n",
       "    <tr>\n",
       "      <th>New York Knicks</th>\n",
       "      <td>Damyean Dotson</td>\n",
       "      <td>SG</td>\n",
       "      <td>1994-05-06</td>\n",
       "      <td>1618520</td>\n",
       "    </tr>\n",
       "    <tr>\n",
       "      <th>New York Knicks</th>\n",
       "      <td>Ignas Brazdeikis</td>\n",
       "      <td>SF</td>\n",
       "      <td>1999-01-08</td>\n",
       "      <td>898310</td>\n",
       "    </tr>\n",
       "    <tr>\n",
       "      <th>New York Knicks</th>\n",
       "      <td>Ivan Rabb</td>\n",
       "      <td>PF</td>\n",
       "      <td>1997-02-04</td>\n",
       "      <td>79568</td>\n",
       "    </tr>\n",
       "    <tr>\n",
       "      <th>New York Knicks</th>\n",
       "      <td>Kevin Knox</td>\n",
       "      <td>PF</td>\n",
       "      <td>1999-08-11</td>\n",
       "      <td>4380120</td>\n",
       "    </tr>\n",
       "  </tbody>\n",
       "</table>\n",
       "</div>"
      ],
      "text/plain": [
       "                             Name Position   Birthday    Salary\n",
       "Team                                                           \n",
       "New York Knicks     Marcus Morris       PF 1989-09-02  15000000\n",
       "New York Knicks    Damyean Dotson       SG 1994-05-06   1618520\n",
       "New York Knicks  Ignas Brazdeikis       SF 1999-01-08    898310\n",
       "New York Knicks         Ivan Rabb       PF 1997-02-04     79568\n",
       "New York Knicks        Kevin Knox       PF 1999-08-11   4380120"
      ]
     },
     "execution_count": 12,
     "metadata": {},
     "output_type": "execute_result"
    }
   ],
   "source": [
    "nba_nyk=nba.loc[\"New York Knicks\"].head()\n",
    "nba_nyk\n"
   ]
  },
  {
   "cell_type": "code",
   "execution_count": 13,
   "id": "27f9e74b",
   "metadata": {
    "slideshow": {
     "slide_type": "-"
    }
   },
   "outputs": [
    {
     "data": {
      "text/html": [
       "<div>\n",
       "<style scoped>\n",
       "    .dataframe tbody tr th:only-of-type {\n",
       "        vertical-align: middle;\n",
       "    }\n",
       "\n",
       "    .dataframe tbody tr th {\n",
       "        vertical-align: top;\n",
       "    }\n",
       "\n",
       "    .dataframe thead th {\n",
       "        text-align: right;\n",
       "    }\n",
       "</style>\n",
       "<table border=\"1\" class=\"dataframe\">\n",
       "  <thead>\n",
       "    <tr style=\"text-align: right;\">\n",
       "      <th></th>\n",
       "      <th>Name</th>\n",
       "      <th>Position</th>\n",
       "      <th>Birthday</th>\n",
       "      <th>Salary</th>\n",
       "    </tr>\n",
       "    <tr>\n",
       "      <th>Team</th>\n",
       "      <th></th>\n",
       "      <th></th>\n",
       "      <th></th>\n",
       "      <th></th>\n",
       "    </tr>\n",
       "  </thead>\n",
       "  <tbody>\n",
       "    <tr>\n",
       "      <th>New York Knicks</th>\n",
       "      <td>Marcus Morris</td>\n",
       "      <td>PF</td>\n",
       "      <td>1989-09-02</td>\n",
       "      <td>15000000</td>\n",
       "    </tr>\n",
       "  </tbody>\n",
       "</table>\n",
       "</div>"
      ],
      "text/plain": [
       "                          Name Position   Birthday    Salary\n",
       "Team                                                        \n",
       "New York Knicks  Marcus Morris       PF 1989-09-02  15000000"
      ]
     },
     "execution_count": 13,
     "metadata": {},
     "output_type": "execute_result"
    }
   ],
   "source": [
    "nba_nyk.loc[\"New York Knicks\"].sort_values(\"Birthday\").head(1)\n"
   ]
  },
  {
   "cell_type": "markdown",
   "id": "4ba6a49a",
   "metadata": {
    "slideshow": {
     "slide_type": "slide"
    }
   },
   "source": [
    "##  Dove stanno i miei data sets?"
   ]
  },
  {
   "cell_type": "code",
   "execution_count": null,
   "id": "3ef2e6b1",
   "metadata": {
    "slideshow": {
     "slide_type": "-"
    }
   },
   "outputs": [],
   "source": [
    "import os\n",
    "print(os.getcwd())\n",
    "print()\n",
    "print(os.listdir(os.getcwd()))\n",
    "print(os.listdir)\n",
    "try:\n",
    "    os.chdir('DataSet')\n",
    "    print(os.getcwd())\n",
    "    print(os.listdir)\n",
    "except OSError:\n",
    "    print(\"La directory non esiste\")\n",
    "    "
   ]
  },
  {
   "cell_type": "markdown",
   "id": "e79ad4c4",
   "metadata": {
    "slideshow": {
     "slide_type": "-"
    }
   },
   "source": [
    "* stampa \"la directory non esiste\", perchè in realtà il nome della Directory è **DataSets**"
   ]
  },
  {
   "cell_type": "markdown",
   "id": "1a253535",
   "metadata": {
    "slideshow": {
     "slide_type": "slide"
    }
   },
   "source": [
    "## L'Iris DataSet"
   ]
  },
  {
   "cell_type": "markdown",
   "id": "03f5e889",
   "metadata": {
    "slideshow": {
     "slide_type": "-"
    }
   },
   "source": [
    "<center>\n",
    "<img src=\"Figures/IrisDS.jpg\" style=\"width:700px;height:300px;\"/>"
   ]
  },
  {
   "cell_type": "markdown",
   "id": "d8752859",
   "metadata": {
    "slideshow": {
     "slide_type": "slide"
    }
   },
   "source": [
    "## L'Iris DataSet"
   ]
  },
  {
   "cell_type": "code",
   "execution_count": 15,
   "id": "49ab2926",
   "metadata": {
    "slideshow": {
     "slide_type": "-"
    }
   },
   "outputs": [
    {
     "data": {
      "text/html": [
       "<div>\n",
       "<style scoped>\n",
       "    .dataframe tbody tr th:only-of-type {\n",
       "        vertical-align: middle;\n",
       "    }\n",
       "\n",
       "    .dataframe tbody tr th {\n",
       "        vertical-align: top;\n",
       "    }\n",
       "\n",
       "    .dataframe thead th {\n",
       "        text-align: right;\n",
       "    }\n",
       "</style>\n",
       "<table border=\"1\" class=\"dataframe\">\n",
       "  <thead>\n",
       "    <tr style=\"text-align: right;\">\n",
       "      <th></th>\n",
       "      <th>sepal_length</th>\n",
       "      <th>sepal_width</th>\n",
       "      <th>petal_length</th>\n",
       "      <th>petal_width</th>\n",
       "      <th>species</th>\n",
       "    </tr>\n",
       "  </thead>\n",
       "  <tbody>\n",
       "    <tr>\n",
       "      <th>0</th>\n",
       "      <td>5.1</td>\n",
       "      <td>3.5</td>\n",
       "      <td>1.4</td>\n",
       "      <td>0.2</td>\n",
       "      <td>setosa</td>\n",
       "    </tr>\n",
       "    <tr>\n",
       "      <th>1</th>\n",
       "      <td>4.9</td>\n",
       "      <td>3.0</td>\n",
       "      <td>1.4</td>\n",
       "      <td>0.2</td>\n",
       "      <td>setosa</td>\n",
       "    </tr>\n",
       "    <tr>\n",
       "      <th>2</th>\n",
       "      <td>4.7</td>\n",
       "      <td>3.2</td>\n",
       "      <td>1.3</td>\n",
       "      <td>0.2</td>\n",
       "      <td>setosa</td>\n",
       "    </tr>\n",
       "    <tr>\n",
       "      <th>3</th>\n",
       "      <td>4.6</td>\n",
       "      <td>3.1</td>\n",
       "      <td>1.5</td>\n",
       "      <td>0.2</td>\n",
       "      <td>setosa</td>\n",
       "    </tr>\n",
       "    <tr>\n",
       "      <th>4</th>\n",
       "      <td>5.0</td>\n",
       "      <td>3.6</td>\n",
       "      <td>1.4</td>\n",
       "      <td>0.2</td>\n",
       "      <td>setosa</td>\n",
       "    </tr>\n",
       "    <tr>\n",
       "      <th>...</th>\n",
       "      <td>...</td>\n",
       "      <td>...</td>\n",
       "      <td>...</td>\n",
       "      <td>...</td>\n",
       "      <td>...</td>\n",
       "    </tr>\n",
       "    <tr>\n",
       "      <th>145</th>\n",
       "      <td>6.7</td>\n",
       "      <td>3.0</td>\n",
       "      <td>5.2</td>\n",
       "      <td>2.3</td>\n",
       "      <td>virginica</td>\n",
       "    </tr>\n",
       "    <tr>\n",
       "      <th>146</th>\n",
       "      <td>6.3</td>\n",
       "      <td>2.5</td>\n",
       "      <td>5.0</td>\n",
       "      <td>1.9</td>\n",
       "      <td>virginica</td>\n",
       "    </tr>\n",
       "    <tr>\n",
       "      <th>147</th>\n",
       "      <td>6.5</td>\n",
       "      <td>3.0</td>\n",
       "      <td>5.2</td>\n",
       "      <td>2.0</td>\n",
       "      <td>virginica</td>\n",
       "    </tr>\n",
       "    <tr>\n",
       "      <th>148</th>\n",
       "      <td>6.2</td>\n",
       "      <td>3.4</td>\n",
       "      <td>5.4</td>\n",
       "      <td>2.3</td>\n",
       "      <td>virginica</td>\n",
       "    </tr>\n",
       "    <tr>\n",
       "      <th>149</th>\n",
       "      <td>5.9</td>\n",
       "      <td>3.0</td>\n",
       "      <td>5.1</td>\n",
       "      <td>1.8</td>\n",
       "      <td>virginica</td>\n",
       "    </tr>\n",
       "  </tbody>\n",
       "</table>\n",
       "<p>150 rows × 5 columns</p>\n",
       "</div>"
      ],
      "text/plain": [
       "     sepal_length  sepal_width  petal_length  petal_width    species\n",
       "0             5.1          3.5           1.4          0.2     setosa\n",
       "1             4.9          3.0           1.4          0.2     setosa\n",
       "2             4.7          3.2           1.3          0.2     setosa\n",
       "3             4.6          3.1           1.5          0.2     setosa\n",
       "4             5.0          3.6           1.4          0.2     setosa\n",
       "..            ...          ...           ...          ...        ...\n",
       "145           6.7          3.0           5.2          2.3  virginica\n",
       "146           6.3          2.5           5.0          1.9  virginica\n",
       "147           6.5          3.0           5.2          2.0  virginica\n",
       "148           6.2          3.4           5.4          2.3  virginica\n",
       "149           5.9          3.0           5.1          1.8  virginica\n",
       "\n",
       "[150 rows x 5 columns]"
      ]
     },
     "execution_count": 15,
     "metadata": {},
     "output_type": "execute_result"
    }
   ],
   "source": [
    "import pandas as pd\n",
    "from pandas.plotting import scatter_matrix\n",
    "import matplotlib.pyplot as plt\n",
    "dataframe = pd.read_csv('DataSets/IrisDataSet.csv')\n",
    "dataframe\n"
   ]
  },
  {
   "cell_type": "markdown",
   "id": "a26d96d4",
   "metadata": {
    "slideshow": {
     "slide_type": "slide"
    }
   },
   "source": [
    "## L'Iris Data Set: filtering"
   ]
  },
  {
   "cell_type": "markdown",
   "id": "54c22bf5",
   "metadata": {
    "slideshow": {
     "slide_type": "-"
    }
   },
   "source": [
    "* in precedenza abbiamo visto come estrarre righe, colonne e celle da un *DataFrame* utilizzando le funzioni *loc* ed *iloc*\n",
    "* utili se si conoscono gli indici(label o posizioni) di righe colonne e elementi da selezionari\n",
    "* **filtering**: selezionare righe mediante una condizione: ad esempio tutte le righe in cui il valore di una colonna verifica una condizione"
   ]
  },
  {
   "cell_type": "markdown",
   "id": "c6aeea34",
   "metadata": {
    "slideshow": {
     "slide_type": "slide"
    }
   },
   "source": [
    "## L'Iris Data Set: filtering"
   ]
  },
  {
   "cell_type": "code",
   "execution_count": 16,
   "id": "82948c85",
   "metadata": {
    "slideshow": {
     "slide_type": "-"
    }
   },
   "outputs": [
    {
     "data": {
      "text/plain": [
       "0         setosa\n",
       "1         setosa\n",
       "2         setosa\n",
       "3         setosa\n",
       "4         setosa\n",
       "         ...    \n",
       "145    virginica\n",
       "146    virginica\n",
       "147    virginica\n",
       "148    virginica\n",
       "149    virginica\n",
       "Name: species, Length: 150, dtype: object"
      ]
     },
     "execution_count": 16,
     "metadata": {},
     "output_type": "execute_result"
    }
   ],
   "source": [
    "sp=dataframe[\"species\"]\n",
    "sp"
   ]
  },
  {
   "cell_type": "markdown",
   "id": "5309619f",
   "metadata": {
    "slideshow": {
     "slide_type": "-"
    }
   },
   "source": [
    "* abbiamo selezionato una colonna del *DataFrame*, e il risultato restituito è una *Series*"
   ]
  },
  {
   "cell_type": "markdown",
   "id": "8d340678",
   "metadata": {
    "slideshow": {
     "slide_type": "slide"
    }
   },
   "source": [
    "## L'Iris Data Set: filtering"
   ]
  },
  {
   "cell_type": "code",
   "execution_count": 17,
   "id": "efc6de96",
   "metadata": {
    "slideshow": {
     "slide_type": "-"
    }
   },
   "outputs": [
    {
     "data": {
      "text/plain": [
       "0       True\n",
       "1       True\n",
       "2       True\n",
       "3       True\n",
       "4       True\n",
       "       ...  \n",
       "145    False\n",
       "146    False\n",
       "147    False\n",
       "148    False\n",
       "149    False\n",
       "Name: species, Length: 150, dtype: bool"
      ]
     },
     "execution_count": 17,
     "metadata": {},
     "output_type": "execute_result"
    }
   ],
   "source": [
    "sp==\"setosa\"\n"
   ]
  },
  {
   "cell_type": "markdown",
   "id": "32dedcfb",
   "metadata": {
    "slideshow": {
     "slide_type": "-"
    }
   },
   "source": [
    "* la sintassi sembra errata: come posso confrontare una intera *Series* con una unico valore di tipo *String*?\n",
    "* *Pandas* capisce che si vuole valutare l'uguaglianza di ogni membro della series con la stringa, non l'intera *Series* !\n",
    "* si confrontano tutti i valori della colonna **species** con il valore **setosa**\n",
    "* il risultato è una serie di **booleani**\n"
   ]
  },
  {
   "cell_type": "markdown",
   "id": "88119ce3",
   "metadata": {
    "slideshow": {
     "slide_type": "slide"
    }
   },
   "source": [
    "## L'Iris Data Set: filtering"
   ]
  },
  {
   "cell_type": "markdown",
   "id": "53b33bd7",
   "metadata": {
    "slideshow": {
     "slide_type": "-"
    }
   },
   "source": [
    "* *Pandas* offre un modo semplice che, data una serie di **booleani**, consente di estrarre tutte le righe che corrispondono al valore **true**\n",
    "* è sufficiente passare il valore della serie booleana tre parentesi quadrate dopo il nome della seria\n",
    "* la serie booleana è ottenuta dal confronto della colonna *species* con la stringa *setosa*"
   ]
  },
  {
   "cell_type": "code",
   "execution_count": 18,
   "id": "0584d4ba",
   "metadata": {},
   "outputs": [
    {
     "data": {
      "text/html": [
       "<div>\n",
       "<style scoped>\n",
       "    .dataframe tbody tr th:only-of-type {\n",
       "        vertical-align: middle;\n",
       "    }\n",
       "\n",
       "    .dataframe tbody tr th {\n",
       "        vertical-align: top;\n",
       "    }\n",
       "\n",
       "    .dataframe thead th {\n",
       "        text-align: right;\n",
       "    }\n",
       "</style>\n",
       "<table border=\"1\" class=\"dataframe\">\n",
       "  <thead>\n",
       "    <tr style=\"text-align: right;\">\n",
       "      <th></th>\n",
       "      <th>sepal_length</th>\n",
       "      <th>sepal_width</th>\n",
       "      <th>petal_length</th>\n",
       "      <th>petal_width</th>\n",
       "      <th>species</th>\n",
       "    </tr>\n",
       "  </thead>\n",
       "  <tbody>\n",
       "    <tr>\n",
       "      <th>0</th>\n",
       "      <td>5.1</td>\n",
       "      <td>3.5</td>\n",
       "      <td>1.4</td>\n",
       "      <td>0.2</td>\n",
       "      <td>setosa</td>\n",
       "    </tr>\n",
       "    <tr>\n",
       "      <th>1</th>\n",
       "      <td>4.9</td>\n",
       "      <td>3.0</td>\n",
       "      <td>1.4</td>\n",
       "      <td>0.2</td>\n",
       "      <td>setosa</td>\n",
       "    </tr>\n",
       "    <tr>\n",
       "      <th>2</th>\n",
       "      <td>4.7</td>\n",
       "      <td>3.2</td>\n",
       "      <td>1.3</td>\n",
       "      <td>0.2</td>\n",
       "      <td>setosa</td>\n",
       "    </tr>\n",
       "    <tr>\n",
       "      <th>3</th>\n",
       "      <td>4.6</td>\n",
       "      <td>3.1</td>\n",
       "      <td>1.5</td>\n",
       "      <td>0.2</td>\n",
       "      <td>setosa</td>\n",
       "    </tr>\n",
       "    <tr>\n",
       "      <th>4</th>\n",
       "      <td>5.0</td>\n",
       "      <td>3.6</td>\n",
       "      <td>1.4</td>\n",
       "      <td>0.2</td>\n",
       "      <td>setosa</td>\n",
       "    </tr>\n",
       "    <tr>\n",
       "      <th>5</th>\n",
       "      <td>5.4</td>\n",
       "      <td>3.9</td>\n",
       "      <td>1.7</td>\n",
       "      <td>0.4</td>\n",
       "      <td>setosa</td>\n",
       "    </tr>\n",
       "    <tr>\n",
       "      <th>6</th>\n",
       "      <td>4.6</td>\n",
       "      <td>3.4</td>\n",
       "      <td>1.4</td>\n",
       "      <td>0.3</td>\n",
       "      <td>setosa</td>\n",
       "    </tr>\n",
       "    <tr>\n",
       "      <th>7</th>\n",
       "      <td>5.0</td>\n",
       "      <td>3.4</td>\n",
       "      <td>1.5</td>\n",
       "      <td>0.2</td>\n",
       "      <td>setosa</td>\n",
       "    </tr>\n",
       "    <tr>\n",
       "      <th>8</th>\n",
       "      <td>4.4</td>\n",
       "      <td>2.9</td>\n",
       "      <td>1.4</td>\n",
       "      <td>0.2</td>\n",
       "      <td>setosa</td>\n",
       "    </tr>\n",
       "    <tr>\n",
       "      <th>9</th>\n",
       "      <td>4.9</td>\n",
       "      <td>3.1</td>\n",
       "      <td>1.5</td>\n",
       "      <td>0.1</td>\n",
       "      <td>setosa</td>\n",
       "    </tr>\n",
       "    <tr>\n",
       "      <th>10</th>\n",
       "      <td>5.4</td>\n",
       "      <td>3.7</td>\n",
       "      <td>1.5</td>\n",
       "      <td>0.2</td>\n",
       "      <td>setosa</td>\n",
       "    </tr>\n",
       "    <tr>\n",
       "      <th>11</th>\n",
       "      <td>4.8</td>\n",
       "      <td>3.4</td>\n",
       "      <td>1.6</td>\n",
       "      <td>0.2</td>\n",
       "      <td>setosa</td>\n",
       "    </tr>\n",
       "    <tr>\n",
       "      <th>12</th>\n",
       "      <td>4.8</td>\n",
       "      <td>3.0</td>\n",
       "      <td>1.4</td>\n",
       "      <td>0.1</td>\n",
       "      <td>setosa</td>\n",
       "    </tr>\n",
       "    <tr>\n",
       "      <th>13</th>\n",
       "      <td>4.3</td>\n",
       "      <td>3.0</td>\n",
       "      <td>1.1</td>\n",
       "      <td>0.1</td>\n",
       "      <td>setosa</td>\n",
       "    </tr>\n",
       "    <tr>\n",
       "      <th>14</th>\n",
       "      <td>5.8</td>\n",
       "      <td>4.0</td>\n",
       "      <td>1.2</td>\n",
       "      <td>0.2</td>\n",
       "      <td>setosa</td>\n",
       "    </tr>\n",
       "    <tr>\n",
       "      <th>15</th>\n",
       "      <td>5.7</td>\n",
       "      <td>4.4</td>\n",
       "      <td>1.5</td>\n",
       "      <td>0.4</td>\n",
       "      <td>setosa</td>\n",
       "    </tr>\n",
       "    <tr>\n",
       "      <th>16</th>\n",
       "      <td>5.4</td>\n",
       "      <td>3.9</td>\n",
       "      <td>1.3</td>\n",
       "      <td>0.4</td>\n",
       "      <td>setosa</td>\n",
       "    </tr>\n",
       "    <tr>\n",
       "      <th>17</th>\n",
       "      <td>5.1</td>\n",
       "      <td>3.5</td>\n",
       "      <td>1.4</td>\n",
       "      <td>0.3</td>\n",
       "      <td>setosa</td>\n",
       "    </tr>\n",
       "    <tr>\n",
       "      <th>18</th>\n",
       "      <td>5.7</td>\n",
       "      <td>3.8</td>\n",
       "      <td>1.7</td>\n",
       "      <td>0.3</td>\n",
       "      <td>setosa</td>\n",
       "    </tr>\n",
       "    <tr>\n",
       "      <th>19</th>\n",
       "      <td>5.1</td>\n",
       "      <td>3.8</td>\n",
       "      <td>1.5</td>\n",
       "      <td>0.3</td>\n",
       "      <td>setosa</td>\n",
       "    </tr>\n",
       "    <tr>\n",
       "      <th>20</th>\n",
       "      <td>5.4</td>\n",
       "      <td>3.4</td>\n",
       "      <td>1.7</td>\n",
       "      <td>0.2</td>\n",
       "      <td>setosa</td>\n",
       "    </tr>\n",
       "    <tr>\n",
       "      <th>21</th>\n",
       "      <td>5.1</td>\n",
       "      <td>3.7</td>\n",
       "      <td>1.5</td>\n",
       "      <td>0.4</td>\n",
       "      <td>setosa</td>\n",
       "    </tr>\n",
       "    <tr>\n",
       "      <th>22</th>\n",
       "      <td>4.6</td>\n",
       "      <td>3.6</td>\n",
       "      <td>1.0</td>\n",
       "      <td>0.2</td>\n",
       "      <td>setosa</td>\n",
       "    </tr>\n",
       "    <tr>\n",
       "      <th>23</th>\n",
       "      <td>5.1</td>\n",
       "      <td>3.3</td>\n",
       "      <td>1.7</td>\n",
       "      <td>0.5</td>\n",
       "      <td>setosa</td>\n",
       "    </tr>\n",
       "    <tr>\n",
       "      <th>24</th>\n",
       "      <td>4.8</td>\n",
       "      <td>3.4</td>\n",
       "      <td>1.9</td>\n",
       "      <td>0.2</td>\n",
       "      <td>setosa</td>\n",
       "    </tr>\n",
       "    <tr>\n",
       "      <th>25</th>\n",
       "      <td>5.0</td>\n",
       "      <td>3.0</td>\n",
       "      <td>1.6</td>\n",
       "      <td>0.2</td>\n",
       "      <td>setosa</td>\n",
       "    </tr>\n",
       "    <tr>\n",
       "      <th>26</th>\n",
       "      <td>5.0</td>\n",
       "      <td>3.4</td>\n",
       "      <td>1.6</td>\n",
       "      <td>0.4</td>\n",
       "      <td>setosa</td>\n",
       "    </tr>\n",
       "    <tr>\n",
       "      <th>27</th>\n",
       "      <td>5.2</td>\n",
       "      <td>3.5</td>\n",
       "      <td>1.5</td>\n",
       "      <td>0.2</td>\n",
       "      <td>setosa</td>\n",
       "    </tr>\n",
       "    <tr>\n",
       "      <th>28</th>\n",
       "      <td>5.2</td>\n",
       "      <td>3.4</td>\n",
       "      <td>1.4</td>\n",
       "      <td>0.2</td>\n",
       "      <td>setosa</td>\n",
       "    </tr>\n",
       "    <tr>\n",
       "      <th>29</th>\n",
       "      <td>4.7</td>\n",
       "      <td>3.2</td>\n",
       "      <td>1.6</td>\n",
       "      <td>0.2</td>\n",
       "      <td>setosa</td>\n",
       "    </tr>\n",
       "    <tr>\n",
       "      <th>30</th>\n",
       "      <td>4.8</td>\n",
       "      <td>3.1</td>\n",
       "      <td>1.6</td>\n",
       "      <td>0.2</td>\n",
       "      <td>setosa</td>\n",
       "    </tr>\n",
       "    <tr>\n",
       "      <th>31</th>\n",
       "      <td>5.4</td>\n",
       "      <td>3.4</td>\n",
       "      <td>1.5</td>\n",
       "      <td>0.4</td>\n",
       "      <td>setosa</td>\n",
       "    </tr>\n",
       "    <tr>\n",
       "      <th>32</th>\n",
       "      <td>5.2</td>\n",
       "      <td>4.1</td>\n",
       "      <td>1.5</td>\n",
       "      <td>0.1</td>\n",
       "      <td>setosa</td>\n",
       "    </tr>\n",
       "    <tr>\n",
       "      <th>33</th>\n",
       "      <td>5.5</td>\n",
       "      <td>4.2</td>\n",
       "      <td>1.4</td>\n",
       "      <td>0.2</td>\n",
       "      <td>setosa</td>\n",
       "    </tr>\n",
       "    <tr>\n",
       "      <th>34</th>\n",
       "      <td>4.9</td>\n",
       "      <td>3.1</td>\n",
       "      <td>1.5</td>\n",
       "      <td>0.1</td>\n",
       "      <td>setosa</td>\n",
       "    </tr>\n",
       "    <tr>\n",
       "      <th>35</th>\n",
       "      <td>5.0</td>\n",
       "      <td>3.2</td>\n",
       "      <td>1.2</td>\n",
       "      <td>0.2</td>\n",
       "      <td>setosa</td>\n",
       "    </tr>\n",
       "    <tr>\n",
       "      <th>36</th>\n",
       "      <td>5.5</td>\n",
       "      <td>3.5</td>\n",
       "      <td>1.3</td>\n",
       "      <td>0.2</td>\n",
       "      <td>setosa</td>\n",
       "    </tr>\n",
       "    <tr>\n",
       "      <th>37</th>\n",
       "      <td>4.9</td>\n",
       "      <td>3.1</td>\n",
       "      <td>1.5</td>\n",
       "      <td>0.1</td>\n",
       "      <td>setosa</td>\n",
       "    </tr>\n",
       "    <tr>\n",
       "      <th>38</th>\n",
       "      <td>4.4</td>\n",
       "      <td>3.0</td>\n",
       "      <td>1.3</td>\n",
       "      <td>0.2</td>\n",
       "      <td>setosa</td>\n",
       "    </tr>\n",
       "    <tr>\n",
       "      <th>39</th>\n",
       "      <td>5.1</td>\n",
       "      <td>3.4</td>\n",
       "      <td>1.5</td>\n",
       "      <td>0.2</td>\n",
       "      <td>setosa</td>\n",
       "    </tr>\n",
       "    <tr>\n",
       "      <th>40</th>\n",
       "      <td>5.0</td>\n",
       "      <td>3.5</td>\n",
       "      <td>1.3</td>\n",
       "      <td>0.3</td>\n",
       "      <td>setosa</td>\n",
       "    </tr>\n",
       "    <tr>\n",
       "      <th>41</th>\n",
       "      <td>4.5</td>\n",
       "      <td>2.3</td>\n",
       "      <td>1.3</td>\n",
       "      <td>0.3</td>\n",
       "      <td>setosa</td>\n",
       "    </tr>\n",
       "    <tr>\n",
       "      <th>42</th>\n",
       "      <td>4.4</td>\n",
       "      <td>3.2</td>\n",
       "      <td>1.3</td>\n",
       "      <td>0.2</td>\n",
       "      <td>setosa</td>\n",
       "    </tr>\n",
       "    <tr>\n",
       "      <th>43</th>\n",
       "      <td>5.0</td>\n",
       "      <td>3.5</td>\n",
       "      <td>1.6</td>\n",
       "      <td>0.6</td>\n",
       "      <td>setosa</td>\n",
       "    </tr>\n",
       "    <tr>\n",
       "      <th>44</th>\n",
       "      <td>5.1</td>\n",
       "      <td>3.8</td>\n",
       "      <td>1.9</td>\n",
       "      <td>0.4</td>\n",
       "      <td>setosa</td>\n",
       "    </tr>\n",
       "    <tr>\n",
       "      <th>45</th>\n",
       "      <td>4.8</td>\n",
       "      <td>3.0</td>\n",
       "      <td>1.4</td>\n",
       "      <td>0.3</td>\n",
       "      <td>setosa</td>\n",
       "    </tr>\n",
       "    <tr>\n",
       "      <th>46</th>\n",
       "      <td>5.1</td>\n",
       "      <td>3.8</td>\n",
       "      <td>1.6</td>\n",
       "      <td>0.2</td>\n",
       "      <td>setosa</td>\n",
       "    </tr>\n",
       "    <tr>\n",
       "      <th>47</th>\n",
       "      <td>4.6</td>\n",
       "      <td>3.2</td>\n",
       "      <td>1.4</td>\n",
       "      <td>0.2</td>\n",
       "      <td>setosa</td>\n",
       "    </tr>\n",
       "    <tr>\n",
       "      <th>48</th>\n",
       "      <td>5.3</td>\n",
       "      <td>3.7</td>\n",
       "      <td>1.5</td>\n",
       "      <td>0.2</td>\n",
       "      <td>setosa</td>\n",
       "    </tr>\n",
       "    <tr>\n",
       "      <th>49</th>\n",
       "      <td>5.0</td>\n",
       "      <td>3.3</td>\n",
       "      <td>1.4</td>\n",
       "      <td>0.2</td>\n",
       "      <td>setosa</td>\n",
       "    </tr>\n",
       "  </tbody>\n",
       "</table>\n",
       "</div>"
      ],
      "text/plain": [
       "    sepal_length  sepal_width  petal_length  petal_width species\n",
       "0            5.1          3.5           1.4          0.2  setosa\n",
       "1            4.9          3.0           1.4          0.2  setosa\n",
       "2            4.7          3.2           1.3          0.2  setosa\n",
       "3            4.6          3.1           1.5          0.2  setosa\n",
       "4            5.0          3.6           1.4          0.2  setosa\n",
       "5            5.4          3.9           1.7          0.4  setosa\n",
       "6            4.6          3.4           1.4          0.3  setosa\n",
       "7            5.0          3.4           1.5          0.2  setosa\n",
       "8            4.4          2.9           1.4          0.2  setosa\n",
       "9            4.9          3.1           1.5          0.1  setosa\n",
       "10           5.4          3.7           1.5          0.2  setosa\n",
       "11           4.8          3.4           1.6          0.2  setosa\n",
       "12           4.8          3.0           1.4          0.1  setosa\n",
       "13           4.3          3.0           1.1          0.1  setosa\n",
       "14           5.8          4.0           1.2          0.2  setosa\n",
       "15           5.7          4.4           1.5          0.4  setosa\n",
       "16           5.4          3.9           1.3          0.4  setosa\n",
       "17           5.1          3.5           1.4          0.3  setosa\n",
       "18           5.7          3.8           1.7          0.3  setosa\n",
       "19           5.1          3.8           1.5          0.3  setosa\n",
       "20           5.4          3.4           1.7          0.2  setosa\n",
       "21           5.1          3.7           1.5          0.4  setosa\n",
       "22           4.6          3.6           1.0          0.2  setosa\n",
       "23           5.1          3.3           1.7          0.5  setosa\n",
       "24           4.8          3.4           1.9          0.2  setosa\n",
       "25           5.0          3.0           1.6          0.2  setosa\n",
       "26           5.0          3.4           1.6          0.4  setosa\n",
       "27           5.2          3.5           1.5          0.2  setosa\n",
       "28           5.2          3.4           1.4          0.2  setosa\n",
       "29           4.7          3.2           1.6          0.2  setosa\n",
       "30           4.8          3.1           1.6          0.2  setosa\n",
       "31           5.4          3.4           1.5          0.4  setosa\n",
       "32           5.2          4.1           1.5          0.1  setosa\n",
       "33           5.5          4.2           1.4          0.2  setosa\n",
       "34           4.9          3.1           1.5          0.1  setosa\n",
       "35           5.0          3.2           1.2          0.2  setosa\n",
       "36           5.5          3.5           1.3          0.2  setosa\n",
       "37           4.9          3.1           1.5          0.1  setosa\n",
       "38           4.4          3.0           1.3          0.2  setosa\n",
       "39           5.1          3.4           1.5          0.2  setosa\n",
       "40           5.0          3.5           1.3          0.3  setosa\n",
       "41           4.5          2.3           1.3          0.3  setosa\n",
       "42           4.4          3.2           1.3          0.2  setosa\n",
       "43           5.0          3.5           1.6          0.6  setosa\n",
       "44           5.1          3.8           1.9          0.4  setosa\n",
       "45           4.8          3.0           1.4          0.3  setosa\n",
       "46           5.1          3.8           1.6          0.2  setosa\n",
       "47           4.6          3.2           1.4          0.2  setosa\n",
       "48           5.3          3.7           1.5          0.2  setosa\n",
       "49           5.0          3.3           1.4          0.2  setosa"
      ]
     },
     "execution_count": 18,
     "metadata": {},
     "output_type": "execute_result"
    }
   ],
   "source": [
    "dataframe[dataframe[\"species\"] == \"setosa\"]\n"
   ]
  },
  {
   "cell_type": "markdown",
   "id": "8b2aeb3f",
   "metadata": {
    "slideshow": {
     "slide_type": "slide"
    }
   },
   "source": [
    "## L'Iris Data Set: filtering\n",
    "- Questo plotta solamente i dati relativi alle iris della specie \"setosa\" ->\n",
    "   Per questo si nota che sull'asse delle x si hanno 50 elementi e non tutte e 150 del dataset"
   ]
  },
  {
   "cell_type": "code",
   "execution_count": 19,
   "id": "c74b0f28",
   "metadata": {
    "slideshow": {
     "slide_type": "-"
    }
   },
   "outputs": [
    {
     "data": {
      "text/plain": [
       "<Axes: >"
      ]
     },
     "execution_count": 19,
     "metadata": {},
     "output_type": "execute_result"
    },
    {
     "data": {
      "image/png": "[encoded data removed]",
      "text/plain": [
       "<Figure size 640x480 with 1 Axes>"
      ]
     },
     "metadata": {},
     "output_type": "display_data"
    }
   ],
   "source": [
    "dataframe[dataframe[\"species\"] == \"setosa\"].plot()\n"
   ]
  },
  {
   "cell_type": "markdown",
   "id": "4925a57d",
   "metadata": {
    "slideshow": {
     "slide_type": "slide"
    }
   },
   "source": [
    "## L'Iris Data Set: filtering su più colonne"
   ]
  },
  {
   "cell_type": "code",
   "execution_count": 20,
   "id": "691612ca",
   "metadata": {
    "slideshow": {
     "slide_type": "-"
    }
   },
   "outputs": [
    {
     "data": {
      "text/html": [
       "<div>\n",
       "<style scoped>\n",
       "    .dataframe tbody tr th:only-of-type {\n",
       "        vertical-align: middle;\n",
       "    }\n",
       "\n",
       "    .dataframe tbody tr th {\n",
       "        vertical-align: top;\n",
       "    }\n",
       "\n",
       "    .dataframe thead th {\n",
       "        text-align: right;\n",
       "    }\n",
       "</style>\n",
       "<table border=\"1\" class=\"dataframe\">\n",
       "  <thead>\n",
       "    <tr style=\"text-align: right;\">\n",
       "      <th></th>\n",
       "      <th>sepal_length</th>\n",
       "      <th>sepal_width</th>\n",
       "      <th>petal_length</th>\n",
       "      <th>petal_width</th>\n",
       "      <th>species</th>\n",
       "    </tr>\n",
       "  </thead>\n",
       "  <tbody>\n",
       "    <tr>\n",
       "      <th>5</th>\n",
       "      <td>5.4</td>\n",
       "      <td>3.9</td>\n",
       "      <td>1.7</td>\n",
       "      <td>0.4</td>\n",
       "      <td>setosa</td>\n",
       "    </tr>\n",
       "    <tr>\n",
       "      <th>15</th>\n",
       "      <td>5.7</td>\n",
       "      <td>4.4</td>\n",
       "      <td>1.5</td>\n",
       "      <td>0.4</td>\n",
       "      <td>setosa</td>\n",
       "    </tr>\n",
       "    <tr>\n",
       "      <th>16</th>\n",
       "      <td>5.4</td>\n",
       "      <td>3.9</td>\n",
       "      <td>1.3</td>\n",
       "      <td>0.4</td>\n",
       "      <td>setosa</td>\n",
       "    </tr>\n",
       "    <tr>\n",
       "      <th>21</th>\n",
       "      <td>5.1</td>\n",
       "      <td>3.7</td>\n",
       "      <td>1.5</td>\n",
       "      <td>0.4</td>\n",
       "      <td>setosa</td>\n",
       "    </tr>\n",
       "    <tr>\n",
       "      <th>23</th>\n",
       "      <td>5.1</td>\n",
       "      <td>3.3</td>\n",
       "      <td>1.7</td>\n",
       "      <td>0.5</td>\n",
       "      <td>setosa</td>\n",
       "    </tr>\n",
       "    <tr>\n",
       "      <th>26</th>\n",
       "      <td>5.0</td>\n",
       "      <td>3.4</td>\n",
       "      <td>1.6</td>\n",
       "      <td>0.4</td>\n",
       "      <td>setosa</td>\n",
       "    </tr>\n",
       "    <tr>\n",
       "      <th>31</th>\n",
       "      <td>5.4</td>\n",
       "      <td>3.4</td>\n",
       "      <td>1.5</td>\n",
       "      <td>0.4</td>\n",
       "      <td>setosa</td>\n",
       "    </tr>\n",
       "    <tr>\n",
       "      <th>43</th>\n",
       "      <td>5.0</td>\n",
       "      <td>3.5</td>\n",
       "      <td>1.6</td>\n",
       "      <td>0.6</td>\n",
       "      <td>setosa</td>\n",
       "    </tr>\n",
       "    <tr>\n",
       "      <th>44</th>\n",
       "      <td>5.1</td>\n",
       "      <td>3.8</td>\n",
       "      <td>1.9</td>\n",
       "      <td>0.4</td>\n",
       "      <td>setosa</td>\n",
       "    </tr>\n",
       "  </tbody>\n",
       "</table>\n",
       "</div>"
      ],
      "text/plain": [
       "    sepal_length  sepal_width  petal_length  petal_width species\n",
       "5            5.4          3.9           1.7          0.4  setosa\n",
       "15           5.7          4.4           1.5          0.4  setosa\n",
       "16           5.4          3.9           1.3          0.4  setosa\n",
       "21           5.1          3.7           1.5          0.4  setosa\n",
       "23           5.1          3.3           1.7          0.5  setosa\n",
       "26           5.0          3.4           1.6          0.4  setosa\n",
       "31           5.4          3.4           1.5          0.4  setosa\n",
       "43           5.0          3.5           1.6          0.6  setosa\n",
       "44           5.1          3.8           1.9          0.4  setosa"
      ]
     },
     "execution_count": 20,
     "metadata": {},
     "output_type": "execute_result"
    }
   ],
   "source": [
    "dataframe[(dataframe[\"species\"] == \"setosa\") & (dataframe[\"petal_width\"] > 0.3)]\n"
   ]
  },
  {
   "cell_type": "markdown",
   "id": "d93dd55e",
   "metadata": {
    "slideshow": {
     "slide_type": "slide"
    }
   },
   "source": [
    "## Plotting filtered DataFrame"
   ]
  },
  {
   "cell_type": "code",
   "execution_count": 21,
   "id": "1e8a0f5f",
   "metadata": {
    "slideshow": {
     "slide_type": "-"
    }
   },
   "outputs": [
    {
     "data": {
      "image/png": "[encoded data removed]",
      "text/plain": [
       "<Figure size 640x480 with 1 Axes>"
      ]
     },
     "metadata": {},
     "output_type": "display_data"
    }
   ],
   "source": [
    "setosa = dataframe[dataframe['species']=='setosa']\n",
    "virginica = dataframe[dataframe['species']=='virginica']\n",
    "versicolor = dataframe[dataframe['species']=='versicolor']\n",
    "\n",
    "fig, ax = plt.subplots()\n",
    "\n",
    "setosa.plot.scatter(x='sepal_width', y='sepal_length',  c='seagreen',label='Setosa',ax=ax )\n",
    "virginica.plot.scatter(x='sepal_width', y='sepal_length',c='crimson',label='Virginica', ax=ax)\n",
    "versicolor.plot.scatter(x='sepal_width', y='sepal_length',c='blue',label='Versicolor', ax=ax)\n",
    "\n",
    "plt.legend()\n",
    "plt.show()\n"
   ]
  },
  {
   "cell_type": "markdown",
   "id": "3ffea3a4",
   "metadata": {
    "slideshow": {
     "slide_type": "slide"
    }
   },
   "source": [
    "##  Plotting DataFrames"
   ]
  },
  {
   "cell_type": "code",
   "execution_count": 22,
   "id": "9dcd2490",
   "metadata": {
    "slideshow": {
     "slide_type": "-"
    }
   },
   "outputs": [
    {
     "data": {
      "image/png": "[encoded data removed]",
      "text/plain": [
       "<Figure size 640x480 with 1 Axes>"
      ]
     },
     "metadata": {},
     "output_type": "display_data"
    }
   ],
   "source": [
    "import warnings\n",
    "warnings.filterwarnings('ignore')\n",
    "setosa = dataframe[dataframe['species']=='setosa']\n",
    "virginica = dataframe[dataframe['species']=='virginica']\n",
    "versicolor = dataframe[dataframe['species']=='versicolor']\n",
    "                       \n",
    "setosa.petal_width=setosa.petal_width*100\n",
    "virginica.petal_width=virginica.petal_width*100\n",
    "versicolor.petal_width=versicolor.petal_width*100\n",
    "\n",
    "fig, ax = plt.subplots()\n",
    "setosa.plot.scatter(x='sepal_width', y='sepal_length',  c='seagreen',s='petal_width', label='Setosa', ax=ax, )\n",
    "virginica.plot.scatter(x='sepal_width', y='sepal_length',c='crimson',s='petal_width', label='Virginica', ax=ax)\n",
    "versicolor.plot.scatter(x='sepal_width', y='sepal_length',c='blue',s='petal_width',label='Versicolor', ax=ax)\n",
    "plt.legend()\n",
    "plt.show()\n"
   ]
  },
  {
   "cell_type": "markdown",
   "id": "1d0a02ab",
   "metadata": {
    "slideshow": {
     "slide_type": "slide"
    }
   },
   "source": [
    "## Raggruppare: l'Iris DataSet"
   ]
  },
  {
   "cell_type": "markdown",
   "id": "0bf654a9",
   "metadata": {
    "slideshow": {
     "slide_type": "-"
    }
   },
   "source": [
    "* immaginiamo di voler calcolare la dimensione media dei petali per ogni specie\n",
    "* lo posso fare con gli strumenti visti fino a questo momento?"
   ]
  },
  {
   "cell_type": "code",
   "execution_count": 23,
   "id": "b1cd9b5c",
   "metadata": {
    "slideshow": {
     "slide_type": "-"
    }
   },
   "outputs": [
    {
     "name": "stdout",
     "output_type": "stream",
     "text": [
      "0.244\n",
      "2.0260000000000002\n",
      "1.3259999999999998\n"
     ]
    }
   ],
   "source": [
    "spw=dataframe[dataframe[\"species\"] == \"setosa\"][\"petal_width\"].mean()\n",
    "vipw=dataframe[dataframe[\"species\"] == \"virginica\"][\"petal_width\"].mean()\n",
    "vepw=dataframe[dataframe[\"species\"] == \"versicolor\"][\"petal_width\"].mean()\n",
    "print(spw)\n",
    "print(vipw)\n",
    "print(vepw)\n"
   ]
  },
  {
   "cell_type": "markdown",
   "id": "2d0c690a",
   "metadata": {
    "slideshow": {
     "slide_type": "-"
    }
   },
   "source": [
    "* ma il codice precedente è adatto quando si vuole calcolare la media **solo per poche specie**\n",
    "* se i gruppi sono molti è necessario ripetere il codice precedente per ogni gruppo\n",
    "* in questo caso è più opportuno usare la funzione **group_by**\n"
   ]
  },
  {
   "cell_type": "markdown",
   "id": "64bd5681",
   "metadata": {
    "slideshow": {
     "slide_type": "slide"
    }
   },
   "source": [
    "## Pandas: Group_By"
   ]
  },
  {
   "cell_type": "markdown",
   "id": "83db90e5",
   "metadata": {
    "slideshow": {
     "slide_type": "-"
    }
   },
   "source": [
    "* un modo per raggruppare le righe del *DataFrame* in *buckets*\n",
    "* possibilità di\n",
    "    * aggregare i valori in un gruppo\n",
    "    * iterare sulle righe di un gruppo\n",
    "    "
   ]
  },
  {
   "cell_type": "code",
   "execution_count": 24,
   "id": "0a308ee2",
   "metadata": {
    "slideshow": {
     "slide_type": "-"
    }
   },
   "outputs": [
    {
     "data": {
      "text/html": [
       "<div>\n",
       "<style scoped>\n",
       "    .dataframe tbody tr th:only-of-type {\n",
       "        vertical-align: middle;\n",
       "    }\n",
       "\n",
       "    .dataframe tbody tr th {\n",
       "        vertical-align: top;\n",
       "    }\n",
       "\n",
       "    .dataframe thead th {\n",
       "        text-align: right;\n",
       "    }\n",
       "</style>\n",
       "<table border=\"1\" class=\"dataframe\">\n",
       "  <thead>\n",
       "    <tr style=\"text-align: right;\">\n",
       "      <th></th>\n",
       "      <th>Item</th>\n",
       "      <th>Type</th>\n",
       "      <th>Price</th>\n",
       "    </tr>\n",
       "  </thead>\n",
       "  <tbody>\n",
       "    <tr>\n",
       "      <th>0</th>\n",
       "      <td>Banana</td>\n",
       "      <td>Fruit</td>\n",
       "      <td>0.99</td>\n",
       "    </tr>\n",
       "    <tr>\n",
       "      <th>1</th>\n",
       "      <td>Cucumber</td>\n",
       "      <td>Vegetable</td>\n",
       "      <td>1.25</td>\n",
       "    </tr>\n",
       "    <tr>\n",
       "      <th>2</th>\n",
       "      <td>Orange</td>\n",
       "      <td>Fruit</td>\n",
       "      <td>0.25</td>\n",
       "    </tr>\n",
       "    <tr>\n",
       "      <th>3</th>\n",
       "      <td>Tomato</td>\n",
       "      <td>Vegetable</td>\n",
       "      <td>0.33</td>\n",
       "    </tr>\n",
       "    <tr>\n",
       "      <th>4</th>\n",
       "      <td>Watermelon</td>\n",
       "      <td>Fruit</td>\n",
       "      <td>3.00</td>\n",
       "    </tr>\n",
       "  </tbody>\n",
       "</table>\n",
       "</div>"
      ],
      "text/plain": [
       "         Item       Type  Price\n",
       "0      Banana      Fruit   0.99\n",
       "1    Cucumber  Vegetable   1.25\n",
       "2      Orange      Fruit   0.25\n",
       "3      Tomato  Vegetable   0.33\n",
       "4  Watermelon      Fruit   3.00"
      ]
     },
     "execution_count": 24,
     "metadata": {},
     "output_type": "execute_result"
    }
   ],
   "source": [
    "import pandas as pd\n",
    "food_data = {\n",
    "          \"Item\": [\"Banana\", \"Cucumber\", \"Orange\", \"Tomato\", \"Watermelon\"],\n",
    "          \"Type\": [\"Fruit\", \"Vegetable\", \"Fruit\", \"Vegetable\", \"Fruit\"],\n",
    "          \"Price\": [0.99, 1.25, 0.25, 0.33, 3.00]\n",
    "         }\n",
    "supermarket = pd.DataFrame(data = food_data)\n",
    "supermarket\n"
   ]
  },
  {
   "cell_type": "markdown",
   "id": "45eeaa18",
   "metadata": {
    "slideshow": {
     "slide_type": "slide"
    }
   },
   "source": [
    "## Pandas: la funzione Group_By"
   ]
  },
  {
   "cell_type": "markdown",
   "id": "d870455a",
   "metadata": {
    "slideshow": {
     "slide_type": "-"
    }
   },
   "source": [
    "* individuiamo  i due gruppi *vegetables* e *fruits* nel *DataFrame*"
   ]
  },
  {
   "cell_type": "code",
   "execution_count": 26,
   "id": "2afa6975",
   "metadata": {
    "slideshow": {
     "slide_type": "-"
    }
   },
   "outputs": [
    {
     "data": {
      "text/plain": [
       "<pandas.core.groupby.generic.DataFrameGroupBy object at 0x12234b5d0>"
      ]
     },
     "execution_count": 26,
     "metadata": {},
     "output_type": "execute_result"
    }
   ],
   "source": [
    "groups_type = supermarket.groupby(\"Type\")\n",
    "groups_type\n"
   ]
  },
  {
   "cell_type": "markdown",
   "id": "23ed3556",
   "metadata": {
    "slideshow": {
     "slide_type": "-"
    }
   },
   "source": [
    "* restituisce un oggetto di tipo **DataFrameGroupBy**\n",
    "* implementato, a livello sottostante, con strutture **Python**"
   ]
  },
  {
   "cell_type": "markdown",
   "id": "e526468f",
   "metadata": {
    "slideshow": {
     "slide_type": "slide"
    }
   },
   "source": [
    "## La funzione Group_By: under the wood"
   ]
  },
  {
   "cell_type": "markdown",
   "id": "7a9a7d9a",
   "metadata": {
    "slideshow": {
     "slide_type": "-"
    }
   },
   "source": [
    "* come è implementato un oggetto di tipo **DataFrameGroupBy**?"
   ]
  },
  {
   "cell_type": "code",
   "execution_count": 27,
   "id": "2eea2683",
   "metadata": {
    "slideshow": {
     "slide_type": "-"
    }
   },
   "outputs": [
    {
     "data": {
      "text/plain": [
       "{'Fruit': [0, 2, 4], 'Vegetable': [1, 3]}"
      ]
     },
     "execution_count": 27,
     "metadata": {},
     "output_type": "execute_result"
    }
   ],
   "source": [
    "groups_type.groups\n"
   ]
  },
  {
   "cell_type": "code",
   "execution_count": 28,
   "id": "81de10c9",
   "metadata": {
    "slideshow": {
     "slide_type": "-"
    }
   },
   "outputs": [
    {
     "data": {
      "text/plain": [
       "{'Fruit': array([0, 2, 4]), 'Vegetable': array([1, 3])}"
      ]
     },
     "execution_count": 28,
     "metadata": {},
     "output_type": "execute_result"
    }
   ],
   "source": [
    "groups_type.indices\n"
   ]
  },
  {
   "cell_type": "markdown",
   "id": "b37b683b",
   "metadata": {
    "slideshow": {
     "slide_type": "-"
    }
   },
   "source": [
    "* un **dizionario Python** che riporta per ogni gruppo\n",
    "    * la chiave del gruppo, che corrisponde al valore dell'attributo rispetto a cui si sono formati i gruppi\n",
    "    * un array con gli indici nel **DataFrame** di tutti gli appartenenti al gruppo\n",
    "* consente a **Pandas** di ricostruire un **DataFrame** per ogni gruppo individuato\n",
    "    "
   ]
  },
  {
   "cell_type": "markdown",
   "id": "02cac6d4",
   "metadata": {
    "slideshow": {
     "slide_type": "slide"
    }
   },
   "source": [
    "## La funzione Group_By: under the wood"
   ]
  },
  {
   "cell_type": "code",
   "execution_count": 29,
   "id": "f1a543d4",
   "metadata": {
    "slideshow": {
     "slide_type": "-"
    }
   },
   "outputs": [
    {
     "name": "stdout",
     "output_type": "stream",
     "text": [
      "<class 'pandas.core.frame.DataFrame'>\n"
     ]
    },
    {
     "data": {
      "text/html": [
       "<div>\n",
       "<style scoped>\n",
       "    .dataframe tbody tr th:only-of-type {\n",
       "        vertical-align: middle;\n",
       "    }\n",
       "\n",
       "    .dataframe tbody tr th {\n",
       "        vertical-align: top;\n",
       "    }\n",
       "\n",
       "    .dataframe thead th {\n",
       "        text-align: right;\n",
       "    }\n",
       "</style>\n",
       "<table border=\"1\" class=\"dataframe\">\n",
       "  <thead>\n",
       "    <tr style=\"text-align: right;\">\n",
       "      <th></th>\n",
       "      <th>Item</th>\n",
       "      <th>Type</th>\n",
       "      <th>Price</th>\n",
       "    </tr>\n",
       "  </thead>\n",
       "  <tbody>\n",
       "    <tr>\n",
       "      <th>0</th>\n",
       "      <td>Banana</td>\n",
       "      <td>Fruit</td>\n",
       "      <td>0.99</td>\n",
       "    </tr>\n",
       "    <tr>\n",
       "      <th>2</th>\n",
       "      <td>Orange</td>\n",
       "      <td>Fruit</td>\n",
       "      <td>0.25</td>\n",
       "    </tr>\n",
       "    <tr>\n",
       "      <th>4</th>\n",
       "      <td>Watermelon</td>\n",
       "      <td>Fruit</td>\n",
       "      <td>3.00</td>\n",
       "    </tr>\n",
       "  </tbody>\n",
       "</table>\n",
       "</div>"
      ],
      "text/plain": [
       "         Item   Type  Price\n",
       "0      Banana  Fruit   0.99\n",
       "2      Orange  Fruit   0.25\n",
       "4  Watermelon  Fruit   3.00"
      ]
     },
     "execution_count": 29,
     "metadata": {},
     "output_type": "execute_result"
    }
   ],
   "source": [
    "print (type(groups_type.get_group(\"Fruit\")))\n",
    "groups_type.get_group(\"Fruit\")\n",
    "    "
   ]
  },
  {
   "cell_type": "markdown",
   "id": "f5716f7f",
   "metadata": {
    "slideshow": {
     "slide_type": "-"
    }
   },
   "source": [
    "* utilizzando l'oggetto **DatFrameGroupBy**, Pandas è in grado di costruire un **DataFrame** per ogni gruppo\n",
    "* il metodo restituisce un **DataFrame** con tutte le righe degli elementi appartenenti al gruppo selezionato"
   ]
  },
  {
   "cell_type": "markdown",
   "id": "bfe7dd36",
   "metadata": {
    "slideshow": {
     "slide_type": "slide"
    }
   },
   "source": [
    "## La funzione Group_By: l'oggetto **SeriesGroupBy**"
   ]
  },
  {
   "cell_type": "markdown",
   "id": "7225139d",
   "metadata": {
    "slideshow": {
     "slide_type": "-"
    }
   },
   "source": [
    "* è anche possibile selezionare una singola colonna riferendo l'oggetto **DataFrameGroupBY**\n",
    "* **Pandas** costruisce una sequenza di Series, che corrispondono alla colonna corrispondente in ogni gruppo\n",
    "* l'oggetto corrispondente è di tipo **SeriesGroupBy**\n",
    "* utile quando si vuole applicare la funzione di aggregazione a una singola colonna\n",
    "    "
   ]
  },
  {
   "cell_type": "code",
   "execution_count": 30,
   "id": "0db18a2f",
   "metadata": {
    "slideshow": {
     "slide_type": "-"
    }
   },
   "outputs": [
    {
     "name": "stdout",
     "output_type": "stream",
     "text": [
      "<pandas.core.groupby.generic.SeriesGroupBy object at 0x1222f9f10>\n"
     ]
    }
   ],
   "source": [
    "groups_type[\"Price\"]\n",
    "print(groups_type[\"Price\"])\n"
   ]
  },
  {
   "cell_type": "code",
   "execution_count": 31,
   "id": "81c17492",
   "metadata": {
    "slideshow": {
     "slide_type": "-"
    }
   },
   "outputs": [
    {
     "name": "stdout",
     "output_type": "stream",
     "text": [
      "Fruit\n",
      "0    0.99\n",
      "2    0.25\n",
      "4    3.00\n",
      "Name: Price, dtype: float64\n",
      "Vegetable\n",
      "1    1.25\n",
      "3    0.33\n",
      "Name: Price, dtype: float64\n"
     ]
    }
   ],
   "source": [
    "for keys, gp in groups_type['Price']:\n",
    "    print(keys)\n",
    "    print(gp)\n",
    "    "
   ]
  },
  {
   "cell_type": "markdown",
   "id": "a4928432",
   "metadata": {
    "slideshow": {
     "slide_type": "slide"
    }
   },
   "source": [
    "## La funzione Group_By: l'oggetto **SeriesGroupBy**"
   ]
  },
  {
   "cell_type": "code",
   "execution_count": null,
   "id": "cf9d0956",
   "metadata": {},
   "outputs": [],
   "source": [
    "sindexed=supermarket.set_index('Item')\n",
    "sindexed\n"
   ]
  },
  {
   "cell_type": "code",
   "execution_count": null,
   "id": "3204e83c",
   "metadata": {},
   "outputs": [],
   "source": [
    "groupsindexed=sindexed.groupby('Type')\n",
    "for keys, gp in groupsindexed['Price']:\n",
    "    print(keys)\n",
    "    print(gp)\n",
    "    "
   ]
  },
  {
   "cell_type": "markdown",
   "id": "03db131a",
   "metadata": {
    "slideshow": {
     "slide_type": "slide"
    }
   },
   "source": [
    "## La funzione Group_By: aggregare oggetti di tipo **SeriesGroupBy**"
   ]
  },
  {
   "cell_type": "markdown",
   "id": "bb3cccc1",
   "metadata": {
    "slideshow": {
     "slide_type": "-"
    }
   },
   "source": [
    "* possibile aggregare valori in singole colonne di ogni gruppo dell'oggetto **DataFrameGroupBy**"
   ]
  },
  {
   "cell_type": "code",
   "execution_count": 32,
   "id": "f02e5f95",
   "metadata": {
    "slideshow": {
     "slide_type": "-"
    }
   },
   "outputs": [
    {
     "data": {
      "text/plain": [
       "Type\n",
       "Fruit        1.413333\n",
       "Vegetable    0.790000\n",
       "Name: Price, dtype: float64"
      ]
     },
     "execution_count": 32,
     "metadata": {},
     "output_type": "execute_result"
    }
   ],
   "source": [
    "groups_type[\"Price\"].mean()\n"
   ]
  },
  {
   "cell_type": "markdown",
   "id": "6cc88d0c",
   "metadata": {
    "slideshow": {
     "slide_type": "slide"
    }
   },
   "source": [
    "## La funzione Group_By: Iris DataSet"
   ]
  },
  {
   "cell_type": "code",
   "execution_count": 33,
   "id": "40d95811",
   "metadata": {
    "slideshow": {
     "slide_type": "-"
    }
   },
   "outputs": [
    {
     "data": {
      "text/plain": [
       "species\n",
       "setosa        0.244\n",
       "versicolor    1.326\n",
       "virginica     2.026\n",
       "Name: petal_width, dtype: float64"
      ]
     },
     "execution_count": 33,
     "metadata": {},
     "output_type": "execute_result"
    }
   ],
   "source": [
    "species= dataframe.groupby(\"species\")\n",
    "species[\"petal_width\"].mean()\n"
   ]
  },
  {
   "cell_type": "markdown",
   "id": "a23f6b2c",
   "metadata": {
    "slideshow": {
     "slide_type": "slide"
    }
   },
   "source": [
    "## La funzione Group_By: Iris DataSet"
   ]
  },
  {
   "cell_type": "code",
   "execution_count": 34,
   "id": "00841cdf",
   "metadata": {},
   "outputs": [
    {
     "data": {
      "text/html": [
       "<div>\n",
       "<style scoped>\n",
       "    .dataframe tbody tr th:only-of-type {\n",
       "        vertical-align: middle;\n",
       "    }\n",
       "\n",
       "    .dataframe tbody tr th {\n",
       "        vertical-align: top;\n",
       "    }\n",
       "\n",
       "    .dataframe thead th {\n",
       "        text-align: right;\n",
       "    }\n",
       "</style>\n",
       "<table border=\"1\" class=\"dataframe\">\n",
       "  <thead>\n",
       "    <tr style=\"text-align: right;\">\n",
       "      <th></th>\n",
       "      <th>sepal_length</th>\n",
       "      <th>sepal_width</th>\n",
       "      <th>petal_length</th>\n",
       "      <th>petal_width</th>\n",
       "      <th>species</th>\n",
       "    </tr>\n",
       "  </thead>\n",
       "  <tbody>\n",
       "    <tr>\n",
       "      <th>0</th>\n",
       "      <td>5.1</td>\n",
       "      <td>3.5</td>\n",
       "      <td>1.4</td>\n",
       "      <td>0.2</td>\n",
       "      <td>setosa</td>\n",
       "    </tr>\n",
       "    <tr>\n",
       "      <th>1</th>\n",
       "      <td>4.9</td>\n",
       "      <td>3.0</td>\n",
       "      <td>1.4</td>\n",
       "      <td>0.2</td>\n",
       "      <td>setosa</td>\n",
       "    </tr>\n",
       "    <tr>\n",
       "      <th>2</th>\n",
       "      <td>4.7</td>\n",
       "      <td>3.2</td>\n",
       "      <td>1.3</td>\n",
       "      <td>0.2</td>\n",
       "      <td>setosa</td>\n",
       "    </tr>\n",
       "    <tr>\n",
       "      <th>3</th>\n",
       "      <td>4.6</td>\n",
       "      <td>3.1</td>\n",
       "      <td>1.5</td>\n",
       "      <td>0.2</td>\n",
       "      <td>setosa</td>\n",
       "    </tr>\n",
       "    <tr>\n",
       "      <th>4</th>\n",
       "      <td>5.0</td>\n",
       "      <td>3.6</td>\n",
       "      <td>1.4</td>\n",
       "      <td>0.2</td>\n",
       "      <td>setosa</td>\n",
       "    </tr>\n",
       "  </tbody>\n",
       "</table>\n",
       "</div>"
      ],
      "text/plain": [
       "   sepal_length  sepal_width  petal_length  petal_width species\n",
       "0           5.1          3.5           1.4          0.2  setosa\n",
       "1           4.9          3.0           1.4          0.2  setosa\n",
       "2           4.7          3.2           1.3          0.2  setosa\n",
       "3           4.6          3.1           1.5          0.2  setosa\n",
       "4           5.0          3.6           1.4          0.2  setosa"
      ]
     },
     "execution_count": 34,
     "metadata": {},
     "output_type": "execute_result"
    }
   ],
   "source": [
    "species.get_group('setosa').head()\n",
    "\n"
   ]
  },
  {
   "cell_type": "markdown",
   "id": "3bd9a93a",
   "metadata": {
    "slideshow": {
     "slide_type": "slide"
    }
   },
   "source": [
    "## La funzione Group_By: IrisDateSet, aggergare su più campi"
   ]
  },
  {
   "cell_type": "code",
   "execution_count": 35,
   "id": "029918c2",
   "metadata": {
    "slideshow": {
     "slide_type": "-"
    }
   },
   "outputs": [
    {
     "data": {
      "text/plain": [
       "{('setosa', 0.1): array([ 9, 12, 13, 32, 34, 37]),\n",
       " ('setosa',\n",
       "  0.2): array([ 0,  1,  2,  3,  4,  7,  8, 10, 11, 14, 20, 22, 24, 25, 27, 28, 29,\n",
       "        30, 33, 35, 36, 38, 39, 42, 46, 47, 48, 49]),\n",
       " ('setosa', 0.3): array([ 6, 17, 18, 19, 40, 41, 45]),\n",
       " ('setosa', 0.4): array([ 5, 15, 16, 21, 26, 31, 44]),\n",
       " ('setosa', 0.5): array([23]),\n",
       " ('setosa', 0.6): array([43]),\n",
       " ('versicolor', 1.0): array([57, 60, 62, 67, 79, 81, 93]),\n",
       " ('versicolor', 1.1): array([69, 80, 98]),\n",
       " ('versicolor', 1.2): array([73, 82, 90, 92, 95]),\n",
       " ('versicolor',\n",
       "  1.3): array([53, 55, 58, 64, 71, 74, 87, 88, 89, 94, 96, 97, 99]),\n",
       " ('versicolor', 1.4): array([50, 59, 63, 65, 75, 76, 91]),\n",
       " ('versicolor', 1.5): array([51, 52, 54, 61, 66, 68, 72, 78, 84, 86]),\n",
       " ('versicolor', 1.6): array([56, 83, 85]),\n",
       " ('versicolor', 1.7): array([77]),\n",
       " ('versicolor', 1.8): array([70]),\n",
       " ('virginica', 1.4): array([134]),\n",
       " ('virginica', 1.5): array([119, 133]),\n",
       " ('virginica', 1.6): array([129]),\n",
       " ('virginica', 1.7): array([106]),\n",
       " ('virginica',\n",
       "  1.8): array([103, 107, 108, 116, 123, 125, 126, 127, 137, 138, 149]),\n",
       " ('virginica', 1.9): array([101, 111, 130, 142, 146]),\n",
       " ('virginica', 2.0): array([110, 113, 121, 122, 131, 147]),\n",
       " ('virginica', 2.1): array([102, 105, 112, 124, 128, 139]),\n",
       " ('virginica', 2.2): array([104, 117, 132]),\n",
       " ('virginica', 2.3): array([115, 118, 120, 135, 141, 143, 145, 148]),\n",
       " ('virginica', 2.4): array([114, 136, 140]),\n",
       " ('virginica', 2.5): array([100, 109, 144])}"
      ]
     },
     "execution_count": 35,
     "metadata": {},
     "output_type": "execute_result"
    }
   ],
   "source": [
    "groups_iris = dataframe.groupby([\"species\",\"petal_width\"])\n",
    "groups_iris.indices\n"
   ]
  },
  {
   "cell_type": "markdown",
   "id": "d6e3d9bf",
   "metadata": {
    "slideshow": {
     "slide_type": "slide"
    }
   },
   "source": [
    "## Criptocurrencies \n",
    "\n",
    "\n",
    "* molta attenzione da parte di \n",
    "    * investitori\n",
    "    * imprenditori\n",
    "    * regolatori\n",
    "    * pubblico in generale\n",
    "      \n",
    "   \n",
    "* molti argomenti di dibattito\n",
    "    * solo un asset o una vera moneta?\n",
    "    * Initial Coin Offering (ICO) per il finanziamento di start-up innovative\n",
    "    * monete emesse da barche centrali, ma che usano la tecnologia alla base delle criptomonete, cioè la blockchain\n",
    "    * il mercato delle cryptocurrencies si rivelerà solo una \"bolla\"?\n",
    "        * regolazione o divieto?\n",
    "\n",
    "* grande interesse alle analisi di mercato\n",
    "    * big data analisys\n",
    "    * machine learning\n",
    "\n",
    "* in questa lezione presenteremo un insieme di semplici analisi del dataset *crypto-markets.csv* \n"
   ]
  },
  {
   "cell_type": "markdown",
   "id": "12a007c5",
   "metadata": {
    "slideshow": {
     "slide_type": "slide"
    }
   },
   "source": [
    "## Il Data Set *crypto-markets.csv*: analisi delle caratteristiche"
   ]
  },
  {
   "cell_type": "code",
   "execution_count": 36,
   "id": "43564548",
   "metadata": {
    "slideshow": {
     "slide_type": "-"
    }
   },
   "outputs": [],
   "source": [
    "import pandas as pd\n",
    "import numpy as np\n",
    "import matplotlib.pyplot as plt\n",
    "import seaborn as sns\n",
    "from datetime import datetime\n",
    "\n",
    "import warnings\n",
    "warnings.filterwarnings('ignore')\n",
    "\n",
    "import matplotlib.dates as mdates\n",
    "\n",
    "# Numero di criptocurrencies che analizzeremo in diverse analisi\n",
    "x = 10\n"
   ]
  },
  {
   "cell_type": "markdown",
   "id": "7237be75",
   "metadata": {
    "slideshow": {
     "slide_type": "slide"
    }
   },
   "source": [
    "## Il Data Set *crypto-markets.csv*: analisi delle caratteristiche"
   ]
  },
  {
   "cell_type": "code",
   "execution_count": 37,
   "id": "b3037f89",
   "metadata": {
    "slideshow": {
     "slide_type": "-"
    }
   },
   "outputs": [
    {
     "name": "stdout",
     "output_type": "stream",
     "text": [
      "<class 'pandas.core.frame.DataFrame'>\n",
      "RangeIndex: 679183 entries, 0 to 679182\n",
      "Data columns (total 13 columns):\n",
      " #   Column       Non-Null Count   Dtype         \n",
      "---  ------       --------------   -----         \n",
      " 0   slug         679183 non-null  object        \n",
      " 1   symbol       679183 non-null  object        \n",
      " 2   name         679183 non-null  object        \n",
      " 3   date         679183 non-null  datetime64[ns]\n",
      " 4   ranknow      679183 non-null  int64         \n",
      " 5   open         679183 non-null  float64       \n",
      " 6   high         679183 non-null  float64       \n",
      " 7   low          679183 non-null  float64       \n",
      " 8   close        679183 non-null  float64       \n",
      " 9   volume       679183 non-null  int64         \n",
      " 10  market       679183 non-null  float64       \n",
      " 11  close_ratio  665926 non-null  object        \n",
      " 12  spread       679183 non-null  float64       \n",
      "dtypes: datetime64[ns](1), float64(6), int64(2), object(4)\n",
      "memory usage: 67.4+ MB\n"
     ]
    },
    {
     "data": {
      "text/html": [
       "<div>\n",
       "<style scoped>\n",
       "    .dataframe tbody tr th:only-of-type {\n",
       "        vertical-align: middle;\n",
       "    }\n",
       "\n",
       "    .dataframe tbody tr th {\n",
       "        vertical-align: top;\n",
       "    }\n",
       "\n",
       "    .dataframe thead th {\n",
       "        text-align: right;\n",
       "    }\n",
       "</style>\n",
       "<table border=\"1\" class=\"dataframe\">\n",
       "  <thead>\n",
       "    <tr style=\"text-align: right;\">\n",
       "      <th></th>\n",
       "      <th>slug</th>\n",
       "      <th>symbol</th>\n",
       "      <th>name</th>\n",
       "      <th>date</th>\n",
       "      <th>ranknow</th>\n",
       "      <th>open</th>\n",
       "      <th>high</th>\n",
       "      <th>low</th>\n",
       "      <th>close</th>\n",
       "      <th>volume</th>\n",
       "      <th>market</th>\n",
       "      <th>close_ratio</th>\n",
       "      <th>spread</th>\n",
       "    </tr>\n",
       "  </thead>\n",
       "  <tbody>\n",
       "    <tr>\n",
       "      <th>0</th>\n",
       "      <td>bitcoin</td>\n",
       "      <td>BTC</td>\n",
       "      <td>Bitcoin</td>\n",
       "      <td>2013-04-28</td>\n",
       "      <td>1</td>\n",
       "      <td>135.30</td>\n",
       "      <td>135.98</td>\n",
       "      <td>132.10</td>\n",
       "      <td>134.21</td>\n",
       "      <td>0</td>\n",
       "      <td>1.500520e+09</td>\n",
       "      <td>0.5438</td>\n",
       "      <td>3.88</td>\n",
       "    </tr>\n",
       "    <tr>\n",
       "      <th>1</th>\n",
       "      <td>bitcoin</td>\n",
       "      <td>BTC</td>\n",
       "      <td>Bitcoin</td>\n",
       "      <td>2013-04-29</td>\n",
       "      <td>1</td>\n",
       "      <td>134.44</td>\n",
       "      <td>147.49</td>\n",
       "      <td>134.00</td>\n",
       "      <td>144.54</td>\n",
       "      <td>0</td>\n",
       "      <td>1.491160e+09</td>\n",
       "      <td>0.7813</td>\n",
       "      <td>13.49</td>\n",
       "    </tr>\n",
       "    <tr>\n",
       "      <th>2</th>\n",
       "      <td>bitcoin</td>\n",
       "      <td>BTC</td>\n",
       "      <td>Bitcoin</td>\n",
       "      <td>2013-04-30</td>\n",
       "      <td>1</td>\n",
       "      <td>144.00</td>\n",
       "      <td>146.93</td>\n",
       "      <td>134.05</td>\n",
       "      <td>139.00</td>\n",
       "      <td>0</td>\n",
       "      <td>1.597780e+09</td>\n",
       "      <td>0.3843</td>\n",
       "      <td>12.88</td>\n",
       "    </tr>\n",
       "    <tr>\n",
       "      <th>3</th>\n",
       "      <td>bitcoin</td>\n",
       "      <td>BTC</td>\n",
       "      <td>Bitcoin</td>\n",
       "      <td>2013-05-01</td>\n",
       "      <td>1</td>\n",
       "      <td>139.00</td>\n",
       "      <td>139.89</td>\n",
       "      <td>107.72</td>\n",
       "      <td>116.99</td>\n",
       "      <td>0</td>\n",
       "      <td>1.542820e+09</td>\n",
       "      <td>0.2882</td>\n",
       "      <td>32.17</td>\n",
       "    </tr>\n",
       "    <tr>\n",
       "      <th>4</th>\n",
       "      <td>bitcoin</td>\n",
       "      <td>BTC</td>\n",
       "      <td>Bitcoin</td>\n",
       "      <td>2013-05-02</td>\n",
       "      <td>1</td>\n",
       "      <td>116.38</td>\n",
       "      <td>125.60</td>\n",
       "      <td>92.28</td>\n",
       "      <td>105.21</td>\n",
       "      <td>0</td>\n",
       "      <td>1.292190e+09</td>\n",
       "      <td>0.3881</td>\n",
       "      <td>33.32</td>\n",
       "    </tr>\n",
       "  </tbody>\n",
       "</table>\n",
       "</div>"
      ],
      "text/plain": [
       "      slug symbol     name       date  ranknow    open    high     low  \\\n",
       "0  bitcoin    BTC  Bitcoin 2013-04-28        1  135.30  135.98  132.10   \n",
       "1  bitcoin    BTC  Bitcoin 2013-04-29        1  134.44  147.49  134.00   \n",
       "2  bitcoin    BTC  Bitcoin 2013-04-30        1  144.00  146.93  134.05   \n",
       "3  bitcoin    BTC  Bitcoin 2013-05-01        1  139.00  139.89  107.72   \n",
       "4  bitcoin    BTC  Bitcoin 2013-05-02        1  116.38  125.60   92.28   \n",
       "\n",
       "    close  volume        market close_ratio  spread  \n",
       "0  134.21       0  1.500520e+09      0.5438    3.88  \n",
       "1  144.54       0  1.491160e+09      0.7813   13.49  \n",
       "2  139.00       0  1.597780e+09      0.3843   12.88  \n",
       "3  116.99       0  1.542820e+09      0.2882   32.17  \n",
       "4  105.21       0  1.292190e+09      0.3881   33.32  "
      ]
     },
     "execution_count": 37,
     "metadata": {},
     "output_type": "execute_result"
    }
   ],
   "source": [
    "df_crypto = pd.read_csv('DataSets/crypto-markets.csv', parse_dates = [\"date\"])  \n",
    "df_crypto.info()\n",
    "df_crypto.head()\n"
   ]
  },
  {
   "cell_type": "markdown",
   "id": "ca7490f7",
   "metadata": {
    "slideshow": {
     "slide_type": "slide"
    }
   },
   "source": [
    "## Criptocurrencies "
   ]
  },
  {
   "cell_type": "markdown",
   "id": "b3c56b7c",
   "metadata": {
    "slideshow": {
     "slide_type": "-"
    }
   },
   "source": [
    "* Una riga per ogni giorno in un periodo compreso tra due date\n",
    "    * *slug* : nome comune della cryptocurrency\n",
    "    * *symbol* : simbolo della cryptocurrency\n",
    "    * *name* : nome ufficiale della cryptocurrency\n",
    "    * *date*: data dell'osservazione\n",
    "    * *ranknow* : rank della cryptocurrency in quella data\n",
    "    * *open* : prezzo di apertura in quella data\n",
    "    * *high* : prezzo più alto in quella data\n",
    "    * *low* : prezzo più basso in quella data\n",
    "    * *close* : prezzo di chiusura in quella data\n",
    "    * *volume*: volume delle transazioni in quella data\n",
    "    * *market* : capitalizzazione di mercato in USD\n",
    "    * *close_ratio*: (close-low)/(high-low)\n",
    "    * *spread* : differenza tra il prezzo più alto e quello più basso in quella data\n",
    "* periodo coperto: *2013-2018* \n",
    "* dimensione: circa *62 Mega*"
   ]
  },
  {
   "cell_type": "markdown",
   "id": "84172c13",
   "metadata": {
    "slideshow": {
     "slide_type": "slide"
    }
   },
   "source": [
    "## Il Data Set *crypto-markets.csv*: analisi delle caratteristiche"
   ]
  },
  {
   "cell_type": "markdown",
   "id": "9c78c615",
   "metadata": {
    "slideshow": {
     "slide_type": "-"
    }
   },
   "source": [
    "* da notare che il tipo della colonna date è cambiato in *datetime64[ns]*\n",
    "* anche la notazione usata per visualizzare la data è cambiata"
   ]
  },
  {
   "cell_type": "code",
   "execution_count": 38,
   "id": "5a10c39f",
   "metadata": {
    "slideshow": {
     "slide_type": "-"
    }
   },
   "outputs": [
    {
     "data": {
      "text/html": [
       "<div>\n",
       "<style scoped>\n",
       "    .dataframe tbody tr th:only-of-type {\n",
       "        vertical-align: middle;\n",
       "    }\n",
       "\n",
       "    .dataframe tbody tr th {\n",
       "        vertical-align: top;\n",
       "    }\n",
       "\n",
       "    .dataframe thead th {\n",
       "        text-align: right;\n",
       "    }\n",
       "</style>\n",
       "<table border=\"1\" class=\"dataframe\">\n",
       "  <thead>\n",
       "    <tr style=\"text-align: right;\">\n",
       "      <th></th>\n",
       "      <th>slug</th>\n",
       "      <th>symbol</th>\n",
       "      <th>name</th>\n",
       "      <th>date</th>\n",
       "      <th>ranknow</th>\n",
       "      <th>open</th>\n",
       "      <th>high</th>\n",
       "      <th>low</th>\n",
       "      <th>close</th>\n",
       "      <th>volume</th>\n",
       "      <th>market</th>\n",
       "      <th>close_ratio</th>\n",
       "      <th>spread</th>\n",
       "    </tr>\n",
       "  </thead>\n",
       "  <tbody>\n",
       "    <tr>\n",
       "      <th>679178</th>\n",
       "      <td>bitcoin-atom</td>\n",
       "      <td>BCA</td>\n",
       "      <td>Bitcoin Atom</td>\n",
       "      <td>2018-02-01</td>\n",
       "      <td>1515</td>\n",
       "      <td>45.95</td>\n",
       "      <td>55.17</td>\n",
       "      <td>41.70</td>\n",
       "      <td>42.95</td>\n",
       "      <td>38029</td>\n",
       "      <td>0.0</td>\n",
       "      <td>0.0928</td>\n",
       "      <td>13.47</td>\n",
       "    </tr>\n",
       "    <tr>\n",
       "      <th>679179</th>\n",
       "      <td>bitcoin-atom</td>\n",
       "      <td>BCA</td>\n",
       "      <td>Bitcoin Atom</td>\n",
       "      <td>2018-02-02</td>\n",
       "      <td>1515</td>\n",
       "      <td>42.90</td>\n",
       "      <td>42.90</td>\n",
       "      <td>29.18</td>\n",
       "      <td>35.91</td>\n",
       "      <td>48024</td>\n",
       "      <td>0.0</td>\n",
       "      <td>0.4905</td>\n",
       "      <td>13.72</td>\n",
       "    </tr>\n",
       "    <tr>\n",
       "      <th>679180</th>\n",
       "      <td>bitcoin-atom</td>\n",
       "      <td>BCA</td>\n",
       "      <td>Bitcoin Atom</td>\n",
       "      <td>2018-02-03</td>\n",
       "      <td>1515</td>\n",
       "      <td>35.99</td>\n",
       "      <td>36.71</td>\n",
       "      <td>30.10</td>\n",
       "      <td>30.74</td>\n",
       "      <td>27136</td>\n",
       "      <td>0.0</td>\n",
       "      <td>0.0968</td>\n",
       "      <td>6.61</td>\n",
       "    </tr>\n",
       "    <tr>\n",
       "      <th>679181</th>\n",
       "      <td>bitcoin-atom</td>\n",
       "      <td>BCA</td>\n",
       "      <td>Bitcoin Atom</td>\n",
       "      <td>2018-02-04</td>\n",
       "      <td>1515</td>\n",
       "      <td>30.75</td>\n",
       "      <td>34.90</td>\n",
       "      <td>23.93</td>\n",
       "      <td>23.93</td>\n",
       "      <td>26370</td>\n",
       "      <td>0.0</td>\n",
       "      <td>0.0</td>\n",
       "      <td>10.97</td>\n",
       "    </tr>\n",
       "    <tr>\n",
       "      <th>679182</th>\n",
       "      <td>bitcoin-atom</td>\n",
       "      <td>BCA</td>\n",
       "      <td>Bitcoin Atom</td>\n",
       "      <td>2018-02-05</td>\n",
       "      <td>1515</td>\n",
       "      <td>25.52</td>\n",
       "      <td>27.42</td>\n",
       "      <td>19.25</td>\n",
       "      <td>19.68</td>\n",
       "      <td>17804</td>\n",
       "      <td>0.0</td>\n",
       "      <td>0.0526</td>\n",
       "      <td>8.17</td>\n",
       "    </tr>\n",
       "  </tbody>\n",
       "</table>\n",
       "</div>"
      ],
      "text/plain": [
       "                slug symbol          name       date  ranknow   open   high  \\\n",
       "679178  bitcoin-atom    BCA  Bitcoin Atom 2018-02-01     1515  45.95  55.17   \n",
       "679179  bitcoin-atom    BCA  Bitcoin Atom 2018-02-02     1515  42.90  42.90   \n",
       "679180  bitcoin-atom    BCA  Bitcoin Atom 2018-02-03     1515  35.99  36.71   \n",
       "679181  bitcoin-atom    BCA  Bitcoin Atom 2018-02-04     1515  30.75  34.90   \n",
       "679182  bitcoin-atom    BCA  Bitcoin Atom 2018-02-05     1515  25.52  27.42   \n",
       "\n",
       "          low  close  volume  market close_ratio  spread  \n",
       "679178  41.70  42.95   38029     0.0      0.0928   13.47  \n",
       "679179  29.18  35.91   48024     0.0      0.4905   13.72  \n",
       "679180  30.10  30.74   27136     0.0      0.0968    6.61  \n",
       "679181  23.93  23.93   26370     0.0         0.0   10.97  \n",
       "679182  19.25  19.68   17804     0.0      0.0526    8.17  "
      ]
     },
     "execution_count": 38,
     "metadata": {},
     "output_type": "execute_result"
    }
   ],
   "source": [
    "df_crypto.tail()\n"
   ]
  },
  {
   "cell_type": "markdown",
   "id": "50dab2b1",
   "metadata": {
    "slideshow": {
     "slide_type": "slide"
    }
   },
   "source": [
    "## Quotazioni rilevate nella data più recente"
   ]
  },
  {
   "cell_type": "code",
   "execution_count": 39,
   "id": "bf5d518f",
   "metadata": {
    "slideshow": {
     "slide_type": "-"
    }
   },
   "outputs": [
    {
     "name": "stdout",
     "output_type": "stream",
     "text": [
      "2018-02-05 00:00:00\n",
      "I dati più recenti sulle crypto\n"
     ]
    },
    {
     "data": {
      "text/html": [
       "<div>\n",
       "<style scoped>\n",
       "    .dataframe tbody tr th:only-of-type {\n",
       "        vertical-align: middle;\n",
       "    }\n",
       "\n",
       "    .dataframe tbody tr th {\n",
       "        vertical-align: top;\n",
       "    }\n",
       "\n",
       "    .dataframe thead th {\n",
       "        text-align: right;\n",
       "    }\n",
       "</style>\n",
       "<table border=\"1\" class=\"dataframe\">\n",
       "  <thead>\n",
       "    <tr style=\"text-align: right;\">\n",
       "      <th></th>\n",
       "      <th>slug</th>\n",
       "      <th>symbol</th>\n",
       "      <th>name</th>\n",
       "      <th>date</th>\n",
       "      <th>ranknow</th>\n",
       "      <th>open</th>\n",
       "      <th>high</th>\n",
       "      <th>low</th>\n",
       "      <th>close</th>\n",
       "      <th>volume</th>\n",
       "      <th>market</th>\n",
       "      <th>close_ratio</th>\n",
       "      <th>spread</th>\n",
       "    </tr>\n",
       "  </thead>\n",
       "  <tbody>\n",
       "    <tr>\n",
       "      <th>1744</th>\n",
       "      <td>bitcoin</td>\n",
       "      <td>BTC</td>\n",
       "      <td>Bitcoin</td>\n",
       "      <td>2018-02-05</td>\n",
       "      <td>1</td>\n",
       "      <td>8270.540000</td>\n",
       "      <td>8364.840000</td>\n",
       "      <td>6756.680000</td>\n",
       "      <td>6955.270000</td>\n",
       "      <td>9285290000</td>\n",
       "      <td>1.393250e+11</td>\n",
       "      <td>0.1235</td>\n",
       "      <td>1608.16</td>\n",
       "    </tr>\n",
       "    <tr>\n",
       "      <th>2658</th>\n",
       "      <td>ethereum</td>\n",
       "      <td>ETH</td>\n",
       "      <td>Ethereum</td>\n",
       "      <td>2018-02-05</td>\n",
       "      <td>2</td>\n",
       "      <td>834.960000</td>\n",
       "      <td>856.650000</td>\n",
       "      <td>644.600000</td>\n",
       "      <td>697.950000</td>\n",
       "      <td>4269530000</td>\n",
       "      <td>8.133740e+10</td>\n",
       "      <td>0.2516</td>\n",
       "      <td>212.05</td>\n",
       "    </tr>\n",
       "    <tr>\n",
       "      <th>4305</th>\n",
       "      <td>ripple</td>\n",
       "      <td>XRP</td>\n",
       "      <td>Ripple</td>\n",
       "      <td>2018-02-05</td>\n",
       "      <td>3</td>\n",
       "      <td>0.825943</td>\n",
       "      <td>0.833866</td>\n",
       "      <td>0.675827</td>\n",
       "      <td>0.691799</td>\n",
       "      <td>1286180000</td>\n",
       "      <td>3.221940e+10</td>\n",
       "      <td>0.1011</td>\n",
       "      <td>0.16</td>\n",
       "    </tr>\n",
       "    <tr>\n",
       "      <th>4503</th>\n",
       "      <td>bitcoin-cash</td>\n",
       "      <td>BCH</td>\n",
       "      <td>Bitcoin Cash</td>\n",
       "      <td>2018-02-05</td>\n",
       "      <td>4</td>\n",
       "      <td>1159.890000</td>\n",
       "      <td>1172.700000</td>\n",
       "      <td>839.950000</td>\n",
       "      <td>887.410000</td>\n",
       "      <td>568117000</td>\n",
       "      <td>1.965980e+10</td>\n",
       "      <td>0.1426</td>\n",
       "      <td>332.75</td>\n",
       "    </tr>\n",
       "    <tr>\n",
       "      <th>4631</th>\n",
       "      <td>cardano</td>\n",
       "      <td>ADA</td>\n",
       "      <td>Cardano</td>\n",
       "      <td>2018-02-05</td>\n",
       "      <td>5</td>\n",
       "      <td>0.385044</td>\n",
       "      <td>0.399523</td>\n",
       "      <td>0.319646</td>\n",
       "      <td>0.327371</td>\n",
       "      <td>658548000</td>\n",
       "      <td>9.983060e+09</td>\n",
       "      <td>0.0967</td>\n",
       "      <td>0.08</td>\n",
       "    </tr>\n",
       "  </tbody>\n",
       "</table>\n",
       "</div>"
      ],
      "text/plain": [
       "              slug symbol          name       date  ranknow         open  \\\n",
       "1744       bitcoin    BTC       Bitcoin 2018-02-05        1  8270.540000   \n",
       "2658      ethereum    ETH      Ethereum 2018-02-05        2   834.960000   \n",
       "4305        ripple    XRP        Ripple 2018-02-05        3     0.825943   \n",
       "4503  bitcoin-cash    BCH  Bitcoin Cash 2018-02-05        4  1159.890000   \n",
       "4631       cardano    ADA       Cardano 2018-02-05        5     0.385044   \n",
       "\n",
       "             high          low        close      volume        market  \\\n",
       "1744  8364.840000  6756.680000  6955.270000  9285290000  1.393250e+11   \n",
       "2658   856.650000   644.600000   697.950000  4269530000  8.133740e+10   \n",
       "4305     0.833866     0.675827     0.691799  1286180000  3.221940e+10   \n",
       "4503  1172.700000   839.950000   887.410000   568117000  1.965980e+10   \n",
       "4631     0.399523     0.319646     0.327371   658548000  9.983060e+09   \n",
       "\n",
       "     close_ratio   spread  \n",
       "1744      0.1235  1608.16  \n",
       "2658      0.2516   212.05  \n",
       "4305      0.1011     0.16  \n",
       "4503      0.1426   332.75  \n",
       "4631      0.0967     0.08  "
      ]
     },
     "execution_count": 39,
     "metadata": {},
     "output_type": "execute_result"
    }
   ],
   "source": [
    "# trovare la data più recente \n",
    "mostrecentdate=max(df_crypto['date'])\n",
    "print(mostrecentdate)\n",
    "\n",
    "# Costruire un nuovo DataFrame contenente, per ogni crypto, la quotazione più recente\n",
    "\n",
    "print(\"I dati più recenti sulle crypto\")\n",
    "latest_df = df_crypto[df_crypto['date'] == mostrecentdate]\n",
    "latest_df.head()\n"
   ]
  },
  {
   "cell_type": "markdown",
   "id": "69eb1f43",
   "metadata": {
    "slideshow": {
     "slide_type": "slide"
    }
   },
   "source": [
    "## Selezionare la data della prima rilevazione di ogni cryptocurrency"
   ]
  },
  {
   "cell_type": "code",
   "execution_count": 40,
   "id": "7c0bfe84",
   "metadata": {
    "slideshow": {
     "slide_type": "-"
    }
   },
   "outputs": [
    {
     "data": {
      "text/plain": [
       "name\n",
       "0x           2017-08-16\n",
       "10M Token    2017-10-24\n",
       "2GIVE        2016-05-16\n",
       "300 Token    2017-07-25\n",
       "42-coin      2014-01-14\n",
       "                ...    \n",
       "netBit       2016-11-14\n",
       "onG.social   2017-12-01\n",
       "ugChain      2018-01-13\n",
       "vSlice       2016-12-19\n",
       "vTorrent     2014-12-25\n",
       "Name: date, Length: 1511, dtype: datetime64[ns]"
      ]
     },
     "execution_count": 40,
     "metadata": {},
     "output_type": "execute_result"
    }
   ],
   "source": [
    "df_grouped=df_crypto.groupby('name')\n",
    "df_grouped['date'].min()\n"
   ]
  },
  {
   "cell_type": "markdown",
   "id": "a2b8dfe8",
   "metadata": {
    "slideshow": {
     "slide_type": "slide"
    }
   },
   "source": [
    "## Selezionare la data della prima rilevazione di ogni cryptocurrency - versione 2 costruendo un DF"
   ]
  },
  {
   "cell_type": "code",
   "execution_count": 41,
   "id": "3f49be11",
   "metadata": {
    "slideshow": {
     "slide_type": "-"
    }
   },
   "outputs": [
    {
     "data": {
      "text/html": [
       "<div>\n",
       "<style scoped>\n",
       "    .dataframe tbody tr th:only-of-type {\n",
       "        vertical-align: middle;\n",
       "    }\n",
       "\n",
       "    .dataframe tbody tr th {\n",
       "        vertical-align: top;\n",
       "    }\n",
       "\n",
       "    .dataframe thead th {\n",
       "        text-align: right;\n",
       "    }\n",
       "</style>\n",
       "<table border=\"1\" class=\"dataframe\">\n",
       "  <thead>\n",
       "    <tr style=\"text-align: right;\">\n",
       "      <th></th>\n",
       "      <th>start_date</th>\n",
       "    </tr>\n",
       "    <tr>\n",
       "      <th>name</th>\n",
       "      <th></th>\n",
       "    </tr>\n",
       "  </thead>\n",
       "  <tbody>\n",
       "    <tr>\n",
       "      <th>0x</th>\n",
       "      <td>2017-08-16</td>\n",
       "    </tr>\n",
       "    <tr>\n",
       "      <th>10M Token</th>\n",
       "      <td>2017-10-24</td>\n",
       "    </tr>\n",
       "    <tr>\n",
       "      <th>2GIVE</th>\n",
       "      <td>2016-05-16</td>\n",
       "    </tr>\n",
       "    <tr>\n",
       "      <th>300 Token</th>\n",
       "      <td>2017-07-25</td>\n",
       "    </tr>\n",
       "    <tr>\n",
       "      <th>42-coin</th>\n",
       "      <td>2014-01-14</td>\n",
       "    </tr>\n",
       "    <tr>\n",
       "      <th>...</th>\n",
       "      <td>...</td>\n",
       "    </tr>\n",
       "    <tr>\n",
       "      <th>netBit</th>\n",
       "      <td>2016-11-14</td>\n",
       "    </tr>\n",
       "    <tr>\n",
       "      <th>onG.social</th>\n",
       "      <td>2017-12-01</td>\n",
       "    </tr>\n",
       "    <tr>\n",
       "      <th>ugChain</th>\n",
       "      <td>2018-01-13</td>\n",
       "    </tr>\n",
       "    <tr>\n",
       "      <th>vSlice</th>\n",
       "      <td>2016-12-19</td>\n",
       "    </tr>\n",
       "    <tr>\n",
       "      <th>vTorrent</th>\n",
       "      <td>2014-12-25</td>\n",
       "    </tr>\n",
       "  </tbody>\n",
       "</table>\n",
       "<p>1511 rows × 1 columns</p>\n",
       "</div>"
      ],
      "text/plain": [
       "           start_date\n",
       "name                 \n",
       "0x         2017-08-16\n",
       "10M Token  2017-10-24\n",
       "2GIVE      2016-05-16\n",
       "300 Token  2017-07-25\n",
       "42-coin    2014-01-14\n",
       "...               ...\n",
       "netBit     2016-11-14\n",
       "onG.social 2017-12-01\n",
       "ugChain    2018-01-13\n",
       "vSlice     2016-12-19\n",
       "vTorrent   2014-12-25\n",
       "\n",
       "[1511 rows x 1 columns]"
      ]
     },
     "execution_count": 41,
     "metadata": {},
     "output_type": "execute_result"
    }
   ],
   "source": [
    "start_df = pd.DataFrame({'start_date' : df_grouped['date'].min()})\n",
    "start_df\n"
   ]
  },
  {
   "cell_type": "markdown",
   "id": "7f30d11b",
   "metadata": {
    "slideshow": {
     "slide_type": "slide"
    }
   },
   "source": [
    "## Selezionare le criptovalute che sono state entrate per prime nel mercato"
   ]
  },
  {
   "cell_type": "code",
   "execution_count": 42,
   "id": "a1f1af03",
   "metadata": {
    "slideshow": {
     "slide_type": "-"
    }
   },
   "outputs": [
    {
     "name": "stdout",
     "output_type": "stream",
     "text": [
      "Oldest Cryptocurrencies\n"
     ]
    },
    {
     "data": {
      "text/html": [
       "<div>\n",
       "<style scoped>\n",
       "    .dataframe tbody tr th:only-of-type {\n",
       "        vertical-align: middle;\n",
       "    }\n",
       "\n",
       "    .dataframe tbody tr th {\n",
       "        vertical-align: top;\n",
       "    }\n",
       "\n",
       "    .dataframe thead th {\n",
       "        text-align: right;\n",
       "    }\n",
       "</style>\n",
       "<table border=\"1\" class=\"dataframe\">\n",
       "  <thead>\n",
       "    <tr style=\"text-align: right;\">\n",
       "      <th></th>\n",
       "      <th>start_date</th>\n",
       "    </tr>\n",
       "    <tr>\n",
       "      <th>name</th>\n",
       "      <th></th>\n",
       "    </tr>\n",
       "  </thead>\n",
       "  <tbody>\n",
       "    <tr>\n",
       "      <th>Peercoin</th>\n",
       "      <td>2013-04-28</td>\n",
       "    </tr>\n",
       "    <tr>\n",
       "      <th>Litecoin</th>\n",
       "      <td>2013-04-28</td>\n",
       "    </tr>\n",
       "    <tr>\n",
       "      <th>Bitcoin</th>\n",
       "      <td>2013-04-28</td>\n",
       "    </tr>\n",
       "    <tr>\n",
       "      <th>Namecoin</th>\n",
       "      <td>2013-04-28</td>\n",
       "    </tr>\n",
       "    <tr>\n",
       "      <th>Novacoin</th>\n",
       "      <td>2013-04-28</td>\n",
       "    </tr>\n",
       "    <tr>\n",
       "      <th>Terracoin</th>\n",
       "      <td>2013-04-28</td>\n",
       "    </tr>\n",
       "    <tr>\n",
       "      <th>Mincoin</th>\n",
       "      <td>2013-05-03</td>\n",
       "    </tr>\n",
       "    <tr>\n",
       "      <th>Freicoin</th>\n",
       "      <td>2013-05-03</td>\n",
       "    </tr>\n",
       "    <tr>\n",
       "      <th>Feathercoin</th>\n",
       "      <td>2013-05-03</td>\n",
       "    </tr>\n",
       "    <tr>\n",
       "      <th>Ixcoin</th>\n",
       "      <td>2013-05-08</td>\n",
       "    </tr>\n",
       "  </tbody>\n",
       "</table>\n",
       "</div>"
      ],
      "text/plain": [
       "            start_date\n",
       "name                  \n",
       "Peercoin    2013-04-28\n",
       "Litecoin    2013-04-28\n",
       "Bitcoin     2013-04-28\n",
       "Namecoin    2013-04-28\n",
       "Novacoin    2013-04-28\n",
       "Terracoin   2013-04-28\n",
       "Mincoin     2013-05-03\n",
       "Freicoin    2013-05-03\n",
       "Feathercoin 2013-05-03\n",
       "Ixcoin      2013-05-08"
      ]
     },
     "execution_count": 42,
     "metadata": {},
     "output_type": "execute_result"
    }
   ],
   "source": [
    "print(\"Oldest Cryptocurrencies\")\n",
    "\n",
    "# x è impostato a 10 inizialmente\n",
    "\n",
    "start_df.sort_values(['start_date']).head(x)\n"
   ]
  },
  {
   "cell_type": "markdown",
   "id": "10a46430",
   "metadata": {
    "slideshow": {
     "slide_type": "slide"
    }
   },
   "source": [
    "## Selezionare le ultime  cryptocurrencies entrate sul mercato (nel 2018)"
   ]
  },
  {
   "cell_type": "code",
   "execution_count": 43,
   "id": "dc5180ee",
   "metadata": {},
   "outputs": [
    {
     "name": "stdout",
     "output_type": "stream",
     "text": [
      "Newest Cryptocurrencies\n"
     ]
    },
    {
     "data": {
      "text/html": [
       "<div>\n",
       "<style scoped>\n",
       "    .dataframe tbody tr th:only-of-type {\n",
       "        vertical-align: middle;\n",
       "    }\n",
       "\n",
       "    .dataframe tbody tr th {\n",
       "        vertical-align: top;\n",
       "    }\n",
       "\n",
       "    .dataframe thead th {\n",
       "        text-align: right;\n",
       "    }\n",
       "</style>\n",
       "<table border=\"1\" class=\"dataframe\">\n",
       "  <thead>\n",
       "    <tr style=\"text-align: right;\">\n",
       "      <th></th>\n",
       "      <th>start_date</th>\n",
       "    </tr>\n",
       "    <tr>\n",
       "      <th>name</th>\n",
       "      <th></th>\n",
       "    </tr>\n",
       "  </thead>\n",
       "  <tbody>\n",
       "    <tr>\n",
       "      <th>Pareto Network</th>\n",
       "      <td>2018-02-02</td>\n",
       "    </tr>\n",
       "    <tr>\n",
       "      <th>STK</th>\n",
       "      <td>2018-02-02</td>\n",
       "    </tr>\n",
       "    <tr>\n",
       "      <th>Polymath Network</th>\n",
       "      <td>2018-02-02</td>\n",
       "    </tr>\n",
       "    <tr>\n",
       "      <th>Huobi Token</th>\n",
       "      <td>2018-02-03</td>\n",
       "    </tr>\n",
       "    <tr>\n",
       "      <th>SwissBorg</th>\n",
       "      <td>2018-02-03</td>\n",
       "    </tr>\n",
       "    <tr>\n",
       "      <th>adbank</th>\n",
       "      <td>2018-02-03</td>\n",
       "    </tr>\n",
       "    <tr>\n",
       "      <th>DMarket</th>\n",
       "      <td>2018-02-03</td>\n",
       "    </tr>\n",
       "    <tr>\n",
       "      <th>Zilla</th>\n",
       "      <td>2018-02-03</td>\n",
       "    </tr>\n",
       "    <tr>\n",
       "      <th>Iungo</th>\n",
       "      <td>2018-02-04</td>\n",
       "    </tr>\n",
       "    <tr>\n",
       "      <th>Jibrel Network</th>\n",
       "      <td>2018-02-05</td>\n",
       "    </tr>\n",
       "  </tbody>\n",
       "</table>\n",
       "</div>"
      ],
      "text/plain": [
       "                 start_date\n",
       "name                       \n",
       "Pareto Network   2018-02-02\n",
       "STK              2018-02-02\n",
       "Polymath Network 2018-02-02\n",
       "Huobi Token      2018-02-03\n",
       "SwissBorg        2018-02-03\n",
       "adbank           2018-02-03\n",
       "DMarket          2018-02-03\n",
       "Zilla            2018-02-03\n",
       "Iungo            2018-02-04\n",
       "Jibrel Network   2018-02-05"
      ]
     },
     "execution_count": 43,
     "metadata": {},
     "output_type": "execute_result"
    }
   ],
   "source": [
    "# List the newest ones\n",
    "print(\"Newest Cryptocurrencies\")\n",
    "\n",
    "start_df.sort_values(['start_date']).tail(x)\n"
   ]
  },
  {
   "cell_type": "markdown",
   "id": "bfcd7888",
   "metadata": {
    "slideshow": {
     "slide_type": "slide"
    }
   },
   "source": [
    "## Data wrangling"
   ]
  },
  {
   "cell_type": "code",
   "execution_count": 44,
   "id": "311ec046",
   "metadata": {
    "slideshow": {
     "slide_type": "-"
    }
   },
   "outputs": [
    {
     "name": "stdout",
     "output_type": "stream",
     "text": [
      "                slug symbol          name       date  ranknow    open    high  \\\n",
      "0            bitcoin    BTC       Bitcoin 2013-04-28        1  135.30  135.98   \n",
      "1            bitcoin    BTC       Bitcoin 2013-04-29        1  134.44  147.49   \n",
      "2            bitcoin    BTC       Bitcoin 2013-04-30        1  144.00  146.93   \n",
      "3            bitcoin    BTC       Bitcoin 2013-05-01        1  139.00  139.89   \n",
      "4            bitcoin    BTC       Bitcoin 2013-05-02        1  116.38  125.60   \n",
      "...              ...    ...           ...        ...      ...     ...     ...   \n",
      "679178  bitcoin-atom    BCA  Bitcoin Atom 2018-02-01     1515   45.95   55.17   \n",
      "679179  bitcoin-atom    BCA  Bitcoin Atom 2018-02-02     1515   42.90   42.90   \n",
      "679180  bitcoin-atom    BCA  Bitcoin Atom 2018-02-03     1515   35.99   36.71   \n",
      "679181  bitcoin-atom    BCA  Bitcoin Atom 2018-02-04     1515   30.75   34.90   \n",
      "679182  bitcoin-atom    BCA  Bitcoin Atom 2018-02-05     1515   25.52   27.42   \n",
      "\n",
      "           low   close  volume        market close_ratio  spread  \\\n",
      "0       132.10  134.21       0  1.500520e+09      0.5438    3.88   \n",
      "1       134.00  144.54       0  1.491160e+09      0.7813   13.49   \n",
      "2       134.05  139.00       0  1.597780e+09      0.3843   12.88   \n",
      "3       107.72  116.99       0  1.542820e+09      0.2882   32.17   \n",
      "4        92.28  105.21       0  1.292190e+09      0.3881   33.32   \n",
      "...        ...     ...     ...           ...         ...     ...   \n",
      "679178   41.70   42.95   38029  0.000000e+00      0.0928   13.47   \n",
      "679179   29.18   35.91   48024  0.000000e+00      0.4905   13.72   \n",
      "679180   30.10   30.74   27136  0.000000e+00      0.0968    6.61   \n",
      "679181   23.93   23.93   26370  0.000000e+00         0.0   10.97   \n",
      "679182   19.25   19.68   17804  0.000000e+00      0.0526    8.17   \n",
      "\n",
      "        market_billion  volume_million  \n",
      "0              1.50052        0.000000  \n",
      "1              1.49116        0.000000  \n",
      "2              1.59778        0.000000  \n",
      "3              1.54282        0.000000  \n",
      "4              1.29219        0.000000  \n",
      "...                ...             ...  \n",
      "679178         0.00000        0.000038  \n",
      "679179         0.00000        0.000048  \n",
      "679180         0.00000        0.000027  \n",
      "679181         0.00000        0.000026  \n",
      "679182         0.00000        0.000018  \n",
      "\n",
      "[679183 rows x 15 columns]\n"
     ]
    }
   ],
   "source": [
    "df_crypto['market_billion'] = df_crypto['market'] / 1000000000\n",
    "df_crypto['volume_million'] = df_crypto['volume'] / 1000000000\n",
    "\n",
    "print(df_crypto)\n"
   ]
  },
  {
   "cell_type": "markdown",
   "id": "25ef2ce3",
   "metadata": {
    "slideshow": {
     "slide_type": "slide"
    }
   },
   "source": [
    "## Individuare le top cryptocurrencies in base al ranking rilevato nella data più recente\n",
    "\n",
    "*  top 10: rank =1 topmost, selezioniamo per rank <=10\n",
    "* valutazione relativa all'ultima rilevazione di mercato effettuata\n",
    "* **latest_df**: è il **DataFrame** costruito nelle slide precedenti, che contiene le rilevazioni effettuate nell'ultima data del DataSet\n"
   ]
  },
  {
   "cell_type": "code",
   "execution_count": 45,
   "id": "724a832c",
   "metadata": {
    "slideshow": {
     "slide_type": "-"
    }
   },
   "outputs": [
    {
     "data": {
      "text/html": [
       "<div>\n",
       "<style scoped>\n",
       "    .dataframe tbody tr th:only-of-type {\n",
       "        vertical-align: middle;\n",
       "    }\n",
       "\n",
       "    .dataframe tbody tr th {\n",
       "        vertical-align: top;\n",
       "    }\n",
       "\n",
       "    .dataframe thead th {\n",
       "        text-align: right;\n",
       "    }\n",
       "</style>\n",
       "<table border=\"1\" class=\"dataframe\">\n",
       "  <thead>\n",
       "    <tr style=\"text-align: right;\">\n",
       "      <th></th>\n",
       "      <th>slug</th>\n",
       "      <th>symbol</th>\n",
       "      <th>name</th>\n",
       "      <th>date</th>\n",
       "      <th>ranknow</th>\n",
       "      <th>open</th>\n",
       "      <th>high</th>\n",
       "      <th>low</th>\n",
       "      <th>close</th>\n",
       "      <th>volume</th>\n",
       "      <th>market</th>\n",
       "      <th>close_ratio</th>\n",
       "      <th>spread</th>\n",
       "    </tr>\n",
       "  </thead>\n",
       "  <tbody>\n",
       "    <tr>\n",
       "      <th>1744</th>\n",
       "      <td>bitcoin</td>\n",
       "      <td>BTC</td>\n",
       "      <td>Bitcoin</td>\n",
       "      <td>2018-02-05</td>\n",
       "      <td>1</td>\n",
       "      <td>8270.540000</td>\n",
       "      <td>8364.840000</td>\n",
       "      <td>6756.680000</td>\n",
       "      <td>6955.270000</td>\n",
       "      <td>9285290000</td>\n",
       "      <td>1.393250e+11</td>\n",
       "      <td>0.1235</td>\n",
       "      <td>1608.16</td>\n",
       "    </tr>\n",
       "    <tr>\n",
       "      <th>2658</th>\n",
       "      <td>ethereum</td>\n",
       "      <td>ETH</td>\n",
       "      <td>Ethereum</td>\n",
       "      <td>2018-02-05</td>\n",
       "      <td>2</td>\n",
       "      <td>834.960000</td>\n",
       "      <td>856.650000</td>\n",
       "      <td>644.600000</td>\n",
       "      <td>697.950000</td>\n",
       "      <td>4269530000</td>\n",
       "      <td>8.133740e+10</td>\n",
       "      <td>0.2516</td>\n",
       "      <td>212.05</td>\n",
       "    </tr>\n",
       "    <tr>\n",
       "      <th>4305</th>\n",
       "      <td>ripple</td>\n",
       "      <td>XRP</td>\n",
       "      <td>Ripple</td>\n",
       "      <td>2018-02-05</td>\n",
       "      <td>3</td>\n",
       "      <td>0.825943</td>\n",
       "      <td>0.833866</td>\n",
       "      <td>0.675827</td>\n",
       "      <td>0.691799</td>\n",
       "      <td>1286180000</td>\n",
       "      <td>3.221940e+10</td>\n",
       "      <td>0.1011</td>\n",
       "      <td>0.16</td>\n",
       "    </tr>\n",
       "    <tr>\n",
       "      <th>4503</th>\n",
       "      <td>bitcoin-cash</td>\n",
       "      <td>BCH</td>\n",
       "      <td>Bitcoin Cash</td>\n",
       "      <td>2018-02-05</td>\n",
       "      <td>4</td>\n",
       "      <td>1159.890000</td>\n",
       "      <td>1172.700000</td>\n",
       "      <td>839.950000</td>\n",
       "      <td>887.410000</td>\n",
       "      <td>568117000</td>\n",
       "      <td>1.965980e+10</td>\n",
       "      <td>0.1426</td>\n",
       "      <td>332.75</td>\n",
       "    </tr>\n",
       "    <tr>\n",
       "      <th>4631</th>\n",
       "      <td>cardano</td>\n",
       "      <td>ADA</td>\n",
       "      <td>Cardano</td>\n",
       "      <td>2018-02-05</td>\n",
       "      <td>5</td>\n",
       "      <td>0.385044</td>\n",
       "      <td>0.399523</td>\n",
       "      <td>0.319646</td>\n",
       "      <td>0.327371</td>\n",
       "      <td>658548000</td>\n",
       "      <td>9.983060e+09</td>\n",
       "      <td>0.0967</td>\n",
       "      <td>0.08</td>\n",
       "    </tr>\n",
       "    <tr>\n",
       "      <th>6376</th>\n",
       "      <td>litecoin</td>\n",
       "      <td>LTC</td>\n",
       "      <td>Litecoin</td>\n",
       "      <td>2018-02-05</td>\n",
       "      <td>6</td>\n",
       "      <td>148.730000</td>\n",
       "      <td>153.520000</td>\n",
       "      <td>118.150000</td>\n",
       "      <td>125.330000</td>\n",
       "      <td>844678000</td>\n",
       "      <td>8.190580e+09</td>\n",
       "      <td>0.203</td>\n",
       "      <td>35.37</td>\n",
       "    </tr>\n",
       "    <tr>\n",
       "      <th>6891</th>\n",
       "      <td>neo</td>\n",
       "      <td>NEO</td>\n",
       "      <td>NEO</td>\n",
       "      <td>2018-02-05</td>\n",
       "      <td>7</td>\n",
       "      <td>107.580000</td>\n",
       "      <td>108.970000</td>\n",
       "      <td>75.750000</td>\n",
       "      <td>82.370000</td>\n",
       "      <td>312096000</td>\n",
       "      <td>6.992380e+09</td>\n",
       "      <td>0.1993</td>\n",
       "      <td>33.22</td>\n",
       "    </tr>\n",
       "    <tr>\n",
       "      <th>8172</th>\n",
       "      <td>stellar</td>\n",
       "      <td>XLM</td>\n",
       "      <td>Stellar</td>\n",
       "      <td>2018-02-05</td>\n",
       "      <td>8</td>\n",
       "      <td>0.383191</td>\n",
       "      <td>0.425340</td>\n",
       "      <td>0.312975</td>\n",
       "      <td>0.331192</td>\n",
       "      <td>339507000</td>\n",
       "      <td>7.064590e+09</td>\n",
       "      <td>0.1621</td>\n",
       "      <td>0.11</td>\n",
       "    </tr>\n",
       "    <tr>\n",
       "      <th>8392</th>\n",
       "      <td>eos</td>\n",
       "      <td>EOS</td>\n",
       "      <td>EOS</td>\n",
       "      <td>2018-02-05</td>\n",
       "      <td>9</td>\n",
       "      <td>8.680000</td>\n",
       "      <td>8.850000</td>\n",
       "      <td>6.940000</td>\n",
       "      <td>7.060000</td>\n",
       "      <td>640159000</td>\n",
       "      <td>5.618380e+09</td>\n",
       "      <td>0.0628</td>\n",
       "      <td>1.91</td>\n",
       "    </tr>\n",
       "    <tr>\n",
       "      <th>9434</th>\n",
       "      <td>nem</td>\n",
       "      <td>XEM</td>\n",
       "      <td>NEM</td>\n",
       "      <td>2018-02-05</td>\n",
       "      <td>10</td>\n",
       "      <td>0.548980</td>\n",
       "      <td>0.559763</td>\n",
       "      <td>0.440340</td>\n",
       "      <td>0.449672</td>\n",
       "      <td>28590400</td>\n",
       "      <td>4.940820e+09</td>\n",
       "      <td>0.0781</td>\n",
       "      <td>0.12</td>\n",
       "    </tr>\n",
       "  </tbody>\n",
       "</table>\n",
       "</div>"
      ],
      "text/plain": [
       "              slug symbol          name       date  ranknow         open  \\\n",
       "1744       bitcoin    BTC       Bitcoin 2018-02-05        1  8270.540000   \n",
       "2658      ethereum    ETH      Ethereum 2018-02-05        2   834.960000   \n",
       "4305        ripple    XRP        Ripple 2018-02-05        3     0.825943   \n",
       "4503  bitcoin-cash    BCH  Bitcoin Cash 2018-02-05        4  1159.890000   \n",
       "4631       cardano    ADA       Cardano 2018-02-05        5     0.385044   \n",
       "6376      litecoin    LTC      Litecoin 2018-02-05        6   148.730000   \n",
       "6891           neo    NEO           NEO 2018-02-05        7   107.580000   \n",
       "8172       stellar    XLM       Stellar 2018-02-05        8     0.383191   \n",
       "8392           eos    EOS           EOS 2018-02-05        9     8.680000   \n",
       "9434           nem    XEM           NEM 2018-02-05       10     0.548980   \n",
       "\n",
       "             high          low        close      volume        market  \\\n",
       "1744  8364.840000  6756.680000  6955.270000  9285290000  1.393250e+11   \n",
       "2658   856.650000   644.600000   697.950000  4269530000  8.133740e+10   \n",
       "4305     0.833866     0.675827     0.691799  1286180000  3.221940e+10   \n",
       "4503  1172.700000   839.950000   887.410000   568117000  1.965980e+10   \n",
       "4631     0.399523     0.319646     0.327371   658548000  9.983060e+09   \n",
       "6376   153.520000   118.150000   125.330000   844678000  8.190580e+09   \n",
       "6891   108.970000    75.750000    82.370000   312096000  6.992380e+09   \n",
       "8172     0.425340     0.312975     0.331192   339507000  7.064590e+09   \n",
       "8392     8.850000     6.940000     7.060000   640159000  5.618380e+09   \n",
       "9434     0.559763     0.440340     0.449672    28590400  4.940820e+09   \n",
       "\n",
       "     close_ratio   spread  \n",
       "1744      0.1235  1608.16  \n",
       "2658      0.2516   212.05  \n",
       "4305      0.1011     0.16  \n",
       "4503      0.1426   332.75  \n",
       "4631      0.0967     0.08  \n",
       "6376       0.203    35.37  \n",
       "6891      0.1993    33.22  \n",
       "8172      0.1621     0.11  \n",
       "8392      0.0628     1.91  \n",
       "9434      0.0781     0.12  "
      ]
     },
     "execution_count": 45,
     "metadata": {},
     "output_type": "execute_result"
    }
   ],
   "source": [
    "high_rank=latest_df[latest_df['ranknow'] <= x]\n",
    "high_rank\n"
   ]
  },
  {
   "cell_type": "markdown",
   "id": "60b97db6",
   "metadata": {
    "slideshow": {
     "slide_type": "slide"
    }
   },
   "source": [
    "## Le top 10 cryptocurrencies in base al ranking rilevato nella data più recente"
   ]
  },
  {
   "cell_type": "code",
   "execution_count": 46,
   "id": "f30218fa",
   "metadata": {},
   "outputs": [
    {
     "data": {
      "text/html": [
       "<div>\n",
       "<style scoped>\n",
       "    .dataframe tbody tr th:only-of-type {\n",
       "        vertical-align: middle;\n",
       "    }\n",
       "\n",
       "    .dataframe tbody tr th {\n",
       "        vertical-align: top;\n",
       "    }\n",
       "\n",
       "    .dataframe thead th {\n",
       "        text-align: right;\n",
       "    }\n",
       "</style>\n",
       "<table border=\"1\" class=\"dataframe\">\n",
       "  <thead>\n",
       "    <tr style=\"text-align: right;\">\n",
       "      <th></th>\n",
       "      <th>name</th>\n",
       "      <th>market</th>\n",
       "    </tr>\n",
       "  </thead>\n",
       "  <tbody>\n",
       "    <tr>\n",
       "      <th>1744</th>\n",
       "      <td>Bitcoin</td>\n",
       "      <td>1.393250e+11</td>\n",
       "    </tr>\n",
       "    <tr>\n",
       "      <th>2658</th>\n",
       "      <td>Ethereum</td>\n",
       "      <td>8.133740e+10</td>\n",
       "    </tr>\n",
       "    <tr>\n",
       "      <th>4305</th>\n",
       "      <td>Ripple</td>\n",
       "      <td>3.221940e+10</td>\n",
       "    </tr>\n",
       "    <tr>\n",
       "      <th>4503</th>\n",
       "      <td>Bitcoin Cash</td>\n",
       "      <td>1.965980e+10</td>\n",
       "    </tr>\n",
       "    <tr>\n",
       "      <th>4631</th>\n",
       "      <td>Cardano</td>\n",
       "      <td>9.983060e+09</td>\n",
       "    </tr>\n",
       "    <tr>\n",
       "      <th>6376</th>\n",
       "      <td>Litecoin</td>\n",
       "      <td>8.190580e+09</td>\n",
       "    </tr>\n",
       "    <tr>\n",
       "      <th>6891</th>\n",
       "      <td>NEO</td>\n",
       "      <td>6.992380e+09</td>\n",
       "    </tr>\n",
       "    <tr>\n",
       "      <th>8172</th>\n",
       "      <td>Stellar</td>\n",
       "      <td>7.064590e+09</td>\n",
       "    </tr>\n",
       "    <tr>\n",
       "      <th>8392</th>\n",
       "      <td>EOS</td>\n",
       "      <td>5.618380e+09</td>\n",
       "    </tr>\n",
       "    <tr>\n",
       "      <th>9434</th>\n",
       "      <td>NEM</td>\n",
       "      <td>4.940820e+09</td>\n",
       "    </tr>\n",
       "  </tbody>\n",
       "</table>\n",
       "</div>"
      ],
      "text/plain": [
       "              name        market\n",
       "1744       Bitcoin  1.393250e+11\n",
       "2658      Ethereum  8.133740e+10\n",
       "4305        Ripple  3.221940e+10\n",
       "4503  Bitcoin Cash  1.965980e+10\n",
       "4631       Cardano  9.983060e+09\n",
       "6376      Litecoin  8.190580e+09\n",
       "6891           NEO  6.992380e+09\n",
       "8172       Stellar  7.064590e+09\n",
       "8392           EOS  5.618380e+09\n",
       "9434           NEM  4.940820e+09"
      ]
     },
     "execution_count": 46,
     "metadata": {},
     "output_type": "execute_result"
    }
   ],
   "source": [
    "high_rank.sort_values(by=['market'], ascending=[False])\n",
    "high_rank[['name','market']].head(x)\n"
   ]
  },
  {
   "cell_type": "markdown",
   "id": "476c3cc4",
   "metadata": {
    "slideshow": {
     "slide_type": "slide"
    }
   },
   "source": [
    "## Le top 10 cryptocurrencies  per capitalizzazione\n",
    "### capitalizzazione : valore della moneta per moneta in relazione al numero di scambi effettuati\n",
    "\n",
    "* creare un plot che riporti le prime 10 criptocurrencies per market capitalization \n",
    "* in riferimento alla data dell'ultima rilevazione, per quella criptomoneta \n",
    "* usiamo la funzione **last**, invece del **DataFrame** **latestDf**\n",
    "    "
   ]
  },
  {
   "cell_type": "code",
   "execution_count": 47,
   "id": "c3d71986",
   "metadata": {
    "slideshow": {
     "slide_type": "-"
    }
   },
   "outputs": [
    {
     "data": {
      "text/plain": [
       "name\n",
       "0x            0.579817\n",
       "10M Token     0.000000\n",
       "2GIVE         0.004693\n",
       "300 Token     0.000256\n",
       "42-coin       0.002731\n",
       "                ...   \n",
       "netBit        0.000000\n",
       "onG.social    0.008939\n",
       "ugChain       0.000000\n",
       "vSlice        0.004289\n",
       "vTorrent      0.004629\n",
       "Name: market_billion, Length: 1511, dtype: float64"
      ]
     },
     "execution_count": 47,
     "metadata": {},
     "output_type": "execute_result"
    }
   ],
   "source": [
    "mv = df_crypto.groupby('name')['market_billion'].last()\n",
    "mv\n"
   ]
  },
  {
   "cell_type": "markdown",
   "id": "b0d819f0",
   "metadata": {
    "slideshow": {
     "slide_type": "slide"
    }
   },
   "source": [
    "## Le top 10 cryptocurrencies  per capitalizzazione\n",
    "\n",
    "* utilizziamo la funzione **last**\n",
    "* verifichiamo che effettivamente tale funzione restituisce l'ultima capitalizzazione di mercato\n",
    "\n",
    "  ->facendo un accesso per label"
   ]
  },
  {
   "cell_type": "code",
   "execution_count": 48,
   "id": "5f2506e4",
   "metadata": {
    "slideshow": {
     "slide_type": "-"
    }
   },
   "outputs": [
    {
     "data": {
      "text/html": [
       "<div>\n",
       "<style scoped>\n",
       "    .dataframe tbody tr th:only-of-type {\n",
       "        vertical-align: middle;\n",
       "    }\n",
       "\n",
       "    .dataframe tbody tr th {\n",
       "        vertical-align: top;\n",
       "    }\n",
       "\n",
       "    .dataframe thead th {\n",
       "        text-align: right;\n",
       "    }\n",
       "</style>\n",
       "<table border=\"1\" class=\"dataframe\">\n",
       "  <thead>\n",
       "    <tr style=\"text-align: right;\">\n",
       "      <th></th>\n",
       "      <th>slug</th>\n",
       "      <th>symbol</th>\n",
       "      <th>name</th>\n",
       "      <th>date</th>\n",
       "      <th>ranknow</th>\n",
       "      <th>open</th>\n",
       "      <th>high</th>\n",
       "      <th>low</th>\n",
       "      <th>close</th>\n",
       "      <th>volume</th>\n",
       "      <th>market</th>\n",
       "      <th>close_ratio</th>\n",
       "      <th>spread</th>\n",
       "      <th>market_billion</th>\n",
       "      <th>volume_million</th>\n",
       "    </tr>\n",
       "  </thead>\n",
       "  <tbody>\n",
       "    <tr>\n",
       "      <th>24868</th>\n",
       "      <td>0x</td>\n",
       "      <td>ZRX</td>\n",
       "      <td>0x</td>\n",
       "      <td>2018-02-01</td>\n",
       "      <td>40</td>\n",
       "      <td>1.86</td>\n",
       "      <td>1.93</td>\n",
       "      <td>1.440000</td>\n",
       "      <td>1.600000</td>\n",
       "      <td>30422600</td>\n",
       "      <td>936047000.0</td>\n",
       "      <td>0.3265</td>\n",
       "      <td>0.49</td>\n",
       "      <td>0.936047</td>\n",
       "      <td>0.030423</td>\n",
       "    </tr>\n",
       "    <tr>\n",
       "      <th>24869</th>\n",
       "      <td>0x</td>\n",
       "      <td>ZRX</td>\n",
       "      <td>0x</td>\n",
       "      <td>2018-02-02</td>\n",
       "      <td>40</td>\n",
       "      <td>1.61</td>\n",
       "      <td>1.61</td>\n",
       "      <td>1.050000</td>\n",
       "      <td>1.300000</td>\n",
       "      <td>26332600</td>\n",
       "      <td>807909000.0</td>\n",
       "      <td>0.4464</td>\n",
       "      <td>0.56</td>\n",
       "      <td>0.807909</td>\n",
       "      <td>0.026333</td>\n",
       "    </tr>\n",
       "    <tr>\n",
       "      <th>24870</th>\n",
       "      <td>0x</td>\n",
       "      <td>ZRX</td>\n",
       "      <td>0x</td>\n",
       "      <td>2018-02-03</td>\n",
       "      <td>40</td>\n",
       "      <td>1.30</td>\n",
       "      <td>1.50</td>\n",
       "      <td>1.150000</td>\n",
       "      <td>1.390000</td>\n",
       "      <td>14554900</td>\n",
       "      <td>655192000.0</td>\n",
       "      <td>0.6857</td>\n",
       "      <td>0.35</td>\n",
       "      <td>0.655192</td>\n",
       "      <td>0.014555</td>\n",
       "    </tr>\n",
       "    <tr>\n",
       "      <th>24871</th>\n",
       "      <td>0x</td>\n",
       "      <td>ZRX</td>\n",
       "      <td>0x</td>\n",
       "      <td>2018-02-04</td>\n",
       "      <td>40</td>\n",
       "      <td>1.39</td>\n",
       "      <td>1.39</td>\n",
       "      <td>1.050000</td>\n",
       "      <td>1.150000</td>\n",
       "      <td>13450500</td>\n",
       "      <td>703996000.0</td>\n",
       "      <td>0.2941</td>\n",
       "      <td>0.34</td>\n",
       "      <td>0.703996</td>\n",
       "      <td>0.013451</td>\n",
       "    </tr>\n",
       "    <tr>\n",
       "      <th>24872</th>\n",
       "      <td>0x</td>\n",
       "      <td>ZRX</td>\n",
       "      <td>0x</td>\n",
       "      <td>2018-02-05</td>\n",
       "      <td>40</td>\n",
       "      <td>1.15</td>\n",
       "      <td>1.16</td>\n",
       "      <td>0.735911</td>\n",
       "      <td>0.817119</td>\n",
       "      <td>16094600</td>\n",
       "      <td>579817000.0</td>\n",
       "      <td>0.1915</td>\n",
       "      <td>0.42</td>\n",
       "      <td>0.579817</td>\n",
       "      <td>0.016095</td>\n",
       "    </tr>\n",
       "  </tbody>\n",
       "</table>\n",
       "</div>"
      ],
      "text/plain": [
       "      slug symbol name       date  ranknow  open  high       low     close  \\\n",
       "24868   0x    ZRX   0x 2018-02-01       40  1.86  1.93  1.440000  1.600000   \n",
       "24869   0x    ZRX   0x 2018-02-02       40  1.61  1.61  1.050000  1.300000   \n",
       "24870   0x    ZRX   0x 2018-02-03       40  1.30  1.50  1.150000  1.390000   \n",
       "24871   0x    ZRX   0x 2018-02-04       40  1.39  1.39  1.050000  1.150000   \n",
       "24872   0x    ZRX   0x 2018-02-05       40  1.15  1.16  0.735911  0.817119   \n",
       "\n",
       "         volume       market close_ratio  spread  market_billion  \\\n",
       "24868  30422600  936047000.0      0.3265    0.49        0.936047   \n",
       "24869  26332600  807909000.0      0.4464    0.56        0.807909   \n",
       "24870  14554900  655192000.0      0.6857    0.35        0.655192   \n",
       "24871  13450500  703996000.0      0.2941    0.34        0.703996   \n",
       "24872  16094600  579817000.0      0.1915    0.42        0.579817   \n",
       "\n",
       "       volume_million  \n",
       "24868        0.030423  \n",
       "24869        0.026333  \n",
       "24870        0.014555  \n",
       "24871        0.013451  \n",
       "24872        0.016095  "
      ]
     },
     "execution_count": 48,
     "metadata": {},
     "output_type": "execute_result"
    }
   ],
   "source": [
    "df_crypto.loc[df_crypto['slug']==\"0x\"].tail()\n"
   ]
  },
  {
   "cell_type": "markdown",
   "id": "9ef537f4",
   "metadata": {
    "slideshow": {
     "slide_type": "slide"
    }
   },
   "source": [
    "## Le top 10 cryptocurrencies  per capitalizzazione"
   ]
  },
  {
   "cell_type": "code",
   "execution_count": 49,
   "id": "cc1bdc20",
   "metadata": {
    "slideshow": {
     "slide_type": "-"
    }
   },
   "outputs": [
    {
     "data": {
      "text/plain": [
       "name\n",
       "Bitcoin         139.32500\n",
       "Ethereum         81.33740\n",
       "Ripple           32.21940\n",
       "Bitcoin Cash     19.65980\n",
       "Cardano           9.98306\n",
       "Litecoin          8.19058\n",
       "Stellar           7.06459\n",
       "NEO               6.99238\n",
       "EOS               5.61838\n",
       "NEM               4.94082\n",
       "Name: market_billion, dtype: float64"
      ]
     },
     "execution_count": 49,
     "metadata": {},
     "output_type": "execute_result"
    }
   ],
   "source": [
    "mv= mv.sort_values(ascending=False)\n",
    "mv.head(10)\n"
   ]
  },
  {
   "cell_type": "markdown",
   "id": "ca542bcf",
   "metadata": {
    "slideshow": {
     "slide_type": "slide"
    }
   },
   "source": [
    "## Le top 10 cryptocurrencies  per capitalizzazione\n",
    "\n",
    "( `kind=\"barh\"` mette le barre in orizzontale )"
   ]
  },
  {
   "cell_type": "code",
   "execution_count": 50,
   "id": "cdfd43df",
   "metadata": {
    "slideshow": {
     "slide_type": "-"
    }
   },
   "outputs": [
    {
     "data": {
      "text/plain": [
       "Text(0.5, 1.0, 'Top 10 Currencies by market cap')"
      ]
     },
     "execution_count": 50,
     "metadata": {},
     "output_type": "execute_result"
    },
    {
     "data": {
      "image/png": "[encoded data removed]",
      "text/plain": [
       "<Figure size 640x480 with 1 Axes>"
      ]
     },
     "metadata": {},
     "output_type": "display_data"
    }
   ],
   "source": [
    "mv.head(10).plot(kind='barh') \n",
    "plt.xlabel(\"market cap in billion USD\",  size = 12)\n",
    "plt.ylabel(\"name\", size = 12)\n",
    "plt.title(\"Top 10 Currencies by market cap\", size = 15)\n"
   ]
  },
  {
   "cell_type": "markdown",
   "id": "3f9602c2",
   "metadata": {
    "slideshow": {
     "slide_type": "-"
    }
   },
   "source": [
    "* barh: per ottenere istogrammi in orizzontale"
   ]
  },
  {
   "cell_type": "markdown",
   "id": "7ff0a906",
   "metadata": {
    "slideshow": {
     "slide_type": "slide"
    }
   },
   "source": [
    "## Le prime 10 cryptocurrencies per volume"
   ]
  },
  {
   "cell_type": "code",
   "execution_count": 51,
   "id": "e0dd415a",
   "metadata": {},
   "outputs": [
    {
     "data": {
      "text/plain": [
       "<Axes: ylabel='name'>"
      ]
     },
     "execution_count": 51,
     "metadata": {},
     "output_type": "execute_result"
    },
    {
     "data": {
      "image/png": "[encoded data removed]",
      "text/plain": [
       "<Figure size 640x480 with 1 Axes>"
      ]
     },
     "metadata": {},
     "output_type": "display_data"
    }
   ],
   "source": [
    "high_volume = df_crypto.groupby('name')['volume_million'].last()\n",
    "high_volume = high_volume.sort_values(ascending=False)\n",
    "high_volume.head(10)\n",
    "\n",
    "high_volume.head(10).plot(kind='barh')\n",
    "\n",
    "\n"
   ]
  },
  {
   "cell_type": "markdown",
   "id": "3ad566c5",
   "metadata": {
    "slideshow": {
     "slide_type": "slide"
    }
   },
   "source": [
    "## Ex 2: Andamento del prezzo delle top-5 cryptocurrencies"
   ]
  },
  {
   "cell_type": "code",
   "execution_count": 53,
   "id": "bab25d8e",
   "metadata": {
    "slideshow": {
     "slide_type": "-"
    }
   },
   "outputs": [
    {
     "name": "stdout",
     "output_type": "stream",
     "text": [
      "Index(['Bitcoin', 'Ethereum', 'Ripple', 'Bitcoin Cash', 'Cardano'], dtype='object', name='name')\n"
     ]
    },
    {
     "data": {
      "text/plain": [
       "Text(0.5, 1.0, 'Price per unit of currency')"
      ]
     },
     "execution_count": 53,
     "metadata": {},
     "output_type": "execute_result"
    },
    {
     "data": {
      "image/png": "[encoded data removed]",
      "text/plain": [
       "<Figure size 640x480 with 1 Axes>"
      ]
     },
     "metadata": {},
     "output_type": "display_data"
    }
   ],
   "source": [
    "market = df_crypto.groupby(['name'])['market'].last()\n",
    "top_5_currency_names =market.sort_values(ascending=False).head(5).index\n",
    "print (top_5_currency_names)\n",
    "\n",
    "data_top_5_currencies = df_crypto[df_crypto['name'].isin(top_5_currency_names)]\n",
    "data=data_top_5_currencies.groupby(['date', 'name'])['close'].last()\n",
    "data.unstack().plot()\n",
    "plt.xlabel(\"Date\",  size = 12)\n",
    "plt.ylabel(\"Price per 1 unit (in USD)\", size = 12)\n",
    "plt.title(\"Price per unit of currency\", size = 15)\n"
   ]
  },
  {
   "cell_type": "markdown",
   "id": "4980230a",
   "metadata": {
    "slideshow": {
     "slide_type": "slide"
    }
   },
   "source": [
    "## Andamento del prezzo delle top 5 cryptocurremcies\n",
    "\n",
    "* cosa accade se tolgo l'istruzione *unstack()*?"
   ]
  },
  {
   "cell_type": "code",
   "execution_count": null,
   "id": "392347c6",
   "metadata": {},
   "outputs": [],
   "source": [
    "market = df_crypto.groupby(['name'])['market'].last()\n",
    "top_5_currency_names =market.sort_values(ascending=False).head(5).index\n",
    "print (top_5_currency_names)\n",
    "\n",
    "data_top_5_currencies = df_crypto[df_crypto['name'].isin(top_5_currency_names)]\n",
    "\n",
    "data=data_top_5_currencies.groupby(['date', 'name'])['close'].last()\n",
    "\n",
    "data.plot()\n",
    "\n",
    "plt.xlabel(\"Date\",  size = 12)\n",
    "plt.ylabel(\"Price per 1 unit (in USD)\", size = 12)\n",
    "plt.title(\"Price per unit of currency\", size = 15)\n"
   ]
  },
  {
   "cell_type": "markdown",
   "id": "d2134d0f",
   "metadata": {
    "slideshow": {
     "slide_type": "slide"
    }
   },
   "source": [
    "## Andamento del prezzo nel 2017 top 5 cryptocurrencies"
   ]
  },
  {
   "cell_type": "code",
   "execution_count": null,
   "id": "44742d3f",
   "metadata": {
    "scrolled": true
   },
   "outputs": [],
   "source": [
    "price2017 = data_top_5_currencies[data_top_5_currencies.date.dt.year >= 2017].groupby(['date', 'name'])['close'].last()\n",
    "price2017.unstack().plot();\n",
    "plt.xlabel(\"Date\",  size = 12)\n",
    "plt.ylabel(\"Price per 1 unit (in USD)\", size = 12)\n",
    "plt.title(\"Price per unit of currency\", size = 15)\n"
   ]
  },
  {
   "cell_type": "markdown",
   "id": "12013d6b",
   "metadata": {
    "slideshow": {
     "slide_type": "slide"
    }
   },
   "source": [
    "## Capitalizzazione  nel 2017 top 5 cryptocurrencies"
   ]
  },
  {
   "cell_type": "code",
   "execution_count": null,
   "id": "a2892762",
   "metadata": {},
   "outputs": [],
   "source": [
    "price2017 = data_top_5_currencies[data_top_5_currencies.date.dt.year >= 2017].groupby(['date', 'name'])['market_billion'].last()\n",
    "price2017.unstack().plot();\n",
    "plt.xlabel(\"Date\",  size = 12)\n",
    "plt.ylabel(\"Price per 1 unit (in USD)\", size = 12)\n",
    "plt.title(\"Price per unit of currency\", size = 15)\n"
   ]
  },
  {
   "cell_type": "markdown",
   "id": "cc3d6431",
   "metadata": {
    "slideshow": {
     "slide_type": "slide"
    }
   },
   "source": [
    "## Volume  dal 2017"
   ]
  },
  {
   "cell_type": "code",
   "execution_count": null,
   "id": "a5f25bcc",
   "metadata": {},
   "outputs": [],
   "source": [
    "price2017 = data_top_5_currencies[data_top_5_currencies.date.dt.year >= 2017].groupby(['date', 'name'])['volume_million'].last()\n",
    "price2017.unstack().plot();\n",
    "plt.xlabel(\"Date\",  size = 12)\n",
    "plt.ylabel(\"Price per 1 unit (in USD)\", size = 12)\n",
    "plt.title(\"Price per unit of currency\", size = 15)\n"
   ]
  },
  {
   "cell_type": "markdown",
   "id": "43f80e77",
   "metadata": {
    "slideshow": {
     "slide_type": "slide"
    }
   },
   "source": [
    "## Approfondimenti: Seaborn, HeatMap"
   ]
  },
  {
   "cell_type": "code",
   "execution_count": null,
   "id": "084c79e6",
   "metadata": {},
   "outputs": [],
   "source": [
    "import matplotlib.pyplot as plt\n",
    "import pandas as pd\n",
    " \n",
    "df = pd.DataFrame([[10, 20, 30, 40], [7, 14, 21, 28], [55, 15, 8, 12],\n",
    "                    [15, 14, 1, 8]],\n",
    "                  columns=['Apple', 'Orange', 'Banana', 'Pear'],\n",
    "                  index=['Basket1', 'Basket2', 'Basket3', 'Basket4']\n",
    "                  )\n",
    "print(df)\n",
    " \n",
    "plt.imshow(df, cmap=\"YlGnBu\")\n",
    "plt.colorbar()\n",
    "plt.xticks(range(len(df)),df.columns, rotation=20)\n",
    "plt.yticks(range(len(df)),df.index)\n",
    "plt.show()\n"
   ]
  },
  {
   "cell_type": "markdown",
   "id": "7e4a77ca",
   "metadata": {
    "slideshow": {
     "slide_type": "slide"
    }
   },
   "source": [
    "## Approfondimenti: HeatMap, correlazione\n",
    "\n",
    "* una matrice  che riporta le stesse variabili sull'asse x e sull'asse y\n",
    "\n",
    "* ogni elemento della matrice riporta la correlazione tra le variabili corrispondenti\n",
    "\n",
    "* correlazione varia tra -1 e 1\n",
    "\n",
    "* valori vicini a 1 indicano che le variabili sono molto correlate\n",
    "    * se incremento una variabile, anche l'altra incremente\n",
    "* valori vicini a -1 indicano l'inverso\n",
    "    * se incremento una variabile, l'altra diminuisce\n",
    "* le diagonali correlano una variabile con se stessa e quindi riportano sempre valori =1 \n",
    "    * correlazione massima\n",
    "* più alta la correlazione, più scuro il valore\n",
    "\n",
    "* plot simmetrico rispetto alla diagonale"
   ]
  },
  {
   "cell_type": "code",
   "execution_count": 52,
   "id": "2088d36b",
   "metadata": {
    "slideshow": {
     "slide_type": "slide"
    }
   },
   "outputs": [
    {
     "data": {
      "text/plain": [
       "<function matplotlib.pyplot.show(close=None, block=None)>"
      ]
     },
     "execution_count": 52,
     "metadata": {},
     "output_type": "execute_result"
    },
    {
     "data": {
      "image/png": "[encoded data removed]",
      "text/plain": [
       "<Figure size 640x480 with 2 Axes>"
      ]
     },
     "metadata": {},
     "output_type": "display_data"
    }
   ],
   "source": [
    "import numpy as np\n",
    "import matplotlib\n",
    "import matplotlib.pyplot as plt\n",
    "import pandas as pd\n",
    "import seaborn as sns\n",
    "\n",
    "countries = [\"china\", \"usa\", \"france\", \"russia\",\n",
    "              \"japan\", \"india\", \"UK\"]\n",
    "GDP_trillion = [16, 23, 2, 1, 5, 3, 3]\n",
    "Population = [1.4, 0.3, 0.068, 0.14, 0.12, 1.3, 0.067]\n",
    "GDP_per_capita = [2.12, 3.45, 6.23, 7.89, 4.23, 5.34, 6.9]\n",
    "Agricultural_land = [0.92, 1.2, 0.45, 0.73, 0.21, 0.34, 0.91]\n",
    "Co2_emission = [0.40, 0.45, 0.34, 0.23, 0.97, 0.21, 0.74]\n",
    "\n",
    "df=pd.DataFrame({\n",
    "    'countries': countries,\n",
    "    'GDP_trillion': GDP_trillion,\n",
    "    'Population': Population,\n",
    "    'GDP_per_capita': GDP_per_capita,\n",
    "    'Agricultural_land': Agricultural_land,\n",
    "    'Co2_emission': Co2_emission\n",
    "})\n",
    "\n",
    "df1=df.set_index('countries')\n",
    "\n",
    "df1\n",
    "\n",
    "pear_corr=df1.corr(method='pearson')\n",
    "sns.heatmap(pear_corr)\n",
    "plt.show\n"
   ]
  },
  {
   "cell_type": "markdown",
   "id": "3ffc23c7",
   "metadata": {
    "slideshow": {
     "slide_type": "slide"
    }
   },
   "source": [
    "## Ex 2: Correlazioni"
   ]
  },
  {
   "cell_type": "code",
   "execution_count": null,
   "id": "80409848",
   "metadata": {},
   "outputs": [],
   "source": [
    "wide_format = df_crypto.groupby(['date', 'name'])['close'].last().unstack()\n",
    "plt.figure(figsize=(14,8))\n",
    "sns.heatmap(wide_format[top_5_currency_names].corr(method='pearson'),vmin=0, vmax=1, cmap='coolwarm', annot=True);\n"
   ]
  },
  {
   "cell_type": "markdown",
   "id": "d4beb55e",
   "metadata": {
    "slideshow": {
     "slide_type": "slide"
    }
   },
   "source": [
    "## Assignment 5"
   ]
  },
  {
   "cell_type": "markdown",
   "id": "b3375eed",
   "metadata": {
    "slideshow": {
     "slide_type": "-"
    }
   },
   "source": [
    "* netflix.csv data set: collezione di 6,000 titles disponibili nel Novembre 2019 su Netflix\n",
    "* 4 colonne: \n",
    "    * video’s title\n",
    "    * director\n",
    "    * data in cui Netflix h aggiunto il contenuto\n",
    "    * categoria\n",
    "* colonne director e date_added contengono valori mancanti (ad esempio posizioni 0, 2, and 5836)"
   ]
  },
  {
   "cell_type": "markdown",
   "id": "ed2ef365",
   "metadata": {},
   "source": [
    "## Assignment 5"
   ]
  },
  {
   "cell_type": "markdown",
   "id": "79e729ea",
   "metadata": {},
   "source": [
    "* Trovare tutte le righe Fi con il titolo \"Limitless\".\n",
    "* Trovare tutte le righe con diretctor \"Robert Rodriguez\" e tipo \"Movie\".\n",
    "* Trovare tutte le righe com data \"2019-07-31\" o direttore \"Robert Altman\".\n",
    "* Trovare tutte le righe con direttore \"Orson Welles\", \"Aditya Kripalani\", o \"Sam Raimi\".\n",
    "* Trovare tutte le righe in cui la data è tra  May 1, 2019 e June 1, 2019.\n",
    "* Drop tutte le righe con un valore NaN nella colonna director\n",
    "* Trovare i giorni in cui Netflix ha aggiunto solo un  video al catalogo\n"
   ]
  },
  {
   "cell_type": "code",
   "execution_count": null,
   "id": "b3053127",
   "metadata": {},
   "outputs": [],
   "source": []
  }
 ],
 "metadata": {
  "celltoolbar": "Slideshow",
  "kernelspec": {
   "display_name": "Python 3 (ipykernel)",
   "language": "python",
   "name": "python3"
  },
  "language_info": {
   "codemirror_mode": {
    "name": "ipython",
    "version": 3
   },
   "file_extension": ".py",
   "mimetype": "text/x-python",
   "name": "python",
   "nbconvert_exporter": "python",
   "pygments_lexer": "ipython3",
   "version": "3.11.6"
  }
 },
 "nbformat": 4,
 "nbformat_minor": 5
}
