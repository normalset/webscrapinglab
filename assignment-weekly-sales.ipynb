{
 "cells": [
  {
   "cell_type": "markdown",
   "id": "4ebc4df7-9eb9-432e-8d47-11acba6bf13f",
   "metadata": {},
   "source": [
    "## Assignment 6\n",
    "\n",
    "* considerare le consumazioni avvenute in un certo Ristorante\n",
    "* i files **week_1_sales.csv**   **week_2_sales.csv** registrano li ordini avvenuti in due diverse settimane\n",
    "* ogni ordine include l'**ID** del cliente che ha fatto l'ordine e l'**id** del cibo che ha ordinato"
   ]
  },
  {
   "cell_type": "code",
   "execution_count": 1,
   "id": "39cc1f3c-9fec-4b5b-a913-4c941986379c",
   "metadata": {},
   "outputs": [],
   "source": [
    "import pandas as pd"
   ]
  },
  {
   "cell_type": "code",
   "execution_count": 6,
   "id": "6c276a03-7fb7-4bc2-8db4-525cbee7e902",
   "metadata": {},
   "outputs": [
    {
     "name": "stdout",
     "output_type": "stream",
     "text": [
      "   Customer ID  Food ID\n",
      "0          537        9\n",
      "1           97        4\n",
      "2          658        1\n",
      "3          202        2\n",
      "4          155        9\n",
      "   Customer ID  Food ID\n",
      "0          688       10\n",
      "1          813        7\n",
      "2          495       10\n",
      "3          189        5\n",
      "4          267        3\n",
      "   ID First Name Last Name  Gender  Company                     Occupation\n",
      "0   1     Joseph   Perkins    Male  Dynazzy  Community Outreach Specialist\n",
      "1   2   Jennifer   Alvarez  Female     DabZ        Senior Quality Engineer\n",
      "2   3      Roger     Black    Male  Tagfeed              Account Executive\n",
      "3   4     Steven     Evans    Male     Fatz               Registered Nurse\n",
      "4   5       Judy  Morrison  Female  Demivee                Legal Assistant\n"
     ]
    }
   ],
   "source": [
    "week1 = pd.read_csv('../datasets/week_1_sales.csv')\n",
    "week2 = pd.read_csv(\"../datasets/week_2_sales.csv\")\n",
    "cust = pd.read_csv(\"../datasets/customers.csv\")\n",
    "\n",
    "print(week1.head())\n",
    "print(week2.head())\n",
    "print(cust.head())"
   ]
  },
  {
   "cell_type": "markdown",
   "id": "381c9fcb-4b96-4b1b-935e-f9df2b4d1d01",
   "metadata": {},
   "source": [
    "* concatenare i dati relativi alla settimana in un nuvo **DataFrame**\n",
    "* trovare i clienti che hanno frequentato il ristorante in entrambe le settimane\n",
    "* trovare i clienti che hanno frequentato il ristorante in entrambe le settimane e hanno ordinato il solito cibo\n",
    "* identificare i clienti che hanno frequentato il ristorante solo nella prima settimana o solo nella seconda settimana\n",
    "* Per ogni cliente che appare nel DataFrame **week1** identificare le informazioni di quel cliente contenute nel **DataFrame** **customers**\n"
   ]
  },
  {
   "cell_type": "markdown",
   "id": "4b2671e8-7330-4772-ab29-1bf942bee4e7",
   "metadata": {},
   "source": [
    "-> concatenare i dati relativi alla settimana in un nuvo DataFrame"
   ]
  },
  {
   "cell_type": "code",
   "execution_count": 9,
   "id": "d6394201-1c6e-465d-943c-91a114f00c0a",
   "metadata": {},
   "outputs": [
    {
     "data": {
      "text/html": [
       "<div>\n",
       "<style scoped>\n",
       "    .dataframe tbody tr th:only-of-type {\n",
       "        vertical-align: middle;\n",
       "    }\n",
       "\n",
       "    .dataframe tbody tr th {\n",
       "        vertical-align: top;\n",
       "    }\n",
       "\n",
       "    .dataframe thead th {\n",
       "        text-align: right;\n",
       "    }\n",
       "</style>\n",
       "<table border=\"1\" class=\"dataframe\">\n",
       "  <thead>\n",
       "    <tr style=\"text-align: right;\">\n",
       "      <th></th>\n",
       "      <th>Customer ID</th>\n",
       "      <th>Food ID</th>\n",
       "    </tr>\n",
       "  </thead>\n",
       "  <tbody>\n",
       "    <tr>\n",
       "      <th>0</th>\n",
       "      <td>537</td>\n",
       "      <td>9</td>\n",
       "    </tr>\n",
       "    <tr>\n",
       "      <th>1</th>\n",
       "      <td>97</td>\n",
       "      <td>4</td>\n",
       "    </tr>\n",
       "    <tr>\n",
       "      <th>2</th>\n",
       "      <td>658</td>\n",
       "      <td>1</td>\n",
       "    </tr>\n",
       "    <tr>\n",
       "      <th>3</th>\n",
       "      <td>202</td>\n",
       "      <td>2</td>\n",
       "    </tr>\n",
       "    <tr>\n",
       "      <th>4</th>\n",
       "      <td>155</td>\n",
       "      <td>9</td>\n",
       "    </tr>\n",
       "  </tbody>\n",
       "</table>\n",
       "</div>"
      ],
      "text/plain": [
       "   Customer ID  Food ID\n",
       "0          537        9\n",
       "1           97        4\n",
       "2          658        1\n",
       "3          202        2\n",
       "4          155        9"
      ]
     },
     "execution_count": 9,
     "metadata": {},
     "output_type": "execute_result"
    }
   ],
   "source": [
    "week12 = pd.concat([week1 , week2])\n",
    "week12.head()"
   ]
  },
  {
   "cell_type": "code",
   "execution_count": 16,
   "id": "6a521b58-e9ad-4962-9652-2211ac3b79f9",
   "metadata": {},
   "outputs": [
    {
     "data": {
      "text/plain": [
       "array([537, 155, 503, 550, 101,  75,  77, 628, 798, 462, 304, 189, 799,\n",
       "        30, 249, 677, 741, 540, 819, 937, 233,  21, 459, 816, 761,  80,\n",
       "       479, 922, 909, 919, 574,  45, 529, 673, 310, 867, 968, 482, 163,\n",
       "       321, 783, 578, 520, 945, 343, 621])"
      ]
     },
     "execution_count": 16,
     "metadata": {},
     "output_type": "execute_result"
    }
   ],
   "source": [
    "# Merge delle due weeks con inner sul customer ID per prendere solo nel caso in cui ci siano entrambi -> unique per prendere IDs\n",
    "bothweeks = pd.merge(week1 , week2, on=\"Customer ID\", how=\"inner\", suffixes=[\"_week1\" , \"_week2\"])\n",
    "clients_bothweeks = bothweeks[\"Customer ID\"].unique()\n",
    "clients_bothweeks"
   ]
  },
  {
   "cell_type": "markdown",
   "id": "92c4afc7-8e7f-4b67-969b-bb40933ddfaf",
   "metadata": {},
   "source": [
    "- trovare i clienti che hanno frequentato il ristorante in entrambe le settimane e hanno ordinato il solito cibo"
   ]
  },
  {
   "cell_type": "code",
   "execution_count": 24,
   "id": "0b0cbf44-10f1-4db7-b47f-c7d4e2cd6e98",
   "metadata": {},
   "outputs": [
    {
     "data": {
      "text/plain": [
       "array([304, 540, 937, 233,  21, 922, 578])"
      ]
     },
     "execution_count": 24,
     "metadata": {},
     "output_type": "execute_result"
    }
   ],
   "source": [
    "both_weeksfoods = pd.merge(week1 , week2 , on=[\"Customer ID\" , \"Food ID\"], how=\"inner\", suffixes=[\"_week1\" , \"_week2\"])\n",
    "both_weeksfood_clients = both_weeksfoods[\"Customer ID\"].unique()\n",
    "both_weeksfood_clients"
   ]
  },
  {
   "cell_type": "markdown",
   "id": "b5585b29-f5cc-4753-a639-bb5f1de28b02",
   "metadata": {},
   "source": [
    "- identificare i clienti che hanno frequentato il ristorante solo nella prima settimana o solo nella seconda settimana"
   ]
  },
  {
   "cell_type": "code",
   "execution_count": 31,
   "id": "9535227e-f46e-4ca4-b04e-df65d97b2b6a",
   "metadata": {},
   "outputs": [],
   "source": [
    "#faccio un merge delle due settimane con how=\"outer\" salvando che tipo di merge e' stato fatto \n",
    "merge_week12 = pd.merge(week1, week2, on=\"Customer ID\", how=\"outer\", indicator=True)\n",
    "\n",
    "#separo i dati\n",
    "only_week1 = merge_week12[merge_week12[\"_merge\"] == \"left_only\"]\n",
    "only_week1_clients = only_week1[\"Customer ID\"].unique()\n",
    "\n",
    "only_week2 = merge_week12[merge_week12[\"_merge\"] == \"right_only\"]\n",
    "only_week2_clients = only_week2[\"Customer ID\"].unique()\n",
    "\n",
    "# print(only_week1_clients)\n",
    "# print(only_week2_clients)"
   ]
  },
  {
   "cell_type": "markdown",
   "id": "1d7bf221-1926-40a3-834b-b44cab1b6cc8",
   "metadata": {},
   "source": [
    "- Per ogni cliente che appare nel DataFrame week1 identificare le informazioni di quel cliente contenute nel DataFrame customers"
   ]
  },
  {
   "cell_type": "code",
   "execution_count": 33,
   "id": "0640e5d1-a5f6-4300-85cc-8d998a037237",
   "metadata": {},
   "outputs": [
    {
     "data": {
      "text/html": [
       "<div>\n",
       "<style scoped>\n",
       "    .dataframe tbody tr th:only-of-type {\n",
       "        vertical-align: middle;\n",
       "    }\n",
       "\n",
       "    .dataframe tbody tr th {\n",
       "        vertical-align: top;\n",
       "    }\n",
       "\n",
       "    .dataframe thead th {\n",
       "        text-align: right;\n",
       "    }\n",
       "</style>\n",
       "<table border=\"1\" class=\"dataframe\">\n",
       "  <thead>\n",
       "    <tr style=\"text-align: right;\">\n",
       "      <th></th>\n",
       "      <th>Customer ID</th>\n",
       "      <th>Food ID</th>\n",
       "      <th>First Name</th>\n",
       "      <th>Last Name</th>\n",
       "      <th>Gender</th>\n",
       "      <th>Company</th>\n",
       "      <th>Occupation</th>\n",
       "    </tr>\n",
       "  </thead>\n",
       "  <tbody>\n",
       "    <tr>\n",
       "      <th>0</th>\n",
       "      <td>537</td>\n",
       "      <td>9</td>\n",
       "      <td>Cheryl</td>\n",
       "      <td>Carroll</td>\n",
       "      <td>Female</td>\n",
       "      <td>Zoombeat</td>\n",
       "      <td>Registered Nurse</td>\n",
       "    </tr>\n",
       "    <tr>\n",
       "      <th>1</th>\n",
       "      <td>97</td>\n",
       "      <td>4</td>\n",
       "      <td>Amanda</td>\n",
       "      <td>Watkins</td>\n",
       "      <td>Female</td>\n",
       "      <td>Ozu</td>\n",
       "      <td>Account Coordinator</td>\n",
       "    </tr>\n",
       "    <tr>\n",
       "      <th>2</th>\n",
       "      <td>658</td>\n",
       "      <td>1</td>\n",
       "      <td>Patrick</td>\n",
       "      <td>Webb</td>\n",
       "      <td>Male</td>\n",
       "      <td>Browsebug</td>\n",
       "      <td>Community Outreach Specialist</td>\n",
       "    </tr>\n",
       "    <tr>\n",
       "      <th>3</th>\n",
       "      <td>202</td>\n",
       "      <td>2</td>\n",
       "      <td>Louis</td>\n",
       "      <td>Campbell</td>\n",
       "      <td>Male</td>\n",
       "      <td>Rhynoodle</td>\n",
       "      <td>Account Representative III</td>\n",
       "    </tr>\n",
       "    <tr>\n",
       "      <th>4</th>\n",
       "      <td>155</td>\n",
       "      <td>9</td>\n",
       "      <td>Carolyn</td>\n",
       "      <td>Diaz</td>\n",
       "      <td>Female</td>\n",
       "      <td>Gigazoom</td>\n",
       "      <td>Database Administrator III</td>\n",
       "    </tr>\n",
       "    <tr>\n",
       "      <th>...</th>\n",
       "      <td>...</td>\n",
       "      <td>...</td>\n",
       "      <td>...</td>\n",
       "      <td>...</td>\n",
       "      <td>...</td>\n",
       "      <td>...</td>\n",
       "      <td>...</td>\n",
       "    </tr>\n",
       "    <tr>\n",
       "      <th>245</th>\n",
       "      <td>413</td>\n",
       "      <td>9</td>\n",
       "      <td>Diane</td>\n",
       "      <td>Bailey</td>\n",
       "      <td>Female</td>\n",
       "      <td>Wikibox</td>\n",
       "      <td>Technical Writer</td>\n",
       "    </tr>\n",
       "    <tr>\n",
       "      <th>246</th>\n",
       "      <td>926</td>\n",
       "      <td>6</td>\n",
       "      <td>Anne</td>\n",
       "      <td>Wagner</td>\n",
       "      <td>Female</td>\n",
       "      <td>Skyba</td>\n",
       "      <td>Legal Assistant</td>\n",
       "    </tr>\n",
       "    <tr>\n",
       "      <th>247</th>\n",
       "      <td>134</td>\n",
       "      <td>3</td>\n",
       "      <td>Diana</td>\n",
       "      <td>Hall</td>\n",
       "      <td>Female</td>\n",
       "      <td>Quinu</td>\n",
       "      <td>Financial Advisor</td>\n",
       "    </tr>\n",
       "    <tr>\n",
       "      <th>248</th>\n",
       "      <td>396</td>\n",
       "      <td>6</td>\n",
       "      <td>Juan</td>\n",
       "      <td>Romero</td>\n",
       "      <td>Male</td>\n",
       "      <td>Zoonder</td>\n",
       "      <td>Analyst Programmer</td>\n",
       "    </tr>\n",
       "    <tr>\n",
       "      <th>249</th>\n",
       "      <td>535</td>\n",
       "      <td>10</td>\n",
       "      <td>Nancy</td>\n",
       "      <td>Cox</td>\n",
       "      <td>Female</td>\n",
       "      <td>Trudeo</td>\n",
       "      <td>Research Associate</td>\n",
       "    </tr>\n",
       "  </tbody>\n",
       "</table>\n",
       "<p>250 rows × 7 columns</p>\n",
       "</div>"
      ],
      "text/plain": [
       "     Customer ID  Food ID First Name Last Name  Gender    Company  \\\n",
       "0            537        9     Cheryl   Carroll  Female   Zoombeat   \n",
       "1             97        4     Amanda   Watkins  Female        Ozu   \n",
       "2            658        1    Patrick      Webb    Male  Browsebug   \n",
       "3            202        2      Louis  Campbell    Male  Rhynoodle   \n",
       "4            155        9    Carolyn      Diaz  Female   Gigazoom   \n",
       "..           ...      ...        ...       ...     ...        ...   \n",
       "245          413        9      Diane    Bailey  Female    Wikibox   \n",
       "246          926        6       Anne    Wagner  Female      Skyba   \n",
       "247          134        3      Diana      Hall  Female      Quinu   \n",
       "248          396        6       Juan    Romero    Male    Zoonder   \n",
       "249          535       10      Nancy       Cox  Female     Trudeo   \n",
       "\n",
       "                        Occupation  \n",
       "0                 Registered Nurse  \n",
       "1              Account Coordinator  \n",
       "2    Community Outreach Specialist  \n",
       "3       Account Representative III  \n",
       "4       Database Administrator III  \n",
       "..                             ...  \n",
       "245               Technical Writer  \n",
       "246                Legal Assistant  \n",
       "247              Financial Advisor  \n",
       "248             Analyst Programmer  \n",
       "249             Research Associate  \n",
       "\n",
       "[250 rows x 7 columns]"
      ]
     },
     "execution_count": 33,
     "metadata": {},
     "output_type": "execute_result"
    }
   ],
   "source": [
    "#rinomino ID -> Customer ID e faccio una merge inner su quello \n",
    "\n",
    "cust.rename(columns={\"ID\": \"Customer ID\"}, inplace=True)\n",
    "full_week1 = pd.merge(week1 , cust, on=\"Customer ID\" , how=\"inner\")\n",
    "full_week1"
   ]
  }
 ],
 "metadata": {
  "kernelspec": {
   "display_name": "Python 3 (ipykernel)",
   "language": "python",
   "name": "python3"
  },
  "language_info": {
   "codemirror_mode": {
    "name": "ipython",
    "version": 3
   },
   "file_extension": ".py",
   "mimetype": "text/x-python",
   "name": "python",
   "nbconvert_exporter": "python",
   "pygments_lexer": "ipython3",
   "version": "3.11.8"
  }
 },
 "nbformat": 4,
 "nbformat_minor": 5
}
