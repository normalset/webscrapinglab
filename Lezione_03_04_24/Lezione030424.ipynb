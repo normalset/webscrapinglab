{
 "cells": [
  {
   "cell_type": "markdown",
   "id": "cd9097ad",
   "metadata": {
    "slideshow": {
     "slide_type": "slide"
    }
   },
   "source": [
    "##### <h1><center> Laboratorio di WebScraping </h1>\n",
    "<h1><center> Anno Accademico 2023-2024 </h1>\n",
    "<h1><center>  Docente: Laura Ricci </h1>\n",
    "<h1><center>  Lezione 15 </h1>\n",
    "<h1><center>  Selenium: gestione di pagine dinamiche</h1>  \n",
    "<h1><center> 3 Aprile 2024 </h1>"
   ]
  },
  {
   "cell_type": "markdown",
   "id": "36d63b2a",
   "metadata": {
    "slideshow": {
     "slide_type": "slide"
    }
   },
   "source": [
    "## Scraping di base:  scraping Hacker News con BeautifulSoup"
   ]
  },
  {
   "cell_type": "markdown",
   "id": "46e05499",
   "metadata": {
    "slideshow": {
     "slide_type": "-"
    }
   },
   "source": [
    "* scraping di **https://news.ycombinator.com/news**\n",
    "* un sito **aggregatore** di news reputate interessante dalla comunità degli hacker\n",
    "    * computer scientists, data scientists, engineers\n",
    "* la struttura della pagina è molto semplice"
   ]
  },
  {
   "cell_type": "markdown",
   "id": "7bf7ad40",
   "metadata": {
    "slideshow": {
     "slide_type": "slide"
    }
   },
   "source": [
    "## Scraping di base:  scraping Hacker News con BeautifulSoup"
   ]
  },
  {
   "cell_type": "markdown",
   "id": "cb55853e",
   "metadata": {
    "slideshow": {
     "slide_type": "-"
    }
   },
   "source": [
    "<center>\n",
    "<img src=\"Figures/HackerNews.jpg\" style=\"width:1200px;height:800px;\"/>\n",
    "</center>"
   ]
  },
  {
   "cell_type": "markdown",
   "id": "19d15cf8",
   "metadata": {
    "slideshow": {
     "slide_type": "slide"
    }
   },
   "source": [
    "## Scraping di base:  scraping Hacker News con BeautifulSoup"
   ]
  },
  {
   "cell_type": "markdown",
   "id": "fcd4059d",
   "metadata": {
    "slideshow": {
     "slide_type": "-"
    }
   },
   "source": [
    "* una tabella in cui ogni riga (**tag \\<tr\\>**), ha **classe athing**\n",
    "* un elemento della tabella (**tag \\<td\\>**), con **classe titleline**, contiene descrizione della notizia e link alla notizia"
   ]
  },
  {
   "cell_type": "markdown",
   "id": "ffcfef90",
   "metadata": {},
   "source": [
    "<center>\n",
    "<img src=\"Figures/HackerNewsInspect.jpg\" style=\"width:1400px;height:800px;\"/>\n",
    "</center>"
   ]
  },
  {
   "cell_type": "markdown",
   "id": "a1f5afa0",
   "metadata": {
    "slideshow": {
     "slide_type": "slide"
    }
   },
   "source": [
    "## Scraping di base:  scraping Hacker News con BeautifulSoup"
   ]
  },
  {
   "cell_type": "code",
   "execution_count": 1,
   "id": "6ff708a1",
   "metadata": {
    "slideshow": {
     "slide_type": "-"
    }
   },
   "outputs": [],
   "source": [
    "import requests\n",
    "import re\n",
    "from bs4 import BeautifulSoup\n",
    "articles = []\n",
    "url = 'https://news.ycombinator.com/news'\n",
    "r = requests.get(url)\n",
    "html_soup = BeautifulSoup(r.text, 'html.parser')\n"
   ]
  },
  {
   "cell_type": "markdown",
   "id": "61983cb0",
   "metadata": {
    "slideshow": {
     "slide_type": "slide"
    }
   },
   "source": [
    "## Scraping di base:  scraping Hacker News con BeautifulSoup"
   ]
  },
  {
   "cell_type": "code",
   "execution_count": 2,
   "id": "a89f7c67",
   "metadata": {
    "slideshow": {
     "slide_type": "-"
    }
   },
   "outputs": [],
   "source": [
    "import requests\n",
    "import re\n",
    "from bs4 import BeautifulSoup\n",
    "\n",
    "articles = []\n",
    "url = 'https://news.ycombinator.com/news'\n",
    "r = requests.get(url)\n",
    "html_soup = BeautifulSoup(r.text, 'html.parser')\n",
    "\n",
    "for item in html_soup.find_all('tr', class_='athing'):\n",
    "    item_titlel = item.find('span', class_='titleline')\n",
    "    item_title = item_titlel.find('a')\n",
    "    item_title = item_title.get_text(strip=True) if item_title else 'No Link'\n",
    "    item_link = item_titlel.a.get(\"href\")\n",
    "    articles.append({\n",
    "        'link' : item_link,\n",
    "        'title' : item_title,\n",
    "         })\n"
   ]
  },
  {
   "cell_type": "markdown",
   "id": "22ac79db",
   "metadata": {
    "slideshow": {
     "slide_type": "-"
    }
   },
   "source": [
    "* reperimento titolo e link, un for separato per score e commenti, solo per rendere più chiara la presentazione\n",
    "* inseriamo informazione reperita in un **Python dictionary**"
   ]
  },
  {
   "cell_type": "markdown",
   "id": "ae52e0fc",
   "metadata": {
    "slideshow": {
     "slide_type": "slide"
    }
   },
   "source": [
    "## Scraping di base:  scraping Hacker News con BeautifulSoup"
   ]
  },
  {
   "cell_type": "code",
   "execution_count": 3,
   "id": "f8d2842c",
   "metadata": {
    "slideshow": {
     "slide_type": "-"
    }
   },
   "outputs": [
    {
     "name": "stdout",
     "output_type": "stream",
     "text": [
      "({'link': 'https://www.pythonmorsels.com/every-dunder-method/', 'title': 'Every Dunder Method in Python'}, {'score': '34 points', 'comments': '1 comment'})\n",
      "({'link': 'https://github.com/intel-analytics/ipex-llm', 'title': 'PyTorch Library for Running LLM on Intel CPU and GPU'}, {'score': '50 points', 'comments': '6 comments'})\n",
      "({'link': 'https://redict.io/posts/2024-04-03-redict-7.3.0-released/', 'title': 'Redict 7.3.0, a copyleft fork of Redis, is now available'}, {'score': '117 points', 'comments': '76 comments'})\n"
     ]
    },
    {
     "name": "stderr",
     "output_type": "stream",
     "text": [
      "<>:8: SyntaxWarning: invalid escape sequence '\\d'\n",
      "<>:8: SyntaxWarning: invalid escape sequence '\\d'\n",
      "C:\\Users\\ricci\\AppData\\Local\\Temp\\ipykernel_15216\\2218758285.py:8: SyntaxWarning: invalid escape sequence '\\d'\n",
      "  item_comments = next_row.find('a', string=re.compile('\\d+(&nbsp;|\\s)comment(s?)'))\n"
     ]
    }
   ],
   "source": [
    "scores=[]\n",
    "for item in html_soup.find_all('tr', class_='athing'):\n",
    "    item_title = item.find('span', class_='titleline')\n",
    "    next_row = item.find_next_sibling('tr')\n",
    "    item_score = next_row.find('span', class_='score')\n",
    "    item_score = item_score.get_text(strip=True) if item_score else '0 points'\n",
    "    # We use regex here to find the correct element\n",
    "    item_comments = next_row.find('a', string=re.compile('\\d+(&nbsp;|\\s)comment(s?)'))\n",
    "    item_comments = item_comments.get_text(strip=True).replace('\\xa0', ' ') \\\n",
    "                    if item_comments else '0 comments'\n",
    "    scores.append({\n",
    "        'score' : item_score,\n",
    "        'comments' : item_comments\n",
    "         })\n",
    "result = zip(articles[:3], scores[:3])\n",
    "for res in result:\n",
    "    print(res)\n",
    "  "
   ]
  },
  {
   "cell_type": "markdown",
   "id": "041ffb3f",
   "metadata": {
    "slideshow": {
     "slide_type": "-"
    }
   },
   "source": [
    "* uso **find_next_sibling** per passare alla riga successiva\n",
    "* enormi pontenzialità se poi si eseguisse del text mining sul contenuto dei post"
   ]
  },
  {
   "cell_type": "markdown",
   "id": "7904f440",
   "metadata": {
    "slideshow": {
     "slide_type": "slide"
    }
   },
   "source": [
    "## La tecnologia AJAX"
   ]
  },
  {
   "cell_type": "markdown",
   "id": "2f96aa72",
   "metadata": {
    "slideshow": {
     "slide_type": "-"
    }
   },
   "source": [
    "* **HackerNoon** è un sito semplice da nalizzare, ma la maggior parte dei siti usa tecnologie di tipo **JavaScript** o **AJAX**\n",
    "* **AJAX: Asynchronous JavaScript and XML**\n",
    "  * un insieme di tecniche per lo sviluppo web, non un vero linguaggio di programmazione\n",
    "  * da la possibilità di effettuare richieste **asincrone** al server, invece   di richieste **HTTP** classiche, utilizzando chiamate del tipo **XMLHttpRequest** \n",
    "  * l'informazione reperita può essere utilizzata per l'aggiornamento **dinamico** di una pagina\n",
    "* possibilità di **aggiungere** o **aggiornare** il contenuto di una pagina web, senza dover effettuare un **refresh** della pagina\n",
    "* per migliorare la **user experience**\n",
    "* uso tipico: siti che incrementano dinamicamente il contenuto mostrato quando si effettua lo **lo scrolling** della pagina\n",
    "* qualsiasi social network **Facebook**, **Twitter** utilizzano la tecnica di **infinite scroll pagination**\n",
    "    * per implementare il **social media feed**\n",
    "    * quando si effettua uno **scroll down** si carica più contenuto (più post) nella pagina"
   ]
  },
  {
   "cell_type": "markdown",
   "id": "8dde8b8b",
   "metadata": {
    "slideshow": {
     "slide_type": "slide"
    }
   },
   "source": [
    "## La tecnologia AJAX"
   ]
  },
  {
   "cell_type": "markdown",
   "id": "e93cf764",
   "metadata": {
    "slideshow": {
     "slide_type": "-"
    }
   },
   "source": [
    "* pagina di esempio https://scrapingclub.com/exercise/list_infinite_scroll/\n",
    "* scrollando la pagina si può notare come i capi di abbigliamento vengono caricati dinamicamente"
   ]
  },
  {
   "cell_type": "markdown",
   "id": "afe18264",
   "metadata": {
    "slideshow": {
     "slide_type": "-"
    }
   },
   "source": [
    "<center>\n",
    "<img src=\"Figures/InfiniteScroll.jpg\" style=\"width:800px;height:800px;\"/>\n",
    "</center>"
   ]
  },
  {
   "cell_type": "markdown",
   "id": "59ef4de0",
   "metadata": {
    "slideshow": {
     "slide_type": "slide"
    }
   },
   "source": [
    "## Web scraping di pagine dinamiche"
   ]
  },
  {
   "cell_type": "code",
   "execution_count": 4,
   "id": "ea44b2b3",
   "metadata": {
    "slideshow": {
     "slide_type": "-"
    }
   },
   "outputs": [
    {
     "name": "stdout",
     "output_type": "stream",
     "text": [
      "<!DOCTYPE html>\n",
      "<html class=\"h-full\">\n",
      " <head>\n",
      "  <meta charset=\"utf-8\"/>\n",
      "  <meta content=\"width=device-width, initial-scale=1\" name=\"viewport\"/>\n",
      "  <meta content=\"Learn to scrape infinite scrolling pages\" name=\"description\"/>\n",
      "  <title>\n",
      "   Scraping Infinite Scrolling Pages (Ajax) | ScrapingClub\n",
      "  </title>\n",
      "  <link href=\"/static/img/icon.611132651e39.png\" rel=\"icon\" type=\"image/png\"/>\n",
      "  <script>\n",
      "   window.django_app_cfg = {\n",
      "        dsn: \"https://547e0f728838410daf2f1e1a20153fcc@o207778.ingest.sentry.io/4505046779232256\",\n",
      "        release: \"2c93d99\",\n",
      "        userPk: \"\",\n",
      "      };\n",
      "  </script>\n",
      "  <link href=\"/static/css/app.4a8ac9e71a688f8d087e.76f3a3e8d3f5.css\" rel=\"stylesheet\" type=\"text/css\"/>\n",
      "  <!-- Google tag (gtag.js) -->\n",
      "  <script async=\"\" src=\"https://www.googletagmanager.com/gtag/js?id=G-BD9ZHFE1XX\">\n",
      "  </script>\n",
      "  <script>\n",
      "   window.dataLayer = window.dataLayer || [];\n",
      "\n",
      "      function gtag() {\n",
      "        dataLayer.push(arguments);\n",
      "      }\n",
      "\n",
      "      gtag('js', new Date());\n",
      "\n",
      "      gtag('config', 'G-BD9ZHFE1XX');\n",
      "  </script>\n",
      " </head>\n",
      " <body class=\"h-full font-sans antialiased font-normal leading-normal text-gray-700\">\n",
      "  <div class=\"flex z-50 justify-center py-3 px-4 w-full bg-gray-50 border border-b border-gray-200 lg:py-4 dark:bg-gray-700 dark:border-gray-600\" id=\"banner\">\n",
      "   <div class=\"items-center md:flex\">\n",
      "    <p class=\"text-sm font-medium text-gray-900 md:my-0 dark:text-white\">\n",
      "     <span class=\"hidden py-0.5 px-2.5 mr-2 text-xs font-semibold text-blue-800 bg-blue-100 rounded md:inline dark:text-blue-800 dark:bg-blue-200\">\n",
      "      New\n",
      "     </span>\n",
      "     We have launched Django SaaS Template, which aims to save your time and money building your product.\n",
      "     <a class=\"inline-flex items-center ml-2 text-sm font-medium text-blue-600 md:ml-2 dark:text-blue-500 hover:underline\" href=\"https://saashammer.com/\" target=\"_blank\">\n",
      "      Check it out\n",
      "      <svg class=\"ml-1 w-4 h-4 text-blue-600 dark:text-blue-500\" fill=\"currentColor\" viewbox=\"0 0 20 20\" xmlns=\"http://www.w3.org/2000/svg\">\n",
      "       <path cliprule=\"evenodd\" d=\"M10.293 3.293a1 1 0 011.414 0l6 6a1 1 0 010 1.414l-6 6a1 1 0 01-1.414-1.414L14.586 11H3a1 1 0 110-2h11.586l-4.293-4.293a1 1 0 010-1.414z\" fillrule=\"evenodd\">\n",
      "       </path>\n",
      "      </svg>\n",
      "     </a>\n",
      "    </p>\n",
      "   </div>\n",
      "  </div>\n",
      "  <div class=\"w-full\" id=\"messages\">\n",
      "  </div>\n",
      "  <nav class=\"py-2 px-4 text-sm font-medium bg-white border-b border-gray-200\" data-controller=\"toggle\">\n",
      "   <div class=\"container flex flex-wrap justify-between items-center mx-auto max-w-7xl\">\n",
      "    <div class=\"flex flex-shrink-0 items-center mr-6\">\n",
      "     <a href=\"/\">\n",
      "      <img alt=\"ScrapingClub\" src=\"/static/images/brand-logo.946570ac99fb.png\" style=\"height: 40px\"/>\n",
      "     </a>\n",
      "    </div>\n",
      "    <div class=\"block lg:hidden\">\n",
      "     <button class=\"flex items-center p-3 text-gray-500 lg:hidden focus:text-gray-700 focus:outline-none\" data-action=\"click-&gt;toggle#toggle touch-&gt;toggle#toggle\" id=\"sidebar-open\" type=\"button\">\n",
      "      <svg class=\"w-5 h-5 fill-current\" viewbox=\"0 0 20 20\" xmlns=\"http://www.w3.org/2000/svg\">\n",
      "       <title>\n",
      "        Menu\n",
      "       </title>\n",
      "       <path d=\"M0 3h20v2H0V3zm0 6h20v2H0V9zm0 6h20v2H0v-2z\">\n",
      "       </path>\n",
      "      </svg>\n",
      "     </button>\n",
      "    </div>\n",
      "    <div class=\"hidden flex-grow pb-3 w-full lg:flex lg:pb-0 lg:w-auto\" data-action=\"native-toggle-nav-bar@window-&gt;toggle#toggle\" data-toggle-target=\"toggleable\">\n",
      "     <div class=\"lg:flex-grow\">\n",
      "      <a class=\"nav-link\" href=\"/\">\n",
      "       Home\n",
      "      </a>\n",
      "      <a class=\"nav-link\" href=\"/#web-scraping-tutorial-using-scrapy\">\n",
      "       Scrapy Tutorial Series\n",
      "      </a>\n",
      "      <a class=\"nav-link\" href=\"/about/\">\n",
      "       About\n",
      "      </a>\n",
      "      <a class=\"nav-link\" href=\"https://leanpub.com/ultimateguidetoscrapy/\">\n",
      "       eBook\n",
      "      </a>\n",
      "     </div>\n",
      "    </div>\n",
      "   </div>\n",
      "  </nav>\n",
      "  <div>\n",
      "   <div class=\"container mx-auto max-w-7xl\">\n",
      "    <div class=\"flex flex-row flex-wrap\">\n",
      "     <div class=\"px-4 mb-6 w-full sm:w-2/3 md:w-3/4 lg:w-8/12\">\n",
      "      <div class=\"my-4\">\n",
      "       <div class=\"alert alert-success\" role=\"alert\">\n",
      "        <div class=\"max-w-full prose\">\n",
      "         <p>\n",
      "          This project was built to help people and I did not earn money from my work.\n",
      "                      But you can still support my work\n",
      "         </p>\n",
      "         <ul>\n",
      "          <li>\n",
      "           <a href=\"//buymeacoff.ee/0JqEZkHre\" target=\"_blank\">\n",
      "            Buy me a coffee!\n",
      "           </a>\n",
      "          </li>\n",
      "          <li>\n",
      "           <a href=\"https://leanpub.com/ultimateguidetoscrapy/\" target=\"_blank\">\n",
      "            Ultimate Guide To Scrapy (eBook)\n",
      "           </a>\n",
      "          </li>\n",
      "         </ul>\n",
      "        </div>\n",
      "       </div>\n",
      "      </div>\n",
      "      <div class=\"my-4 alert alert-info\" role=\"alert\">\n",
      "       <div class=\"max-w-full prose\">\n",
      "        <p>\n",
      "         The key to scrape infinite scrolling pages is to use network panel in your browser to figure out the url of next page.\n",
      "        </p>\n",
      "        <p>\n",
      "         Sometimes you also need to take care of the http headers to make your code work.\n",
      "        </p>\n",
      "        <p>\n",
      "         In this exercise, try to crawl all product info.\n",
      "        </p>\n",
      "        <p>\n",
      "         <a href=\"https://www.accordbox.com/blog/how-crawl-infinite-scrolling-pages-using-python/\">\n",
      "          How to Crawl Infinite Scrolling Pages using Python\n",
      "         </a>\n",
      "        </p>\n",
      "       </div>\n",
      "      </div>\n",
      "      <div class=\"my-4\">\n",
      "       <div class=\"grid grid-cols-1 gap-4 sm:grid-cols-3\">\n",
      "        <div class=\"w-full rounded border post\">\n",
      "         <a href=\"/exercise/list_basic_detail/90008-E/\">\n",
      "          <img alt=\"\" class=\"card-img-top img-fluid\" src=\"/static/img/90008-E.jpg\"/>\n",
      "         </a>\n",
      "         <div class=\"p-4\">\n",
      "          <h4>\n",
      "           <a href=\"/exercise/list_basic_detail/90008-E/\">\n",
      "            Short Dress\n",
      "           </a>\n",
      "          </h4>\n",
      "          <h5>\n",
      "           $24.99\n",
      "          </h5>\n",
      "         </div>\n",
      "        </div>\n",
      "        <div class=\"w-full rounded border post\">\n",
      "         <a href=\"/exercise/list_basic_detail/96436-A/\">\n",
      "          <img alt=\"\" class=\"card-img-top img-fluid\" src=\"/static/img/96436-A.jpg\"/>\n",
      "         </a>\n",
      "         <div class=\"p-4\">\n",
      "          <h4>\n",
      "           <a href=\"/exercise/list_basic_detail/96436-A/\">\n",
      "            Patterned Slacks\n",
      "           </a>\n",
      "          </h4>\n",
      "          <h5>\n",
      "           $29.99\n",
      "          </h5>\n",
      "         </div>\n",
      "        </div>\n",
      "        <div class=\"w-full rounded border post\">\n",
      "         <a href=\"/exercise/list_basic_detail/93926-B/\">\n",
      "          <img alt=\"\" class=\"card-img-top img-fluid\" src=\"/static/img/93926-B.jpg\"/>\n",
      "         </a>\n",
      "         <div class=\"p-4\">\n",
      "          <h4>\n",
      "           <a href=\"/exercise/list_basic_detail/93926-B/\">\n",
      "            Short Chiffon Dress\n",
      "           </a>\n",
      "          </h4>\n",
      "          <h5>\n",
      "           $49.99\n",
      "          </h5>\n",
      "         </div>\n",
      "        </div>\n",
      "        <div class=\"w-full rounded border post\">\n",
      "         <a href=\"/exercise/list_basic_detail/90882-B/\">\n",
      "          <img alt=\"\" class=\"card-img-top img-fluid\" src=\"/static/img/90882-B.jpg\"/>\n",
      "         </a>\n",
      "         <div class=\"p-4\">\n",
      "          <h4>\n",
      "           <a href=\"/exercise/list_basic_detail/90882-B/\">\n",
      "            Off-the-shoulder Dress\n",
      "           </a>\n",
      "          </h4>\n",
      "          <h5>\n",
      "           $59.99\n",
      "          </h5>\n",
      "         </div>\n",
      "        </div>\n",
      "        <div class=\"w-full rounded border post\">\n",
      "         <a href=\"/exercise/list_basic_detail/93756-C/\">\n",
      "          <img alt=\"\" class=\"card-img-top img-fluid\" src=\"/static/img/93756-C.jpg\"/>\n",
      "         </a>\n",
      "         <div class=\"p-4\">\n",
      "          <h4>\n",
      "           <a href=\"/exercise/list_basic_detail/93756-C/\">\n",
      "            V-neck Top\n",
      "           </a>\n",
      "          </h4>\n",
      "          <h5>\n",
      "           $24.99\n",
      "          </h5>\n",
      "         </div>\n",
      "        </div>\n",
      "        <div class=\"w-full rounded border post\">\n",
      "         <a href=\"/exercise/list_basic_detail/93926-C/\">\n",
      "          <img alt=\"\" class=\"card-img-top img-fluid\" src=\"/static/img/93926-C.jpg\"/>\n",
      "         </a>\n",
      "         <div class=\"p-4\">\n",
      "          <h4>\n",
      "           <a href=\"/exercise/list_basic_detail/93926-C/\">\n",
      "            Short Chiffon Dress\n",
      "           </a>\n",
      "          </h4>\n",
      "          <h5>\n",
      "           $49.99\n",
      "          </h5>\n",
      "         </div>\n",
      "        </div>\n",
      "        <div class=\"w-full rounded border post\">\n",
      "         <a href=\"/exercise/list_basic_detail/93756-B/\">\n",
      "          <img alt=\"\" class=\"card-img-top img-fluid\" src=\"/static/img/93756-B.jpg\"/>\n",
      "         </a>\n",
      "         <div class=\"p-4\">\n",
      "          <h4>\n",
      "           <a href=\"/exercise/list_basic_detail/93756-B/\">\n",
      "            V-neck Top\n",
      "           </a>\n",
      "          </h4>\n",
      "          <h5>\n",
      "           $24.99\n",
      "          </h5>\n",
      "         </div>\n",
      "        </div>\n",
      "        <div class=\"w-full rounded border post\">\n",
      "         <a href=\"/exercise/list_basic_detail/93756-D/\">\n",
      "          <img alt=\"\" class=\"card-img-top img-fluid\" src=\"/static/img/93756-D.jpg\"/>\n",
      "         </a>\n",
      "         <div class=\"p-4\">\n",
      "          <h4>\n",
      "           <a href=\"/exercise/list_basic_detail/93756-D/\">\n",
      "            V-neck Top\n",
      "           </a>\n",
      "          </h4>\n",
      "          <h5>\n",
      "           $24.99\n",
      "          </h5>\n",
      "         </div>\n",
      "        </div>\n",
      "        <div class=\"w-full rounded border post\">\n",
      "         <a href=\"/exercise/list_basic_detail/96643-A/\">\n",
      "          <img alt=\"\" class=\"card-img-top img-fluid\" src=\"/static/img/96643-A.jpg\"/>\n",
      "         </a>\n",
      "         <div class=\"p-4\">\n",
      "          <h4>\n",
      "           <a href=\"/exercise/list_basic_detail/96643-A/\">\n",
      "            Short Lace Dress\n",
      "           </a>\n",
      "          </h4>\n",
      "          <h5>\n",
      "           $59.99\n",
      "          </h5>\n",
      "         </div>\n",
      "        </div>\n",
      "        <div class=\"w-full rounded border post\">\n",
      "         <a href=\"/exercise/list_basic_detail/94766-A/\">\n",
      "          <img alt=\"\" class=\"card-img-top img-fluid\" src=\"/static/img/94766-A.jpg\"/>\n",
      "         </a>\n",
      "         <div class=\"p-4\">\n",
      "          <h4>\n",
      "           <a href=\"/exercise/list_basic_detail/94766-A/\">\n",
      "            Fitted Dress\n",
      "           </a>\n",
      "          </h4>\n",
      "          <h5>\n",
      "           $34.99\n",
      "          </h5>\n",
      "         </div>\n",
      "        </div>\n",
      "       </div>\n",
      "      </div>\n",
      "      <div class=\"hidden\">\n",
      "       <nav aria-label=\"pagination\" class=\"pagination\">\n",
      "        <span class=\"page active\">\n",
      "         <strong>\n",
      "          1\n",
      "         </strong>\n",
      "        </span>\n",
      "        <span class=\"page\">\n",
      "         <a href=\"/exercise/list_infinite_scroll/?page=2\">\n",
      "          2\n",
      "         </a>\n",
      "        </span>\n",
      "        <span class=\"page\">\n",
      "         <a href=\"/exercise/list_infinite_scroll/?page=3\">\n",
      "          3\n",
      "         </a>\n",
      "        </span>\n",
      "        <span class=\"page\">\n",
      "         <a href=\"/exercise/list_infinite_scroll/?page=4\">\n",
      "          4\n",
      "         </a>\n",
      "        </span>\n",
      "        <span class=\"page\">\n",
      "         <a href=\"/exercise/list_infinite_scroll/?page=5\">\n",
      "          5\n",
      "         </a>\n",
      "        </span>\n",
      "        <span class=\"page\">\n",
      "         <a href=\"/exercise/list_infinite_scroll/?page=6\">\n",
      "          6\n",
      "         </a>\n",
      "        </span>\n",
      "        <span class=\"page next\">\n",
      "         <a href=\"/exercise/list_infinite_scroll/?page=2\" rel=\"next\">\n",
      "          Next ›\n",
      "         </a>\n",
      "        </span>\n",
      "       </nav>\n",
      "      </div>\n",
      "      <div class=\"p-16 my-16 bg-gray-50 rounded border border-gray-200\">\n",
      "       <div class=\"flex justify-center\">\n",
      "        <div class=\"w-full text-center lg:w-10/12\">\n",
      "         <div class=\"mb-4 h1\">\n",
      "          Launch Products Faster\n",
      "          <span class=\"block text-blue-600\">\n",
      "           with Django\n",
      "          </span>\n",
      "         </div>\n",
      "         <p class=\"mb-10\">\n",
      "          SaaS Hammer helps you launch products in faster way. It contains all the foundations you need so you can focus on your product.\n",
      "         </p>\n",
      "         <div class=\"\">\n",
      "          <a class=\"btn btn-large btn-primary\" href=\"https://saashammer.com/\">\n",
      "           Learn More\n",
      "          </a>\n",
      "         </div>\n",
      "        </div>\n",
      "       </div>\n",
      "      </div>\n",
      "     </div>\n",
      "     <div class=\"px-4 mb-6 w-full sm:w-1/3 md:w-1/4 lg:w-4/12\">\n",
      "      <div class=\"p-4 my-4 rounded border\">\n",
      "       <div>\n",
      "        <h3>\n",
      "         Exercise List\n",
      "        </h3>\n",
      "       </div>\n",
      "       <div class=\"flex-col space-y-4 max-w-full prose\">\n",
      "        <div class=\"border-b\">\n",
      "         <p>\n",
      "          <a class=\"\" href=\"/exercise/detail_basic/\">\n",
      "           Basic Info Scraping\n",
      "          </a>\n",
      "         </p>\n",
      "         <p>\n",
      "          Web scraping using XPath or CSS expression\n",
      "         </p>\n",
      "        </div>\n",
      "        <div class=\"border-b\">\n",
      "         <p>\n",
      "          <a class=\"\" href=\"/exercise/detail_json/\">\n",
      "           Analyze JSON\n",
      "          </a>\n",
      "         </p>\n",
      "         <p>\n",
      "          Load JSON string and extract data\n",
      "         </p>\n",
      "        </div>\n",
      "        <div class=\"border-b\">\n",
      "         <p>\n",
      "          <a class=\"\" href=\"/exercise/list_basic/\">\n",
      "           Recursively Scraping pages\n",
      "          </a>\n",
      "         </p>\n",
      "         <p>\n",
      "          Not only crawl products but also handle pagination\n",
      "         </p>\n",
      "        </div>\n",
      "        <div class=\"border-b\">\n",
      "         <p>\n",
      "          <a class=\"\" href=\"/exercise/detail_ajax/\">\n",
      "           Mimicking Ajax requests\n",
      "          </a>\n",
      "         </p>\n",
      "         <p>\n",
      "          Inspect Ajax requests and mimic them\n",
      "         </p>\n",
      "        </div>\n",
      "        <div class=\"border-b\">\n",
      "         <p>\n",
      "          <a class=\"\" href=\"/exercise/detail_header/\">\n",
      "           Inspect HTTP request\n",
      "          </a>\n",
      "         </p>\n",
      "         <p>\n",
      "          Learn to inspect the fields of HTTP request\n",
      "         </p>\n",
      "        </div>\n",
      "        <div class=\"border-b\">\n",
      "         <p>\n",
      "          <a class=\"\" href=\"/exercise/list_infinite_scroll/\">\n",
      "           Scraping Infinite Scrolling Pages (Ajax)\n",
      "          </a>\n",
      "         </p>\n",
      "         <p>\n",
      "          Learn to scrape infinite scrolling pages\n",
      "         </p>\n",
      "        </div>\n",
      "        <div class=\"border-b\">\n",
      "         <p>\n",
      "          <a class=\"\" href=\"/exercise/detail_cookie/\">\n",
      "           Find gold in cookie\n",
      "          </a>\n",
      "         </p>\n",
      "         <p>\n",
      "          Make your spider can work with the cookie\n",
      "         </p>\n",
      "        </div>\n",
      "        <div class=\"border-b\">\n",
      "         <p>\n",
      "          <a class=\"\" href=\"/exercise/basic_login/\">\n",
      "           Login form\n",
      "          </a>\n",
      "         </p>\n",
      "         <p>\n",
      "          Scrape data behind login form\n",
      "         </p>\n",
      "        </div>\n",
      "        <div class=\"border-b\">\n",
      "         <p>\n",
      "          <a class=\"\" href=\"/exercise/basic_captcha/\">\n",
      "           Solve Captcha\n",
      "          </a>\n",
      "         </p>\n",
      "         <p>\n",
      "          Learn to scrape data behind a captcha\n",
      "         </p>\n",
      "        </div>\n",
      "        <div class=\"border-b last:border-b-0\">\n",
      "         <p>\n",
      "          <a class=\"\" href=\"/exercise/detail_sign/\">\n",
      "           Decode minified javascript\n",
      "          </a>\n",
      "         </p>\n",
      "         <p>\n",
      "          Learn how to analyze minimized or compressed javascript\n",
      "         </p>\n",
      "        </div>\n",
      "       </div>\n",
      "      </div>\n",
      "     </div>\n",
      "    </div>\n",
      "   </div>\n",
      "  </div>\n",
      "  <aside class=\"py-16 bg-gray-50 border-t border-gray-200 lg:py-20\" id=\"footer\">\n",
      "   <div class=\"px-4 mx-auto max-w-8xl\">\n",
      "    <h2 class=\"mb-4 text-4xl font-bold tracking-tight text-gray-900 md:font-extrabold md:text-center lg:mb-7 lg:leading-none dark:text-white\">\n",
      "     Sign up for our newsletter\n",
      "    </h2>\n",
      "    <p class=\"mb-6 text-base text-gray-500 md:mb-10 md:text-xl md:text-center lg:px-20 xl:px-56 dark:text-gray-400\">\n",
      "     Subscribe to receive new\n",
      "     <span class=\"font-bold\">\n",
      "      web scraping exercises\n",
      "     </span>\n",
      "     and\n",
      "     <span class=\"font-bold\">\n",
      "      tutorials\n",
      "     </span>\n",
      "    </p>\n",
      "    <div class=\"mb-4\">\n",
      "     <form action=\"/newsletter_subscribe/\" class=\"flex max-w-xl md:mx-auto\" data-action=\"submit-&gt;subscribe#submit\" data-controller=\"subscribe\" method=\"get\">\n",
      "      <div class=\"w-full\">\n",
      "       <label class=\"hidden\" for=\"member_email\">\n",
      "        Email address\n",
      "       </label>\n",
      "       <div class=\"relative h-full\">\n",
      "        <div class=\"flex absolute inset-y-0 left-0 items-center pl-3 pointer-events-none\">\n",
      "         <svg aria-hidden=\"true\" class=\"w-5 h-5 text-gray-500 dark:text-gray-400\" fill=\"currentColor\" viewbox=\"0 0 20 20\" xmlns=\"http://www.w3.org/2000/svg\">\n",
      "          <path d=\"M2.003 5.884L10 9.882l7.997-3.998A2 2 0 0016 4H4a2 2 0 00-1.997 1.884z\">\n",
      "          </path>\n",
      "          <path d=\"M18 8.118l-8 4-8-4V14a2 2 0 002 2h12a2 2 0 002-2V8.118z\">\n",
      "          </path>\n",
      "         </svg>\n",
      "        </div>\n",
      "        <input class=\"block py-4 px-3 pl-10 w-full text-base text-gray-900 bg-white rounded-l-xl border border-gray-200 dark:placeholder-gray-400 dark:text-white dark:bg-gray-700 dark:border-gray-600 focus:border-blue-500 focus:ring-blue-500 dark:focus:ring-blue-500 dark:focus:border-blue-500\" name=\"email\" placeholder=\"Enter your email\" required=\"\" type=\"email\"/>\n",
      "       </div>\n",
      "      </div>\n",
      "      <div>\n",
      "       <input class=\"py-4 px-4 w-full text-base font-semibold text-center text-white bg-blue-600 rounded-r-xl border border-blue-600 cursor-pointer hover:bg-blue-700 focus:border-blue-600 focus:ring-2 focus:ring-blue-600 focus:outline-none formkit-submit\" id=\"subscribe-submit\" type=\"submit\" value=\"Subscribe\"/>\n",
      "      </div>\n",
      "     </form>\n",
      "    </div>\n",
      "    <p class=\"hidden text-base text-green-600 md:text-center\" id=\"subscribe-msg\">\n",
      "     Thanks, please confirm subscription email\n",
      "    </p>\n",
      "   </div>\n",
      "  </aside>\n",
      "  <div class=\"w-full h-auto text-sm bg-gray-50 border-t border-gray-200 lg:px-6\">\n",
      "   <div class=\"flex flex-col p-4 px-2\">\n",
      "    <div class=\"mx-auto text-gray-700\">\n",
      "     Crafted with ❤️ by\n",
      "     <a href=\"https://github.com/michael-yin/\">\n",
      "      MichaelYin\n",
      "     </a>\n",
      "    </div>\n",
      "   </div>\n",
      "  </div>\n",
      "  <script src=\"/static/js/runtime.733406a7.437561bb6191.js\" type=\"text/javascript\">\n",
      "  </script>\n",
      "  <script src=\"/static/js/844.c955a86a.8ae7a88d9ece.js\" type=\"text/javascript\">\n",
      "  </script>\n",
      "  <script src=\"/static/js/app.9eae399d.fbbfa467cd03.js\" type=\"text/javascript\">\n",
      "  </script>\n",
      "  <script src=\"https://unpkg.com/infinite-scroll@4/dist/infinite-scroll.pkgd.js\">\n",
      "  </script>\n",
      "  <script>\n",
      "   let elem = document.querySelector('.container .grid');\n",
      "    let infScroll = new InfiniteScroll(elem, {\n",
      "      // options\n",
      "      path: 'a[rel=\"next\"]',\n",
      "      append: '.post',\n",
      "      history: false,\n",
      "    });\n",
      "  </script>\n",
      " </body>\n",
      "</html>\n",
      "\n"
     ]
    }
   ],
   "source": [
    "import requests\n",
    "from bs4 import BeautifulSoup\n",
    "url = 'https://scrapingclub.com/exercise/list_infinite_scroll/'\n",
    "response = requests.get(url)\n",
    "html_content = response.text\n",
    "soup = BeautifulSoup(html_content, 'html.parser')\n",
    "print(soup.prettify())\n"
   ]
  },
  {
   "cell_type": "markdown",
   "id": "c061da18",
   "metadata": {
    "slideshow": {
     "slide_type": "slide"
    }
   },
   "source": [
    "## Web Scraping di pagine dinamiche"
   ]
  },
  {
   "cell_type": "markdown",
   "id": "13c3f648",
   "metadata": {},
   "source": [
    "<center>\n",
    "<img src=\"Figures/InfiniteScrollJS.jpg\" style=\"width:800px;height:600px;\"/>\n",
    "</center>"
   ]
  },
  {
   "cell_type": "markdown",
   "id": "582a31ed",
   "metadata": {
    "slideshow": {
     "slide_type": "-"
    }
   },
   "source": [
    "* il contenuto dinamico non è presente nella pagina **HTML**\n",
    "* individuiamo nella pagina la parte relativa allo scroll: si tratta di codice **JavaScript**, che interpreta lo scrolling a emnda chiamta e**AJAX** al server\n",
    "* come lo acquisisco\n",
    "    * inutile cercare un link nella pagina per passare alla pagina successiva\n"
   ]
  },
  {
   "cell_type": "markdown",
   "id": "ad747654",
   "metadata": {
    "slideshow": {
     "slide_type": "slide"
    }
   },
   "source": [
    "## Web Scraping di pagine dinamiche"
   ]
  },
  {
   "cell_type": "markdown",
   "id": "50227de7",
   "metadata": {
    "slideshow": {
     "slide_type": "-"
    }
   },
   "source": [
    "* è possibile effettuare ancora scraping di questa pagina con **BeutifulSoup**?\n",
    "* in questo caso, è possibile\n",
    "    * individuare le chiamate **AJAX** effettuate dal browser per reperire dinamicamente le pagine\n",
    "    * replicare tali chiamate in Python usando la ribreria **Requests**\n",
    "    * dopo aver caricato tutte le pagine (che si otterebbero con scroll della pagina) parsare il contenuto"
   ]
  },
  {
   "cell_type": "markdown",
   "id": "ee2a1c98",
   "metadata": {
    "slideshow": {
     "slide_type": "slide"
    }
   },
   "source": [
    "## Pagine dinamiche: https://scrapingclub.com/exercise/list_infinite_scroll/"
   ]
  },
  {
   "cell_type": "markdown",
   "id": "aa2ecb1c",
   "metadata": {
    "slideshow": {
     "slide_type": "-"
    }
   },
   "source": [
    "<center>\n",
    "<img src=\"Figures/InspectInfiniteScroll.jpg\" style=\"width:1200px;height:800px;\"/>"
   ]
  },
  {
   "cell_type": "markdown",
   "id": "c5fce9e3",
   "metadata": {
    "slideshow": {
     "slide_type": "slide"
    }
   },
   "source": [
    "## Web Scraping di pagine dinamiche: identificare richieste AJAX"
   ]
  },
  {
   "cell_type": "markdown",
   "id": "559a70e4",
   "metadata": {
    "slideshow": {
     "slide_type": "-"
    }
   },
   "source": [
    "* in questo caso occorre però focalizzarsi sul **tab Rete**\n",
    "* tab **Fetch/XHR**\n",
    "    * filtra le  **XMLHttpRequests**\n",
    "    * utilizzato per scambiare dati col server web in background, mentre il client sta lavorando in foreground, e aggiornare la parte aggiornata della pagina con i dati ricevuti, senza ricaricare l'intera pagina\n",
    "    * utilizzato da vari linguaggi di scripting, come JavaScript\n",
    "    * **XML** nel nome è un pò fuorvinate, può essere utilizzato per scambiare dati in altri formati, ad esempio **JSON**\n",
    "* nel caso del nostro sito refresh della pagina in seguito a scroll\n",
    "    * viene generata una nuova richiesta per ogni nuovo contenuto caricato mediante scroll\n",
    "    * ispezionare l'header di ognuna di queste richieste \n",
    "        * **URL**, **cookes**, etc.\n",
    "    * copiare la **URL** per effettuare richieste tramite la libreria **requests**"
   ]
  },
  {
   "cell_type": "markdown",
   "id": "3abc6ee2",
   "metadata": {
    "slideshow": {
     "slide_type": "slide"
    }
   },
   "source": [
    "## Web Scraping di pagine dinamiche: identificare richieste AJAX"
   ]
  },
  {
   "cell_type": "markdown",
   "id": "c40ea676",
   "metadata": {
    "slideshow": {
     "slide_type": "-"
    }
   },
   "source": [
    "<center>\n",
    "<img src=\"Figures/AJAXInfiniteScroll.jpg\" style=\"width:1200px;height:400px;\"/>\n",
    "</center>"
   ]
  },
  {
   "cell_type": "markdown",
   "id": "6b412c34",
   "metadata": {
    "slideshow": {
     "slide_type": "slide"
    }
   },
   "source": [
    "## Web Scraping di pagine dinamiche"
   ]
  },
  {
   "cell_type": "markdown",
   "id": "6cd33620",
   "metadata": {
    "slideshow": {
     "slide_type": "-"
    }
   },
   "source": [
    "* dalla analisi delle richieste si nota che \n",
    "    * ci sono 6 pagine in totale, corrispondenti ai diversi scroll di pagina\n",
    "* ogni richiesta **XMLHttpRequests** ha il formato  \n",
    "    * **[base_url] + [page_number]**\n",
    "   * dove **[base_url]** è https://scrapingclub.com/exercise/list_infinite_scroll/\n",
    "   "
   ]
  },
  {
   "cell_type": "markdown",
   "id": "e27587d8",
   "metadata": {
    "slideshow": {
     "slide_type": "slide"
    }
   },
   "source": [
    "## Pagine dinamiche: https://scrapingclub.com/exercise/list_infinite_scroll/"
   ]
  },
  {
   "cell_type": "markdown",
   "id": "b55fec60",
   "metadata": {
    "slideshow": {
     "slide_type": "-"
    }
   },
   "source": [
    "* vogliamo individuare i nomi dei prodotti e i prezzi di ogni articolo\n",
    "* occorre individuare il contenuto all'interno di ogni pagina\n"
   ]
  },
  {
   "cell_type": "markdown",
   "id": "74c10465",
   "metadata": {
    "slideshow": {
     "slide_type": "-"
    }
   },
   "source": [
    "<center>\n",
    "<img src=\"Figures/SelectDress.jpg\" style=\"width:1200px;height:400px;\"/>\n",
    "</center>"
   ]
  },
  {
   "cell_type": "markdown",
   "id": "c85a0cc2",
   "metadata": {
    "slideshow": {
     "slide_type": "slide"
    }
   },
   "source": [
    "## Web Scraping di pagine dinamiche"
   ]
  },
  {
   "cell_type": "markdown",
   "id": "9b7bc86e",
   "metadata": {},
   "source": [
    "* notare l'utilizzo della **select** insieme ad un *CSS selector**"
   ]
  },
  {
   "cell_type": "code",
   "execution_count": 5,
   "id": "3b152dda",
   "metadata": {
    "slideshow": {
     "slide_type": "-"
    }
   },
   "outputs": [
    {
     "name": "stdout",
     "output_type": "stream",
     "text": [
      "Product: Short Dress | Price: $24.99\n",
      "Product: Patterned Slacks | Price: $29.99\n",
      "Product: Short Chiffon Dress | Price: $49.99\n",
      "Product: Off-the-shoulder Dress | Price: $59.99\n",
      "Product: V-neck Top | Price: $24.99\n",
      "Product: Short Chiffon Dress | Price: $49.99\n",
      "Product: V-neck Top | Price: $24.99\n",
      "Product: V-neck Top | Price: $24.99\n",
      "Product: Short Lace Dress | Price: $59.99\n",
      "Product: Fitted Dress | Price: $34.99\n",
      "--------------------------------------------------\n",
      "Product: V-neck Jumpsuit | Price: $69.99\n",
      "Product: Chiffon Dress | Price: $54.99\n",
      "Product: Skinny High Waist Jeans | Price: $39.99\n",
      "Product: Super Skinny High Jeans | Price: $19.99\n",
      "Product: Oversized Denim Jacket | Price: $19.99\n",
      "Product: Short Sweatshirt | Price: $24.99\n",
      "Product: Long-sleeved Jersey Top | Price: $12.99\n",
      "Product: Skinny High Waist Jeans | Price: $39.99\n",
      "Product: Short Sweatshirt | Price: $24.99\n",
      "Product: Long-sleeved Jersey Top | Price: $12.99\n",
      "--------------------------------------------------\n",
      "Product: Long-sleeved Jersey Top | Price: $12.99\n",
      "Product: Jersey Dress | Price: $19.99\n",
      "Product: Short Sweatshirt | Price: $24.99\n",
      "Product: Crinkled Flounced Blouse | Price: $24.99\n",
      "Product: Bib Overall Dress | Price: $29.99\n",
      "Product: Loose-knit Sweater | Price: $17.99\n",
      "Product: Skinny Regular Jeans | Price: $29.99\n",
      "Product: Henley-style Top | Price: $12.99\n",
      "Product: Joggers | Price: $17.99\n",
      "Product: Skirt with Lacing | Price: $34.99\n",
      "--------------------------------------------------\n",
      "Product: Top with Tie | Price: $17.99\n",
      "Product: Joggers | Price: $34.99\n",
      "Product: Chiffon Dress with Flounce | Price: $49.99\n",
      "Product: Skirt with Lacing | Price: $34.99\n",
      "Product: V-neck Top | Price: $9.99\n",
      "Product: Hooded Jacket | Price: $29.99\n",
      "Product: Hooded Top | Price: $29.99\n",
      "Product: Lyocell-blend Blouse | Price: $34.99\n",
      "Product: Bib Overall Dress | Price: $29.99\n",
      "Product: Wide-leg Pants | Price: $34.99\n",
      "--------------------------------------------------\n",
      "Product: Ankle-length Slim-fit Pants | Price: $24.99\n",
      "Product: Short Sweatshirt | Price: $9.99\n",
      "Product: V-neck Blouse | Price: $17.99\n",
      "Product: Short Skirt | Price: $24.99\n",
      "Product: Mesh T-shirt | Price: $17.99\n",
      "Product: Blouse with Embroidery | Price: $59.99\n",
      "Product: Wide-cut Cotton Top | Price: $34.99\n",
      "Product: Pleated Skirt | Price: $54.99\n",
      "Product: Coat | Price: $69.99\n",
      "Product: Wide-leg Pants | Price: $49.99\n",
      "--------------------------------------------------\n",
      "Product: Top | Price: $29.99\n",
      "Product: Knit Mohair-blend Sweater | Price: $69.99\n",
      "Product: Dress | Price: $69.99\n",
      "Product: T-shirt with Embroidery | Price: $29.99\n",
      "Product: Blouse with Ruffled Collar | Price: $49.99\n",
      "Product: Pants | Price: $49.99\n",
      "Product: Jersey Dress | Price: $19.99\n",
      "Product: T-shirt | Price: $6.99\n",
      "Product: T-shirt | Price: $6.99\n",
      "Product: Blazer | Price: $49.99\n",
      "--------------------------------------------------\n"
     ]
    }
   ],
   "source": [
    "import requests\n",
    "from bs4 import BeautifulSoup\n",
    " \n",
    "base_url = 'https://scrapingclub.com/exercise/list_infinite_scroll/'\n",
    "page_number = 1  # Start with the base URL\n",
    "total_pages = 6 \n",
    "while True:\n",
    "    url = f'{base_url}?page={page_number}'\n",
    "    response = requests.get(url)\n",
    "    html_content = response.text\n",
    "    soup = BeautifulSoup(html_content, 'html.parser')\n",
    "    products = soup.select('div.p-4 h4 > a')\n",
    "    prices = soup.select('div.p-4 h5') \n",
    "    for product, price in zip(products, prices):\n",
    "        product_name = product.get_text(strip=True)\n",
    "        product_price = price.get_text(strip=True)\n",
    "        print(f'Product: {product_name} | Price: {product_price}')\n",
    "    print('-' * 50)\n",
    "    page_number += 1 \n",
    "    if page_number > total_pages:\n",
    "        break \n"
   ]
  },
  {
   "cell_type": "markdown",
   "id": "36b1b241",
   "metadata": {
    "slideshow": {
     "slide_type": "slide"
    }
   },
   "source": [
    "## Web dinamico: JavaScript"
   ]
  },
  {
   "cell_type": "markdown",
   "id": "83f4a4c5",
   "metadata": {
    "slideshow": {
     "slide_type": "-"
    }
   },
   "source": [
    "* le tre componenti principali del web moderno\n",
    "    * **HTML**: \"fornisce il contenuto\"\n",
    "    * **CSS**: \"specifica la presentazione del contenuto\"\n",
    "    * **Javascript**: \"implementa il comportamento, interagendo con l'utente e con il server\"\n",
    "* JavaScript è usato come linguaggio di programmazione client-side dal **98.5% of di tutti i siti web**\n",
    "    * fonte <https://w3techs.com/technologies/details/cp-javascript>\n",
    "    * non possiamo ignorarlo se vogliamo effettuare scraping\n",
    "* diversi livelli d'uso di **JavaScript**\n",
    "    * rendere le pagine web più interattive e dinamiche\n",
    "    * gestioni di semplici form\n",
    "    * pagine interamente dinamiche in cui tutto il contenuto è generato tramite **JavaScript**"
   ]
  },
  {
   "cell_type": "markdown",
   "id": "1eee8e0d",
   "metadata": {
    "slideshow": {
     "slide_type": "slide"
    }
   },
   "source": [
    "## JavaScript in breve\n"
   ]
  },
  {
   "cell_type": "markdown",
   "id": "599c4140",
   "metadata": {
    "slideshow": {
     "slide_type": "-"
    }
   },
   "source": [
    "* rilasciato nel 1995, 6 mesi dopo **JAVA**\n",
    "* inizialmente utilizzato esclusivamente come linguaggio client-side, eseguito nel browser\n",
    "* arricchito con **Ajax** nel 1999\n",
    "* introduzione di **Node.js** nel 2009\n",
    "    * un run-time environment per **JavaScript** open-source, cross-platform\n",
    "    * possibilità di esecuzione stand-alone o nel server\n",
    "* attualmente un linguaggio general purpose"
   ]
  },
  {
   "cell_type": "markdown",
   "id": "2670d4f6",
   "metadata": {
    "slideshow": {
     "slide_type": "slide"
    }
   },
   "source": [
    "## JavaScript e HTML"
   ]
  },
  {
   "cell_type": "markdown",
   "id": "d640a43e",
   "metadata": {
    "slideshow": {
     "slide_type": "-"
    }
   },
   "source": [
    "* il codice **JavaScript** è incorporato nel documento **HTML** attraverso i tag <code> script </code> <code> /script \n",
    "```\n",
    "<script>\n",
    "  // Il tuo codice JavaScript è inserito qui!!\n",
    "</script>\n",
    "```\n",
    "oppure si può memorizzare il codice in un file e poi richiamarlo\n",
    "```\n",
    "<script src=\"JSExFiles.js\">\n",
    "</script>\n",
    "```\n",
    "\n",
    "* lo script può essere collocato nella **HEAD section** oppure nella **BODY section**\n"
   ]
  },
  {
   "cell_type": "markdown",
   "id": "178f1e76",
   "metadata": {
    "slideshow": {
     "slide_type": "slide"
    }
   },
   "source": [
    "## JavaScript e HTML"
   ]
  },
  {
   "cell_type": "markdown",
   "id": "617f1b05",
   "metadata": {
    "slideshow": {
     "slide_type": "-"
    }
   },
   "source": [
    "```\n",
    "<!DOCTYPE html>\n",
    "<!-- JSExAlertWrite.html -->\n",
    "<html lang=\"en\">\n",
    "<head>\n",
    "  <meta charset=\"utf-8\">\n",
    "  <title>JavaScript Example: Functions alert() and document.write()</title>\n",
    "  <script>\n",
    "    alert(\"Hello, world!\");\n",
    "  </script>\n",
    "</head>\n",
    "<body>\n",
    "  <h1>My first JavaScript says:</h1>\n",
    "  <script>\n",
    "    document.write(\"<h2><em>Hello world, again!</em></h2>\");\n",
    "    document.write(\"<p>This document was last modified on \"\n",
    "        + document.lastModified + \".</p>\");\n",
    "  </script>\n",
    "</body>\n",
    "</html>\n",
    "```"
   ]
  },
  {
   "cell_type": "markdown",
   "id": "67453509",
   "metadata": {},
   "source": [
    "* lo script modifica il contenuto della pagina corrente\n"
   ]
  },
  {
   "cell_type": "markdown",
   "id": "19fa44a7",
   "metadata": {
    "slideshow": {
     "slide_type": "slide"
    }
   },
   "source": [
    "## JavaScript e HTML"
   ]
  },
  {
   "cell_type": "markdown",
   "id": "d5885202",
   "metadata": {
    "slideshow": {
     "slide_type": "-"
    }
   },
   "source": [
    "<center>\n",
    "<img src=\"Figures/Javascript.jpg\" style=\"width:500px;height:300px;\"/>"
   ]
  },
  {
   "cell_type": "markdown",
   "id": "22363b60",
   "metadata": {
    "slideshow": {
     "slide_type": "-"
    }
   },
   "source": [
    "* visualizzazione dell'esempio contenuto nella pagina precedente\n",
    "* il riferimento, contenuto nel codice, a **document** è un riferimento alla **pagina web corrente**, in cui lo script è integrato\n",
    "* come risultato della operazione <code> document.write() </code>  la **BODY section** del documento ora comprende nuovi tag, registrati in coda al documento\n",
    "```\n",
    "<h1>My First JavaScript says</h1>\n",
    "<h2><em>Hello world, again!</em></h2>\n",
    "    <p>This document was last modified on mm/dd/yyyy hh:mm:ss.</p>\n",
    "```\n",
    "* il codice **JavaScript** ha modificato il layout dell'**HTML**\n"
   ]
  },
  {
   "cell_type": "markdown",
   "id": "6aee0890",
   "metadata": {
    "slideshow": {
     "slide_type": "slide"
    }
   },
   "source": [
    "## JavaScript: esecuzione nel browser"
   ]
  },
  {
   "cell_type": "markdown",
   "id": "7f03cd58",
   "metadata": {
    "slideshow": {
     "slide_type": "-"
    }
   },
   "source": [
    "* un programma **JavaScript** viene inserito in una pagina web \n",
    "* il browser scarica la pagina del server e lo esegue\n",
    "    * nel browser esiste la macchina virtuale in grado di eseguire il linguaggio\n",
    "    * il programma può utilizzare altre librerie, tra cui **jQuery**\n",
    "* vengono adottati diversi meccanismi per proteggere il client da attacchi eseguiti dal codice scaricato. Il programma: \n",
    "    * non può leggere file dalla macchina del client\n",
    "    * può stabilire connessioni solo con il server a cui si collega, non con altri server\n",
    "    * non può scrivere sul disco del client\n",
    "    * non può autonomamente chiudere finestre nel browser che non ha precendetemanete aperto"
   ]
  },
  {
   "cell_type": "markdown",
   "id": "19f375d3",
   "metadata": {
    "slideshow": {
     "slide_type": "slide"
    }
   },
   "source": [
    "## Quali strumenti per lo scraping di pagine dinamiche?"
   ]
  },
  {
   "cell_type": "markdown",
   "id": "4f6b8dde",
   "metadata": {
    "slideshow": {
     "slide_type": "-"
    }
   },
   "source": [
    "* in questo corso non ci interessa capire come usare **JavaScript** in ambiente web, ma solo capire come gestire le pagine dinamiche generate da **Javascript** nel processo di scraping!\n",
    "* **BeautifulSoup** + **requests** non sono più sufficienti\n",
    "    * utilizzabili solo quando il codice **JavaScript** è semplice ed è possibile un **reverse engineering** del codice\n",
    "    * capire quale sono le chiamate al server generate da JavaScript e riprodurle in **BeautifulSoup**\n",
    "    * molto complesso per la maggior parte delle pagine esistenti\n",
    "* nel caso più generale sono necessari strumenti più sofisticati:\n",
    "    * **Selenium**\n"
   ]
  },
  {
   "cell_type": "markdown",
   "id": "fb300e66",
   "metadata": {
    "slideshow": {
     "slide_type": "slide"
    }
   },
   "source": [
    "## Selenium: una libreria per lo scraping di pagine dinamiche"
   ]
  },
  {
   "cell_type": "markdown",
   "id": "af4c7a68",
   "metadata": {
    "slideshow": {
     "slide_type": "-"
    }
   },
   "source": [
    "* nasce nel 2004 come tool per lo sviluppo di **test automatici** per applicazioni web\n",
    "    * possibile scrivere script che simulano l’interazione umana con un'applicazione web\n",
    "    * da la possibilità di\n",
    "        * caricare in modo automatico pagine web\n",
    "        * simulare azioni come quelle compiute da un utente quando interagisce con la pagina\n",
    "        * con lo scopo di **testare** il comportamento del sito web\n",
    "* successivamente viene utilizzato come ottimo tool per il **web scraping**\n",
    "    * scraping per pagine dinamiche, ma con  funzionalità simili a quelle di BeautifulSoup per l'individuazione di elementi all'interno della pagina\n",
    "* binding per **Java**, **Php**, **Python**,...\n",
    "* non è una libreria Python standard,  installarla  con\n",
    "    * **pip install -U selenium**\n"
   ]
  },
  {
   "cell_type": "markdown",
   "id": "46fe2194",
   "metadata": {
    "slideshow": {
     "slide_type": "slide"
    }
   },
   "source": [
    "## Selenium: il WebDriver"
   ]
  },
  {
   "cell_type": "markdown",
   "id": "1df56dc7",
   "metadata": {
    "slideshow": {
     "slide_type": "-"
    }
   },
   "source": [
    "* per interpretare il codice **JavaScript** occorre un vero interprete del linguaggio, che è disponibile solo all'interno di un browser \n",
    "* si utilizza una tecnologia indicata come **WebDriver**\n",
    "    * standard di **W3C** dal **2018**\n",
    "    * un'interfaccia diversa di **Webdriver** a seconda del browser utilizzato\n",
    "    * gli esempi seguenti si riferiranno a **Google Chrome** e **ChromeDriver**\n",
    "* il WebDriver è avviato da **Selenium** e successivamente **Selenium** può controllare il browser simulando un comportamento umano\n"
   ]
  },
  {
   "cell_type": "markdown",
   "id": "cc86b563",
   "metadata": {
    "slideshow": {
     "slide_type": "-"
    }
   },
   "source": [
    "<center>\n",
    "<img src=\"Figures/webdriverbrowser.jpg\" style=\"width:800px;height:400px;\"/>\n",
    "</center>"
   ]
  },
  {
   "cell_type": "markdown",
   "id": "44ceab43",
   "metadata": {
    "slideshow": {
     "slide_type": "slide"
    }
   },
   "source": [
    "## Selenium: il WebDriver"
   ]
  },
  {
   "cell_type": "markdown",
   "id": "0d3e919b",
   "metadata": {
    "slideshow": {
     "slide_type": "-"
    }
   },
   "source": [
    "* tipi diversi di **WebDriver** a seconda del browser utilizzato\n",
    "* nel caso di **Chrome**\n",
    "    * lo **zip** scaricato dalla pagine di **Chrome** contiene un eseguibile di nome **chromedriver.exe**\n",
    "        * attenzione a scaricare una versione **compatibile** con il vostro browser!\n",
    "    * Selenium deve essere in grado di accedere a questo eseguibile\n",
    "        * inserire direttamente l'eseguibile nella cartella dove si trova lo script o il Notebook Python\n",
    "        * oppure indicare esplicitamente  il path \n",
    "* **attaivazioni** di tipo diverso a seconda del browser"
   ]
  },
  {
   "cell_type": "markdown",
   "id": "8f3fa95f",
   "metadata": {
    "slideshow": {
     "slide_type": "-"
    }
   },
   "source": [
    "<code>\n",
    "from selenium import webdriver\n",
    "driverChrome = webdriver.Chrome()\n",
    "driverFirefox = webdriver.FireFox()\n",
    "driverEdge = webdriver.Edge()\n",
    "driverSafari = webdriver.Safari()\n",
    "driverOpera = webdriver.Opera()\n",
    "driverExplorer = webdriver.Ie()\n"
   ]
  },
  {
   "cell_type": "markdown",
   "id": "584bae67",
   "metadata": {
    "slideshow": {
     "slide_type": "slide"
    }
   },
   "source": [
    "## Scraping di una pagina con Selenium: https://scrapingclub.com/"
   ]
  },
  {
   "cell_type": "markdown",
   "id": "7ceef58f",
   "metadata": {
    "slideshow": {
     "slide_type": "-"
    }
   },
   "source": [
    "<center>\n",
    "<img src=\"Figures/ScrapingClub.jpg\" style=\"width:800px;height:500px;\"/>\n",
    "</center>"
   ]
  },
  {
   "cell_type": "markdown",
   "id": "f46bc073",
   "metadata": {
    "slideshow": {
     "slide_type": "slide"
    }
   },
   "source": [
    "## Attivazione del webdriver Chrome"
   ]
  },
  {
   "cell_type": "code",
   "execution_count": 2,
   "id": "6e751e8c",
   "metadata": {
    "slideshow": {
     "slide_type": "-"
    }
   },
   "outputs": [],
   "source": [
    "from selenium import webdriver\n",
    "import time\n",
    "# lancio del driver di Chrome che fa apparire una pagina vuota del browser\n",
    "driver=webdriver.Chrome()\n",
    "\n",
    "# tramite il WebDriver, visita il target site\n",
    "url='https://scrapingclub.com/'\n",
    "driver.get(url)\n",
    "#scraping logic....\n",
    "time.sleep(10)\n",
    "#rilascia le risorse allocate da Selenium e shut down del browser\n",
    "driver.quit()\n"
   ]
  },
  {
   "cell_type": "markdown",
   "id": "c60d96d8",
   "metadata": {
    "slideshow": {
     "slide_type": "-"
    }
   },
   "source": [
    "* quando si esegue il codice, appare una nuova finestra vuota tipo quella del browser\n",
    "    * nella finestra viene caricata la pagina richiesta ...con un certo ritardo....\n",
    "    * **driver.quit()** per chiudere la finestra e rilasciare le risorse\n",
    "* la pagina è controllata da **Selenium** invece che da un utente, quindi \"pilotata\" da **Python**\n",
    "    * infatti si può notare il messaggio **Chrome is being controller by automated test software**, che avverte che **Selenium** sta controllando questa istanza del browser.\n",
    "* **Python (Selenium)** può interagire con la pagine con comandi per \n",
    "    * inserimento di dati nelle form\n",
    "    * scrolling della pagina\n",
    "    * click di buttons\n",
    "    * ....\n",
    "   \n"
   ]
  },
  {
   "cell_type": "markdown",
   "id": "21b98ad0",
   "metadata": {
    "slideshow": {
     "slide_type": "slide"
    }
   },
   "source": [
    "## Chrome Headless Mode"
   ]
  },
  {
   "cell_type": "markdown",
   "id": "ab344274",
   "metadata": {
    "slideshow": {
     "slide_type": "-"
    }
   },
   "source": [
    "* **Headless browser** un browser **senza una interfaccia grafica**, ma con tutte le funzionalità di un vero browser\n",
    "    * utile quando si usa il browser per effettuare **scraping**, oppure per **testare funzionalità** di un sito web\n",
    "* **Selenium** consente di interagire con un headless browser\n",
    "    * non vedremo più la finestra di **Chrome**\n",
    "    * permette di non sprecare risorse nella **GUI**\n",
    "    * d'altra parte, vedere cosa avviene nel browser  può essere utile in fase di debugging, per osservare gli effetti dello script Python direttamente nel browser\n",
    "    * in fase di produzione, può essre utile eliminare la finestra\n",
    "* per attivare la modalità **headless**, occorre settare un oggetto **Options** e passarlo al costruttore del WebDriver"
   ]
  },
  {
   "cell_type": "markdown",
   "id": "72d1b277",
   "metadata": {
    "slideshow": {
     "slide_type": "slide"
    }
   },
   "source": [
    "## Chrome Headless Mode"
   ]
  },
  {
   "cell_type": "code",
   "execution_count": 7,
   "id": "63d708b5",
   "metadata": {
    "slideshow": {
     "slide_type": "-"
    }
   },
   "outputs": [
    {
     "name": "stdout",
     "output_type": "stream",
     "text": [
      "ho aperto un browser headless\n"
     ]
    }
   ],
   "source": [
    "from selenium import webdriver\n",
    "from selenium.webdriver.chrome.options import Options\n",
    "\n",
    "# enable headless mode in Selenium\n",
    "options = Options()\n",
    "options.add_argument('--headless=new')\n",
    "\n",
    "driver = webdriver.Chrome(\n",
    "    options=options, \n",
    "    # other properties...\n",
    ")\n",
    "\n",
    "url='https://scrapingclub.com/'\n",
    "driver.get(url)\n",
    "#scraping logic....\n",
    "print(\"ho aperto un browser headless\")\n",
    "time.sleep(10)\n",
    "#rilascia le risorse allocate da Selenium e shut down del browser\n",
    "driver.quit()\n"
   ]
  },
  {
   "cell_type": "markdown",
   "id": "c48d66a2",
   "metadata": {
    "slideshow": {
     "slide_type": "slide"
    }
   },
   "source": [
    "## Selenium: individuare elementi nella pagina HTML"
   ]
  },
  {
   "cell_type": "markdown",
   "id": "24b5a7ee",
   "metadata": {
    "slideshow": {
     "slide_type": "-"
    }
   },
   "source": [
    "*  **Selenium** offre diversi metodi per reperire gli elementi all'interno di una pagina, simili a quelli di **BeautifulSoup**\n",
    "* **Attenzione!**\n",
    "    * in **Selenium 4** il nome di molto metodi è cambiato rispetto a **Selenium 3**\n",
    "    * molti dei metodi che trovate nei testi di riferimento non sono più validi\n",
    "    * verificare nome e semantica dei metodi in <https://www.selenium.dev/documentation/overview/> \n",
    "    \n",
    "* due funzioni di base per selezionare elementi **HTML** dal **DOM(Document Object Model)**\n",
    "    * **find_element:** restituisce un  elemento specifico\n",
    "    * **find_elements:** restituisce una lista di elementi che soddisfano una condizione\n",
    "    \n",
    "* entrambe utilizzano gli attributi della **classe By** come selettori dell'elemento\n",
    "\n",
    "\n",
    "```python\n",
    "from selenium.webdriver.common.by import By\n",
    "\n",
    "find_element(By.ID, \"id\")\n",
    "find_element(By.NAME, \"name\")\n",
    "find_element(By.XPATH, \"xpath\")\n",
    "find_element(By.LINK_TEXT, \"link text\")\n",
    "find_element(By.PARTIAL_LINK_TEXT, \"partial link text\")\n",
    "find_element(By.TAG_NAME, \"tag name\")\n",
    "find_element(By.CLASS_NAME, \"class name\")\n",
    "find_element(By.CSS_SELECTOR, \"css selector\")\n",
    "```\n",
    "* tutti i metodi possono sollevare una **NoSuchElementException**"
   ]
  },
  {
   "cell_type": "markdown",
   "id": "5160b48d",
   "metadata": {
    "slideshow": {
     "slide_type": "slide"
    }
   },
   "source": [
    "## Selenium: individuare elementi per Text e per TagName"
   ]
  },
  {
   "cell_type": "markdown",
   "id": "a92fac11",
   "metadata": {
    "slideshow": {
     "slide_type": "-"
    }
   },
   "source": [
    "<center>\n",
    "<img src=\"Figures/NameId.jpg\" style=\"width:1200px;height:500px;\"/>\n",
    "</center>"
   ]
  },
  {
   "cell_type": "markdown",
   "id": "662103f4",
   "metadata": {
    "slideshow": {
     "slide_type": "slide"
    }
   },
   "source": [
    "## Selenium: individuare elementi per Text e per TagName"
   ]
  },
  {
   "cell_type": "markdown",
   "id": "948a0a8b",
   "metadata": {
    "slideshow": {
     "slide_type": "-"
    }
   },
   "source": [
    "<center>\n",
    "<img src=\"Figures/TextName.jpg\" style=\"width:1200px;height:500px;\"/>\n",
    "</center>"
   ]
  },
  {
   "cell_type": "markdown",
   "id": "a50b28d7",
   "metadata": {
    "slideshow": {
     "slide_type": "slide"
    }
   },
   "source": [
    "## Selenium: individuare elementi per Class e per CSS Selector"
   ]
  },
  {
   "cell_type": "markdown",
   "id": "a8daa29d",
   "metadata": {
    "slideshow": {
     "slide_type": "-"
    }
   },
   "source": [
    "<center>\n",
    "<img src=\"Figures/ClassCSS.jpg\" style=\"width:1200px;height:500px;\"/>\n",
    "</center>"
   ]
  },
  {
   "cell_type": "markdown",
   "id": "4c87f0cd",
   "metadata": {
    "slideshow": {
     "slide_type": "slide"
    }
   },
   "source": [
    "## La tecnologia XPath"
   ]
  },
  {
   "cell_type": "markdown",
   "id": "a414593c",
   "metadata": {
    "slideshow": {
     "slide_type": "-"
    }
   },
   "source": [
    "* **XPath** indica **XML Path Language** \n",
    "    * un query language che può essere utilizzato per descrivere un **path** da un nodo **A** ad un nodo **B** in un documento **XML/HTML**\n",
    "    * fa riferimento alla rappresentazione interna del documento **HTML**, come **DOM**, **Document Object Model**\n",
    "* simile ai **CSS selectors**, utilizzati per descrivere path che individuano elementi a cui si vogliono applicare **regole di stile**\n",
    "* vantaggi di **XPath** rispetto ai **CSS selectors**\n",
    "    * permette di attraversare l'albero in qualsiasi direzione\n",
    "    * permette trasformazioni dei risultati, prima di restituirli\n",
    "    * può essere facilmente esteso con ulteriori funzionalità\n",
    "    * alcune librerie che supportano **CSS selector** convertono i selettori in **XPath**, perchè più veloce e potente"
   ]
  },
  {
   "cell_type": "markdown",
   "id": "a1a23765",
   "metadata": {
    "slideshow": {
     "slide_type": "slide"
    }
   },
   "source": [
    "## La tecnologia XPath"
   ]
  },
  {
   "cell_type": "code",
   "execution_count": 8,
   "id": "13d964a3",
   "metadata": {
    "slideshow": {
     "slide_type": "-"
    }
   },
   "outputs": [
    {
     "name": "stdout",
     "output_type": "stream",
     "text": [
      "<div>\n",
      " <a class=\"button\" href=\"http://pippo.com\">\n",
      "  MyReference\n",
      " </a>\n",
      "</div>\n",
      "\n"
     ]
    }
   ],
   "source": [
    "from bs4 import BeautifulSoup\n",
    "html_example = \"\"\"<div> <a class=\"button\" href=\"http://pippo.com\">MyReference</a>  </div>\"\"\"\n",
    "small_soup = BeautifulSoup(html_example, 'html.parser')\n",
    "print(small_soup.prettify())\n"
   ]
  },
  {
   "cell_type": "markdown",
   "id": "e5c3535f",
   "metadata": {
    "slideshow": {
     "slide_type": "-"
    }
   },
   "source": [
    "* per riferire l'attributo **href** del nodo **\\<a\\>**, che ha una classe **button**, la quale si trova direttamente sotto un nodo **\\<div\\>**"
   ]
  },
  {
   "cell_type": "markdown",
   "id": "80d4bb00",
   "metadata": {
    "slideshow": {
     "slide_type": "-"
    }
   },
   "source": [
    "<center>\n",
    "<img src=\"Figures/XpathExample.jpg\" style=\"width:800px;height:200px;\"/>\n",
    "</center>"
   ]
  },
  {
   "cell_type": "markdown",
   "id": "6a3daeda",
   "metadata": {
    "slideshow": {
     "slide_type": "slide"
    }
   },
   "source": [
    "## Selenium: individuare elementi per Xpath"
   ]
  },
  {
   "cell_type": "markdown",
   "id": "8442b968",
   "metadata": {
    "slideshow": {
     "slide_type": "-"
    }
   },
   "source": [
    "<center>\n",
    "<img src=\"Figures/XpathSelection.jpg\" style=\"width:1400px;height:400px;\"/>\n",
    "</center>"
   ]
  },
  {
   "cell_type": "markdown",
   "id": "67308aa4",
   "metadata": {
    "slideshow": {
     "slide_type": "slide"
    }
   },
   "source": [
    "## Ricercare la card Exercise#1 nella pagina https://scrapingclub.com/ con XPath"
   ]
  },
  {
   "cell_type": "markdown",
   "id": "b7bee27e",
   "metadata": {
    "slideshow": {
     "slide_type": "-"
    }
   },
   "source": [
    "<center>\n",
    "<img src=\"Figures/SelectingElement.jpg\" style=\"width:1200px;height:600px;\"/>\n",
    "</center>"
   ]
  },
  {
   "cell_type": "markdown",
   "id": "4c3f2c8b",
   "metadata": {
    "slideshow": {
     "slide_type": "slide"
    }
   },
   "source": [
    "## Ricercare la card Exercise#1 nella pagina https://scrapingclub.com/ con XPath"
   ]
  },
  {
   "cell_type": "markdown",
   "id": "834b497b",
   "metadata": {
    "slideshow": {
     "slide_type": "-"
    }
   },
   "source": [
    "* aprire lo **strumento sviluppatori**\n",
    "* selezionare l'elemento che si vuole analizzare\n",
    "* selezionare **ispeziona** posizionandosi sull'elemento con il tasto destro\n",
    "* sulla parte destra del browser appare la pagina dello strumento per sviluppatori e viene evidenziato\n",
    "l'elemento **HTML** corripondente all'elemento selezionato\n",
    "* selezionare **copia** posizionandosi sull'elemento **HTML** con il tasto destro\n",
    "    * copia **selector**\n",
    "    * copia **XPath**"
   ]
  },
  {
   "cell_type": "markdown",
   "id": "77c0d454",
   "metadata": {
    "slideshow": {
     "slide_type": "slide"
    }
   },
   "source": [
    "## Ricercare la card Exercise#1 nella pagina https://scrapingclub.com/ con XPath"
   ]
  },
  {
   "cell_type": "markdown",
   "id": "327f623a",
   "metadata": {
    "slideshow": {
     "slide_type": "-"
    }
   },
   "source": [
    "<center>\n",
    "<img src=\"Figures/AllCopies.jpg\" style=\"width:800px;height:800px;\"/>\n",
    "</center>"
   ]
  },
  {
   "cell_type": "markdown",
   "id": "c771805c",
   "metadata": {
    "slideshow": {
     "slide_type": "slide"
    }
   },
   "source": [
    "## Ricercare la card Exercise#1 nella pagina https://scrapingclub.com/ con XPath"
   ]
  },
  {
   "cell_type": "code",
   "execution_count": 11,
   "id": "e09dce19",
   "metadata": {
    "slideshow": {
     "slide_type": "-"
    }
   },
   "outputs": [
    {
     "name": "stdout",
     "output_type": "stream",
     "text": [
      "<selenium.webdriver.remote.webelement.WebElement (session=\"264e4895c59aa7d05df1aa21bf402f22\", element=\"f.F5C4373A52B170DF9A3188B308CE98D8.d.CCAE53E1C9BD17E0C0148301E3B18309.e.6\")>\n"
     ]
    }
   ],
   "source": [
    "from selenium import webdriver\n",
    "from selenium.webdriver.chrome.options import Options\n",
    "from selenium.webdriver.common.by import By\n",
    "\n",
    "# enable headless mode in Selenium\n",
    "options = Options()\n",
    "options.add_argument('--headless=new')\n",
    "\n",
    "driver = webdriver.Chrome(options=options)\n",
    "url='https://scrapingclub.com/'\n",
    "driver.get(url)\n",
    "\n",
    "exercise1_card = driver.find_element(By.CLASS_NAME, 'w-full.rounded.border')\n",
    "#or \n",
    "exercise1_card = driver.find_element(By.CSS_SELECTOR, '.w-full.rounded.border')\n",
    "# or\n",
    "exercise1_card = driver.find_element(By.XPATH, '/html/body/div[3]/div[2]/div/div[1]')\n",
    "\n",
    "print(exercise1_card)\n"
   ]
  },
  {
   "cell_type": "markdown",
   "id": "49a832a3",
   "metadata": {
    "slideshow": {
     "slide_type": "slide"
    }
   },
   "source": [
    "## Ricercare tutte le card nella pagina https://scrapingclub.com/ con XPath"
   ]
  },
  {
   "cell_type": "code",
   "execution_count": 12,
   "id": "5aa5f025",
   "metadata": {
    "slideshow": {
     "slide_type": "-"
    }
   },
   "outputs": [
    {
     "data": {
      "text/plain": [
       "[<selenium.webdriver.remote.webelement.WebElement (session=\"357fab41d90a961732c3b7a1c52e6671\", element=\"f.450DBD42B87DA9AF34DF90B68C1CC743.d.BCE1D3DA2A191C3D846045BDE598DED1.e.6\")>,\n",
       " <selenium.webdriver.remote.webelement.WebElement (session=\"357fab41d90a961732c3b7a1c52e6671\", element=\"f.450DBD42B87DA9AF34DF90B68C1CC743.d.BCE1D3DA2A191C3D846045BDE598DED1.e.7\")>,\n",
       " <selenium.webdriver.remote.webelement.WebElement (session=\"357fab41d90a961732c3b7a1c52e6671\", element=\"f.450DBD42B87DA9AF34DF90B68C1CC743.d.BCE1D3DA2A191C3D846045BDE598DED1.e.8\")>,\n",
       " <selenium.webdriver.remote.webelement.WebElement (session=\"357fab41d90a961732c3b7a1c52e6671\", element=\"f.450DBD42B87DA9AF34DF90B68C1CC743.d.BCE1D3DA2A191C3D846045BDE598DED1.e.9\")>,\n",
       " <selenium.webdriver.remote.webelement.WebElement (session=\"357fab41d90a961732c3b7a1c52e6671\", element=\"f.450DBD42B87DA9AF34DF90B68C1CC743.d.BCE1D3DA2A191C3D846045BDE598DED1.e.10\")>,\n",
       " <selenium.webdriver.remote.webelement.WebElement (session=\"357fab41d90a961732c3b7a1c52e6671\", element=\"f.450DBD42B87DA9AF34DF90B68C1CC743.d.BCE1D3DA2A191C3D846045BDE598DED1.e.11\")>,\n",
       " <selenium.webdriver.remote.webelement.WebElement (session=\"357fab41d90a961732c3b7a1c52e6671\", element=\"f.450DBD42B87DA9AF34DF90B68C1CC743.d.BCE1D3DA2A191C3D846045BDE598DED1.e.12\")>,\n",
       " <selenium.webdriver.remote.webelement.WebElement (session=\"357fab41d90a961732c3b7a1c52e6671\", element=\"f.450DBD42B87DA9AF34DF90B68C1CC743.d.BCE1D3DA2A191C3D846045BDE598DED1.e.13\")>,\n",
       " <selenium.webdriver.remote.webelement.WebElement (session=\"357fab41d90a961732c3b7a1c52e6671\", element=\"f.450DBD42B87DA9AF34DF90B68C1CC743.d.BCE1D3DA2A191C3D846045BDE598DED1.e.14\")>,\n",
       " <selenium.webdriver.remote.webelement.WebElement (session=\"357fab41d90a961732c3b7a1c52e6671\", element=\"f.450DBD42B87DA9AF34DF90B68C1CC743.d.BCE1D3DA2A191C3D846045BDE598DED1.e.15\")>]"
      ]
     },
     "execution_count": 12,
     "metadata": {},
     "output_type": "execute_result"
    }
   ],
   "source": [
    "from selenium import webdriver\n",
    "from selenium.webdriver.chrome.options import Options\n",
    "from selenium.webdriver.common.by import By\n",
    "\n",
    "# enable headless mode in Selenium\n",
    "options = Options()\n",
    "options.add_argument('--headless=new')\n",
    "\n",
    "driver = webdriver.Chrome(options=options)\n",
    "url='https://scrapingclub.com/'\n",
    "driver.get(url)\n",
    "exercise_cards = driver.find_elements(By.CLASS_NAME, 'w-full.rounded.border')\n",
    "#or \n",
    "exercise_cards = driver.find_elements(By.CSS_SELECTOR, '.w-full.rounded.border')\n",
    "exercise_cards\n"
   ]
  },
  {
   "cell_type": "markdown",
   "id": "109a6b81",
   "metadata": {
    "slideshow": {
     "slide_type": "slide"
    }
   },
   "source": [
    "## Reperire i prodotti nella prima pagina"
   ]
  },
  {
   "cell_type": "markdown",
   "id": "264239e1",
   "metadata": {
    "slideshow": {
     "slide_type": "-"
    }
   },
   "source": [
    "* verificare come il programma illustrato mostrato sotto restituisca solo i vestiti presenti nella prima pagina\n",
    "* per veder i prodotti c'è bisogno di una procedura che **automatizzi** il processo di scrolling\n"
   ]
  },
  {
   "cell_type": "code",
   "execution_count": 13,
   "id": "42b70e47",
   "metadata": {
    "slideshow": {
     "slide_type": "-"
    }
   },
   "outputs": [
    {
     "name": "stdout",
     "output_type": "stream",
     "text": [
      "Short Dress\n",
      "$24.99\n",
      "Patterned Slacks\n",
      "$29.99\n",
      "Short Chiffon Dress\n",
      "$49.99\n",
      "Off-the-shoulder Dress\n",
      "$59.99\n",
      "V-neck Top\n",
      "$24.99\n",
      "Short Chiffon Dress\n",
      "$49.99\n",
      "V-neck Top\n",
      "$24.99\n",
      "V-neck Top\n",
      "$24.99\n",
      "Short Lace Dress\n",
      "$59.99\n",
      "Fitted Dress\n",
      "$34.99\n"
     ]
    }
   ],
   "source": [
    "from selenium import webdriver\n",
    "from selenium.webdriver.common.by import By\n",
    "import time\n",
    "driver = webdriver.Chrome()\n",
    "driver.get('https://scrapingclub.com/exercise/list_infinite_scroll/')\n",
    "\n",
    "captured_dress = driver.find_elements(By.CLASS_NAME, 'p-4')\n",
    "for dress in captured_dress:\n",
    "    try:\n",
    "        description=dress.find_element(By.TAG_NAME, 'h4').text\n",
    "        print(description)\n",
    "        price=dress.find_element(By.TAG_NAME, 'h5').text\n",
    "        print(price)\n",
    "    except: \n",
    "        pass\n",
    "    "
   ]
  },
  {
   "cell_type": "markdown",
   "id": "70c34f54",
   "metadata": {
    "slideshow": {
     "slide_type": "slide"
    }
   },
   "source": [
    "## Reperire tutti i prodotti: scrolling, prima soluzione"
   ]
  },
  {
   "cell_type": "code",
   "execution_count": 14,
   "id": "08320674",
   "metadata": {
    "slideshow": {
     "slide_type": "-"
    }
   },
   "outputs": [],
   "source": [
    "from selenium import webdriver\n",
    "from selenium.webdriver.common.by import By\n",
    "from selenium.webdriver import Keys\n",
    "from selenium.webdriver.common.action_chains import ActionChains\n",
    "import time\n",
    "    \n",
    "driver = webdriver.Chrome()\n",
    "driver.get('https://scrapingclub.com/exercise/list_infinite_scroll/')\n",
    "\n",
    "def scroll_to_bottom():\n",
    "    # driver.find_element(By.TAG_NAME, 'body')\n",
    "    # Define the number of times to scroll (adjust as needed)\n",
    "    scroll_iterations = 5\n",
    "    for _ in range(scroll_iterations):\n",
    "        # Scroll down inviando la **END key** al browser\n",
    "        ActionChains(driver).send_keys(Keys.END).perform()\n",
    "        # Aspetta un poco per garantore che il contenuto sia stato caricato\n",
    "        time.sleep(5)\n"
   ]
  },
  {
   "cell_type": "markdown",
   "id": "31caa0c3",
   "metadata": {
    "slideshow": {
     "slide_type": "slide"
    }
   },
   "source": [
    "## Reperire tutti i prodotti: scrolling, prima soluzione"
   ]
  },
  {
   "cell_type": "code",
   "execution_count": 15,
   "id": "0caed5a2",
   "metadata": {
    "slideshow": {
     "slide_type": "-"
    }
   },
   "outputs": [
    {
     "name": "stdout",
     "output_type": "stream",
     "text": [
      "Short Dress\n",
      "$24.99\n",
      "Patterned Slacks\n",
      "$29.99\n",
      "Short Chiffon Dress\n",
      "$49.99\n",
      "Off-the-shoulder Dress\n",
      "$59.99\n",
      "V-neck Top\n",
      "$24.99\n",
      "Short Chiffon Dress\n",
      "$49.99\n",
      "V-neck Top\n",
      "$24.99\n",
      "V-neck Top\n",
      "$24.99\n",
      "Short Lace Dress\n",
      "$59.99\n",
      "Fitted Dress\n",
      "$34.99\n",
      "V-neck Jumpsuit\n",
      "$69.99\n",
      "Chiffon Dress\n",
      "$54.99\n",
      "Skinny High Waist Jeans\n",
      "$39.99\n",
      "Super Skinny High Jeans\n",
      "$19.99\n",
      "Oversized Denim Jacket\n",
      "$19.99\n",
      "Short Sweatshirt\n",
      "$24.99\n",
      "Long-sleeved Jersey Top\n",
      "$12.99\n",
      "Skinny High Waist Jeans\n",
      "$39.99\n",
      "Short Sweatshirt\n",
      "$24.99\n",
      "Long-sleeved Jersey Top\n",
      "$12.99\n",
      "Long-sleeved Jersey Top\n",
      "$12.99\n",
      "Jersey Dress\n",
      "$19.99\n",
      "Short Sweatshirt\n",
      "$24.99\n",
      "Crinkled Flounced Blouse\n",
      "$24.99\n",
      "Bib Overall Dress\n",
      "$29.99\n",
      "Loose-knit Sweater\n",
      "$17.99\n",
      "Skinny Regular Jeans\n",
      "$29.99\n",
      "Henley-style Top\n",
      "$12.99\n",
      "Joggers\n",
      "$17.99\n",
      "Skirt with Lacing\n",
      "$34.99\n",
      "Top with Tie\n",
      "$17.99\n",
      "Joggers\n",
      "$34.99\n",
      "Chiffon Dress with Flounce\n",
      "$49.99\n",
      "Skirt with Lacing\n",
      "$34.99\n",
      "V-neck Top\n",
      "$9.99\n",
      "Hooded Jacket\n",
      "$29.99\n",
      "Hooded Top\n",
      "$29.99\n",
      "Lyocell-blend Blouse\n",
      "$34.99\n",
      "Bib Overall Dress\n",
      "$29.99\n",
      "Wide-leg Pants\n",
      "$34.99\n",
      "Ankle-length Slim-fit Pants\n",
      "$24.99\n",
      "Short Sweatshirt\n",
      "$9.99\n",
      "V-neck Blouse\n",
      "$17.99\n",
      "Short Skirt\n",
      "$24.99\n",
      "Mesh T-shirt\n",
      "$17.99\n",
      "Blouse with Embroidery\n",
      "$59.99\n",
      "Wide-cut Cotton Top\n",
      "$34.99\n",
      "Pleated Skirt\n",
      "$54.99\n",
      "Coat\n",
      "$69.99\n",
      "Wide-leg Pants\n",
      "$49.99\n",
      "Top\n",
      "$29.99\n",
      "Knit Mohair-blend Sweater\n",
      "$69.99\n",
      "Dress\n",
      "$69.99\n",
      "T-shirt with Embroidery\n",
      "$29.99\n",
      "Blouse with Ruffled Collar\n",
      "$49.99\n",
      "Pants\n",
      "$49.99\n",
      "Jersey Dress\n",
      "$19.99\n",
      "T-shirt\n",
      "$6.99\n",
      "T-shirt\n",
      "$6.99\n",
      "Blazer\n",
      "$49.99\n"
     ]
    }
   ],
   "source": [
    "# Call the function to scroll to the bottom\n",
    "scroll_to_bottom()\n",
    "\n",
    "captured_dress = driver.find_elements(By.CLASS_NAME, 'p-4')\n",
    "\n",
    "for dress in captured_dress:\n",
    "    try:\n",
    "        description=dress.find_element(By.TAG_NAME, 'h4').text\n",
    "        print(description)\n",
    "        price=dress.find_element(By.TAG_NAME, 'h5').text\n",
    "        print(price)\n",
    "    except: \n",
    "        pass\n",
    "   "
   ]
  },
  {
   "cell_type": "markdown",
   "id": "8dcb2594",
   "metadata": {
    "slideshow": {
     "slide_type": "slide"
    }
   },
   "source": [
    "## Reperire tutti i prodotti: scrolling, seconda soluzione"
   ]
  },
  {
   "cell_type": "code",
   "execution_count": 16,
   "id": "065435d0",
   "metadata": {
    "slideshow": {
     "slide_type": "-"
    }
   },
   "outputs": [],
   "source": [
    "from selenium import webdriver\n",
    "from selenium.webdriver.common.by import By\n",
    "from selenium.webdriver import Keys\n",
    "from selenium.webdriver.common.action_chains import ActionChains\n",
    "import time\n",
    "    \n",
    "driver = webdriver.Chrome()\n",
    "driver.get('https://scrapingclub.com/exercise/list_infinite_scroll/')\n",
    "\n",
    "\n",
    "def scroll_to_bottom():\n",
    "    cards = driver.find_elements(By.CLASS_NAME, 'p-4') \n",
    "    old_cards = len(cards)\n",
    "    while True:\n",
    "        # Get the body element to perform actions on\n",
    "        driver.find_element(By.TAG_NAME, 'body')\n",
    "        # Define the number of times to scroll (adjust as needed)\n",
    "        ActionChains(driver).send_keys(Keys.END).perform()\n",
    "        time.sleep(5)\n",
    "        cards = driver.find_elements(By.CLASS_NAME, 'w-full') \n",
    "        if (old_cards == len(cards)):\n",
    "            # break the cycle since the scroll\n",
    "            # is over\n",
    "            break\n",
    "         # keep track of the number of cards\n",
    "         # currently discovered\n",
    "        old_cards = len(cards)\n",
    "        "
   ]
  },
  {
   "cell_type": "markdown",
   "id": "3187ef83",
   "metadata": {
    "slideshow": {
     "slide_type": "slide"
    }
   },
   "source": [
    "## Reperire tutti i prodotti: scrolling, seconda soluzione"
   ]
  },
  {
   "cell_type": "code",
   "execution_count": 17,
   "id": "ee0187b9",
   "metadata": {},
   "outputs": [
    {
     "name": "stdout",
     "output_type": "stream",
     "text": [
      "Short Dress\n",
      "$24.99\n",
      "Patterned Slacks\n",
      "$29.99\n",
      "Short Chiffon Dress\n",
      "$49.99\n",
      "Off-the-shoulder Dress\n",
      "$59.99\n",
      "V-neck Top\n",
      "$24.99\n",
      "Short Chiffon Dress\n",
      "$49.99\n",
      "V-neck Top\n",
      "$24.99\n",
      "V-neck Top\n",
      "$24.99\n",
      "Short Lace Dress\n",
      "$59.99\n",
      "Fitted Dress\n",
      "$34.99\n",
      "V-neck Jumpsuit\n",
      "$69.99\n",
      "Chiffon Dress\n",
      "$54.99\n",
      "Skinny High Waist Jeans\n",
      "$39.99\n",
      "Super Skinny High Jeans\n",
      "$19.99\n",
      "Oversized Denim Jacket\n",
      "$19.99\n",
      "Short Sweatshirt\n",
      "$24.99\n",
      "Long-sleeved Jersey Top\n",
      "$12.99\n",
      "Skinny High Waist Jeans\n",
      "$39.99\n",
      "Short Sweatshirt\n",
      "$24.99\n",
      "Long-sleeved Jersey Top\n",
      "$12.99\n",
      "Long-sleeved Jersey Top\n",
      "$12.99\n",
      "Jersey Dress\n",
      "$19.99\n",
      "Short Sweatshirt\n",
      "$24.99\n",
      "Crinkled Flounced Blouse\n",
      "$24.99\n",
      "Bib Overall Dress\n",
      "$29.99\n",
      "Loose-knit Sweater\n",
      "$17.99\n",
      "Skinny Regular Jeans\n",
      "$29.99\n",
      "Henley-style Top\n",
      "$12.99\n",
      "Joggers\n",
      "$17.99\n",
      "Skirt with Lacing\n",
      "$34.99\n",
      "Top with Tie\n",
      "$17.99\n",
      "Joggers\n",
      "$34.99\n",
      "Chiffon Dress with Flounce\n",
      "$49.99\n",
      "Skirt with Lacing\n",
      "$34.99\n",
      "V-neck Top\n",
      "$9.99\n",
      "Hooded Jacket\n",
      "$29.99\n",
      "Hooded Top\n",
      "$29.99\n",
      "Lyocell-blend Blouse\n",
      "$34.99\n",
      "Bib Overall Dress\n",
      "$29.99\n",
      "Wide-leg Pants\n",
      "$34.99\n",
      "Ankle-length Slim-fit Pants\n",
      "$24.99\n",
      "Short Sweatshirt\n",
      "$9.99\n",
      "V-neck Blouse\n",
      "$17.99\n",
      "Short Skirt\n",
      "$24.99\n",
      "Mesh T-shirt\n",
      "$17.99\n",
      "Blouse with Embroidery\n",
      "$59.99\n",
      "Wide-cut Cotton Top\n",
      "$34.99\n",
      "Pleated Skirt\n",
      "$54.99\n",
      "Coat\n",
      "$69.99\n",
      "Wide-leg Pants\n",
      "$49.99\n",
      "Top\n",
      "$29.99\n",
      "Knit Mohair-blend Sweater\n",
      "$69.99\n",
      "Dress\n",
      "$69.99\n",
      "T-shirt with Embroidery\n",
      "$29.99\n",
      "Blouse with Ruffled Collar\n",
      "$49.99\n",
      "Pants\n",
      "$49.99\n",
      "Jersey Dress\n",
      "$19.99\n",
      "T-shirt\n",
      "$6.99\n",
      "T-shirt\n",
      "$6.99\n",
      "Blazer\n",
      "$49.99\n"
     ]
    }
   ],
   "source": [
    "# Call the function to scroll to the bottom\n",
    "\n",
    "scroll_to_bottom()\n",
    "\n",
    "captured_dress = driver.find_elements(By.CLASS_NAME, 'p-4')\n",
    "for dress in captured_dress:\n",
    "    try:\n",
    "        description=dress.find_element(By.TAG_NAME, 'h4').text\n",
    "        print(description)\n",
    "        price=dress.find_element(By.TAG_NAME, 'h5').text\n",
    "        print(price)\n",
    "    except: \n",
    "        pass\n",
    "    "
   ]
  },
  {
   "cell_type": "markdown",
   "id": "2613ccb2",
   "metadata": {
    "slideshow": {
     "slide_type": "slide"
    }
   },
   "source": [
    "## Selenium: interagire con il browser"
   ]
  },
  {
   "cell_type": "markdown",
   "id": "1bf24f75",
   "metadata": {
    "slideshow": {
     "slide_type": "-"
    }
   },
   "source": [
    "<img src=\"Figures/fruit.jpg\" style=\"width:1200px;height:600px;\"/>"
   ]
  },
  {
   "cell_type": "markdown",
   "id": "886ce078",
   "metadata": {
    "slideshow": {
     "slide_type": "slide"
    }
   },
   "source": [
    "## Selenium: interagire con il browser"
   ]
  },
  {
   "cell_type": "markdown",
   "id": "bc7940a7",
   "metadata": {
    "slideshow": {
     "slide_type": "-"
    }
   },
   "source": [
    "<center>\n",
    "<img src=\"Figures/fruit1.jpg\" style=\"width:1000px;height:600px;\"/>\n",
    "</center>"
   ]
  },
  {
   "cell_type": "markdown",
   "id": "1bd05bd7",
   "metadata": {
    "slideshow": {
     "slide_type": "slide"
    }
   },
   "source": [
    "## Selenium: interagire con il browser"
   ]
  },
  {
   "cell_type": "markdown",
   "id": "99fd16f2",
   "metadata": {
    "slideshow": {
     "slide_type": "-"
    }
   },
   "source": [
    "* simulare la selezione di un **radio button** dell'utente\n",
    "* viene ricercato nel codice **HTML** il **button corrispondente al giorno della settimana** che si vuole selezionare \n",
    "    * si usa una ricerca per **XPATH**\n",
    "    * **XPATH** individuato ispezionando nel browser l'elemento selezionato\n",
    "    * se ne simula il **click**"
   ]
  },
  {
   "cell_type": "code",
   "execution_count": 4,
   "id": "3b3a9677",
   "metadata": {
    "slideshow": {
     "slide_type": "-"
    }
   },
   "outputs": [
    {
     "name": "stdout",
     "output_type": "stream",
     "text": [
      "primo click\n"
     ]
    }
   ],
   "source": [
    "from selenium import webdriver\n",
    "from selenium.webdriver.common.keys import Keys\n",
    "from selenium.webdriver.common.by import By\n",
    "import time\n",
    " \n",
    "# Create chrome driver.\n",
    "driver = webdriver.Chrome()\n",
    "\n",
    "driver.implicitly_wait(1000)\n",
    " \n",
    "# Open the webpage.\n",
    "driver.get(\"https://openwritings.net/sites/default/files/selenium-test-pages/radio_checkbox.html\")\n",
    " \n",
    "# Radio Button: Check Monday using XPATH locator.\n",
    "element = driver.find_element(By.XPATH,\"//input[@value='Mon']\")\n",
    "element.click()\n",
    "print(\"primo click\")\n",
    " "
   ]
  },
  {
   "cell_type": "markdown",
   "id": "a6f9316a",
   "metadata": {
    "slideshow": {
     "slide_type": "slide"
    }
   },
   "source": [
    "## Selenium: interagire con il browser"
   ]
  },
  {
   "cell_type": "markdown",
   "id": "3f1de21a",
   "metadata": {
    "slideshow": {
     "slide_type": "-"
    }
   },
   "source": [
    "* simulare ora la selezione di due **Check boxes**\n",
    "* si usa una ricerca per **CSS_SELECTOR**\n",
    "* se ne simula la selezione"
   ]
  },
  {
   "cell_type": "code",
   "execution_count": 5,
   "id": "f6716eef",
   "metadata": {
    "slideshow": {
     "slide_type": "-"
    }
   },
   "outputs": [
    {
     "name": "stdout",
     "output_type": "stream",
     "text": [
      "secondo click\n",
      "terzo click\n"
     ]
    }
   ],
   "source": [
    "# Checkbox: Uncheck Apple using CSS selector.\n",
    "element2=driver.find_element(By.CSS_SELECTOR, \"input[name='apple']\")\n",
    "element2.click()\n",
    "print(\"secondo click\")\n",
    " \n",
    "# Checkbox: Check Orange using CSS selector.\n",
    "element3=driver.find_element(By.CSS_SELECTOR, \"input[name='orange']\")\n",
    "element3.click()\n",
    "print(\"terzo click\")\n",
    " \n",
    "# Pause for 10 seconds so that you can see the results.\n",
    "time.sleep(10)\n",
    " \n",
    "# Close.\n",
    "driver.close()\n"
   ]
  },
  {
   "cell_type": "markdown",
   "id": "0ccede70",
   "metadata": {
    "slideshow": {
     "slide_type": "slide"
    }
   },
   "source": [
    "## Selenium:  interagire automaticamente con il browser"
   ]
  },
  {
   "cell_type": "markdown",
   "id": "10042124",
   "metadata": {
    "slideshow": {
     "slide_type": "-"
    }
   },
   "source": [
    "* consideriamo una form più complessa, come la seguente"
   ]
  },
  {
   "cell_type": "markdown",
   "id": "1049c45e",
   "metadata": {
    "slideshow": {
     "slide_type": "-"
    }
   },
   "source": [
    "<center>\n",
    "<img src=\"Figures/Form.jpg\" style=\"width:600px;height:600px;\"/>\n",
    "</center>"
   ]
  },
  {
   "cell_type": "markdown",
   "id": "0fdbd49f",
   "metadata": {
    "slideshow": {
     "slide_type": "slide"
    }
   },
   "source": [
    "## Selenium: interagire automaticamente con il browser"
   ]
  },
  {
   "cell_type": "markdown",
   "id": "7a89ccbb",
   "metadata": {
    "slideshow": {
     "slide_type": "-"
    }
   },
   "source": [
    "<img src=\"Figures/formHTML.jpg\" style=\"width:1000px;height:600px;\"/>"
   ]
  },
  {
   "cell_type": "markdown",
   "id": "cfb14955",
   "metadata": {
    "slideshow": {
     "slide_type": "slide"
    }
   },
   "source": [
    "## Selenium: interagire automaticamente con il browser"
   ]
  },
  {
   "cell_type": "code",
   "execution_count": 6,
   "id": "cb90f7a4",
   "metadata": {
    "slideshow": {
     "slide_type": "-"
    }
   },
   "outputs": [
    {
     "name": "stdout",
     "output_type": "stream",
     "text": [
      "inserito il nome\n"
     ]
    }
   ],
   "source": [
    "from selenium import webdriver\n",
    "from selenium.webdriver.support.select import Select\n",
    "from selenium.webdriver.common.keys import Keys\n",
    "from selenium.webdriver.common.by import By\n",
    "\n",
    "url = 'http://www.webscrapingfordatascience.com/postform2/'\n",
    "driver = webdriver.Chrome()\n",
    "driver.implicitly_wait(10)\n",
    "driver.get(url)\n",
    "driver.find_element(By.NAME,'name').send_keys('Laura')\n",
    "print(\"inserito il nome\")\n"
   ]
  },
  {
   "cell_type": "markdown",
   "id": "6ffee4b5",
   "metadata": {
    "slideshow": {
     "slide_type": "slide"
    }
   },
   "source": [
    "## Selenium: interagire automaticamente con il browser"
   ]
  },
  {
   "cell_type": "code",
   "execution_count": 7,
   "id": "5122830c",
   "metadata": {
    "slideshow": {
     "slide_type": "-"
    }
   },
   "outputs": [
    {
     "name": "stdout",
     "output_type": "stream",
     "text": [
      "cliccato il gender\n",
      "cliccato meal\n",
      "cliccato 2 meal\n",
      "selezionati i capelli\n"
     ]
    }
   ],
   "source": [
    "driver.find_element(By.CSS_SELECTOR,'input[name=\"gender\"][value=\"F\"]').click()\n",
    "print(\"cliccato il gender\")\n",
    "driver.find_element(By.NAME,'pizza').click()\n",
    "print(\"cliccato meal\")\n",
    "driver.find_element(By.NAME,'salad').click()\n",
    "print(\"cliccato 2 meal\")\n",
    "Select(driver.find_element(By.NAME,'haircolor')).select_by_value('brown')\n",
    "print(\"selezionati i capelli\")\n",
    "driver.find_element(By.NAME,'comments').send_keys(\n",
    "['First line', Keys.ENTER, 'Second line'])\n",
    "\n"
   ]
  },
  {
   "cell_type": "markdown",
   "id": "cd3d1bcc",
   "metadata": {
    "slideshow": {
     "slide_type": "slide"
    }
   },
   "source": [
    "## Selenium: interagire automaticamente con il browser"
   ]
  },
  {
   "cell_type": "code",
   "execution_count": 8,
   "id": "3f7ea260",
   "metadata": {
    "slideshow": {
     "slide_type": "-"
    }
   },
   "outputs": [
    {
     "name": "stdin",
     "output_type": "stream",
     "text": [
      "Press ENTER to submit the form ENTER\n",
      "Press ENTER to close the automated browser ENTER\n"
     ]
    }
   ],
   "source": [
    "input('Press ENTER to submit the form')\n",
    "driver.find_element(By.TAG_NAME,'form').submit()\n",
    "# Or: driver.find_element_by_css_selector('input[type=\"submit\"]').click()\n",
    "input('Press ENTER to close the automated browser')\n",
    "driver.quit()\n"
   ]
  },
  {
   "cell_type": "markdown",
   "id": "11db6865",
   "metadata": {
    "slideshow": {
     "slide_type": "slide"
    }
   },
   "source": [
    "## Selenium: sincronizzazione su contenuti dinamici"
   ]
  },
  {
   "cell_type": "markdown",
   "id": "c8e5a30b",
   "metadata": {
    "slideshow": {
     "slide_type": "-"
    }
   },
   "source": [
    "* il sito: **URL: https://the-internet.herokuapp.com/dynamic_loading/1**\n",
    "* comportamento\n",
    "    * il sito visualizza un botton\n",
    "    * l'utente clicca sul bottone\n",
    "    * il sito mostra una animazione che indica che si sta caricando del contenuto\n",
    "    * infine si stampa il messaggio “Hello World!”."
   ]
  },
  {
   "cell_type": "markdown",
   "id": "54971b7c",
   "metadata": {
    "slideshow": {
     "slide_type": "slide"
    }
   },
   "source": [
    "## Selenium: sincronizzazione su contenuti dinamici"
   ]
  },
  {
   "cell_type": "markdown",
   "id": "6fb2ce7a",
   "metadata": {
    "slideshow": {
     "slide_type": "-"
    }
   },
   "source": [
    "<center>\n",
    "<img src=\"Figures/DynamicContent1.jpg\" style=\"width:600px;height:200px;\"/>\n",
    "<img src=\"Figures/DynamicContent2.jpg\" style=\"width:600px;height:200px;\"/>\n",
    "<img src=\"Figures/DynamicContent3.jpg\" style=\"width:600px;height:200px;\"/>\n",
    "</center>\n"
   ]
  },
  {
   "cell_type": "markdown",
   "id": "c0b9d41a",
   "metadata": {
    "slideshow": {
     "slide_type": "slide"
    }
   },
   "source": [
    "## Selenium: il problema della sincronizzazione"
   ]
  },
  {
   "cell_type": "code",
   "execution_count": 23,
   "id": "d250509c",
   "metadata": {
    "slideshow": {
     "slide_type": "-"
    }
   },
   "outputs": [
    {
     "name": "stdout",
     "output_type": "stream",
     "text": [
      "\n"
     ]
    }
   ],
   "source": [
    "# Required imports\n",
    "from selenium import webdriver\n",
    "from selenium.webdriver.common.by import By\n",
    "\n",
    "#Initialize webdriver\n",
    "driver = webdriver.Chrome()\n",
    "\n",
    "#Open website\n",
    "driver.get('https://the-internet.herokuapp.com/dynamic_loading/1') \n",
    "elem = driver.find_element(By.XPATH,'//*[@id=\"start\"]/button')\n",
    "elem.click() \n",
    "elem2=driver.find_element(By.ID,\"finish\")\n",
    "print(elem2.text)\n"
   ]
  },
  {
   "cell_type": "markdown",
   "id": "27b06c03",
   "metadata": {
    "slideshow": {
     "slide_type": "-"
    }
   },
   "source": [
    "* perchè non stampa \"Hello world?\""
   ]
  },
  {
   "cell_type": "markdown",
   "id": "2b098bfc",
   "metadata": {
    "slideshow": {
     "slide_type": "slide"
    }
   },
   "source": [
    "## Il problema della sincronizzazione"
   ]
  },
  {
   "cell_type": "markdown",
   "id": "8068c8b0",
   "metadata": {
    "slideshow": {
     "slide_type": "-"
    }
   },
   "source": [
    "* esiste un problema di **temporizzazione**\n",
    "    * il browser impiega un pò di tempo per effettuare eventuali chiamate **AJAX** e per eseguire il codice **JavaScript**\n",
    "    * l'esecuzione è **asincrona** rispetto allo scraper Python\n",
    "    * l'esecuzione del metodo che implementa il parsing inizia prima che tale esecuzione sia terminata\n",
    "    * il browser accede ad una pagina che non è ancora consistente\n",
    "* questo rende difficile la sincronizzaione tra il **WebDriver** e il **browser** \n",
    "* se un elemento non è ancora stato caricato\n",
    "    * la funzione che lo localizza può sollevare una **ElementNotVisibleException** o **NotSuchElementException**\n",
    "* è necessario utilizzare  meccanismi  che consentano di implementare una **corretta sincronizzazione**\n",
    "    "
   ]
  },
  {
   "cell_type": "markdown",
   "id": "88b0a256",
   "metadata": {
    "slideshow": {
     "slide_type": "slide"
    }
   },
   "source": [
    "## Selenium: sincronizzare Python con il browser"
   ]
  },
  {
   "cell_type": "code",
   "execution_count": 24,
   "id": "fef60f26",
   "metadata": {
    "slideshow": {
     "slide_type": "-"
    }
   },
   "outputs": [
    {
     "name": "stdout",
     "output_type": "stream",
     "text": [
      "Hello World!\n"
     ]
    }
   ],
   "source": [
    "# Required imports\n",
    "from selenium import webdriver\n",
    "from selenium.webdriver.common.by import By\n",
    "from selenium.webdriver.support.ui import WebDriverWait\n",
    "from selenium.webdriver.support import expected_conditions as EC\n",
    "\n",
    "#Initialize webdriver\n",
    "driver = webdriver.Chrome()\n",
    "#Open website\n",
    "driver.get('https://the-internet.herokuapp.com/dynamic_loading/1')  # ...Wait(element , timeout ).until(condition)\n",
    "elem = WebDriverWait(driver, 20).until(EC.element_to_be_clickable((By.XPATH, '//*[@id=\"start\"]/button'))) #Find element and wait for it to be clickable\n",
    "elem.click() #click on element\n",
    "elem2 = WebDriverWait(driver, 20).until(EC.visibility_of_element_located((By.ID, \"finish\"))) #Find element by text\n",
    "print(elem2.text) #Display text\n"
   ]
  },
  {
   "cell_type": "markdown",
   "id": "9358955f",
   "metadata": {
    "slideshow": {
     "slide_type": "slide"
    }
   },
   "source": [
    "## Selenium: parsing con sincronizzazione esplicita"
   ]
  },
  {
   "cell_type": "markdown",
   "id": "6d9acb68",
   "metadata": {
    "slideshow": {
     "slide_type": "-"
    }
   },
   "source": [
    "```\n",
    "from selenium.webdriver.support.wait import WebDriverWait\n",
    "elem = WebDriverWait(driver, tempo).until(condizione)\n",
    "```\n",
    "* il thread che esegue lo scraper viene interrotto finche non si verifica una condizione\n",
    "*  l’esecuzione riprende se:\n",
    "    * si verifica la condizione specificata\n",
    "    * si raggiunge un tempo massimo per l’attesa\n",
    "* implementa una sincronizzare **sullo stato** tra il WebDriver e il browser\n",
    "* vedremo meglio le primitive di sincronizzazione in una lezione successiva"
   ]
  },
  {
   "cell_type": "code",
   "execution_count": null,
   "id": "a0499b21",
   "metadata": {},
   "outputs": [],
   "source": []
  }
 ],
 "metadata": {
  "celltoolbar": "Slideshow",
  "kernelspec": {
   "display_name": "Python 3 (ipykernel)",
   "language": "python",
   "name": "python3"
  },
  "language_info": {
   "codemirror_mode": {
    "name": "ipython",
    "version": 3
   },
   "file_extension": ".py",
   "mimetype": "text/x-python",
   "name": "python",
   "nbconvert_exporter": "python",
   "pygments_lexer": "ipython3",
   "version": "3.11.8"
  }
 },
 "nbformat": 4,
 "nbformat_minor": 5
}
