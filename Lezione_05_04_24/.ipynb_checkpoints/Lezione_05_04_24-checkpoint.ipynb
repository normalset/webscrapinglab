{
 "cells": [
  {
   "cell_type": "markdown",
   "id": "ef2954c6",
   "metadata": {
    "slideshow": {
     "slide_type": "slide"
    }
   },
   "source": [
    "<h1><center> WebScraping </h1>\n",
    "<h1><center> Anno Accademico 2023-2024 </h1>\n",
    "<h1><center>  Docente: Laura Ricci </h1>\n",
    "<h1><center>  Lezione XXXX </h1> \n",
    "<h1><center>  Bitcoin Assignments </h1>  \n",
    "<h1><center> 5 Aprile 2024 </h1>\n"
   ]
  },
  {
   "cell_type": "markdown",
   "id": "aac705fd",
   "metadata": {
    "slideshow": {
     "slide_type": "slide"
    }
   },
   "source": [
    "# Assignment: analisi delle transazioni nei primi due anni di Bitcoin"
   ]
  },
  {
   "cell_type": "markdown",
   "id": "57ae1016",
   "metadata": {
    "slideshow": {
     "slide_type": "fragment"
    }
   },
   "source": [
    "* si consideri il dataset allegato a questo assignment, che contiene l'astrazione di un insieme di  transazioni di **Bitcoin**, \n",
    "\n",
    "* il dataset \n",
    "    * contiene transazioni registrate sulla blockchain a partire dal **blocco genesis** fino al blocco di altezza **100,001**\n",
    "    * è stato leggermente modificato rispetto al contenuto della blockchain originale, ed alcune transazioni sono state rimosse, \n",
    "     ma per il resto contiene transazioni reali, per cui i risultati ottenuti daranno alcune informazioni concrete sul   comportamento  degli utenti su Bitcoin  nei primi due anni di vita della criptomoneta\n",
    "* il dataset contiene 4 file **CSV**\n",
    "    * **Transazioni**\n",
    "    * **Inputs**\n",
    "    * **Outputs**\n",
    "    * **Dates**"
   ]
  },
  {
   "cell_type": "markdown",
   "id": "b81620b7",
   "metadata": {
    "slideshow": {
     "slide_type": "slide"
    }
   },
   "source": [
    "# Struttura delle transazioni di Bitcoin"
   ]
  },
  {
   "cell_type": "markdown",
   "id": "914a74fe",
   "metadata": {
    "slideshow": {
     "slide_type": "fragment"
    }
   },
   "source": [
    "<center>\n",
    "<img src=\"Figures/BitcoinTransactions.jpg\" style=\"width:1200px;height:500px;\"/>"
   ]
  },
  {
   "cell_type": "markdown",
   "id": "84a840e3",
   "metadata": {
    "slideshow": {
     "slide_type": "slide"
    }
   },
   "source": [
    "# Analisi delle transazioni nei primi due anni di Bitcoin: astrazioni\n",
    "\n",
    "* analizziamo una transazione: quali campi sono stati eliminati? quali astrazioni sono state fatte?"
   ]
  },
  {
   "cell_type": "code",
   "execution_count": 38,
   "id": "5355ee5d",
   "metadata": {
    "slideshow": {
     "slide_type": "fragment"
    }
   },
   "outputs": [
    {
     "data": {
      "text/html": [
       "<div>\n",
       "<style scoped>\n",
       "    .dataframe tbody tr th:only-of-type {\n",
       "        vertical-align: middle;\n",
       "    }\n",
       "\n",
       "    .dataframe tbody tr th {\n",
       "        vertical-align: top;\n",
       "    }\n",
       "\n",
       "    .dataframe thead th {\n",
       "        text-align: right;\n",
       "    }\n",
       "</style>\n",
       "<table border=\"1\" class=\"dataframe\">\n",
       "  <thead>\n",
       "    <tr style=\"text-align: right;\">\n",
       "      <th></th>\n",
       "      <th>tx_id</th>\n",
       "      <th>blk_id</th>\n",
       "    </tr>\n",
       "  </thead>\n",
       "  <tbody>\n",
       "    <tr>\n",
       "      <th>216621</th>\n",
       "      <td>216622</td>\n",
       "      <td>100016</td>\n",
       "    </tr>\n",
       "    <tr>\n",
       "      <th>216622</th>\n",
       "      <td>216623</td>\n",
       "      <td>100016</td>\n",
       "    </tr>\n",
       "    <tr>\n",
       "      <th>216623</th>\n",
       "      <td>216624</td>\n",
       "      <td>100016</td>\n",
       "    </tr>\n",
       "    <tr>\n",
       "      <th>216624</th>\n",
       "      <td>216625</td>\n",
       "      <td>100016</td>\n",
       "    </tr>\n",
       "    <tr>\n",
       "      <th>216625</th>\n",
       "      <td>216626</td>\n",
       "      <td>100017</td>\n",
       "    </tr>\n",
       "  </tbody>\n",
       "</table>\n",
       "</div>"
      ],
      "text/plain": [
       "         tx_id  blk_id\n",
       "216621  216622  100016\n",
       "216622  216623  100016\n",
       "216623  216624  100016\n",
       "216624  216625  100016\n",
       "216625  216626  100017"
      ]
     },
     "execution_count": 38,
     "metadata": {},
     "output_type": "execute_result"
    }
   ],
   "source": [
    "import matplotlib.pyplot as plt\n",
    "import pandas as pd\n",
    "transactions = pd.read_csv('Dataset/Bitcoin/transactions.csv', names=['tx_id', 'blk_id'])\n",
    "transactions.head()\n",
    "transactions.tail()\n"
   ]
  },
  {
   "cell_type": "markdown",
   "id": "56571371",
   "metadata": {
    "slideshow": {
     "slide_type": "fragment"
    }
   },
   "source": [
    "* molto dei metadati sono stati eliminati\n",
    "    * **ver**: versione del protocollo\n",
    "    * **vin_sz**: dimensione degli input\n",
    "    * **vout_size**: dimensione degli output \n",
    "    * **lock_time**: timestamp dopo il quale la transzione può essere inserita nella blockchai\n",
    "    * **size**: dimensione in byte della transzione\n",
    "* atsrazioni: \n",
    "    * il campo **hash** è stato astratto con un identificatore **unico**\n",
    "* campi aggiunti\n",
    "    * identificatore del blocco in cui la transazione è stata inserita (implicito nelle blockchain reale)\n",
    "* ma dove sono finiti gli input e gli output della transazione?"
   ]
  },
  {
   "cell_type": "markdown",
   "id": "92c5aad4",
   "metadata": {
    "slideshow": {
     "slide_type": "slide"
    }
   },
   "source": [
    "# Analisi delle transazioni nei primi due anni di Bitcoin: astrazioni\n",
    "\n",
    "*  ricordiamo: \n",
    "    * ogni input ha un riferimento all'output che spende, che è contenuto in una transazione precedente\n",
    "    * contiene l'hash della transazione precedente e la posizione dell'output all'interno della transazione precednete\n",
    "* dove sono finiti gli input delle transazioni?\n",
    "    * nel file **input**!"
   ]
  },
  {
   "cell_type": "code",
   "execution_count": null,
   "id": "9d188098",
   "metadata": {
    "slideshow": {
     "slide_type": "fragment"
    }
   },
   "outputs": [],
   "source": [
    "inputs = pd.read_csv('Dataset/Bitcoin/inputs.csv',names=['in_id', 'tx_id', 'sig_id', 'output_id'])\n",
    "print(inputs.head())\n",
    "print(inputs.tail())"
   ]
  },
  {
   "cell_type": "markdown",
   "id": "5a015589",
   "metadata": {
    "slideshow": {
     "slide_type": "fragment"
    }
   },
   "source": [
    "* una riga per qualsiasi input che appare in una qualsiasi delle transazioni del dataset\n",
    "* per ogni input \n",
    "    * un identificatore unico di quell'input **in_id**\n",
    "    * l'identificatore della transazione in cui appare quell'input **tx_id**\n",
    "    * **sig_id**, astrae la firma presente nello script **scriptSig** con un identificatore, vale -1 se quello è l'input di una           **coinbase**, -1 se viene utilizzato uno script **non standard**\n",
    "    * l'identificatore unico dell'output che quell'input sta spendendo **ouput_id**\n",
    "    "
   ]
  },
  {
   "cell_type": "markdown",
   "id": "c33d4644",
   "metadata": {
    "slideshow": {
     "slide_type": "slide"
    }
   },
   "source": [
    "# Analisi delle transazioni nei primi due anni di Bitcoin: output\n",
    "\n",
    "* ricordiamo: \n",
    "    * ogni output ha un valore, il valore in criptomoneta che viene \"speso\" su quell'output\n",
    "    * contiene uno script che contiene la chiave pubblica a cui è spedito quell'ouput"
   ]
  },
  {
   "cell_type": "code",
   "execution_count": 39,
   "id": "9576eeaa",
   "metadata": {
    "slideshow": {
     "slide_type": "fragment"
    }
   },
   "outputs": [
    {
     "name": "stdout",
     "output_type": "stream",
     "text": [
      "   output_id  tx_id  pk_id       value\n",
      "0          1      1      1  5000000000\n",
      "1          2      2      2  5000000000\n",
      "2          3      3      3  5000000000\n",
      "3          4      4      4  5000000000\n",
      "4          5      5      5  5000000000\n",
      "        output_id   tx_id   pk_id       value\n",
      "264305     264306  216623  174700     1000000\n",
      "264306     264307  216623  174701   299000000\n",
      "264307     264308  216624  167815     1000000\n",
      "264308     264309  216625  174695     1200000\n",
      "264309     264310  216626  174701  5000000000\n"
     ]
    }
   ],
   "source": [
    "outputs = pd.read_csv('Dataset/Bitcoin/outputs.csv', names=['output_id', 'tx_id', 'pk_id', 'value'])\n",
    "print(outputs.head())\n",
    "print(outputs.tail())\n"
   ]
  },
  {
   "cell_type": "markdown",
   "id": "a506ac6f",
   "metadata": {
    "slideshow": {
     "slide_type": "fragment"
    }
   },
   "source": [
    "* una riga per qualsiasi output\n",
    "* per ogni output\n",
    "    * **out_id** un identificatore unico dell'output\n",
    "    * **tx_id** l'identificatore della transazione a cui quell'output appartiene \n",
    "    * l'identificatore della chiave pubblica **pk_id** usata nello script **ScriptPubKey**, \n",
    "      che codifica le condizioni che devono essere verificate affinchè quell'output possa essere speso\n",
    "      vale -1 se viene usato uno scrpt non standars\n",
    "    * il valore speso sull'output di quella transazione"
   ]
  },
  {
   "cell_type": "markdown",
   "id": "3b16207c",
   "metadata": {
    "slideshow": {
     "slide_type": "slide"
    }
   },
   "source": [
    "# Analisi delle transazioni nei primi due anni di Bitcoin: timestamp"
   ]
  },
  {
   "cell_type": "code",
   "execution_count": 40,
   "id": "df47643d",
   "metadata": {
    "slideshow": {
     "slide_type": "fragment"
    }
   },
   "outputs": [
    {
     "name": "stdout",
     "output_type": "stream",
     "text": [
      "   block_id                 time\n",
      "0         0  2009-01-03 18:15:05\n",
      "1         1  2009-01-09 02:54:25\n",
      "2         2  2009-01-09 02:55:44\n",
      "3         3  2009-01-09 03:02:53\n",
      "4         4  2009-01-09 03:16:28\n",
      "        block_id                 time\n",
      "100013    100013  2010-12-29 13:17:01\n",
      "100014    100014  2010-12-29 13:32:38\n",
      "100015    100015  2010-12-29 13:36:10\n",
      "100016    100016  2010-12-29 13:39:01\n",
      "100017    100017  2010-12-29 13:44:06\n"
     ]
    }
   ],
   "source": [
    "dates = pd.read_csv('Dataset/Bitcoin/dates.csv')\n",
    "print(dates.head())\n",
    "print(dates.tail())\n"
   ]
  },
  {
   "cell_type": "markdown",
   "id": "a9f24519",
   "metadata": {
    "slideshow": {
     "slide_type": "fragment"
    }
   },
   "source": [
    "* riporta il timestamp della creazione di ogni blocco"
   ]
  },
  {
   "cell_type": "markdown",
   "id": "68a2935e",
   "metadata": {
    "slideshow": {
     "slide_type": "slide"
    }
   },
   "source": [
    "# Analisi delle transazioni dei primi due anni di Bitcoin"
   ]
  },
  {
   "cell_type": "markdown",
   "id": "a462c33a",
   "metadata": {
    "slideshow": {
     "slide_type": "fragment"
    }
   },
   "source": [
    "<center>\n",
    "<img src=\"Figures/BitcoinTables.jpg\" style=\"width:700px;height:600px;\"/>"
   ]
  },
  {
   "cell_type": "markdown",
   "id": "85d37580",
   "metadata": {
    "slideshow": {
     "slide_type": "slide"
    }
   },
   "source": [
    "# Analisi delle transazioni dei primi due anni di Bitcoin"
   ]
  },
  {
   "cell_type": "markdown",
   "id": "171022ee",
   "metadata": {
    "slideshow": {
     "slide_type": "fragment"
    }
   },
   "source": [
    "* controllare se esistono blocchi o transazioni invalide nel dataset ed eventualmente rimuoverli/e\n",
    "* calcolare le seguenti statistiche\n",
    "    * distribuzione dei blocchi: numero di transazioni per ogni blocco, considerando l'intero periodo di tempo e per mese\n",
    "    * distribuzione delle fee spese in ogni transazione nell'intero periodo\n",
    "    * quanti UXTO esistono, al momento del mining dell'ultimo blocco del data set?\n",
    "    * quale è l'UXTO a cui è associato il valore più alto?\n",
    "    * trovare tutte le transazioni generate tra due date\n",
    "* proporre almeno una analisi non compresa tra le precedenti"
   ]
  }
 ],
 "metadata": {
  "celltoolbar": "Slideshow",
  "kernelspec": {
   "display_name": "Python 3 (ipykernel)",
   "language": "python",
   "name": "python3"
  },
  "language_info": {
   "codemirror_mode": {
    "name": "ipython",
    "version": 3
   },
   "file_extension": ".py",
   "mimetype": "text/x-python",
   "name": "python",
   "nbconvert_exporter": "python",
   "pygments_lexer": "ipython3",
   "version": "3.8.10"
  }
 },
 "nbformat": 4,
 "nbformat_minor": 5
}
