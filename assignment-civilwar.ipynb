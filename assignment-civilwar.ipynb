{
 "cells": [
  {
   "cell_type": "code",
   "execution_count": 43,
   "id": "fc46ddc9-65d9-4777-8ef9-0754807681a0",
   "metadata": {
    "scrolled": true
   },
   "outputs": [
    {
     "name": "stdout",
     "output_type": "stream",
     "text": [
      "battle\n",
      "Powder Alarm                        1774-09-01\n",
      "Storming of Fort William and Mary   1774-12-14\n",
      "Battles of Lexington and Concord    1775-04-19\n",
      "Siege of Boston                     1775-04-19\n",
      "Gunpowder Incident                  1775-04-20\n",
      "                                       ...    \n",
      "Siege of Fort Henry                 1782-09-11\n",
      "Grand Assault on Gibraltar          1782-09-13\n",
      "Action of 18 October 1782           1782-10-18\n",
      "Action of 6 December 1782           1782-12-06\n",
      "Action of 22 January 1783           1783-01-22\n",
      "Name: date, Length: 232, dtype: datetime64[ns] \n",
      "\n",
      "date\n",
      "Saturday     39\n",
      "Friday       39\n",
      "Wednesday    32\n",
      "Thursday     31\n",
      "Sunday       31\n",
      "Tuesday      29\n",
      "Monday       27\n",
      "unkown        4\n",
      "Name: count, dtype: int64 \n",
      "\n",
      "Il giorno della settimana in cui sono iniziate piu' battaglie e': Saturday, Friday \n"
     ]
    }
   ],
   "source": [
    "import pandas as pd\n",
    "from pandas import read_csv\n",
    "from matplotlib import pyplot\n",
    "import datetime\n",
    "\n",
    "def date_to_weekday(date):\n",
    "   return date.strftime('%A') if not pd.isnull(date) else \"unkown\" #%A prende il giorno della data come stringa\n",
    "        \n",
    "#Salto la prima riga dove sono scritte i nomi delle colonne\n",
    "fileDataFrame = read_csv('./datasets/revolutionary_war.csv' , names=['battle','date','state'] , parse_dates=True , skiprows = 1)\n",
    "#converto in formato datetime la colonna delle date\n",
    "fileDataFrame['date'] = pd.to_datetime(fileDataFrame['date'] , format=\"%m/%d/%Y\")\n",
    "#definisco la series con index nome della battaglia e value la sua data\n",
    "battles = fileDataFrame.set_index('battle')['date']\n",
    "print(battles, '\\n')\n",
    "#sostituisco le occorrenze delle date con il giorno della settimana in cui sono iniziate\n",
    "weekdaySeries = battles.apply(date_to_weekday)\n",
    "#creo una series con le occorrenze di battaglie nei diversi giorni\n",
    "occurence = weekdaySeries.value_counts()\n",
    "print(occurence, '\\n')\n",
    "#con serie.idxmax() prendo l'indice del valore maggiore, cioe' il giorno cercato, ma ne segna solo 1\n",
    "#concontrollo se ne ho piu' di 1\n",
    "max = occurence.max()\n",
    "daylist = occurence[occurence == max].index.tolist()\n",
    "print(f\"Il giorno della settimana in cui sono iniziate piu' battaglie e': {', '.join(daylist)} \")\n"
   ]
  },
  {
   "cell_type": "code",
   "execution_count": null,
   "id": "b3d930a7-8528-419e-b137-5b8803d52485",
   "metadata": {},
   "outputs": [],
   "source": []
  }
 ],
 "metadata": {
  "kernelspec": {
   "display_name": "Python 3 (ipykernel)",
   "language": "python",
   "name": "python3"
  },
  "language_info": {
   "codemirror_mode": {
    "name": "ipython",
    "version": 3
   },
   "file_extension": ".py",
   "mimetype": "text/x-python",
   "name": "python",
   "nbconvert_exporter": "python",
   "pygments_lexer": "ipython3",
   "version": "3.10.12"
  }
 },
 "nbformat": 4,
 "nbformat_minor": 5
}
